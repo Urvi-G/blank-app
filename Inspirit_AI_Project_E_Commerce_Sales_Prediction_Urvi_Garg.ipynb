{
  "cells": [
    {
      "cell_type": "markdown",
      "metadata": {
        "id": "view-in-github",
        "colab_type": "text"
      },
      "source": [
        "<a href=\"https://colab.research.google.com/github/Urvi-G/blank-app/blob/main/Inspirit_AI_Project_E_Commerce_Sales_Prediction_Urvi_Garg.ipynb\" target=\"_parent\"><img src=\"https://colab.research.google.com/assets/colab-badge.svg\" alt=\"Open In Colab\"/></a>"
      ]
    },
    {
      "cell_type": "markdown",
      "metadata": {
        "id": "uAiLw9fsPy-C"
      },
      "source": [
        "Typically e-commerce datasets are proprietary and consequently hard to find among publicly available data. However, The UCI Machine Learning Repository has made this dataset containing actual transactions from 2010 and 2011. The dataset is maintained on their site, where it can be found by the title \"Online Retail\". \"This is a transnational data set which contains all the transactions occurring between 01/12/2010 and 09/12/2011 for a UK-based and registered non-store online retail.The company mainly sells unique all-occasion gifts. Many customers of the company are wholesalers.\""
      ]
    },
    {
      "cell_type": "code",
      "execution_count": 52,
      "metadata": {
        "colab": {
          "base_uri": "https://localhost:8080/"
        },
        "id": "_0_HRVpaWTNc",
        "outputId": "25bfe8aa-6884-48f6-ba5a-331ae2eb478e"
      },
      "outputs": [
        {
          "output_type": "stream",
          "name": "stdout",
          "text": [
            "Mounted at /content/drive\n"
          ]
        }
      ],
      "source": [
        "import numpy as np\n",
        "import pandas as pd\n",
        "from google.colab import drive\n",
        "drive.mount(\"/content/drive\",force_remount=True)\n",
        "#InspiritPath = \"drive/MyDrive/Inspirit AI Folder\"\n",
        "InspiritPath = \"drive/MyDrive/Inspirit AI Folder\"\n",
        "\n",
        "# Loading the info. and saving it into a pandas dataframe\n",
        "main_df = pd.read_csv(InspiritPath+'/'+'dataset_urvi.csv', encoding=\"ISO-8859-1\", dtype={'CustomerID': str})"
      ]
    },
    {
      "cell_type": "markdown",
      "metadata": {
        "id": "aQDoiEY1QKjG"
      },
      "source": [
        "Conect the collab to google drive, which holds the data set, and the declare the dataset. We did this because this is the starting process to dig deeper in the data."
      ]
    },
    {
      "cell_type": "code",
      "execution_count": 53,
      "metadata": {
        "colab": {
          "base_uri": "https://localhost:8080/",
          "height": 206
        },
        "id": "tkuhzoRWmVuX",
        "outputId": "a466dace-168e-4919-8b1f-e28c95eeca47"
      },
      "outputs": [
        {
          "output_type": "execute_result",
          "data": {
            "text/plain": [
              "  InvoiceNo StockCode                          Description  Quantity  \\\n",
              "0    536365    85123A   WHITE HANGING HEART T-LIGHT HOLDER         6   \n",
              "1    536365     71053                  WHITE METAL LANTERN         6   \n",
              "2    536365    84406B       CREAM CUPID HEARTS COAT HANGER         8   \n",
              "3    536365    84029G  KNITTED UNION FLAG HOT WATER BOTTLE         6   \n",
              "4    536365    84029E       RED WOOLLY HOTTIE WHITE HEART.         6   \n",
              "\n",
              "      InvoiceDate  UnitPrice CustomerID         Country  \n",
              "0  12/1/2010 8:26       2.55      17850  United Kingdom  \n",
              "1  12/1/2010 8:26       3.39      17850  United Kingdom  \n",
              "2  12/1/2010 8:26       2.75      17850  United Kingdom  \n",
              "3  12/1/2010 8:26       3.39      17850  United Kingdom  \n",
              "4  12/1/2010 8:26       3.39      17850  United Kingdom  "
            ],
            "text/html": [
              "\n",
              "  <div id=\"df-ca8fa8e9-77de-46a2-b222-296495818c42\" class=\"colab-df-container\">\n",
              "    <div>\n",
              "<style scoped>\n",
              "    .dataframe tbody tr th:only-of-type {\n",
              "        vertical-align: middle;\n",
              "    }\n",
              "\n",
              "    .dataframe tbody tr th {\n",
              "        vertical-align: top;\n",
              "    }\n",
              "\n",
              "    .dataframe thead th {\n",
              "        text-align: right;\n",
              "    }\n",
              "</style>\n",
              "<table border=\"1\" class=\"dataframe\">\n",
              "  <thead>\n",
              "    <tr style=\"text-align: right;\">\n",
              "      <th></th>\n",
              "      <th>InvoiceNo</th>\n",
              "      <th>StockCode</th>\n",
              "      <th>Description</th>\n",
              "      <th>Quantity</th>\n",
              "      <th>InvoiceDate</th>\n",
              "      <th>UnitPrice</th>\n",
              "      <th>CustomerID</th>\n",
              "      <th>Country</th>\n",
              "    </tr>\n",
              "  </thead>\n",
              "  <tbody>\n",
              "    <tr>\n",
              "      <th>0</th>\n",
              "      <td>536365</td>\n",
              "      <td>85123A</td>\n",
              "      <td>WHITE HANGING HEART T-LIGHT HOLDER</td>\n",
              "      <td>6</td>\n",
              "      <td>12/1/2010 8:26</td>\n",
              "      <td>2.55</td>\n",
              "      <td>17850</td>\n",
              "      <td>United Kingdom</td>\n",
              "    </tr>\n",
              "    <tr>\n",
              "      <th>1</th>\n",
              "      <td>536365</td>\n",
              "      <td>71053</td>\n",
              "      <td>WHITE METAL LANTERN</td>\n",
              "      <td>6</td>\n",
              "      <td>12/1/2010 8:26</td>\n",
              "      <td>3.39</td>\n",
              "      <td>17850</td>\n",
              "      <td>United Kingdom</td>\n",
              "    </tr>\n",
              "    <tr>\n",
              "      <th>2</th>\n",
              "      <td>536365</td>\n",
              "      <td>84406B</td>\n",
              "      <td>CREAM CUPID HEARTS COAT HANGER</td>\n",
              "      <td>8</td>\n",
              "      <td>12/1/2010 8:26</td>\n",
              "      <td>2.75</td>\n",
              "      <td>17850</td>\n",
              "      <td>United Kingdom</td>\n",
              "    </tr>\n",
              "    <tr>\n",
              "      <th>3</th>\n",
              "      <td>536365</td>\n",
              "      <td>84029G</td>\n",
              "      <td>KNITTED UNION FLAG HOT WATER BOTTLE</td>\n",
              "      <td>6</td>\n",
              "      <td>12/1/2010 8:26</td>\n",
              "      <td>3.39</td>\n",
              "      <td>17850</td>\n",
              "      <td>United Kingdom</td>\n",
              "    </tr>\n",
              "    <tr>\n",
              "      <th>4</th>\n",
              "      <td>536365</td>\n",
              "      <td>84029E</td>\n",
              "      <td>RED WOOLLY HOTTIE WHITE HEART.</td>\n",
              "      <td>6</td>\n",
              "      <td>12/1/2010 8:26</td>\n",
              "      <td>3.39</td>\n",
              "      <td>17850</td>\n",
              "      <td>United Kingdom</td>\n",
              "    </tr>\n",
              "  </tbody>\n",
              "</table>\n",
              "</div>\n",
              "    <div class=\"colab-df-buttons\">\n",
              "\n",
              "  <div class=\"colab-df-container\">\n",
              "    <button class=\"colab-df-convert\" onclick=\"convertToInteractive('df-ca8fa8e9-77de-46a2-b222-296495818c42')\"\n",
              "            title=\"Convert this dataframe to an interactive table.\"\n",
              "            style=\"display:none;\">\n",
              "\n",
              "  <svg xmlns=\"http://www.w3.org/2000/svg\" height=\"24px\" viewBox=\"0 -960 960 960\">\n",
              "    <path d=\"M120-120v-720h720v720H120Zm60-500h600v-160H180v160Zm220 220h160v-160H400v160Zm0 220h160v-160H400v160ZM180-400h160v-160H180v160Zm440 0h160v-160H620v160ZM180-180h160v-160H180v160Zm440 0h160v-160H620v160Z\"/>\n",
              "  </svg>\n",
              "    </button>\n",
              "\n",
              "  <style>\n",
              "    .colab-df-container {\n",
              "      display:flex;\n",
              "      gap: 12px;\n",
              "    }\n",
              "\n",
              "    .colab-df-convert {\n",
              "      background-color: #E8F0FE;\n",
              "      border: none;\n",
              "      border-radius: 50%;\n",
              "      cursor: pointer;\n",
              "      display: none;\n",
              "      fill: #1967D2;\n",
              "      height: 32px;\n",
              "      padding: 0 0 0 0;\n",
              "      width: 32px;\n",
              "    }\n",
              "\n",
              "    .colab-df-convert:hover {\n",
              "      background-color: #E2EBFA;\n",
              "      box-shadow: 0px 1px 2px rgba(60, 64, 67, 0.3), 0px 1px 3px 1px rgba(60, 64, 67, 0.15);\n",
              "      fill: #174EA6;\n",
              "    }\n",
              "\n",
              "    .colab-df-buttons div {\n",
              "      margin-bottom: 4px;\n",
              "    }\n",
              "\n",
              "    [theme=dark] .colab-df-convert {\n",
              "      background-color: #3B4455;\n",
              "      fill: #D2E3FC;\n",
              "    }\n",
              "\n",
              "    [theme=dark] .colab-df-convert:hover {\n",
              "      background-color: #434B5C;\n",
              "      box-shadow: 0px 1px 3px 1px rgba(0, 0, 0, 0.15);\n",
              "      filter: drop-shadow(0px 1px 2px rgba(0, 0, 0, 0.3));\n",
              "      fill: #FFFFFF;\n",
              "    }\n",
              "  </style>\n",
              "\n",
              "    <script>\n",
              "      const buttonEl =\n",
              "        document.querySelector('#df-ca8fa8e9-77de-46a2-b222-296495818c42 button.colab-df-convert');\n",
              "      buttonEl.style.display =\n",
              "        google.colab.kernel.accessAllowed ? 'block' : 'none';\n",
              "\n",
              "      async function convertToInteractive(key) {\n",
              "        const element = document.querySelector('#df-ca8fa8e9-77de-46a2-b222-296495818c42');\n",
              "        const dataTable =\n",
              "          await google.colab.kernel.invokeFunction('convertToInteractive',\n",
              "                                                    [key], {});\n",
              "        if (!dataTable) return;\n",
              "\n",
              "        const docLinkHtml = 'Like what you see? Visit the ' +\n",
              "          '<a target=\"_blank\" href=https://colab.research.google.com/notebooks/data_table.ipynb>data table notebook</a>'\n",
              "          + ' to learn more about interactive tables.';\n",
              "        element.innerHTML = '';\n",
              "        dataTable['output_type'] = 'display_data';\n",
              "        await google.colab.output.renderOutput(dataTable, element);\n",
              "        const docLink = document.createElement('div');\n",
              "        docLink.innerHTML = docLinkHtml;\n",
              "        element.appendChild(docLink);\n",
              "      }\n",
              "    </script>\n",
              "  </div>\n",
              "\n",
              "\n",
              "<div id=\"df-f9dd7c7b-acf3-4df2-a54f-23210bfebcdd\">\n",
              "  <button class=\"colab-df-quickchart\" onclick=\"quickchart('df-f9dd7c7b-acf3-4df2-a54f-23210bfebcdd')\"\n",
              "            title=\"Suggest charts\"\n",
              "            style=\"display:none;\">\n",
              "\n",
              "<svg xmlns=\"http://www.w3.org/2000/svg\" height=\"24px\"viewBox=\"0 0 24 24\"\n",
              "     width=\"24px\">\n",
              "    <g>\n",
              "        <path d=\"M19 3H5c-1.1 0-2 .9-2 2v14c0 1.1.9 2 2 2h14c1.1 0 2-.9 2-2V5c0-1.1-.9-2-2-2zM9 17H7v-7h2v7zm4 0h-2V7h2v10zm4 0h-2v-4h2v4z\"/>\n",
              "    </g>\n",
              "</svg>\n",
              "  </button>\n",
              "\n",
              "<style>\n",
              "  .colab-df-quickchart {\n",
              "      --bg-color: #E8F0FE;\n",
              "      --fill-color: #1967D2;\n",
              "      --hover-bg-color: #E2EBFA;\n",
              "      --hover-fill-color: #174EA6;\n",
              "      --disabled-fill-color: #AAA;\n",
              "      --disabled-bg-color: #DDD;\n",
              "  }\n",
              "\n",
              "  [theme=dark] .colab-df-quickchart {\n",
              "      --bg-color: #3B4455;\n",
              "      --fill-color: #D2E3FC;\n",
              "      --hover-bg-color: #434B5C;\n",
              "      --hover-fill-color: #FFFFFF;\n",
              "      --disabled-bg-color: #3B4455;\n",
              "      --disabled-fill-color: #666;\n",
              "  }\n",
              "\n",
              "  .colab-df-quickchart {\n",
              "    background-color: var(--bg-color);\n",
              "    border: none;\n",
              "    border-radius: 50%;\n",
              "    cursor: pointer;\n",
              "    display: none;\n",
              "    fill: var(--fill-color);\n",
              "    height: 32px;\n",
              "    padding: 0;\n",
              "    width: 32px;\n",
              "  }\n",
              "\n",
              "  .colab-df-quickchart:hover {\n",
              "    background-color: var(--hover-bg-color);\n",
              "    box-shadow: 0 1px 2px rgba(60, 64, 67, 0.3), 0 1px 3px 1px rgba(60, 64, 67, 0.15);\n",
              "    fill: var(--button-hover-fill-color);\n",
              "  }\n",
              "\n",
              "  .colab-df-quickchart-complete:disabled,\n",
              "  .colab-df-quickchart-complete:disabled:hover {\n",
              "    background-color: var(--disabled-bg-color);\n",
              "    fill: var(--disabled-fill-color);\n",
              "    box-shadow: none;\n",
              "  }\n",
              "\n",
              "  .colab-df-spinner {\n",
              "    border: 2px solid var(--fill-color);\n",
              "    border-color: transparent;\n",
              "    border-bottom-color: var(--fill-color);\n",
              "    animation:\n",
              "      spin 1s steps(1) infinite;\n",
              "  }\n",
              "\n",
              "  @keyframes spin {\n",
              "    0% {\n",
              "      border-color: transparent;\n",
              "      border-bottom-color: var(--fill-color);\n",
              "      border-left-color: var(--fill-color);\n",
              "    }\n",
              "    20% {\n",
              "      border-color: transparent;\n",
              "      border-left-color: var(--fill-color);\n",
              "      border-top-color: var(--fill-color);\n",
              "    }\n",
              "    30% {\n",
              "      border-color: transparent;\n",
              "      border-left-color: var(--fill-color);\n",
              "      border-top-color: var(--fill-color);\n",
              "      border-right-color: var(--fill-color);\n",
              "    }\n",
              "    40% {\n",
              "      border-color: transparent;\n",
              "      border-right-color: var(--fill-color);\n",
              "      border-top-color: var(--fill-color);\n",
              "    }\n",
              "    60% {\n",
              "      border-color: transparent;\n",
              "      border-right-color: var(--fill-color);\n",
              "    }\n",
              "    80% {\n",
              "      border-color: transparent;\n",
              "      border-right-color: var(--fill-color);\n",
              "      border-bottom-color: var(--fill-color);\n",
              "    }\n",
              "    90% {\n",
              "      border-color: transparent;\n",
              "      border-bottom-color: var(--fill-color);\n",
              "    }\n",
              "  }\n",
              "</style>\n",
              "\n",
              "  <script>\n",
              "    async function quickchart(key) {\n",
              "      const quickchartButtonEl =\n",
              "        document.querySelector('#' + key + ' button');\n",
              "      quickchartButtonEl.disabled = true;  // To prevent multiple clicks.\n",
              "      quickchartButtonEl.classList.add('colab-df-spinner');\n",
              "      try {\n",
              "        const charts = await google.colab.kernel.invokeFunction(\n",
              "            'suggestCharts', [key], {});\n",
              "      } catch (error) {\n",
              "        console.error('Error during call to suggestCharts:', error);\n",
              "      }\n",
              "      quickchartButtonEl.classList.remove('colab-df-spinner');\n",
              "      quickchartButtonEl.classList.add('colab-df-quickchart-complete');\n",
              "    }\n",
              "    (() => {\n",
              "      let quickchartButtonEl =\n",
              "        document.querySelector('#df-f9dd7c7b-acf3-4df2-a54f-23210bfebcdd button');\n",
              "      quickchartButtonEl.style.display =\n",
              "        google.colab.kernel.accessAllowed ? 'block' : 'none';\n",
              "    })();\n",
              "  </script>\n",
              "</div>\n",
              "\n",
              "    </div>\n",
              "  </div>\n"
            ],
            "application/vnd.google.colaboratory.intrinsic+json": {
              "type": "dataframe",
              "variable_name": "main_df"
            }
          },
          "metadata": {},
          "execution_count": 53
        }
      ],
      "source": [
        "#Showing\n",
        "main_df.head()"
      ]
    },
    {
      "cell_type": "code",
      "execution_count": 54,
      "metadata": {
        "colab": {
          "base_uri": "https://localhost:8080/"
        },
        "id": "AQmlf5hyqTMT",
        "outputId": "1d7dfc58-6e1b-4668-95a9-f0c1cab305ac"
      },
      "outputs": [
        {
          "output_type": "execute_result",
          "data": {
            "text/plain": [
              "541909"
            ]
          },
          "metadata": {},
          "execution_count": 54
        }
      ],
      "source": [
        "#Calculate the length of the dataset\n",
        "len(main_df)"
      ]
    },
    {
      "cell_type": "markdown",
      "metadata": {
        "id": "on2TY7TsQxX4"
      },
      "source": [
        "The number above shows how many observations we have. The original data set it half a million. We need to dilute this number because of limited recources. In this case, the main limitied recourse would be time."
      ]
    },
    {
      "cell_type": "code",
      "execution_count": 55,
      "metadata": {
        "colab": {
          "base_uri": "https://localhost:8080/"
        },
        "id": "VwIL0ZABmX8M",
        "outputId": "aeddb72a-1932-473e-8c94-c00e0ae72a10"
      },
      "outputs": [
        {
          "output_type": "stream",
          "name": "stdout",
          "text": [
            "<class 'pandas.core.frame.DataFrame'>\n",
            "RangeIndex: 541909 entries, 0 to 541908\n",
            "Data columns (total 8 columns):\n",
            " #   Column       Non-Null Count   Dtype  \n",
            "---  ------       --------------   -----  \n",
            " 0   InvoiceNo    541909 non-null  object \n",
            " 1   StockCode    541909 non-null  object \n",
            " 2   Description  540455 non-null  object \n",
            " 3   Quantity     541909 non-null  int64  \n",
            " 4   InvoiceDate  541909 non-null  object \n",
            " 5   UnitPrice    541909 non-null  float64\n",
            " 6   CustomerID   406829 non-null  object \n",
            " 7   Country      541909 non-null  object \n",
            "dtypes: float64(1), int64(1), object(6)\n",
            "memory usage: 33.1+ MB\n"
          ]
        }
      ],
      "source": [
        "main_df.info()"
      ]
    },
    {
      "cell_type": "markdown",
      "metadata": {
        "id": "C125xCa5Rb18"
      },
      "source": [
        "This step is taken to organie the observations, and to find errors. Omitting N/A values is important because they can skew your analysis, leading to inaccurate results."
      ]
    },
    {
      "cell_type": "code",
      "execution_count": 56,
      "metadata": {
        "colab": {
          "base_uri": "https://localhost:8080/",
          "height": 206
        },
        "id": "mP0PmabPqeZa",
        "outputId": "24563923-917c-42b0-b4b8-e5ba83cfc881"
      },
      "outputs": [
        {
          "output_type": "execute_result",
          "data": {
            "text/plain": [
              "  InvoiceNo StockCode                          Description  Quantity  \\\n",
              "0    536365    85123A   WHITE HANGING HEART T-LIGHT HOLDER         6   \n",
              "1    536365     71053                  WHITE METAL LANTERN         6   \n",
              "2    536365    84406B       CREAM CUPID HEARTS COAT HANGER         8   \n",
              "3    536365    84029G  KNITTED UNION FLAG HOT WATER BOTTLE         6   \n",
              "4    536365    84029E       RED WOOLLY HOTTIE WHITE HEART.         6   \n",
              "\n",
              "      InvoiceDate  UnitPrice CustomerID         Country  \n",
              "0  12/1/2010 8:26       2.55      17850  United Kingdom  \n",
              "1  12/1/2010 8:26       3.39      17850  United Kingdom  \n",
              "2  12/1/2010 8:26       2.75      17850  United Kingdom  \n",
              "3  12/1/2010 8:26       3.39      17850  United Kingdom  \n",
              "4  12/1/2010 8:26       3.39      17850  United Kingdom  "
            ],
            "text/html": [
              "\n",
              "  <div id=\"df-ca4d036c-09fb-4f61-864d-b468bfea4f8c\" class=\"colab-df-container\">\n",
              "    <div>\n",
              "<style scoped>\n",
              "    .dataframe tbody tr th:only-of-type {\n",
              "        vertical-align: middle;\n",
              "    }\n",
              "\n",
              "    .dataframe tbody tr th {\n",
              "        vertical-align: top;\n",
              "    }\n",
              "\n",
              "    .dataframe thead th {\n",
              "        text-align: right;\n",
              "    }\n",
              "</style>\n",
              "<table border=\"1\" class=\"dataframe\">\n",
              "  <thead>\n",
              "    <tr style=\"text-align: right;\">\n",
              "      <th></th>\n",
              "      <th>InvoiceNo</th>\n",
              "      <th>StockCode</th>\n",
              "      <th>Description</th>\n",
              "      <th>Quantity</th>\n",
              "      <th>InvoiceDate</th>\n",
              "      <th>UnitPrice</th>\n",
              "      <th>CustomerID</th>\n",
              "      <th>Country</th>\n",
              "    </tr>\n",
              "  </thead>\n",
              "  <tbody>\n",
              "    <tr>\n",
              "      <th>0</th>\n",
              "      <td>536365</td>\n",
              "      <td>85123A</td>\n",
              "      <td>WHITE HANGING HEART T-LIGHT HOLDER</td>\n",
              "      <td>6</td>\n",
              "      <td>12/1/2010 8:26</td>\n",
              "      <td>2.55</td>\n",
              "      <td>17850</td>\n",
              "      <td>United Kingdom</td>\n",
              "    </tr>\n",
              "    <tr>\n",
              "      <th>1</th>\n",
              "      <td>536365</td>\n",
              "      <td>71053</td>\n",
              "      <td>WHITE METAL LANTERN</td>\n",
              "      <td>6</td>\n",
              "      <td>12/1/2010 8:26</td>\n",
              "      <td>3.39</td>\n",
              "      <td>17850</td>\n",
              "      <td>United Kingdom</td>\n",
              "    </tr>\n",
              "    <tr>\n",
              "      <th>2</th>\n",
              "      <td>536365</td>\n",
              "      <td>84406B</td>\n",
              "      <td>CREAM CUPID HEARTS COAT HANGER</td>\n",
              "      <td>8</td>\n",
              "      <td>12/1/2010 8:26</td>\n",
              "      <td>2.75</td>\n",
              "      <td>17850</td>\n",
              "      <td>United Kingdom</td>\n",
              "    </tr>\n",
              "    <tr>\n",
              "      <th>3</th>\n",
              "      <td>536365</td>\n",
              "      <td>84029G</td>\n",
              "      <td>KNITTED UNION FLAG HOT WATER BOTTLE</td>\n",
              "      <td>6</td>\n",
              "      <td>12/1/2010 8:26</td>\n",
              "      <td>3.39</td>\n",
              "      <td>17850</td>\n",
              "      <td>United Kingdom</td>\n",
              "    </tr>\n",
              "    <tr>\n",
              "      <th>4</th>\n",
              "      <td>536365</td>\n",
              "      <td>84029E</td>\n",
              "      <td>RED WOOLLY HOTTIE WHITE HEART.</td>\n",
              "      <td>6</td>\n",
              "      <td>12/1/2010 8:26</td>\n",
              "      <td>3.39</td>\n",
              "      <td>17850</td>\n",
              "      <td>United Kingdom</td>\n",
              "    </tr>\n",
              "  </tbody>\n",
              "</table>\n",
              "</div>\n",
              "    <div class=\"colab-df-buttons\">\n",
              "\n",
              "  <div class=\"colab-df-container\">\n",
              "    <button class=\"colab-df-convert\" onclick=\"convertToInteractive('df-ca4d036c-09fb-4f61-864d-b468bfea4f8c')\"\n",
              "            title=\"Convert this dataframe to an interactive table.\"\n",
              "            style=\"display:none;\">\n",
              "\n",
              "  <svg xmlns=\"http://www.w3.org/2000/svg\" height=\"24px\" viewBox=\"0 -960 960 960\">\n",
              "    <path d=\"M120-120v-720h720v720H120Zm60-500h600v-160H180v160Zm220 220h160v-160H400v160Zm0 220h160v-160H400v160ZM180-400h160v-160H180v160Zm440 0h160v-160H620v160ZM180-180h160v-160H180v160Zm440 0h160v-160H620v160Z\"/>\n",
              "  </svg>\n",
              "    </button>\n",
              "\n",
              "  <style>\n",
              "    .colab-df-container {\n",
              "      display:flex;\n",
              "      gap: 12px;\n",
              "    }\n",
              "\n",
              "    .colab-df-convert {\n",
              "      background-color: #E8F0FE;\n",
              "      border: none;\n",
              "      border-radius: 50%;\n",
              "      cursor: pointer;\n",
              "      display: none;\n",
              "      fill: #1967D2;\n",
              "      height: 32px;\n",
              "      padding: 0 0 0 0;\n",
              "      width: 32px;\n",
              "    }\n",
              "\n",
              "    .colab-df-convert:hover {\n",
              "      background-color: #E2EBFA;\n",
              "      box-shadow: 0px 1px 2px rgba(60, 64, 67, 0.3), 0px 1px 3px 1px rgba(60, 64, 67, 0.15);\n",
              "      fill: #174EA6;\n",
              "    }\n",
              "\n",
              "    .colab-df-buttons div {\n",
              "      margin-bottom: 4px;\n",
              "    }\n",
              "\n",
              "    [theme=dark] .colab-df-convert {\n",
              "      background-color: #3B4455;\n",
              "      fill: #D2E3FC;\n",
              "    }\n",
              "\n",
              "    [theme=dark] .colab-df-convert:hover {\n",
              "      background-color: #434B5C;\n",
              "      box-shadow: 0px 1px 3px 1px rgba(0, 0, 0, 0.15);\n",
              "      filter: drop-shadow(0px 1px 2px rgba(0, 0, 0, 0.3));\n",
              "      fill: #FFFFFF;\n",
              "    }\n",
              "  </style>\n",
              "\n",
              "    <script>\n",
              "      const buttonEl =\n",
              "        document.querySelector('#df-ca4d036c-09fb-4f61-864d-b468bfea4f8c button.colab-df-convert');\n",
              "      buttonEl.style.display =\n",
              "        google.colab.kernel.accessAllowed ? 'block' : 'none';\n",
              "\n",
              "      async function convertToInteractive(key) {\n",
              "        const element = document.querySelector('#df-ca4d036c-09fb-4f61-864d-b468bfea4f8c');\n",
              "        const dataTable =\n",
              "          await google.colab.kernel.invokeFunction('convertToInteractive',\n",
              "                                                    [key], {});\n",
              "        if (!dataTable) return;\n",
              "\n",
              "        const docLinkHtml = 'Like what you see? Visit the ' +\n",
              "          '<a target=\"_blank\" href=https://colab.research.google.com/notebooks/data_table.ipynb>data table notebook</a>'\n",
              "          + ' to learn more about interactive tables.';\n",
              "        element.innerHTML = '';\n",
              "        dataTable['output_type'] = 'display_data';\n",
              "        await google.colab.output.renderOutput(dataTable, element);\n",
              "        const docLink = document.createElement('div');\n",
              "        docLink.innerHTML = docLinkHtml;\n",
              "        element.appendChild(docLink);\n",
              "      }\n",
              "    </script>\n",
              "  </div>\n",
              "\n",
              "\n",
              "<div id=\"df-16401379-3f67-4e30-bd93-2b8e7b860daf\">\n",
              "  <button class=\"colab-df-quickchart\" onclick=\"quickchart('df-16401379-3f67-4e30-bd93-2b8e7b860daf')\"\n",
              "            title=\"Suggest charts\"\n",
              "            style=\"display:none;\">\n",
              "\n",
              "<svg xmlns=\"http://www.w3.org/2000/svg\" height=\"24px\"viewBox=\"0 0 24 24\"\n",
              "     width=\"24px\">\n",
              "    <g>\n",
              "        <path d=\"M19 3H5c-1.1 0-2 .9-2 2v14c0 1.1.9 2 2 2h14c1.1 0 2-.9 2-2V5c0-1.1-.9-2-2-2zM9 17H7v-7h2v7zm4 0h-2V7h2v10zm4 0h-2v-4h2v4z\"/>\n",
              "    </g>\n",
              "</svg>\n",
              "  </button>\n",
              "\n",
              "<style>\n",
              "  .colab-df-quickchart {\n",
              "      --bg-color: #E8F0FE;\n",
              "      --fill-color: #1967D2;\n",
              "      --hover-bg-color: #E2EBFA;\n",
              "      --hover-fill-color: #174EA6;\n",
              "      --disabled-fill-color: #AAA;\n",
              "      --disabled-bg-color: #DDD;\n",
              "  }\n",
              "\n",
              "  [theme=dark] .colab-df-quickchart {\n",
              "      --bg-color: #3B4455;\n",
              "      --fill-color: #D2E3FC;\n",
              "      --hover-bg-color: #434B5C;\n",
              "      --hover-fill-color: #FFFFFF;\n",
              "      --disabled-bg-color: #3B4455;\n",
              "      --disabled-fill-color: #666;\n",
              "  }\n",
              "\n",
              "  .colab-df-quickchart {\n",
              "    background-color: var(--bg-color);\n",
              "    border: none;\n",
              "    border-radius: 50%;\n",
              "    cursor: pointer;\n",
              "    display: none;\n",
              "    fill: var(--fill-color);\n",
              "    height: 32px;\n",
              "    padding: 0;\n",
              "    width: 32px;\n",
              "  }\n",
              "\n",
              "  .colab-df-quickchart:hover {\n",
              "    background-color: var(--hover-bg-color);\n",
              "    box-shadow: 0 1px 2px rgba(60, 64, 67, 0.3), 0 1px 3px 1px rgba(60, 64, 67, 0.15);\n",
              "    fill: var(--button-hover-fill-color);\n",
              "  }\n",
              "\n",
              "  .colab-df-quickchart-complete:disabled,\n",
              "  .colab-df-quickchart-complete:disabled:hover {\n",
              "    background-color: var(--disabled-bg-color);\n",
              "    fill: var(--disabled-fill-color);\n",
              "    box-shadow: none;\n",
              "  }\n",
              "\n",
              "  .colab-df-spinner {\n",
              "    border: 2px solid var(--fill-color);\n",
              "    border-color: transparent;\n",
              "    border-bottom-color: var(--fill-color);\n",
              "    animation:\n",
              "      spin 1s steps(1) infinite;\n",
              "  }\n",
              "\n",
              "  @keyframes spin {\n",
              "    0% {\n",
              "      border-color: transparent;\n",
              "      border-bottom-color: var(--fill-color);\n",
              "      border-left-color: var(--fill-color);\n",
              "    }\n",
              "    20% {\n",
              "      border-color: transparent;\n",
              "      border-left-color: var(--fill-color);\n",
              "      border-top-color: var(--fill-color);\n",
              "    }\n",
              "    30% {\n",
              "      border-color: transparent;\n",
              "      border-left-color: var(--fill-color);\n",
              "      border-top-color: var(--fill-color);\n",
              "      border-right-color: var(--fill-color);\n",
              "    }\n",
              "    40% {\n",
              "      border-color: transparent;\n",
              "      border-right-color: var(--fill-color);\n",
              "      border-top-color: var(--fill-color);\n",
              "    }\n",
              "    60% {\n",
              "      border-color: transparent;\n",
              "      border-right-color: var(--fill-color);\n",
              "    }\n",
              "    80% {\n",
              "      border-color: transparent;\n",
              "      border-right-color: var(--fill-color);\n",
              "      border-bottom-color: var(--fill-color);\n",
              "    }\n",
              "    90% {\n",
              "      border-color: transparent;\n",
              "      border-bottom-color: var(--fill-color);\n",
              "    }\n",
              "  }\n",
              "</style>\n",
              "\n",
              "  <script>\n",
              "    async function quickchart(key) {\n",
              "      const quickchartButtonEl =\n",
              "        document.querySelector('#' + key + ' button');\n",
              "      quickchartButtonEl.disabled = true;  // To prevent multiple clicks.\n",
              "      quickchartButtonEl.classList.add('colab-df-spinner');\n",
              "      try {\n",
              "        const charts = await google.colab.kernel.invokeFunction(\n",
              "            'suggestCharts', [key], {});\n",
              "      } catch (error) {\n",
              "        console.error('Error during call to suggestCharts:', error);\n",
              "      }\n",
              "      quickchartButtonEl.classList.remove('colab-df-spinner');\n",
              "      quickchartButtonEl.classList.add('colab-df-quickchart-complete');\n",
              "    }\n",
              "    (() => {\n",
              "      let quickchartButtonEl =\n",
              "        document.querySelector('#df-16401379-3f67-4e30-bd93-2b8e7b860daf button');\n",
              "      quickchartButtonEl.style.display =\n",
              "        google.colab.kernel.accessAllowed ? 'block' : 'none';\n",
              "    })();\n",
              "  </script>\n",
              "</div>\n",
              "\n",
              "    </div>\n",
              "  </div>\n"
            ],
            "application/vnd.google.colaboratory.intrinsic+json": {
              "type": "dataframe",
              "variable_name": "main_df_filtered"
            }
          },
          "metadata": {},
          "execution_count": 56
        }
      ],
      "source": [
        "# Filter NaN using dropna()\n",
        "#main_df_filtered = main_df[main_df['CustomerID'].notnull()]\n",
        "main_df_filtered = main_df[main_df['Description'].notnull()]\n",
        "main_df_filtered.head()"
      ]
    },
    {
      "cell_type": "markdown",
      "metadata": {
        "id": "vtRY_1qRSVB-"
      },
      "source": [
        "Anything without a description is considered incomplete. Anything thaat is canceled is true, and if not, it will be false."
      ]
    },
    {
      "cell_type": "code",
      "execution_count": 57,
      "metadata": {
        "colab": {
          "base_uri": "https://localhost:8080/"
        },
        "id": "5UkP0ZLgs7_9",
        "outputId": "a529f655-4915-4268-ab21-f50ac8c8c7c6"
      },
      "outputs": [
        {
          "output_type": "stream",
          "name": "stderr",
          "text": [
            "<ipython-input-57-bf2a5ac433fe>:2: SettingWithCopyWarning: \n",
            "A value is trying to be set on a copy of a slice from a DataFrame.\n",
            "Try using .loc[row_indexer,col_indexer] = value instead\n",
            "\n",
            "See the caveats in the documentation: https://pandas.pydata.org/pandas-docs/stable/user_guide/indexing.html#returning-a-view-versus-a-copy\n",
            "  main_df_filtered[\"IsCancelled\"]=np.where(main_df_filtered.InvoiceNo.apply(lambda l: l[0]==\"C\"), True, False)\n"
          ]
        }
      ],
      "source": [
        "#Canceled invoices\n",
        "main_df_filtered[\"IsCancelled\"]=np.where(main_df_filtered.InvoiceNo.apply(lambda l: l[0]==\"C\"), True, False)"
      ]
    },
    {
      "cell_type": "code",
      "execution_count": 58,
      "metadata": {
        "colab": {
          "base_uri": "https://localhost:8080/",
          "height": 206
        },
        "id": "7d96GwaVtntM",
        "outputId": "c0a7e1b1-e19f-4b1d-9e3a-66d608bc0a58"
      },
      "outputs": [
        {
          "output_type": "execute_result",
          "data": {
            "text/plain": [
              "  InvoiceNo StockCode                          Description  Quantity  \\\n",
              "0    536365    85123A   WHITE HANGING HEART T-LIGHT HOLDER         6   \n",
              "1    536365     71053                  WHITE METAL LANTERN         6   \n",
              "2    536365    84406B       CREAM CUPID HEARTS COAT HANGER         8   \n",
              "3    536365    84029G  KNITTED UNION FLAG HOT WATER BOTTLE         6   \n",
              "4    536365    84029E       RED WOOLLY HOTTIE WHITE HEART.         6   \n",
              "\n",
              "      InvoiceDate  UnitPrice CustomerID         Country  IsCancelled  \n",
              "0  12/1/2010 8:26       2.55      17850  United Kingdom        False  \n",
              "1  12/1/2010 8:26       3.39      17850  United Kingdom        False  \n",
              "2  12/1/2010 8:26       2.75      17850  United Kingdom        False  \n",
              "3  12/1/2010 8:26       3.39      17850  United Kingdom        False  \n",
              "4  12/1/2010 8:26       3.39      17850  United Kingdom        False  "
            ],
            "text/html": [
              "\n",
              "  <div id=\"df-48abed8b-f748-499e-bf6c-1e38f1655015\" class=\"colab-df-container\">\n",
              "    <div>\n",
              "<style scoped>\n",
              "    .dataframe tbody tr th:only-of-type {\n",
              "        vertical-align: middle;\n",
              "    }\n",
              "\n",
              "    .dataframe tbody tr th {\n",
              "        vertical-align: top;\n",
              "    }\n",
              "\n",
              "    .dataframe thead th {\n",
              "        text-align: right;\n",
              "    }\n",
              "</style>\n",
              "<table border=\"1\" class=\"dataframe\">\n",
              "  <thead>\n",
              "    <tr style=\"text-align: right;\">\n",
              "      <th></th>\n",
              "      <th>InvoiceNo</th>\n",
              "      <th>StockCode</th>\n",
              "      <th>Description</th>\n",
              "      <th>Quantity</th>\n",
              "      <th>InvoiceDate</th>\n",
              "      <th>UnitPrice</th>\n",
              "      <th>CustomerID</th>\n",
              "      <th>Country</th>\n",
              "      <th>IsCancelled</th>\n",
              "    </tr>\n",
              "  </thead>\n",
              "  <tbody>\n",
              "    <tr>\n",
              "      <th>0</th>\n",
              "      <td>536365</td>\n",
              "      <td>85123A</td>\n",
              "      <td>WHITE HANGING HEART T-LIGHT HOLDER</td>\n",
              "      <td>6</td>\n",
              "      <td>12/1/2010 8:26</td>\n",
              "      <td>2.55</td>\n",
              "      <td>17850</td>\n",
              "      <td>United Kingdom</td>\n",
              "      <td>False</td>\n",
              "    </tr>\n",
              "    <tr>\n",
              "      <th>1</th>\n",
              "      <td>536365</td>\n",
              "      <td>71053</td>\n",
              "      <td>WHITE METAL LANTERN</td>\n",
              "      <td>6</td>\n",
              "      <td>12/1/2010 8:26</td>\n",
              "      <td>3.39</td>\n",
              "      <td>17850</td>\n",
              "      <td>United Kingdom</td>\n",
              "      <td>False</td>\n",
              "    </tr>\n",
              "    <tr>\n",
              "      <th>2</th>\n",
              "      <td>536365</td>\n",
              "      <td>84406B</td>\n",
              "      <td>CREAM CUPID HEARTS COAT HANGER</td>\n",
              "      <td>8</td>\n",
              "      <td>12/1/2010 8:26</td>\n",
              "      <td>2.75</td>\n",
              "      <td>17850</td>\n",
              "      <td>United Kingdom</td>\n",
              "      <td>False</td>\n",
              "    </tr>\n",
              "    <tr>\n",
              "      <th>3</th>\n",
              "      <td>536365</td>\n",
              "      <td>84029G</td>\n",
              "      <td>KNITTED UNION FLAG HOT WATER BOTTLE</td>\n",
              "      <td>6</td>\n",
              "      <td>12/1/2010 8:26</td>\n",
              "      <td>3.39</td>\n",
              "      <td>17850</td>\n",
              "      <td>United Kingdom</td>\n",
              "      <td>False</td>\n",
              "    </tr>\n",
              "    <tr>\n",
              "      <th>4</th>\n",
              "      <td>536365</td>\n",
              "      <td>84029E</td>\n",
              "      <td>RED WOOLLY HOTTIE WHITE HEART.</td>\n",
              "      <td>6</td>\n",
              "      <td>12/1/2010 8:26</td>\n",
              "      <td>3.39</td>\n",
              "      <td>17850</td>\n",
              "      <td>United Kingdom</td>\n",
              "      <td>False</td>\n",
              "    </tr>\n",
              "  </tbody>\n",
              "</table>\n",
              "</div>\n",
              "    <div class=\"colab-df-buttons\">\n",
              "\n",
              "  <div class=\"colab-df-container\">\n",
              "    <button class=\"colab-df-convert\" onclick=\"convertToInteractive('df-48abed8b-f748-499e-bf6c-1e38f1655015')\"\n",
              "            title=\"Convert this dataframe to an interactive table.\"\n",
              "            style=\"display:none;\">\n",
              "\n",
              "  <svg xmlns=\"http://www.w3.org/2000/svg\" height=\"24px\" viewBox=\"0 -960 960 960\">\n",
              "    <path d=\"M120-120v-720h720v720H120Zm60-500h600v-160H180v160Zm220 220h160v-160H400v160Zm0 220h160v-160H400v160ZM180-400h160v-160H180v160Zm440 0h160v-160H620v160ZM180-180h160v-160H180v160Zm440 0h160v-160H620v160Z\"/>\n",
              "  </svg>\n",
              "    </button>\n",
              "\n",
              "  <style>\n",
              "    .colab-df-container {\n",
              "      display:flex;\n",
              "      gap: 12px;\n",
              "    }\n",
              "\n",
              "    .colab-df-convert {\n",
              "      background-color: #E8F0FE;\n",
              "      border: none;\n",
              "      border-radius: 50%;\n",
              "      cursor: pointer;\n",
              "      display: none;\n",
              "      fill: #1967D2;\n",
              "      height: 32px;\n",
              "      padding: 0 0 0 0;\n",
              "      width: 32px;\n",
              "    }\n",
              "\n",
              "    .colab-df-convert:hover {\n",
              "      background-color: #E2EBFA;\n",
              "      box-shadow: 0px 1px 2px rgba(60, 64, 67, 0.3), 0px 1px 3px 1px rgba(60, 64, 67, 0.15);\n",
              "      fill: #174EA6;\n",
              "    }\n",
              "\n",
              "    .colab-df-buttons div {\n",
              "      margin-bottom: 4px;\n",
              "    }\n",
              "\n",
              "    [theme=dark] .colab-df-convert {\n",
              "      background-color: #3B4455;\n",
              "      fill: #D2E3FC;\n",
              "    }\n",
              "\n",
              "    [theme=dark] .colab-df-convert:hover {\n",
              "      background-color: #434B5C;\n",
              "      box-shadow: 0px 1px 3px 1px rgba(0, 0, 0, 0.15);\n",
              "      filter: drop-shadow(0px 1px 2px rgba(0, 0, 0, 0.3));\n",
              "      fill: #FFFFFF;\n",
              "    }\n",
              "  </style>\n",
              "\n",
              "    <script>\n",
              "      const buttonEl =\n",
              "        document.querySelector('#df-48abed8b-f748-499e-bf6c-1e38f1655015 button.colab-df-convert');\n",
              "      buttonEl.style.display =\n",
              "        google.colab.kernel.accessAllowed ? 'block' : 'none';\n",
              "\n",
              "      async function convertToInteractive(key) {\n",
              "        const element = document.querySelector('#df-48abed8b-f748-499e-bf6c-1e38f1655015');\n",
              "        const dataTable =\n",
              "          await google.colab.kernel.invokeFunction('convertToInteractive',\n",
              "                                                    [key], {});\n",
              "        if (!dataTable) return;\n",
              "\n",
              "        const docLinkHtml = 'Like what you see? Visit the ' +\n",
              "          '<a target=\"_blank\" href=https://colab.research.google.com/notebooks/data_table.ipynb>data table notebook</a>'\n",
              "          + ' to learn more about interactive tables.';\n",
              "        element.innerHTML = '';\n",
              "        dataTable['output_type'] = 'display_data';\n",
              "        await google.colab.output.renderOutput(dataTable, element);\n",
              "        const docLink = document.createElement('div');\n",
              "        docLink.innerHTML = docLinkHtml;\n",
              "        element.appendChild(docLink);\n",
              "      }\n",
              "    </script>\n",
              "  </div>\n",
              "\n",
              "\n",
              "<div id=\"df-bf9b9e7a-a9b4-45cb-955c-3b2797d882e8\">\n",
              "  <button class=\"colab-df-quickchart\" onclick=\"quickchart('df-bf9b9e7a-a9b4-45cb-955c-3b2797d882e8')\"\n",
              "            title=\"Suggest charts\"\n",
              "            style=\"display:none;\">\n",
              "\n",
              "<svg xmlns=\"http://www.w3.org/2000/svg\" height=\"24px\"viewBox=\"0 0 24 24\"\n",
              "     width=\"24px\">\n",
              "    <g>\n",
              "        <path d=\"M19 3H5c-1.1 0-2 .9-2 2v14c0 1.1.9 2 2 2h14c1.1 0 2-.9 2-2V5c0-1.1-.9-2-2-2zM9 17H7v-7h2v7zm4 0h-2V7h2v10zm4 0h-2v-4h2v4z\"/>\n",
              "    </g>\n",
              "</svg>\n",
              "  </button>\n",
              "\n",
              "<style>\n",
              "  .colab-df-quickchart {\n",
              "      --bg-color: #E8F0FE;\n",
              "      --fill-color: #1967D2;\n",
              "      --hover-bg-color: #E2EBFA;\n",
              "      --hover-fill-color: #174EA6;\n",
              "      --disabled-fill-color: #AAA;\n",
              "      --disabled-bg-color: #DDD;\n",
              "  }\n",
              "\n",
              "  [theme=dark] .colab-df-quickchart {\n",
              "      --bg-color: #3B4455;\n",
              "      --fill-color: #D2E3FC;\n",
              "      --hover-bg-color: #434B5C;\n",
              "      --hover-fill-color: #FFFFFF;\n",
              "      --disabled-bg-color: #3B4455;\n",
              "      --disabled-fill-color: #666;\n",
              "  }\n",
              "\n",
              "  .colab-df-quickchart {\n",
              "    background-color: var(--bg-color);\n",
              "    border: none;\n",
              "    border-radius: 50%;\n",
              "    cursor: pointer;\n",
              "    display: none;\n",
              "    fill: var(--fill-color);\n",
              "    height: 32px;\n",
              "    padding: 0;\n",
              "    width: 32px;\n",
              "  }\n",
              "\n",
              "  .colab-df-quickchart:hover {\n",
              "    background-color: var(--hover-bg-color);\n",
              "    box-shadow: 0 1px 2px rgba(60, 64, 67, 0.3), 0 1px 3px 1px rgba(60, 64, 67, 0.15);\n",
              "    fill: var(--button-hover-fill-color);\n",
              "  }\n",
              "\n",
              "  .colab-df-quickchart-complete:disabled,\n",
              "  .colab-df-quickchart-complete:disabled:hover {\n",
              "    background-color: var(--disabled-bg-color);\n",
              "    fill: var(--disabled-fill-color);\n",
              "    box-shadow: none;\n",
              "  }\n",
              "\n",
              "  .colab-df-spinner {\n",
              "    border: 2px solid var(--fill-color);\n",
              "    border-color: transparent;\n",
              "    border-bottom-color: var(--fill-color);\n",
              "    animation:\n",
              "      spin 1s steps(1) infinite;\n",
              "  }\n",
              "\n",
              "  @keyframes spin {\n",
              "    0% {\n",
              "      border-color: transparent;\n",
              "      border-bottom-color: var(--fill-color);\n",
              "      border-left-color: var(--fill-color);\n",
              "    }\n",
              "    20% {\n",
              "      border-color: transparent;\n",
              "      border-left-color: var(--fill-color);\n",
              "      border-top-color: var(--fill-color);\n",
              "    }\n",
              "    30% {\n",
              "      border-color: transparent;\n",
              "      border-left-color: var(--fill-color);\n",
              "      border-top-color: var(--fill-color);\n",
              "      border-right-color: var(--fill-color);\n",
              "    }\n",
              "    40% {\n",
              "      border-color: transparent;\n",
              "      border-right-color: var(--fill-color);\n",
              "      border-top-color: var(--fill-color);\n",
              "    }\n",
              "    60% {\n",
              "      border-color: transparent;\n",
              "      border-right-color: var(--fill-color);\n",
              "    }\n",
              "    80% {\n",
              "      border-color: transparent;\n",
              "      border-right-color: var(--fill-color);\n",
              "      border-bottom-color: var(--fill-color);\n",
              "    }\n",
              "    90% {\n",
              "      border-color: transparent;\n",
              "      border-bottom-color: var(--fill-color);\n",
              "    }\n",
              "  }\n",
              "</style>\n",
              "\n",
              "  <script>\n",
              "    async function quickchart(key) {\n",
              "      const quickchartButtonEl =\n",
              "        document.querySelector('#' + key + ' button');\n",
              "      quickchartButtonEl.disabled = true;  // To prevent multiple clicks.\n",
              "      quickchartButtonEl.classList.add('colab-df-spinner');\n",
              "      try {\n",
              "        const charts = await google.colab.kernel.invokeFunction(\n",
              "            'suggestCharts', [key], {});\n",
              "      } catch (error) {\n",
              "        console.error('Error during call to suggestCharts:', error);\n",
              "      }\n",
              "      quickchartButtonEl.classList.remove('colab-df-spinner');\n",
              "      quickchartButtonEl.classList.add('colab-df-quickchart-complete');\n",
              "    }\n",
              "    (() => {\n",
              "      let quickchartButtonEl =\n",
              "        document.querySelector('#df-bf9b9e7a-a9b4-45cb-955c-3b2797d882e8 button');\n",
              "      quickchartButtonEl.style.display =\n",
              "        google.colab.kernel.accessAllowed ? 'block' : 'none';\n",
              "    })();\n",
              "  </script>\n",
              "</div>\n",
              "\n",
              "    </div>\n",
              "  </div>\n"
            ],
            "application/vnd.google.colaboratory.intrinsic+json": {
              "type": "dataframe",
              "variable_name": "main_df_filtered"
            }
          },
          "metadata": {},
          "execution_count": 58
        }
      ],
      "source": [
        "main_df_filtered.head()"
      ]
    },
    {
      "cell_type": "code",
      "execution_count": 59,
      "metadata": {
        "colab": {
          "base_uri": "https://localhost:8080/",
          "height": 178
        },
        "id": "f6EPZOD0tGl8",
        "outputId": "fb578d4d-a9b0-4d94-db55-3ddccdfc031a"
      },
      "outputs": [
        {
          "output_type": "execute_result",
          "data": {
            "text/plain": [
              "IsCancelled\n",
              "False    531167\n",
              "True       9288\n",
              "Name: count, dtype: int64"
            ],
            "text/html": [
              "<div>\n",
              "<style scoped>\n",
              "    .dataframe tbody tr th:only-of-type {\n",
              "        vertical-align: middle;\n",
              "    }\n",
              "\n",
              "    .dataframe tbody tr th {\n",
              "        vertical-align: top;\n",
              "    }\n",
              "\n",
              "    .dataframe thead th {\n",
              "        text-align: right;\n",
              "    }\n",
              "</style>\n",
              "<table border=\"1\" class=\"dataframe\">\n",
              "  <thead>\n",
              "    <tr style=\"text-align: right;\">\n",
              "      <th></th>\n",
              "      <th>count</th>\n",
              "    </tr>\n",
              "    <tr>\n",
              "      <th>IsCancelled</th>\n",
              "      <th></th>\n",
              "    </tr>\n",
              "  </thead>\n",
              "  <tbody>\n",
              "    <tr>\n",
              "      <th>False</th>\n",
              "      <td>531167</td>\n",
              "    </tr>\n",
              "    <tr>\n",
              "      <th>True</th>\n",
              "      <td>9288</td>\n",
              "    </tr>\n",
              "  </tbody>\n",
              "</table>\n",
              "</div><br><label><b>dtype:</b> int64</label>"
            ]
          },
          "metadata": {},
          "execution_count": 59
        }
      ],
      "source": [
        "main_df_filtered[\"IsCancelled\"].value_counts()"
      ]
    },
    {
      "cell_type": "markdown",
      "metadata": {
        "id": "5TJgBX-IStmi"
      },
      "source": [
        "After declaring that cancelled is true, we would sort them out, seperating them from the false. As shown above, the reader can easily see that the number of false observations is 531,167 while, there are 9,288 true observations."
      ]
    },
    {
      "cell_type": "code",
      "execution_count": 60,
      "metadata": {
        "id": "7S62KYKEtyCL"
      },
      "outputs": [],
      "source": [
        "from os import remove\n",
        "#hmw1: remove cancelled invoices.\n",
        "#remove[main_df_filtered[\"IsCancelled\"].value_counts()]\n",
        "# main_df_filtered[\"IsRemoved\"].value_counts()"
      ]
    },
    {
      "cell_type": "code",
      "execution_count": 61,
      "metadata": {
        "id": "EidAFYbjtH1P"
      },
      "outputs": [],
      "source": [
        "#hmw2: find intuitively which are our dependent (what you want to predict) and independent variables (variables that help you to predict that).\n",
        "# y = main_df[\"InvoiceDate\"]\n",
        "# X = main_df[[\"Description\", \"Quantity\"]]\n",
        "# main_df_filtered[\"IsCancelled\"]=np.where(main_df_filtered.Description.apply(lambda l: l[0]==\"C\"), True, False)\n",
        "# dataframe.CustomerID.isnull()\n",
        "main_df.CustomerID.isnull()\n",
        "main_df_filtered=main_df_filtered.loc[(main_df_filtered.CustomerID.isnull()==False)].copy()\n",
        "main_df_filtered=main_df_filtered.loc[(main_df_filtered.IsCancelled==False)].copy()\n",
        "main_df=main_df_filtered.copy()"
      ]
    },
    {
      "cell_type": "markdown",
      "metadata": {
        "id": "31-JF399UzW6"
      },
      "source": [
        "Above, in the last cell, second last line, the code is removing new observations. We are doing this because we don't want bias when training the code. The last line is just to make the code more efficient."
      ]
    },
    {
      "cell_type": "code",
      "execution_count": 62,
      "metadata": {
        "colab": {
          "base_uri": "https://localhost:8080/"
        },
        "id": "rBjCf0snvTc4",
        "outputId": "15dcd22a-18e5-4226-9cf9-f0c290c59645"
      },
      "outputs": [
        {
          "output_type": "execute_result",
          "data": {
            "text/plain": [
              "Index(['InvoiceNo', 'StockCode', 'Description', 'Quantity', 'InvoiceDate',\n",
              "       'UnitPrice', 'CustomerID', 'Country', 'IsCancelled'],\n",
              "      dtype='object')"
            ]
          },
          "metadata": {},
          "execution_count": 62
        }
      ],
      "source": [
        "main_df.columns"
      ]
    },
    {
      "cell_type": "code",
      "execution_count": 63,
      "metadata": {
        "colab": {
          "base_uri": "https://localhost:8080/"
        },
        "id": "ACHQK-m7yTx1",
        "outputId": "3f06c218-4fb6-49b4-ad52-24316c72696b"
      },
      "outputs": [
        {
          "output_type": "stream",
          "name": "stdout",
          "text": [
            "Description\n",
            "WHITE HANGING HEART T-LIGHT HOLDER    2028\n",
            "REGENCY CAKESTAND 3 TIER              1724\n",
            "JUMBO BAG RED RETROSPOT               1618\n",
            "ASSORTED COLOUR BIRD ORNAMENT         1408\n",
            "PARTY BUNTING                         1397\n",
            "                                      ... \n",
            "CAPIZ CHANDELIER                         1\n",
            "CAT WITH SUNGLASSES BLANK CARD           1\n",
            "MONTANA DIAMOND CLUSTER EARRINGS         1\n",
            "PAINTED HEART WREATH WITH BELL           1\n",
            "PAPER CRAFT , LITTLE BIRDIE              1\n",
            "Name: count, Length: 3877, dtype: int64\n"
          ]
        }
      ],
      "source": [
        "from __future__ import print_function\n",
        "description_counts = main_df.Description.value_counts().sort_values(ascending=False)\n",
        "print(description_counts)"
      ]
    },
    {
      "cell_type": "markdown",
      "metadata": {
        "id": "cKmjKSrYWyll"
      },
      "source": [
        "Now, to understand the different aspects of the observations, we explored the different distrubutions of each variable."
      ]
    },
    {
      "cell_type": "code",
      "execution_count": 64,
      "metadata": {
        "colab": {
          "base_uri": "https://localhost:8080/",
          "height": 1000
        },
        "id": "LcgJhHpkv8gM",
        "outputId": "e2dc7be1-98b9-4955-8a1e-ea081a839850"
      },
      "outputs": [
        {
          "output_type": "stream",
          "name": "stderr",
          "text": [
            "<ipython-input-64-c43979a6e99a>:2: FutureWarning: \n",
            "\n",
            "Passing `palette` without assigning `hue` is deprecated and will be removed in v0.14.0. Assign the `x` variable to `hue` and set `legend=False` for the same effect.\n",
            "\n",
            "  sns.barplot(x=description_counts.iloc[0:20].index,y=description_counts.iloc[0:20].values,palette=\"Blues\")\n"
          ]
        },
        {
          "output_type": "execute_result",
          "data": {
            "text/plain": [
              "([0, 1, 2, 3, 4, 5, 6, 7, 8, 9, 10, 11, 12, 13, 14, 15, 16, 17, 18, 19],\n",
              " [Text(0, 0, 'WHITE HANGING HEART T-LIGHT HOLDER'),\n",
              "  Text(1, 0, 'REGENCY CAKESTAND 3 TIER'),\n",
              "  Text(2, 0, 'JUMBO BAG RED RETROSPOT'),\n",
              "  Text(3, 0, 'ASSORTED COLOUR BIRD ORNAMENT'),\n",
              "  Text(4, 0, 'PARTY BUNTING'),\n",
              "  Text(5, 0, 'LUNCH BAG RED RETROSPOT'),\n",
              "  Text(6, 0, 'SET OF 3 CAKE TINS PANTRY DESIGN '),\n",
              "  Text(7, 0, 'LUNCH BAG  BLACK SKULL.'),\n",
              "  Text(8, 0, 'POSTAGE'),\n",
              "  Text(9, 0, 'PACK OF 72 RETROSPOT CAKE CASES'),\n",
              "  Text(10, 0, \"PAPER CHAIN KIT 50'S CHRISTMAS \"),\n",
              "  Text(11, 0, 'SPOTTY BUNTING'),\n",
              "  Text(12, 0, 'LUNCH BAG SPACEBOY DESIGN '),\n",
              "  Text(13, 0, 'LUNCH BAG CARS BLUE'),\n",
              "  Text(14, 0, 'HEART OF WICKER SMALL'),\n",
              "  Text(15, 0, 'NATURAL SLATE HEART CHALKBOARD '),\n",
              "  Text(16, 0, 'LUNCH BAG PINK POLKADOT'),\n",
              "  Text(17, 0, 'REX CASH+CARRY JUMBO SHOPPER'),\n",
              "  Text(18, 0, 'LUNCH BAG SUKI DESIGN '),\n",
              "  Text(19, 0, 'ALARM CLOCK BAKELIKE RED ')])"
            ]
          },
          "metadata": {},
          "execution_count": 64
        },
        {
          "output_type": "display_data",
          "data": {
            "text/plain": [
              "<Figure size 640x480 with 1 Axes>"
            ],
            "image/png": "[encoded data removed]"
          },
          "metadata": {}
        }
      ],
      "source": [
        "import seaborn as sns\n",
        "sns.barplot(x=description_counts.iloc[0:20].index,y=description_counts.iloc[0:20].values,palette=\"Blues\")\n",
        "\n",
        "from matplotlib import pyplot as plt\n",
        "plt.xticks(rotation=90)"
      ]
    },
    {
      "cell_type": "markdown",
      "metadata": {
        "id": "7g7rcfDKXKD7"
      },
      "source": [
        "Before this graph, we had calculated the distrubutions. Now, they are all organzied on this graph."
      ]
    },
    {
      "cell_type": "code",
      "execution_count": 65,
      "metadata": {
        "colab": {
          "base_uri": "https://localhost:8080/"
        },
        "id": "nNzLRAgv09Mi",
        "outputId": "a57ed5c6-76d8-49ce-9e02-5d419c6018f5"
      },
      "outputs": [
        {
          "output_type": "stream",
          "name": "stdout",
          "text": [
            "Quantity\n",
            "1        73314\n",
            "12       60033\n",
            "2        58003\n",
            "6        37688\n",
            "4        32183\n",
            "         ...  \n",
            "630          1\n",
            "992          1\n",
            "672          1\n",
            "67           1\n",
            "80995        1\n",
            "Name: count, Length: 302, dtype: int64\n"
          ]
        }
      ],
      "source": [
        "quantity_counts = main_df.Quantity.value_counts().sort_values(ascending=False)\n",
        "print(quantity_counts)"
      ]
    },
    {
      "cell_type": "code",
      "execution_count": 91,
      "metadata": {
        "colab": {
          "base_uri": "https://localhost:8080/",
          "height": 553
        },
        "id": "bOwEnQyG1fiW",
        "outputId": "20e7639e-cfca-4327-81e7-0b548e339ed8"
      },
      "outputs": [
        {
          "output_type": "stream",
          "name": "stderr",
          "text": [
            "<ipython-input-91-d08e2b0542db>:2: FutureWarning: \n",
            "\n",
            "Passing `palette` without assigning `hue` is deprecated and will be removed in v0.14.0. Assign the `x` variable to `hue` and set `legend=False` for the same effect.\n",
            "\n",
            "  sns.barplot(x=quantity_counts.iloc[0:20].index,y=quantity_counts.iloc[0:20].values,palette=\"Blues\")\n"
          ]
        },
        {
          "output_type": "execute_result",
          "data": {
            "text/plain": [
              "Text(0, 0.5, 'Number of Items')"
            ]
          },
          "metadata": {},
          "execution_count": 91
        },
        {
          "output_type": "display_data",
          "data": {
            "text/plain": [
              "<Figure size 640x480 with 1 Axes>"
            ],
            "image/png": "[encoded data removed]"
          },
          "metadata": {}
        }
      ],
      "source": [
        "import seaborn as sns\n",
        "sns.barplot(x=quantity_counts.iloc[0:20].index,y=quantity_counts.iloc[0:20].values,palette=\"Blues\")\n",
        "plt.ylabel(\"Number of Items\")"
      ]
    },
    {
      "cell_type": "markdown",
      "metadata": {
        "id": "LUPNb_tX2XQZ"
      },
      "source": []
    },
    {
      "cell_type": "code",
      "execution_count": 67,
      "metadata": {
        "colab": {
          "base_uri": "https://localhost:8080/"
        },
        "id": "Qw8jVCMG2H3Y",
        "outputId": "a5348dc4-5f42-446f-ded1-482c3b07cb0e"
      },
      "outputs": [
        {
          "output_type": "stream",
          "name": "stdout",
          "text": [
            "StockCode\n",
            "85123A    2035\n",
            "22423     1724\n",
            "85099B    1618\n",
            "84879     1408\n",
            "47566     1397\n",
            "          ... \n",
            "20678        1\n",
            "47503J       1\n",
            "90026A       1\n",
            "90176C       1\n",
            "23843        1\n",
            "Name: count, Length: 3665, dtype: int64\n"
          ]
        }
      ],
      "source": [
        "stockcode_counts = main_df.StockCode.value_counts().sort_values(ascending=False)\n",
        "print(stockcode_counts)"
      ]
    },
    {
      "cell_type": "code",
      "execution_count": 68,
      "metadata": {
        "colab": {
          "base_uri": "https://localhost:8080/",
          "height": 940
        },
        "id": "e1jX0TB-2ivw",
        "outputId": "0308ff1b-2f30-4324-8351-5f545371823c"
      },
      "outputs": [
        {
          "output_type": "stream",
          "name": "stderr",
          "text": [
            "<ipython-input-68-333c56548b39>:2: FutureWarning: \n",
            "\n",
            "Passing `palette` without assigning `hue` is deprecated and will be removed in v0.14.0. Assign the `x` variable to `hue` and set `legend=False` for the same effect.\n",
            "\n",
            "  sns.barplot(x=stockcode_counts.iloc[0:20].index,y=stockcode_counts.iloc[0:20].values,palette=\"Blues\")\n"
          ]
        },
        {
          "output_type": "execute_result",
          "data": {
            "text/plain": [
              "([0, 1, 2, 3, 4, 5, 6, 7, 8, 9, 10, 11, 12, 13, 14, 15, 16, 17, 18, 19],\n",
              " [Text(0, 0, '85123A'),\n",
              "  Text(1, 0, '22423'),\n",
              "  Text(2, 0, '85099B'),\n",
              "  Text(3, 0, '84879'),\n",
              "  Text(4, 0, '47566'),\n",
              "  Text(5, 0, '20725'),\n",
              "  Text(6, 0, '22720'),\n",
              "  Text(7, 0, '20727'),\n",
              "  Text(8, 0, 'POST'),\n",
              "  Text(9, 0, '23203'),\n",
              "  Text(10, 0, '22383'),\n",
              "  Text(11, 0, '21212'),\n",
              "  Text(12, 0, '22197'),\n",
              "  Text(13, 0, '23209'),\n",
              "  Text(14, 0, '23298'),\n",
              "  Text(15, 0, '22086'),\n",
              "  Text(16, 0, '22382'),\n",
              "  Text(17, 0, '20728'),\n",
              "  Text(18, 0, '22469'),\n",
              "  Text(19, 0, '22457')])"
            ]
          },
          "metadata": {},
          "execution_count": 68
        },
        {
          "output_type": "display_data",
          "data": {
            "text/plain": [
              "<Figure size 640x480 with 1 Axes>"
            ],
            "image/png": "[encoded data removed]"
          },
          "metadata": {}
        }
      ],
      "source": [
        "import seaborn as sns\n",
        "sns.barplot(x=stockcode_counts.iloc[0:20].index,y=stockcode_counts.iloc[0:20].values,palette=\"Blues\")\n",
        "plt.xticks(rotation=90)"
      ]
    },
    {
      "cell_type": "code",
      "execution_count": 69,
      "metadata": {
        "colab": {
          "base_uri": "https://localhost:8080/"
        },
        "id": "JGy3ODFl4CzL",
        "outputId": "3c75c60c-0474-4da2-df5f-ab28f84e5c15"
      },
      "outputs": [
        {
          "output_type": "stream",
          "name": "stdout",
          "text": [
            "Country\n",
            "United Kingdom          354345\n",
            "Germany                   9042\n",
            "France                    8342\n",
            "EIRE                      7238\n",
            "Spain                     2485\n",
            "Netherlands               2363\n",
            "Belgium                   2031\n",
            "Switzerland               1842\n",
            "Portugal                  1462\n",
            "Australia                 1185\n",
            "Norway                    1072\n",
            "Italy                      758\n",
            "Channel Islands            748\n",
            "Finland                    685\n",
            "Cyprus                     614\n",
            "Sweden                     451\n",
            "Austria                    398\n",
            "Denmark                    380\n",
            "Poland                     330\n",
            "Japan                      321\n",
            "Israel                     248\n",
            "Unspecified                244\n",
            "Singapore                  222\n",
            "Iceland                    182\n",
            "USA                        179\n",
            "Canada                     151\n",
            "Greece                     145\n",
            "Malta                      112\n",
            "United Arab Emirates        68\n",
            "European Community          60\n",
            "RSA                         58\n",
            "Lebanon                     45\n",
            "Lithuania                   35\n",
            "Brazil                      32\n",
            "Czech Republic              25\n",
            "Bahrain                     17\n",
            "Saudi Arabia                 9\n",
            "Name: count, dtype: int64\n"
          ]
        }
      ],
      "source": [
        "country_counts = main_df.Country.value_counts().sort_values(ascending=False)\n",
        "print(country_counts)"
      ]
    },
    {
      "cell_type": "code",
      "execution_count": 70,
      "metadata": {
        "colab": {
          "base_uri": "https://localhost:8080/",
          "height": 998
        },
        "id": "miX20sCG4Oxu",
        "outputId": "eb636f58-6e9c-446a-ecb0-378bd7c9fa5c"
      },
      "outputs": [
        {
          "output_type": "stream",
          "name": "stderr",
          "text": [
            "<ipython-input-70-cb596f46338b>:2: FutureWarning: \n",
            "\n",
            "Passing `palette` without assigning `hue` is deprecated and will be removed in v0.14.0. Assign the `x` variable to `hue` and set `legend=False` for the same effect.\n",
            "\n",
            "  sns.barplot(x=country_counts.iloc[0:20].index,y=country_counts.iloc[0:20].values,palette=\"Blues\")\n"
          ]
        },
        {
          "output_type": "execute_result",
          "data": {
            "text/plain": [
              "([0, 1, 2, 3, 4, 5, 6, 7, 8, 9, 10, 11, 12, 13, 14, 15, 16, 17, 18, 19],\n",
              " [Text(0, 0, 'United Kingdom'),\n",
              "  Text(1, 0, 'Germany'),\n",
              "  Text(2, 0, 'France'),\n",
              "  Text(3, 0, 'EIRE'),\n",
              "  Text(4, 0, 'Spain'),\n",
              "  Text(5, 0, 'Netherlands'),\n",
              "  Text(6, 0, 'Belgium'),\n",
              "  Text(7, 0, 'Switzerland'),\n",
              "  Text(8, 0, 'Portugal'),\n",
              "  Text(9, 0, 'Australia'),\n",
              "  Text(10, 0, 'Norway'),\n",
              "  Text(11, 0, 'Italy'),\n",
              "  Text(12, 0, 'Channel Islands'),\n",
              "  Text(13, 0, 'Finland'),\n",
              "  Text(14, 0, 'Cyprus'),\n",
              "  Text(15, 0, 'Sweden'),\n",
              "  Text(16, 0, 'Austria'),\n",
              "  Text(17, 0, 'Denmark'),\n",
              "  Text(18, 0, 'Poland'),\n",
              "  Text(19, 0, 'Japan')])"
            ]
          },
          "metadata": {},
          "execution_count": 70
        },
        {
          "output_type": "display_data",
          "data": {
            "text/plain": [
              "<Figure size 640x480 with 1 Axes>"
            ],
            "image/png": "[encoded data removed]"
          },
          "metadata": {}
        }
      ],
      "source": [
        "import seaborn as sns\n",
        "sns.barplot(x=country_counts.iloc[0:20].index,y=country_counts.iloc[0:20].values,palette=\"Blues\")\n",
        "plt.xticks(rotation=90)"
      ]
    },
    {
      "cell_type": "markdown",
      "metadata": {
        "id": "rfHPowxC7VMY"
      },
      "source": [
        "HMW: Add and comment data exploration"
      ]
    },
    {
      "cell_type": "code",
      "execution_count": 71,
      "metadata": {
        "colab": {
          "base_uri": "https://localhost:8080/"
        },
        "id": "JdPWGp137QPX",
        "outputId": "3f146c8d-420c-4a55-a4ed-2c07a3d8dc5a"
      },
      "outputs": [
        {
          "output_type": "stream",
          "name": "stdout",
          "text": [
            "UnitPrice\n",
            "1.25      45841\n",
            "1.65      36834\n",
            "2.95      26562\n",
            "0.85      25968\n",
            "0.42      21812\n",
            "          ...  \n",
            "3.16          1\n",
            "1.01          1\n",
            "2.42          1\n",
            "7.84          1\n",
            "183.75        1\n",
            "Name: count, Length: 441, dtype: int64\n"
          ]
        }
      ],
      "source": [
        "unitprice_counts = main_df.UnitPrice.value_counts().sort_values(ascending=False)\n",
        "print(unitprice_counts)"
      ]
    },
    {
      "cell_type": "code",
      "execution_count": 72,
      "metadata": {
        "colab": {
          "base_uri": "https://localhost:8080/",
          "height": 917
        },
        "id": "WYAJKgdz-IBT",
        "outputId": "81853e54-f958-4a1d-ded0-f80f41dfe142"
      },
      "outputs": [
        {
          "output_type": "stream",
          "name": "stderr",
          "text": [
            "<ipython-input-72-92f778b8d936>:2: FutureWarning: \n",
            "\n",
            "Passing `palette` without assigning `hue` is deprecated and will be removed in v0.14.0. Assign the `x` variable to `hue` and set `legend=False` for the same effect.\n",
            "\n",
            "  sns.barplot(x=unitprice_counts.iloc[0:20].index,y=unitprice_counts.iloc[0:20].values,palette=\"Blues\")\n"
          ]
        },
        {
          "output_type": "execute_result",
          "data": {
            "text/plain": [
              "([0, 1, 2, 3, 4, 5, 6, 7, 8, 9, 10, 11, 12, 13, 14, 15, 16, 17, 18, 19],\n",
              " [Text(0, 0, '0.39'),\n",
              "  Text(1, 0, '0.42'),\n",
              "  Text(2, 0, '0.55'),\n",
              "  Text(3, 0, '0.65'),\n",
              "  Text(4, 0, '0.83'),\n",
              "  Text(5, 0, '0.85'),\n",
              "  Text(6, 0, '1.25'),\n",
              "  Text(7, 0, '1.45'),\n",
              "  Text(8, 0, '1.65'),\n",
              "  Text(9, 0, '1.95'),\n",
              "  Text(10, 0, '2.08'),\n",
              "  Text(11, 0, '2.1'),\n",
              "  Text(12, 0, '2.55'),\n",
              "  Text(13, 0, '2.95'),\n",
              "  Text(14, 0, '3.75'),\n",
              "  Text(15, 0, '4.15'),\n",
              "  Text(16, 0, '4.25'),\n",
              "  Text(17, 0, '4.95'),\n",
              "  Text(18, 0, '5.95'),\n",
              "  Text(19, 0, '7.95')])"
            ]
          },
          "metadata": {},
          "execution_count": 72
        },
        {
          "output_type": "display_data",
          "data": {
            "text/plain": [
              "<Figure size 640x480 with 1 Axes>"
            ],
            "image/png": "[encoded data removed]"
          },
          "metadata": {}
        }
      ],
      "source": [
        "import seaborn as sns\n",
        "sns.barplot(x=unitprice_counts.iloc[0:20].index,y=unitprice_counts.iloc[0:20].values,palette=\"Blues\")\n",
        "plt.xticks(rotation=90)"
      ]
    },
    {
      "cell_type": "code",
      "execution_count": 73,
      "metadata": {
        "id": "5MaQricW0N70"
      },
      "outputs": [],
      "source": [
        "main_df = main_df.sample(frac=0.1)\n",
        "main_df.head()\n",
        "len(main_df[\"Description\"].unique())\n",
        "main_df_copy = main_df.copy()"
      ]
    },
    {
      "cell_type": "markdown",
      "metadata": {
        "id": "aEjiwZcMXvII"
      },
      "source": [
        "Here, we are using a fraction of the dataset. We did this because the larger models will take longer to run, but just to test the data set, we just need a small portion."
      ]
    },
    {
      "cell_type": "code",
      "execution_count": 74,
      "metadata": {
        "colab": {
          "base_uri": "https://localhost:8080/",
          "height": 206
        },
        "id": "g5FDFKlt9j6-",
        "outputId": "a9f33ec3-fab4-4fa0-fe7e-502fba540bb5"
      },
      "outputs": [
        {
          "output_type": "execute_result",
          "data": {
            "text/plain": [
              "       InvoiceNo StockCode                          Description  Quantity  \\\n",
              "424388    573264     20728                  LUNCH BAG CARS BLUE         4   \n",
              "289006    562218     20971     PINK BLUE FELT CRAFT TRINKET BOX        24   \n",
              "132431    547664     82486    WOOD S/3 CABINET ANT WHITE FINISH         1   \n",
              "90473     544040     22666      RECIPE BOX PANTRY YELLOW DESIGN         1   \n",
              "406174    571740     85048  15CM CHRISTMAS GLASS BALL 20 LIGHTS         4   \n",
              "\n",
              "             InvoiceDate  UnitPrice CustomerID         Country  IsCancelled  \n",
              "424388  10/28/2011 12:36       1.65      14415  United Kingdom        False  \n",
              "289006    8/3/2011 14:07       1.25      13851  United Kingdom        False  \n",
              "132431   3/24/2011 13:16       8.95      13069  United Kingdom        False  \n",
              "90473    2/15/2011 11:40       2.95      14701  United Kingdom        False  \n",
              "406174  10/19/2011 10:34       7.95      17973  United Kingdom        False  "
            ],
            "text/html": [
              "\n",
              "  <div id=\"df-3ffbe102-92dc-4b8d-ac18-8f930b6b0a58\" class=\"colab-df-container\">\n",
              "    <div>\n",
              "<style scoped>\n",
              "    .dataframe tbody tr th:only-of-type {\n",
              "        vertical-align: middle;\n",
              "    }\n",
              "\n",
              "    .dataframe tbody tr th {\n",
              "        vertical-align: top;\n",
              "    }\n",
              "\n",
              "    .dataframe thead th {\n",
              "        text-align: right;\n",
              "    }\n",
              "</style>\n",
              "<table border=\"1\" class=\"dataframe\">\n",
              "  <thead>\n",
              "    <tr style=\"text-align: right;\">\n",
              "      <th></th>\n",
              "      <th>InvoiceNo</th>\n",
              "      <th>StockCode</th>\n",
              "      <th>Description</th>\n",
              "      <th>Quantity</th>\n",
              "      <th>InvoiceDate</th>\n",
              "      <th>UnitPrice</th>\n",
              "      <th>CustomerID</th>\n",
              "      <th>Country</th>\n",
              "      <th>IsCancelled</th>\n",
              "    </tr>\n",
              "  </thead>\n",
              "  <tbody>\n",
              "    <tr>\n",
              "      <th>424388</th>\n",
              "      <td>573264</td>\n",
              "      <td>20728</td>\n",
              "      <td>LUNCH BAG CARS BLUE</td>\n",
              "      <td>4</td>\n",
              "      <td>10/28/2011 12:36</td>\n",
              "      <td>1.65</td>\n",
              "      <td>14415</td>\n",
              "      <td>United Kingdom</td>\n",
              "      <td>False</td>\n",
              "    </tr>\n",
              "    <tr>\n",
              "      <th>289006</th>\n",
              "      <td>562218</td>\n",
              "      <td>20971</td>\n",
              "      <td>PINK BLUE FELT CRAFT TRINKET BOX</td>\n",
              "      <td>24</td>\n",
              "      <td>8/3/2011 14:07</td>\n",
              "      <td>1.25</td>\n",
              "      <td>13851</td>\n",
              "      <td>United Kingdom</td>\n",
              "      <td>False</td>\n",
              "    </tr>\n",
              "    <tr>\n",
              "      <th>132431</th>\n",
              "      <td>547664</td>\n",
              "      <td>82486</td>\n",
              "      <td>WOOD S/3 CABINET ANT WHITE FINISH</td>\n",
              "      <td>1</td>\n",
              "      <td>3/24/2011 13:16</td>\n",
              "      <td>8.95</td>\n",
              "      <td>13069</td>\n",
              "      <td>United Kingdom</td>\n",
              "      <td>False</td>\n",
              "    </tr>\n",
              "    <tr>\n",
              "      <th>90473</th>\n",
              "      <td>544040</td>\n",
              "      <td>22666</td>\n",
              "      <td>RECIPE BOX PANTRY YELLOW DESIGN</td>\n",
              "      <td>1</td>\n",
              "      <td>2/15/2011 11:40</td>\n",
              "      <td>2.95</td>\n",
              "      <td>14701</td>\n",
              "      <td>United Kingdom</td>\n",
              "      <td>False</td>\n",
              "    </tr>\n",
              "    <tr>\n",
              "      <th>406174</th>\n",
              "      <td>571740</td>\n",
              "      <td>85048</td>\n",
              "      <td>15CM CHRISTMAS GLASS BALL 20 LIGHTS</td>\n",
              "      <td>4</td>\n",
              "      <td>10/19/2011 10:34</td>\n",
              "      <td>7.95</td>\n",
              "      <td>17973</td>\n",
              "      <td>United Kingdom</td>\n",
              "      <td>False</td>\n",
              "    </tr>\n",
              "  </tbody>\n",
              "</table>\n",
              "</div>\n",
              "    <div class=\"colab-df-buttons\">\n",
              "\n",
              "  <div class=\"colab-df-container\">\n",
              "    <button class=\"colab-df-convert\" onclick=\"convertToInteractive('df-3ffbe102-92dc-4b8d-ac18-8f930b6b0a58')\"\n",
              "            title=\"Convert this dataframe to an interactive table.\"\n",
              "            style=\"display:none;\">\n",
              "\n",
              "  <svg xmlns=\"http://www.w3.org/2000/svg\" height=\"24px\" viewBox=\"0 -960 960 960\">\n",
              "    <path d=\"M120-120v-720h720v720H120Zm60-500h600v-160H180v160Zm220 220h160v-160H400v160Zm0 220h160v-160H400v160ZM180-400h160v-160H180v160Zm440 0h160v-160H620v160ZM180-180h160v-160H180v160Zm440 0h160v-160H620v160Z\"/>\n",
              "  </svg>\n",
              "    </button>\n",
              "\n",
              "  <style>\n",
              "    .colab-df-container {\n",
              "      display:flex;\n",
              "      gap: 12px;\n",
              "    }\n",
              "\n",
              "    .colab-df-convert {\n",
              "      background-color: #E8F0FE;\n",
              "      border: none;\n",
              "      border-radius: 50%;\n",
              "      cursor: pointer;\n",
              "      display: none;\n",
              "      fill: #1967D2;\n",
              "      height: 32px;\n",
              "      padding: 0 0 0 0;\n",
              "      width: 32px;\n",
              "    }\n",
              "\n",
              "    .colab-df-convert:hover {\n",
              "      background-color: #E2EBFA;\n",
              "      box-shadow: 0px 1px 2px rgba(60, 64, 67, 0.3), 0px 1px 3px 1px rgba(60, 64, 67, 0.15);\n",
              "      fill: #174EA6;\n",
              "    }\n",
              "\n",
              "    .colab-df-buttons div {\n",
              "      margin-bottom: 4px;\n",
              "    }\n",
              "\n",
              "    [theme=dark] .colab-df-convert {\n",
              "      background-color: #3B4455;\n",
              "      fill: #D2E3FC;\n",
              "    }\n",
              "\n",
              "    [theme=dark] .colab-df-convert:hover {\n",
              "      background-color: #434B5C;\n",
              "      box-shadow: 0px 1px 3px 1px rgba(0, 0, 0, 0.15);\n",
              "      filter: drop-shadow(0px 1px 2px rgba(0, 0, 0, 0.3));\n",
              "      fill: #FFFFFF;\n",
              "    }\n",
              "  </style>\n",
              "\n",
              "    <script>\n",
              "      const buttonEl =\n",
              "        document.querySelector('#df-3ffbe102-92dc-4b8d-ac18-8f930b6b0a58 button.colab-df-convert');\n",
              "      buttonEl.style.display =\n",
              "        google.colab.kernel.accessAllowed ? 'block' : 'none';\n",
              "\n",
              "      async function convertToInteractive(key) {\n",
              "        const element = document.querySelector('#df-3ffbe102-92dc-4b8d-ac18-8f930b6b0a58');\n",
              "        const dataTable =\n",
              "          await google.colab.kernel.invokeFunction('convertToInteractive',\n",
              "                                                    [key], {});\n",
              "        if (!dataTable) return;\n",
              "\n",
              "        const docLinkHtml = 'Like what you see? Visit the ' +\n",
              "          '<a target=\"_blank\" href=https://colab.research.google.com/notebooks/data_table.ipynb>data table notebook</a>'\n",
              "          + ' to learn more about interactive tables.';\n",
              "        element.innerHTML = '';\n",
              "        dataTable['output_type'] = 'display_data';\n",
              "        await google.colab.output.renderOutput(dataTable, element);\n",
              "        const docLink = document.createElement('div');\n",
              "        docLink.innerHTML = docLinkHtml;\n",
              "        element.appendChild(docLink);\n",
              "      }\n",
              "    </script>\n",
              "  </div>\n",
              "\n",
              "\n",
              "<div id=\"df-bd38b6a2-77e0-4929-8a75-3525e6bde281\">\n",
              "  <button class=\"colab-df-quickchart\" onclick=\"quickchart('df-bd38b6a2-77e0-4929-8a75-3525e6bde281')\"\n",
              "            title=\"Suggest charts\"\n",
              "            style=\"display:none;\">\n",
              "\n",
              "<svg xmlns=\"http://www.w3.org/2000/svg\" height=\"24px\"viewBox=\"0 0 24 24\"\n",
              "     width=\"24px\">\n",
              "    <g>\n",
              "        <path d=\"M19 3H5c-1.1 0-2 .9-2 2v14c0 1.1.9 2 2 2h14c1.1 0 2-.9 2-2V5c0-1.1-.9-2-2-2zM9 17H7v-7h2v7zm4 0h-2V7h2v10zm4 0h-2v-4h2v4z\"/>\n",
              "    </g>\n",
              "</svg>\n",
              "  </button>\n",
              "\n",
              "<style>\n",
              "  .colab-df-quickchart {\n",
              "      --bg-color: #E8F0FE;\n",
              "      --fill-color: #1967D2;\n",
              "      --hover-bg-color: #E2EBFA;\n",
              "      --hover-fill-color: #174EA6;\n",
              "      --disabled-fill-color: #AAA;\n",
              "      --disabled-bg-color: #DDD;\n",
              "  }\n",
              "\n",
              "  [theme=dark] .colab-df-quickchart {\n",
              "      --bg-color: #3B4455;\n",
              "      --fill-color: #D2E3FC;\n",
              "      --hover-bg-color: #434B5C;\n",
              "      --hover-fill-color: #FFFFFF;\n",
              "      --disabled-bg-color: #3B4455;\n",
              "      --disabled-fill-color: #666;\n",
              "  }\n",
              "\n",
              "  .colab-df-quickchart {\n",
              "    background-color: var(--bg-color);\n",
              "    border: none;\n",
              "    border-radius: 50%;\n",
              "    cursor: pointer;\n",
              "    display: none;\n",
              "    fill: var(--fill-color);\n",
              "    height: 32px;\n",
              "    padding: 0;\n",
              "    width: 32px;\n",
              "  }\n",
              "\n",
              "  .colab-df-quickchart:hover {\n",
              "    background-color: var(--hover-bg-color);\n",
              "    box-shadow: 0 1px 2px rgba(60, 64, 67, 0.3), 0 1px 3px 1px rgba(60, 64, 67, 0.15);\n",
              "    fill: var(--button-hover-fill-color);\n",
              "  }\n",
              "\n",
              "  .colab-df-quickchart-complete:disabled,\n",
              "  .colab-df-quickchart-complete:disabled:hover {\n",
              "    background-color: var(--disabled-bg-color);\n",
              "    fill: var(--disabled-fill-color);\n",
              "    box-shadow: none;\n",
              "  }\n",
              "\n",
              "  .colab-df-spinner {\n",
              "    border: 2px solid var(--fill-color);\n",
              "    border-color: transparent;\n",
              "    border-bottom-color: var(--fill-color);\n",
              "    animation:\n",
              "      spin 1s steps(1) infinite;\n",
              "  }\n",
              "\n",
              "  @keyframes spin {\n",
              "    0% {\n",
              "      border-color: transparent;\n",
              "      border-bottom-color: var(--fill-color);\n",
              "      border-left-color: var(--fill-color);\n",
              "    }\n",
              "    20% {\n",
              "      border-color: transparent;\n",
              "      border-left-color: var(--fill-color);\n",
              "      border-top-color: var(--fill-color);\n",
              "    }\n",
              "    30% {\n",
              "      border-color: transparent;\n",
              "      border-left-color: var(--fill-color);\n",
              "      border-top-color: var(--fill-color);\n",
              "      border-right-color: var(--fill-color);\n",
              "    }\n",
              "    40% {\n",
              "      border-color: transparent;\n",
              "      border-right-color: var(--fill-color);\n",
              "      border-top-color: var(--fill-color);\n",
              "    }\n",
              "    60% {\n",
              "      border-color: transparent;\n",
              "      border-right-color: var(--fill-color);\n",
              "    }\n",
              "    80% {\n",
              "      border-color: transparent;\n",
              "      border-right-color: var(--fill-color);\n",
              "      border-bottom-color: var(--fill-color);\n",
              "    }\n",
              "    90% {\n",
              "      border-color: transparent;\n",
              "      border-bottom-color: var(--fill-color);\n",
              "    }\n",
              "  }\n",
              "</style>\n",
              "\n",
              "  <script>\n",
              "    async function quickchart(key) {\n",
              "      const quickchartButtonEl =\n",
              "        document.querySelector('#' + key + ' button');\n",
              "      quickchartButtonEl.disabled = true;  // To prevent multiple clicks.\n",
              "      quickchartButtonEl.classList.add('colab-df-spinner');\n",
              "      try {\n",
              "        const charts = await google.colab.kernel.invokeFunction(\n",
              "            'suggestCharts', [key], {});\n",
              "      } catch (error) {\n",
              "        console.error('Error during call to suggestCharts:', error);\n",
              "      }\n",
              "      quickchartButtonEl.classList.remove('colab-df-spinner');\n",
              "      quickchartButtonEl.classList.add('colab-df-quickchart-complete');\n",
              "    }\n",
              "    (() => {\n",
              "      let quickchartButtonEl =\n",
              "        document.querySelector('#df-bd38b6a2-77e0-4929-8a75-3525e6bde281 button');\n",
              "      quickchartButtonEl.style.display =\n",
              "        google.colab.kernel.accessAllowed ? 'block' : 'none';\n",
              "    })();\n",
              "  </script>\n",
              "</div>\n",
              "\n",
              "    </div>\n",
              "  </div>\n"
            ],
            "application/vnd.google.colaboratory.intrinsic+json": {
              "type": "dataframe",
              "variable_name": "main_df",
              "repr_error": "0"
            }
          },
          "metadata": {},
          "execution_count": 74
        }
      ],
      "source": [
        "main_df.head()"
      ]
    },
    {
      "cell_type": "code",
      "execution_count": 75,
      "metadata": {
        "colab": {
          "base_uri": "https://localhost:8080/"
        },
        "id": "4FYLDPci_BH4",
        "outputId": "23b5c82e-e9cd-4f15-9cb2-58a99bd663f5"
      },
      "outputs": [
        {
          "output_type": "stream",
          "name": "stdout",
          "text": [
            "<class 'pandas.core.frame.DataFrame'>\n",
            "Index: 39792 entries, 424388 to 37843\n",
            "Data columns (total 9 columns):\n",
            " #   Column       Non-Null Count  Dtype  \n",
            "---  ------       --------------  -----  \n",
            " 0   InvoiceNo    39792 non-null  object \n",
            " 1   StockCode    39792 non-null  object \n",
            " 2   Description  39792 non-null  object \n",
            " 3   Quantity     39792 non-null  int64  \n",
            " 4   InvoiceDate  39792 non-null  object \n",
            " 5   UnitPrice    39792 non-null  float64\n",
            " 6   CustomerID   39792 non-null  object \n",
            " 7   Country      39792 non-null  object \n",
            " 8   IsCancelled  39792 non-null  bool   \n",
            "dtypes: bool(1), float64(1), int64(1), object(6)\n",
            "memory usage: 3.8+ MB\n"
          ]
        }
      ],
      "source": [
        "main_df_copy.info()"
      ]
    },
    {
      "cell_type": "code",
      "execution_count": 76,
      "metadata": {
        "id": "CgpLtoTuyUcB"
      },
      "outputs": [],
      "source": [
        "# from sklearn.linear_model import LinearRegression\n",
        "# main_df_copy.dropna(inplace=True)\n",
        "# main_df[\"DescriptionLength\"] = main_df.Description.apply(lambda l: len(l))\n",
        "# main_df[\"DescriptionLengthMedian\"] = main_df.groupby(\"StockCode\").DescriptionLength.median()\n",
        "# main_df.dropna(inplace=True)\n",
        "# Y= main_df[[\"Quantity\"]]\n",
        "# X= main_df[['UnitPrice', 'DescriptionLengthMedian' , 'CustomerID']]\n",
        "# from sklearn.model_selection import train_test_split\n",
        "# X_train, X_test, y_train, y_test = train_test_split(X, Y, test_size=0.33, random_state=0\n",
        "\n",
        "from sklearn.linear_model import LinearRegression\n",
        "from sklearn.model_selection import train_test_split\n",
        "\n",
        "main_df_copy.dropna(inplace=True)\n",
        "main_df_copy[\"Description\"] = main_df_copy[\"Description\"].astype(str).fillna('')\n",
        "main_df_copy[\"DescriptionLength\"] = main_df_copy[\"Description\"].apply(lambda l: len(l))\n",
        "\n",
        "# Compute the median DescriptionLength for each StockCode group\n",
        "main_df_copy[\"DescriptionLengthMedian\"] = main_df_copy.groupby(\"StockCode\")[\"DescriptionLength\"].transform('median')\n",
        "\n",
        "main_df_copy[\"MedianQuant\"] = main_df_copy.groupby(\"StockCode\")[\"Quantity\"].transform(\"median\")\n",
        "\n",
        "main_df_copy[\"CustomerInfo\"] = main_df_copy.groupby(\"StockCode\")[\"CustomerID\"].transform(\"nunique\")\n",
        "\n",
        "main_df_copy['Month'] = pd.to_datetime(main_df_copy['InvoiceDate'])\n",
        "\n",
        "main_df_copy['Month'] = main_df_copy['Month'].dt.month\n",
        "\n",
        "main_df_copy['Weekday'] = pd.to_datetime(main_df_copy['InvoiceDate'])\n",
        "\n",
        "main_df_copy['Weekday'] = main_df_copy['Weekday'].dt.weekday\n",
        "\n",
        "# Drop any remaining NaN values (though there shouldn't be any after the above operations)\n",
        "main_df_copy.dropna(inplace=True)\n",
        "\n",
        "# Define Y and X\n",
        "Y = main_df_copy[[\"Quantity\"]]\n",
        "X = main_df_copy[['UnitPrice', 'DescriptionLengthMedian', 'CustomerInfo', 'MedianQuant', 'Month', 'Weekday']]\n",
        "\n",
        "# Split the data into training and test sets\n",
        "X_train, X_test, y_train, y_test = train_test_split(X, Y, test_size=0.33, random_state=0)\n"
      ]
    },
    {
      "cell_type": "markdown",
      "metadata": {
        "id": "LpDX37ZG4qiM"
      },
      "source": [
        "Here, we are just defining new variables, calculated based on the description adn the date to include seasonality effects and taking advantage of the diversity and descriptions of the items. We defined the dependent and independent variables in which the dependent variable was the quatity, which is what we want to predict. After defining X and y, we divided between training and testing.\n",
        "\n",
        "We had added the Price Data, but since it brought down the accuracy, it was best to remove it. The reason the accuracy dropped was because the variety of  prices adds predicting power to the model, as quantity appears to be super senstive to price.  Customer Information represents the amount of times the customer has purchased a specific product."
      ]
    },
    {
      "cell_type": "code",
      "execution_count": 77,
      "metadata": {
        "colab": {
          "base_uri": "https://localhost:8080/",
          "height": 929
        },
        "id": "WSCKQb8h3bu4",
        "outputId": "fa66df97-3691-43eb-ca07-20dc03c8c7b4"
      },
      "outputs": [
        {
          "output_type": "execute_result",
          "data": {
            "text/plain": [
              "       InvoiceNo StockCode                          Description  Quantity  \\\n",
              "424388    573264     20728                  LUNCH BAG CARS BLUE         4   \n",
              "289006    562218     20971     PINK BLUE FELT CRAFT TRINKET BOX        24   \n",
              "132431    547664     82486    WOOD S/3 CABINET ANT WHITE FINISH         1   \n",
              "90473     544040     22666      RECIPE BOX PANTRY YELLOW DESIGN         1   \n",
              "406174    571740     85048  15CM CHRISTMAS GLASS BALL 20 LIGHTS         4   \n",
              "...          ...       ...                                  ...       ...   \n",
              "250103    559000     21755             LOVE BUILDING BLOCK WORD         2   \n",
              "401707    571441     72817  SET OF 2 CHRISTMAS DECOUPAGE CANDLE        18   \n",
              "438861    574336     22692          DOORMAT WELCOME TO OUR HOME         2   \n",
              "143083    548664     22305       COFFEE MUG PINK PAISLEY DESIGN        12   \n",
              "37843     539484     22416   SET OF 36 DOILIES SPACEBOY DESIGN          5   \n",
              "\n",
              "             InvoiceDate  UnitPrice CustomerID         Country  IsCancelled  \\\n",
              "424388  10/28/2011 12:36       1.65      14415  United Kingdom        False   \n",
              "289006    8/3/2011 14:07       1.25      13851  United Kingdom        False   \n",
              "132431   3/24/2011 13:16       8.95      13069  United Kingdom        False   \n",
              "90473    2/15/2011 11:40       2.95      14701  United Kingdom        False   \n",
              "406174  10/19/2011 10:34       7.95      17973  United Kingdom        False   \n",
              "...                  ...        ...        ...             ...          ...   \n",
              "250103    7/5/2011 12:15       5.95      14099  United Kingdom        False   \n",
              "401707  10/17/2011 13:31       1.63      14096  United Kingdom        False   \n",
              "438861    11/4/2011 9:52       8.25      12397         Belgium        False   \n",
              "143083    4/1/2011 14:45       2.55      14911            EIRE        False   \n",
              "37843   12/19/2010 15:44       1.45      15640  United Kingdom        False   \n",
              "\n",
              "        DescriptionLength  DescriptionLengthMedian  MedianQuant  CustomerInfo  \\\n",
              "424388                 19                     19.0         10.0            91   \n",
              "289006                 32                     32.0         12.0            35   \n",
              "132431                 33                     33.0          2.0            48   \n",
              "90473                  31                     31.0          6.0            67   \n",
              "406174                 35                     35.0          2.0            17   \n",
              "...                   ...                      ...          ...           ...   \n",
              "250103                 24                     24.0          2.0            48   \n",
              "401707                 35                     35.0          5.0            11   \n",
              "438861                 27                     27.0          2.0            27   \n",
              "143083                 30                     30.0         12.0             4   \n",
              "37843                  34                     34.0          2.5             8   \n",
              "\n",
              "        Month  Weekday  \n",
              "424388     10        4  \n",
              "289006      8        2  \n",
              "132431      3        3  \n",
              "90473       2        1  \n",
              "406174     10        2  \n",
              "...       ...      ...  \n",
              "250103      7        1  \n",
              "401707     10        0  \n",
              "438861     11        4  \n",
              "143083      4        4  \n",
              "37843      12        6  \n",
              "\n",
              "[39792 rows x 15 columns]"
            ],
            "text/html": [
              "\n",
              "  <div id=\"df-0ac08c46-46c8-420c-936d-5c77088cba3f\" class=\"colab-df-container\">\n",
              "    <div>\n",
              "<style scoped>\n",
              "    .dataframe tbody tr th:only-of-type {\n",
              "        vertical-align: middle;\n",
              "    }\n",
              "\n",
              "    .dataframe tbody tr th {\n",
              "        vertical-align: top;\n",
              "    }\n",
              "\n",
              "    .dataframe thead th {\n",
              "        text-align: right;\n",
              "    }\n",
              "</style>\n",
              "<table border=\"1\" class=\"dataframe\">\n",
              "  <thead>\n",
              "    <tr style=\"text-align: right;\">\n",
              "      <th></th>\n",
              "      <th>InvoiceNo</th>\n",
              "      <th>StockCode</th>\n",
              "      <th>Description</th>\n",
              "      <th>Quantity</th>\n",
              "      <th>InvoiceDate</th>\n",
              "      <th>UnitPrice</th>\n",
              "      <th>CustomerID</th>\n",
              "      <th>Country</th>\n",
              "      <th>IsCancelled</th>\n",
              "      <th>DescriptionLength</th>\n",
              "      <th>DescriptionLengthMedian</th>\n",
              "      <th>MedianQuant</th>\n",
              "      <th>CustomerInfo</th>\n",
              "      <th>Month</th>\n",
              "      <th>Weekday</th>\n",
              "    </tr>\n",
              "  </thead>\n",
              "  <tbody>\n",
              "    <tr>\n",
              "      <th>424388</th>\n",
              "      <td>573264</td>\n",
              "      <td>20728</td>\n",
              "      <td>LUNCH BAG CARS BLUE</td>\n",
              "      <td>4</td>\n",
              "      <td>10/28/2011 12:36</td>\n",
              "      <td>1.65</td>\n",
              "      <td>14415</td>\n",
              "      <td>United Kingdom</td>\n",
              "      <td>False</td>\n",
              "      <td>19</td>\n",
              "      <td>19.0</td>\n",
              "      <td>10.0</td>\n",
              "      <td>91</td>\n",
              "      <td>10</td>\n",
              "      <td>4</td>\n",
              "    </tr>\n",
              "    <tr>\n",
              "      <th>289006</th>\n",
              "      <td>562218</td>\n",
              "      <td>20971</td>\n",
              "      <td>PINK BLUE FELT CRAFT TRINKET BOX</td>\n",
              "      <td>24</td>\n",
              "      <td>8/3/2011 14:07</td>\n",
              "      <td>1.25</td>\n",
              "      <td>13851</td>\n",
              "      <td>United Kingdom</td>\n",
              "      <td>False</td>\n",
              "      <td>32</td>\n",
              "      <td>32.0</td>\n",
              "      <td>12.0</td>\n",
              "      <td>35</td>\n",
              "      <td>8</td>\n",
              "      <td>2</td>\n",
              "    </tr>\n",
              "    <tr>\n",
              "      <th>132431</th>\n",
              "      <td>547664</td>\n",
              "      <td>82486</td>\n",
              "      <td>WOOD S/3 CABINET ANT WHITE FINISH</td>\n",
              "      <td>1</td>\n",
              "      <td>3/24/2011 13:16</td>\n",
              "      <td>8.95</td>\n",
              "      <td>13069</td>\n",
              "      <td>United Kingdom</td>\n",
              "      <td>False</td>\n",
              "      <td>33</td>\n",
              "      <td>33.0</td>\n",
              "      <td>2.0</td>\n",
              "      <td>48</td>\n",
              "      <td>3</td>\n",
              "      <td>3</td>\n",
              "    </tr>\n",
              "    <tr>\n",
              "      <th>90473</th>\n",
              "      <td>544040</td>\n",
              "      <td>22666</td>\n",
              "      <td>RECIPE BOX PANTRY YELLOW DESIGN</td>\n",
              "      <td>1</td>\n",
              "      <td>2/15/2011 11:40</td>\n",
              "      <td>2.95</td>\n",
              "      <td>14701</td>\n",
              "      <td>United Kingdom</td>\n",
              "      <td>False</td>\n",
              "      <td>31</td>\n",
              "      <td>31.0</td>\n",
              "      <td>6.0</td>\n",
              "      <td>67</td>\n",
              "      <td>2</td>\n",
              "      <td>1</td>\n",
              "    </tr>\n",
              "    <tr>\n",
              "      <th>406174</th>\n",
              "      <td>571740</td>\n",
              "      <td>85048</td>\n",
              "      <td>15CM CHRISTMAS GLASS BALL 20 LIGHTS</td>\n",
              "      <td>4</td>\n",
              "      <td>10/19/2011 10:34</td>\n",
              "      <td>7.95</td>\n",
              "      <td>17973</td>\n",
              "      <td>United Kingdom</td>\n",
              "      <td>False</td>\n",
              "      <td>35</td>\n",
              "      <td>35.0</td>\n",
              "      <td>2.0</td>\n",
              "      <td>17</td>\n",
              "      <td>10</td>\n",
              "      <td>2</td>\n",
              "    </tr>\n",
              "    <tr>\n",
              "      <th>...</th>\n",
              "      <td>...</td>\n",
              "      <td>...</td>\n",
              "      <td>...</td>\n",
              "      <td>...</td>\n",
              "      <td>...</td>\n",
              "      <td>...</td>\n",
              "      <td>...</td>\n",
              "      <td>...</td>\n",
              "      <td>...</td>\n",
              "      <td>...</td>\n",
              "      <td>...</td>\n",
              "      <td>...</td>\n",
              "      <td>...</td>\n",
              "      <td>...</td>\n",
              "      <td>...</td>\n",
              "    </tr>\n",
              "    <tr>\n",
              "      <th>250103</th>\n",
              "      <td>559000</td>\n",
              "      <td>21755</td>\n",
              "      <td>LOVE BUILDING BLOCK WORD</td>\n",
              "      <td>2</td>\n",
              "      <td>7/5/2011 12:15</td>\n",
              "      <td>5.95</td>\n",
              "      <td>14099</td>\n",
              "      <td>United Kingdom</td>\n",
              "      <td>False</td>\n",
              "      <td>24</td>\n",
              "      <td>24.0</td>\n",
              "      <td>2.0</td>\n",
              "      <td>48</td>\n",
              "      <td>7</td>\n",
              "      <td>1</td>\n",
              "    </tr>\n",
              "    <tr>\n",
              "      <th>401707</th>\n",
              "      <td>571441</td>\n",
              "      <td>72817</td>\n",
              "      <td>SET OF 2 CHRISTMAS DECOUPAGE CANDLE</td>\n",
              "      <td>18</td>\n",
              "      <td>10/17/2011 13:31</td>\n",
              "      <td>1.63</td>\n",
              "      <td>14096</td>\n",
              "      <td>United Kingdom</td>\n",
              "      <td>False</td>\n",
              "      <td>35</td>\n",
              "      <td>35.0</td>\n",
              "      <td>5.0</td>\n",
              "      <td>11</td>\n",
              "      <td>10</td>\n",
              "      <td>0</td>\n",
              "    </tr>\n",
              "    <tr>\n",
              "      <th>438861</th>\n",
              "      <td>574336</td>\n",
              "      <td>22692</td>\n",
              "      <td>DOORMAT WELCOME TO OUR HOME</td>\n",
              "      <td>2</td>\n",
              "      <td>11/4/2011 9:52</td>\n",
              "      <td>8.25</td>\n",
              "      <td>12397</td>\n",
              "      <td>Belgium</td>\n",
              "      <td>False</td>\n",
              "      <td>27</td>\n",
              "      <td>27.0</td>\n",
              "      <td>2.0</td>\n",
              "      <td>27</td>\n",
              "      <td>11</td>\n",
              "      <td>4</td>\n",
              "    </tr>\n",
              "    <tr>\n",
              "      <th>143083</th>\n",
              "      <td>548664</td>\n",
              "      <td>22305</td>\n",
              "      <td>COFFEE MUG PINK PAISLEY DESIGN</td>\n",
              "      <td>12</td>\n",
              "      <td>4/1/2011 14:45</td>\n",
              "      <td>2.55</td>\n",
              "      <td>14911</td>\n",
              "      <td>EIRE</td>\n",
              "      <td>False</td>\n",
              "      <td>30</td>\n",
              "      <td>30.0</td>\n",
              "      <td>12.0</td>\n",
              "      <td>4</td>\n",
              "      <td>4</td>\n",
              "      <td>4</td>\n",
              "    </tr>\n",
              "    <tr>\n",
              "      <th>37843</th>\n",
              "      <td>539484</td>\n",
              "      <td>22416</td>\n",
              "      <td>SET OF 36 DOILIES SPACEBOY DESIGN</td>\n",
              "      <td>5</td>\n",
              "      <td>12/19/2010 15:44</td>\n",
              "      <td>1.45</td>\n",
              "      <td>15640</td>\n",
              "      <td>United Kingdom</td>\n",
              "      <td>False</td>\n",
              "      <td>34</td>\n",
              "      <td>34.0</td>\n",
              "      <td>2.5</td>\n",
              "      <td>8</td>\n",
              "      <td>12</td>\n",
              "      <td>6</td>\n",
              "    </tr>\n",
              "  </tbody>\n",
              "</table>\n",
              "<p>39792 rows × 15 columns</p>\n",
              "</div>\n",
              "    <div class=\"colab-df-buttons\">\n",
              "\n",
              "  <div class=\"colab-df-container\">\n",
              "    <button class=\"colab-df-convert\" onclick=\"convertToInteractive('df-0ac08c46-46c8-420c-936d-5c77088cba3f')\"\n",
              "            title=\"Convert this dataframe to an interactive table.\"\n",
              "            style=\"display:none;\">\n",
              "\n",
              "  <svg xmlns=\"http://www.w3.org/2000/svg\" height=\"24px\" viewBox=\"0 -960 960 960\">\n",
              "    <path d=\"M120-120v-720h720v720H120Zm60-500h600v-160H180v160Zm220 220h160v-160H400v160Zm0 220h160v-160H400v160ZM180-400h160v-160H180v160Zm440 0h160v-160H620v160ZM180-180h160v-160H180v160Zm440 0h160v-160H620v160Z\"/>\n",
              "  </svg>\n",
              "    </button>\n",
              "\n",
              "  <style>\n",
              "    .colab-df-container {\n",
              "      display:flex;\n",
              "      gap: 12px;\n",
              "    }\n",
              "\n",
              "    .colab-df-convert {\n",
              "      background-color: #E8F0FE;\n",
              "      border: none;\n",
              "      border-radius: 50%;\n",
              "      cursor: pointer;\n",
              "      display: none;\n",
              "      fill: #1967D2;\n",
              "      height: 32px;\n",
              "      padding: 0 0 0 0;\n",
              "      width: 32px;\n",
              "    }\n",
              "\n",
              "    .colab-df-convert:hover {\n",
              "      background-color: #E2EBFA;\n",
              "      box-shadow: 0px 1px 2px rgba(60, 64, 67, 0.3), 0px 1px 3px 1px rgba(60, 64, 67, 0.15);\n",
              "      fill: #174EA6;\n",
              "    }\n",
              "\n",
              "    .colab-df-buttons div {\n",
              "      margin-bottom: 4px;\n",
              "    }\n",
              "\n",
              "    [theme=dark] .colab-df-convert {\n",
              "      background-color: #3B4455;\n",
              "      fill: #D2E3FC;\n",
              "    }\n",
              "\n",
              "    [theme=dark] .colab-df-convert:hover {\n",
              "      background-color: #434B5C;\n",
              "      box-shadow: 0px 1px 3px 1px rgba(0, 0, 0, 0.15);\n",
              "      filter: drop-shadow(0px 1px 2px rgba(0, 0, 0, 0.3));\n",
              "      fill: #FFFFFF;\n",
              "    }\n",
              "  </style>\n",
              "\n",
              "    <script>\n",
              "      const buttonEl =\n",
              "        document.querySelector('#df-0ac08c46-46c8-420c-936d-5c77088cba3f button.colab-df-convert');\n",
              "      buttonEl.style.display =\n",
              "        google.colab.kernel.accessAllowed ? 'block' : 'none';\n",
              "\n",
              "      async function convertToInteractive(key) {\n",
              "        const element = document.querySelector('#df-0ac08c46-46c8-420c-936d-5c77088cba3f');\n",
              "        const dataTable =\n",
              "          await google.colab.kernel.invokeFunction('convertToInteractive',\n",
              "                                                    [key], {});\n",
              "        if (!dataTable) return;\n",
              "\n",
              "        const docLinkHtml = 'Like what you see? Visit the ' +\n",
              "          '<a target=\"_blank\" href=https://colab.research.google.com/notebooks/data_table.ipynb>data table notebook</a>'\n",
              "          + ' to learn more about interactive tables.';\n",
              "        element.innerHTML = '';\n",
              "        dataTable['output_type'] = 'display_data';\n",
              "        await google.colab.output.renderOutput(dataTable, element);\n",
              "        const docLink = document.createElement('div');\n",
              "        docLink.innerHTML = docLinkHtml;\n",
              "        element.appendChild(docLink);\n",
              "      }\n",
              "    </script>\n",
              "  </div>\n",
              "\n",
              "\n",
              "<div id=\"df-001c04c4-9dca-4ffd-8d16-e0688d2cdd45\">\n",
              "  <button class=\"colab-df-quickchart\" onclick=\"quickchart('df-001c04c4-9dca-4ffd-8d16-e0688d2cdd45')\"\n",
              "            title=\"Suggest charts\"\n",
              "            style=\"display:none;\">\n",
              "\n",
              "<svg xmlns=\"http://www.w3.org/2000/svg\" height=\"24px\"viewBox=\"0 0 24 24\"\n",
              "     width=\"24px\">\n",
              "    <g>\n",
              "        <path d=\"M19 3H5c-1.1 0-2 .9-2 2v14c0 1.1.9 2 2 2h14c1.1 0 2-.9 2-2V5c0-1.1-.9-2-2-2zM9 17H7v-7h2v7zm4 0h-2V7h2v10zm4 0h-2v-4h2v4z\"/>\n",
              "    </g>\n",
              "</svg>\n",
              "  </button>\n",
              "\n",
              "<style>\n",
              "  .colab-df-quickchart {\n",
              "      --bg-color: #E8F0FE;\n",
              "      --fill-color: #1967D2;\n",
              "      --hover-bg-color: #E2EBFA;\n",
              "      --hover-fill-color: #174EA6;\n",
              "      --disabled-fill-color: #AAA;\n",
              "      --disabled-bg-color: #DDD;\n",
              "  }\n",
              "\n",
              "  [theme=dark] .colab-df-quickchart {\n",
              "      --bg-color: #3B4455;\n",
              "      --fill-color: #D2E3FC;\n",
              "      --hover-bg-color: #434B5C;\n",
              "      --hover-fill-color: #FFFFFF;\n",
              "      --disabled-bg-color: #3B4455;\n",
              "      --disabled-fill-color: #666;\n",
              "  }\n",
              "\n",
              "  .colab-df-quickchart {\n",
              "    background-color: var(--bg-color);\n",
              "    border: none;\n",
              "    border-radius: 50%;\n",
              "    cursor: pointer;\n",
              "    display: none;\n",
              "    fill: var(--fill-color);\n",
              "    height: 32px;\n",
              "    padding: 0;\n",
              "    width: 32px;\n",
              "  }\n",
              "\n",
              "  .colab-df-quickchart:hover {\n",
              "    background-color: var(--hover-bg-color);\n",
              "    box-shadow: 0 1px 2px rgba(60, 64, 67, 0.3), 0 1px 3px 1px rgba(60, 64, 67, 0.15);\n",
              "    fill: var(--button-hover-fill-color);\n",
              "  }\n",
              "\n",
              "  .colab-df-quickchart-complete:disabled,\n",
              "  .colab-df-quickchart-complete:disabled:hover {\n",
              "    background-color: var(--disabled-bg-color);\n",
              "    fill: var(--disabled-fill-color);\n",
              "    box-shadow: none;\n",
              "  }\n",
              "\n",
              "  .colab-df-spinner {\n",
              "    border: 2px solid var(--fill-color);\n",
              "    border-color: transparent;\n",
              "    border-bottom-color: var(--fill-color);\n",
              "    animation:\n",
              "      spin 1s steps(1) infinite;\n",
              "  }\n",
              "\n",
              "  @keyframes spin {\n",
              "    0% {\n",
              "      border-color: transparent;\n",
              "      border-bottom-color: var(--fill-color);\n",
              "      border-left-color: var(--fill-color);\n",
              "    }\n",
              "    20% {\n",
              "      border-color: transparent;\n",
              "      border-left-color: var(--fill-color);\n",
              "      border-top-color: var(--fill-color);\n",
              "    }\n",
              "    30% {\n",
              "      border-color: transparent;\n",
              "      border-left-color: var(--fill-color);\n",
              "      border-top-color: var(--fill-color);\n",
              "      border-right-color: var(--fill-color);\n",
              "    }\n",
              "    40% {\n",
              "      border-color: transparent;\n",
              "      border-right-color: var(--fill-color);\n",
              "      border-top-color: var(--fill-color);\n",
              "    }\n",
              "    60% {\n",
              "      border-color: transparent;\n",
              "      border-right-color: var(--fill-color);\n",
              "    }\n",
              "    80% {\n",
              "      border-color: transparent;\n",
              "      border-right-color: var(--fill-color);\n",
              "      border-bottom-color: var(--fill-color);\n",
              "    }\n",
              "    90% {\n",
              "      border-color: transparent;\n",
              "      border-bottom-color: var(--fill-color);\n",
              "    }\n",
              "  }\n",
              "</style>\n",
              "\n",
              "  <script>\n",
              "    async function quickchart(key) {\n",
              "      const quickchartButtonEl =\n",
              "        document.querySelector('#' + key + ' button');\n",
              "      quickchartButtonEl.disabled = true;  // To prevent multiple clicks.\n",
              "      quickchartButtonEl.classList.add('colab-df-spinner');\n",
              "      try {\n",
              "        const charts = await google.colab.kernel.invokeFunction(\n",
              "            'suggestCharts', [key], {});\n",
              "      } catch (error) {\n",
              "        console.error('Error during call to suggestCharts:', error);\n",
              "      }\n",
              "      quickchartButtonEl.classList.remove('colab-df-spinner');\n",
              "      quickchartButtonEl.classList.add('colab-df-quickchart-complete');\n",
              "    }\n",
              "    (() => {\n",
              "      let quickchartButtonEl =\n",
              "        document.querySelector('#df-001c04c4-9dca-4ffd-8d16-e0688d2cdd45 button');\n",
              "      quickchartButtonEl.style.display =\n",
              "        google.colab.kernel.accessAllowed ? 'block' : 'none';\n",
              "    })();\n",
              "  </script>\n",
              "</div>\n",
              "\n",
              "  <div id=\"id_f413c721-39e2-4915-9be0-d467aa512b00\">\n",
              "    <style>\n",
              "      .colab-df-generate {\n",
              "        background-color: #E8F0FE;\n",
              "        border: none;\n",
              "        border-radius: 50%;\n",
              "        cursor: pointer;\n",
              "        display: none;\n",
              "        fill: #1967D2;\n",
              "        height: 32px;\n",
              "        padding: 0 0 0 0;\n",
              "        width: 32px;\n",
              "      }\n",
              "\n",
              "      .colab-df-generate:hover {\n",
              "        background-color: #E2EBFA;\n",
              "        box-shadow: 0px 1px 2px rgba(60, 64, 67, 0.3), 0px 1px 3px 1px rgba(60, 64, 67, 0.15);\n",
              "        fill: #174EA6;\n",
              "      }\n",
              "\n",
              "      [theme=dark] .colab-df-generate {\n",
              "        background-color: #3B4455;\n",
              "        fill: #D2E3FC;\n",
              "      }\n",
              "\n",
              "      [theme=dark] .colab-df-generate:hover {\n",
              "        background-color: #434B5C;\n",
              "        box-shadow: 0px 1px 3px 1px rgba(0, 0, 0, 0.15);\n",
              "        filter: drop-shadow(0px 1px 2px rgba(0, 0, 0, 0.3));\n",
              "        fill: #FFFFFF;\n",
              "      }\n",
              "    </style>\n",
              "    <button class=\"colab-df-generate\" onclick=\"generateWithVariable('main_df_copy')\"\n",
              "            title=\"Generate code using this dataframe.\"\n",
              "            style=\"display:none;\">\n",
              "\n",
              "  <svg xmlns=\"http://www.w3.org/2000/svg\" height=\"24px\"viewBox=\"0 0 24 24\"\n",
              "       width=\"24px\">\n",
              "    <path d=\"M7,19H8.4L18.45,9,17,7.55,7,17.6ZM5,21V16.75L18.45,3.32a2,2,0,0,1,2.83,0l1.4,1.43a1.91,1.91,0,0,1,.58,1.4,1.91,1.91,0,0,1-.58,1.4L9.25,21ZM18.45,9,17,7.55Zm-12,3A5.31,5.31,0,0,0,4.9,8.1,5.31,5.31,0,0,0,1,6.5,5.31,5.31,0,0,0,4.9,4.9,5.31,5.31,0,0,0,6.5,1,5.31,5.31,0,0,0,8.1,4.9,5.31,5.31,0,0,0,12,6.5,5.46,5.46,0,0,0,6.5,12Z\"/>\n",
              "  </svg>\n",
              "    </button>\n",
              "    <script>\n",
              "      (() => {\n",
              "      const buttonEl =\n",
              "        document.querySelector('#id_f413c721-39e2-4915-9be0-d467aa512b00 button.colab-df-generate');\n",
              "      buttonEl.style.display =\n",
              "        google.colab.kernel.accessAllowed ? 'block' : 'none';\n",
              "\n",
              "      buttonEl.onclick = () => {\n",
              "        google.colab.notebook.generateWithVariable('main_df_copy');\n",
              "      }\n",
              "      })();\n",
              "    </script>\n",
              "  </div>\n",
              "\n",
              "    </div>\n",
              "  </div>\n"
            ],
            "application/vnd.google.colaboratory.intrinsic+json": {
              "type": "dataframe",
              "variable_name": "main_df_copy",
              "repr_error": "0"
            }
          },
          "metadata": {},
          "execution_count": 77
        }
      ],
      "source": [
        "main_df_copy"
      ]
    },
    {
      "cell_type": "code",
      "execution_count": 78,
      "metadata": {
        "id": "pONO-LWd2Zzh"
      },
      "outputs": [],
      "source": [
        "from sklearn.linear_model import LinearRegression"
      ]
    },
    {
      "cell_type": "code",
      "execution_count": 79,
      "metadata": {
        "colab": {
          "base_uri": "https://localhost:8080/"
        },
        "id": "F_svbOBs3L7d",
        "outputId": "cfcfe70f-3990-47c4-f1b3-f3fe400004fc"
      },
      "outputs": [
        {
          "output_type": "stream",
          "name": "stdout",
          "text": [
            "<class 'sklearn.linear_model._base.LinearRegression'>\n"
          ]
        }
      ],
      "source": [
        "print(LinearRegression)"
      ]
    },
    {
      "cell_type": "markdown",
      "metadata": {
        "id": "i64856xyZRZ6"
      },
      "source": [
        "# From here on, we are testing the models!"
      ]
    },
    {
      "cell_type": "markdown",
      "metadata": {
        "id": "f1qtWW2B5Y-U"
      },
      "source": [
        "Initializing linear regression"
      ]
    },
    {
      "cell_type": "code",
      "execution_count": 80,
      "metadata": {
        "id": "if6kWjof3YlB"
      },
      "outputs": [],
      "source": [
        "clf = LinearRegression().fit(X_train, y_train)"
      ]
    },
    {
      "cell_type": "code",
      "execution_count": 81,
      "metadata": {
        "colab": {
          "base_uri": "https://localhost:8080/"
        },
        "id": "6h980k_f5Ymk",
        "outputId": "fc9d58b4-455a-4893-8f39-95534e7e8e74"
      },
      "outputs": [
        {
          "output_type": "stream",
          "name": "stdout",
          "text": [
            "[[-0.02888372 -0.08165518  0.03553001  1.12356344 -0.08293082 -0.55575892]]\n",
            "        UnitPrice  DescriptionLengthMedian  CustomerInfo  MedianQuant  Month  \\\n",
            "376260       1.69                     29.0            28          5.5     10   \n",
            "153503       2.08                     16.0            70         10.0      4   \n",
            "510143       3.75                     32.0             8          4.0     11   \n",
            "241297       0.29                     31.0            10         18.0      6   \n",
            "274536       2.55                     21.0            22          4.0      7   \n",
            "...           ...                      ...           ...          ...    ...   \n",
            "116499       1.95                     23.0            22          6.0      3   \n",
            "127686       1.69                     29.0            28          5.5      3   \n",
            "356371       3.75                     24.0            26          6.0      9   \n",
            "296363       0.75                     27.0             9         12.0      8   \n",
            "110625       2.10                     29.0            42          9.0      3   \n",
            "\n",
            "        Weekday  \n",
            "376260        1  \n",
            "153503        1  \n",
            "510143        1  \n",
            "241297        0  \n",
            "274536        3  \n",
            "...         ...  \n",
            "116499        3  \n",
            "127686        0  \n",
            "356371        4  \n",
            "296363        2  \n",
            "110625        6  \n",
            "\n",
            "[26660 rows x 6 columns]\n"
          ]
        }
      ],
      "source": [
        "predictions = clf.predict(X_test)\n",
        "print(clf.coef_)\n",
        "print(X_train)"
      ]
    },
    {
      "cell_type": "markdown",
      "metadata": {
        "id": "BAKQXUrw6d1a"
      },
      "source": [
        "I expect this to predict to assign us core on how the model is predicting. Whether they are good esimates, versus bad ones."
      ]
    },
    {
      "cell_type": "code",
      "execution_count": 82,
      "metadata": {
        "colab": {
          "base_uri": "https://localhost:8080/"
        },
        "id": "xMrWQ--m6qZ5",
        "outputId": "90b54e56-ce3a-42f0-9c17-be0b81094074"
      },
      "outputs": [
        {
          "output_type": "execute_result",
          "data": {
            "text/plain": [
              "0.06121062689172363"
            ]
          },
          "metadata": {},
          "execution_count": 82
        }
      ],
      "source": [
        "clf.score(X_test, y_test)"
      ]
    },
    {
      "cell_type": "code",
      "execution_count": 83,
      "metadata": {
        "colab": {
          "base_uri": "https://localhost:8080/"
        },
        "id": "UttXzGms7eCp",
        "outputId": "e95d9117-82ad-46e6-b81a-1229179c5636"
      },
      "outputs": [
        {
          "output_type": "stream",
          "name": "stderr",
          "text": [
            "/usr/local/lib/python3.11/dist-packages/sklearn/base.py:1389: DataConversionWarning: A column-vector y was passed when a 1d array was expected. Please change the shape of y to (n_samples,), for example using ravel().\n",
            "  return fit_method(estimator, *args, **kwargs)\n"
          ]
        }
      ],
      "source": [
        "from sklearn.ensemble import RandomForestRegressor\n",
        "regr = RandomForestRegressor(max_depth=15, random_state=0)\n",
        "regr.fit(X_train, y_train)\n",
        "regr.score(X_test, y_test)\n",
        "preds_random_forest = regr.predict(X_test)"
      ]
    },
    {
      "cell_type": "markdown",
      "metadata": {
        "id": "R8Sh6Reu62z2"
      },
      "source": [
        "\n",
        "\n",
        "preds_random_forest = regr.predict(X_test)\n",
        "Now, we will use the feature: 'Importances.' This will help us find what is truly valuable from our set of variables to predict sales using Random Forest."
      ]
    },
    {
      "cell_type": "code",
      "execution_count": 84,
      "metadata": {
        "colab": {
          "base_uri": "https://localhost:8080/"
        },
        "id": "wNK_MIht97sK",
        "outputId": "b814d38c-976c-4108-d293-75a12a241177"
      },
      "outputs": [
        {
          "output_type": "stream",
          "name": "stdout",
          "text": [
            "[0.44036346 0.0935153  0.20455671 0.13897116 0.05847101 0.06412235]\n"
          ]
        }
      ],
      "source": [
        "importances = regr.feature_importances_\n",
        "print(importances)"
      ]
    },
    {
      "cell_type": "markdown",
      "metadata": {
        "id": "1yUaHW1v763T"
      },
      "source": [
        "After declaring the feature, we have to convert it to 'pd.Series'. We need to take this step because pandas is suitable for a plot bar, and without it, we wouldn't be able to graph the data."
      ]
    },
    {
      "cell_type": "code",
      "source": [
        "import seaborn as sns\n",
        "sns.scatterplot(x=np.array(y_test).reshape(-1), y=np.array(y_test).reshape(-1))\n",
        "plt.xlim(0, 50)\n",
        "plt.ylim(0, 50)\n",
        "plt.xlabel(\"True Quantity\")\n",
        "plt.ylabel(\"Predictions\")"
      ],
      "metadata": {
        "colab": {
          "base_uri": "https://localhost:8080/",
          "height": 472
        },
        "id": "_NlBgZsfTcwE",
        "outputId": "ec08d0e6-2e1a-4859-a7db-deb175a8abf9"
      },
      "execution_count": 90,
      "outputs": [
        {
          "output_type": "execute_result",
          "data": {
            "text/plain": [
              "Text(0, 0.5, 'Predictions')"
            ]
          },
          "metadata": {},
          "execution_count": 90
        },
        {
          "output_type": "display_data",
          "data": {
            "text/plain": [
              "<Figure size 640x480 with 1 Axes>"
            ],
            "image/png": "[encoded data removed]"
          },
          "metadata": {}
        }
      ]
    },
    {
      "cell_type": "code",
      "execution_count": 34,
      "metadata": {
        "colab": {
          "base_uri": "https://localhost:8080/",
          "height": 610
        },
        "id": "QtAmVGWV77PO",
        "outputId": "024b0395-a55f-425f-875b-dc50874053b7"
      },
      "outputs": [
        {
          "output_type": "execute_result",
          "data": {
            "text/plain": [
              "<Axes: >"
            ]
          },
          "metadata": {},
          "execution_count": 34
        },
        {
          "output_type": "display_data",
          "data": {
            "text/plain": [
              "<Figure size 640x480 with 1 Axes>"
            ],
            "image/png": "[encoded data removed]"
          },
          "metadata": {}
        }
      ],
      "source": [
        "importances = pd.Series(importances, index=X.columns)\n",
        "fig, ax = plt.subplots()\n",
        "importances.plot.bar()"
      ]
    },
    {
      "cell_type": "markdown",
      "metadata": {
        "id": "T7kaTVT49fta"
      },
      "source": [
        "The \"y\" column represents the Gini Index. The Gini Index is also known as Gini impurity. It is a measure of how mixed or impure a dataset is. This index meausures from 0 to 1. So, as shown in the graph above, Unit Price has the most affect to our accuracy. The higher the impurity, the better, because if everything was constant, there would be no variation to track."
      ]
    },
    {
      "cell_type": "code",
      "execution_count": 35,
      "metadata": {
        "colab": {
          "base_uri": "https://localhost:8080/"
        },
        "id": "L7QODsOuC6u1",
        "outputId": "c63014bb-d8c1-472c-b5c2-e2c67d99cc70"
      },
      "outputs": [
        {
          "output_type": "stream",
          "name": "stderr",
          "text": [
            "/usr/local/lib/python3.11/dist-packages/sklearn/neural_network/_multilayer_perceptron.py:1650: DataConversionWarning: A column-vector y was passed when a 1d array was expected. Please change the shape of y to (n_samples, ), for example using ravel().\n",
            "  y = column_or_1d(y, warn=True)\n"
          ]
        },
        {
          "output_type": "stream",
          "name": "stdout",
          "text": [
            "0.1032812312834227\n",
            "[ 5.36850726 38.09107659 13.661657   41.10857197 18.87650946  8.13438413\n",
            " 18.5224203  18.06213288 13.41743991  9.23685578 12.72313204  9.62840255\n",
            " 20.27309362 36.08284712 12.17048392 17.78055882  4.20261032 18.53385339\n",
            " 54.97708133  3.45851849  5.08711248  6.66144275  4.3233201   8.20224851\n",
            "  3.87607635 12.77189696 13.5052071  10.51108023  2.07465856  2.63768639\n",
            " 18.26073057 16.77411726 12.90443087 26.68979026 38.8033222  17.11029337\n",
            " 14.41478523 18.85697821  3.04062481  9.64240354 18.75395914  4.37189238\n",
            "  8.50454176  6.47979183  5.27713483 17.96668265 20.24313788  2.99436331\n",
            "  5.86598732 19.82116557  9.77115638  9.01016208  9.85493514  8.6989042\n",
            " 17.0536184   8.64234588 23.19409334 16.53321963  9.57533521  8.23530649]\n"
          ]
        }
      ],
      "source": [
        "from sklearn.neural_network import MLPRegressor\n",
        "neural_net = MLPRegressor(random_state=1, max_iter=500, hidden_layer_sizes=(45,25,300)).fit(X_train, y_train)\n",
        "prediction = neural_net.predict(X_test)\n",
        "print(neural_net.score(X_test, y_test))\n",
        "print(prediction[0:60])"
      ]
    },
    {
      "cell_type": "markdown",
      "metadata": {
        "id": "G2ql7UZJC7Wm"
      },
      "source": [
        "We are adding a linear regression to the dataset."
      ]
    },
    {
      "cell_type": "code",
      "execution_count": 36,
      "metadata": {
        "colab": {
          "base_uri": "https://localhost:8080/"
        },
        "id": "T2T_HQQV6wYP",
        "outputId": "9776f503-94dc-471f-a087-61f01415cb07"
      },
      "outputs": [
        {
          "output_type": "stream",
          "name": "stderr",
          "text": [
            "/usr/local/lib/python3.11/dist-packages/sklearn/ensemble/_gb.py:672: DataConversionWarning: A column-vector y was passed when a 1d array was expected. Please change the shape of y to (n_samples, ), for example using ravel().\n",
            "  y = column_or_1d(y, warn=True)  # TODO: Is this still required?\n"
          ]
        },
        {
          "output_type": "stream",
          "name": "stdout",
          "text": [
            "RMSE 0.0014614506258291285\n"
          ]
        }
      ],
      "source": [
        "from sklearn.ensemble import GradientBoostingRegressor\n",
        "from sklearn.metrics import mean_squared_error\n",
        "from sklearn import preprocessing\n",
        "from sklearn.preprocessing import MinMaxScaler\n",
        "min_max_scaler = preprocessing.MinMaxScaler()\n",
        "X_train_minmax = min_max_scaler.fit_transform(X_train)\n",
        "X_test_minmax = min_max_scaler.transform(X_test)\n",
        "\n",
        "min_max_scaler = preprocessing.MinMaxScaler()\n",
        "y_train_minmax = min_max_scaler.fit_transform(y_train)\n",
        "y_test_minmax = min_max_scaler.transform(y_test)\n",
        "gbm = GradientBoostingRegressor(\n",
        "    n_estimators=200,\n",
        "    learning_rate=0.1,\n",
        "    max_depth=1 )\n",
        "gbm.fit(X_train_minmax, y_train_minmax)\n",
        "print(\"RMSE\", mean_squared_error(y_test_minmax, gbm.predict(X_test_minmax))/np.average(y_test_minmax))"
      ]
    },
    {
      "cell_type": "code",
      "execution_count": 37,
      "metadata": {
        "colab": {
          "base_uri": "https://localhost:8080/"
        },
        "id": "fnr2CAIL14Ha",
        "outputId": "aefba92e-732f-4f68-c97d-e4f221427994"
      },
      "outputs": [
        {
          "output_type": "stream",
          "name": "stdout",
          "text": [
            "0.0\n",
            "0.01776674815418426\n"
          ]
        }
      ],
      "source": [
        "print(np.min(y_test_minmax))\n",
        "print(np.max(y_test_minmax))"
      ]
    },
    {
      "cell_type": "code",
      "execution_count": 38,
      "metadata": {
        "colab": {
          "base_uri": "https://localhost:8080/"
        },
        "id": "E_bsIQ892FvC",
        "outputId": "d2789dc1-4247-43f3-a880-49240923f031"
      },
      "outputs": [
        {
          "output_type": "stream",
          "name": "stdout",
          "text": [
            "[7.12707294e-05 6.66263678e-04 9.62733854e-05 ... 7.12707294e-05\n",
            " 1.03169338e-04 1.48398666e-04]\n"
          ]
        }
      ],
      "source": [
        "preds = gbm.predict(X_test_minmax)\n",
        "print(preds)"
      ]
    },
    {
      "cell_type": "code",
      "execution_count": 39,
      "metadata": {
        "colab": {
          "base_uri": "https://localhost:8080/"
        },
        "id": "S50utwpk2Vlg",
        "outputId": "61db2628-bf6a-4fba-8251-abea124e83bb"
      },
      "outputs": [
        {
          "output_type": "stream",
          "name": "stdout",
          "text": [
            "1.91454489313182e-05\n",
            "0.00289752064078168\n",
            "R-squared: -0.10667806497469501\n"
          ]
        }
      ],
      "source": [
        "print(np.min(preds))\n",
        "print(np.max(preds))\n",
        "from sklearn.metrics import r2_score\n",
        "r2 = r2_score(y_test, preds)\n",
        "print(\"R-squared:\", r2)"
      ]
    },
    {
      "cell_type": "code",
      "execution_count": 40,
      "metadata": {
        "colab": {
          "base_uri": "https://localhost:8080/"
        },
        "id": "O1nVfLUZ4WT9",
        "outputId": "14fc6c0d-317b-495c-fa57-8fb2350f29af"
      },
      "outputs": [
        {
          "output_type": "stream",
          "name": "stdout",
          "text": [
            "RMSE 135.7434520071108\n",
            "[10.476045 36.462406 12.664413 ... 10.476045 10.476045 12.664413]\n",
            "R-squared: 0.06370848417282104\n"
          ]
        }
      ],
      "source": [
        "import xgboost as xgb\n",
        "from xgboost import XGBRegressor\n",
        "from sklearn.metrics import r2_score\n",
        "params = {\n",
        "            'max_depth': 1,\n",
        "            'learning_rate': 0.1,\n",
        "            'n_estimators':100  }\n",
        "xgb_clf = XGBRegressor(**params)\n",
        "xgb_clf.fit(X_train_minmax, y_train)\n",
        "print(\"RMSE\", mean_squared_error(y_test, gbm.predict(X_test_minmax))/np.average(y_test))\n",
        "preds = xgb_clf.predict(X_test_minmax)\n",
        "print(preds)\n",
        "r2 = r2_score(y_test, preds)\n",
        "print(\"R-squared:\", r2)"
      ]
    },
    {
      "cell_type": "code",
      "execution_count": 41,
      "metadata": {
        "colab": {
          "base_uri": "https://localhost:8080/"
        },
        "id": "5zGDyIMjQXfW",
        "outputId": "a4c02c78-ab49-4a0d-b5e4-f02f116aabf0"
      },
      "outputs": [
        {
          "output_type": "stream",
          "name": "stdout",
          "text": [
            "       InvoiceNo StockCode                          Description  Quantity  \\\n",
            "0         536365    85123A   WHITE HANGING HEART T-LIGHT HOLDER         6   \n",
            "1         536365     71053                  WHITE METAL LANTERN         6   \n",
            "2         536365    84406B       CREAM CUPID HEARTS COAT HANGER         8   \n",
            "3         536365    84029G  KNITTED UNION FLAG HOT WATER BOTTLE         6   \n",
            "4         536365    84029E       RED WOOLLY HOTTIE WHITE HEART.         6   \n",
            "...          ...       ...                                  ...       ...   \n",
            "541904    581587     22613          PACK OF 20 SPACEBOY NAPKINS        12   \n",
            "541905    581587     22899         CHILDREN'S APRON DOLLY GIRL          6   \n",
            "541906    581587     23254        CHILDRENS CUTLERY DOLLY GIRL          4   \n",
            "541907    581587     23255      CHILDRENS CUTLERY CIRCUS PARADE         4   \n",
            "541908    581587     22138        BAKING SET 9 PIECE RETROSPOT          3   \n",
            "\n",
            "            InvoiceDate  UnitPrice CustomerID         Country  IsCancelled  \n",
            "0        12/1/2010 8:26       2.55      17850  United Kingdom        False  \n",
            "1        12/1/2010 8:26       3.39      17850  United Kingdom        False  \n",
            "2        12/1/2010 8:26       2.75      17850  United Kingdom        False  \n",
            "3        12/1/2010 8:26       3.39      17850  United Kingdom        False  \n",
            "4        12/1/2010 8:26       3.39      17850  United Kingdom        False  \n",
            "...                 ...        ...        ...             ...          ...  \n",
            "541904  12/9/2011 12:50       0.85      12680          France        False  \n",
            "541905  12/9/2011 12:50       2.10      12680          France        False  \n",
            "541906  12/9/2011 12:50       4.15      12680          France        False  \n",
            "541907  12/9/2011 12:50       4.15      12680          France        False  \n",
            "541908  12/9/2011 12:50       4.95      12680          France        False  \n",
            "\n",
            "[397924 rows x 9 columns]\n"
          ]
        }
      ],
      "source": [
        "print(main_df_filtered)"
      ]
    },
    {
      "cell_type": "code",
      "execution_count": 42,
      "metadata": {
        "colab": {
          "base_uri": "https://localhost:8080/"
        },
        "id": "O57JiVxlRF_T",
        "outputId": "35d7fa4f-743f-46ef-db18-fbdd6928dead"
      },
      "outputs": [
        {
          "output_type": "stream",
          "name": "stdout",
          "text": [
            "0.01      1.0\n",
            "0.25      2.0\n",
            "0.50      6.0\n",
            "0.75     12.0\n",
            "0.99    144.0\n",
            "Name: Quantity, dtype: float64\n"
          ]
        }
      ],
      "source": [
        "print(main_df['Quantity'].quantile([0.01, 0.25, 0.5, 0.75, 0.99]))\n",
        "filtered_df = main_df[(main_df['Quantity'] > 0) & (main_df['Quantity'] < 50)]"
      ]
    },
    {
      "cell_type": "code",
      "execution_count": 43,
      "metadata": {
        "colab": {
          "base_uri": "https://localhost:8080/"
        },
        "id": "JMop5NGccjKi",
        "outputId": "f88b109d-e067-4450-c8dd-fc449ffb2d98"
      },
      "outputs": [
        {
          "output_type": "stream",
          "name": "stdout",
          "text": [
            "[4 4 2 3]\n",
            "[4, 4, 2, 3]\n"
          ]
        }
      ],
      "source": [
        "import numpy as np\n",
        "import pandas as pd\n",
        "arr1 = np.array([4, 4, 2, 3])\n",
        "new_arr1 = [x for x in arr1]\n",
        "new_arr2 = [x for x in arr1]\n",
        "dff = pd.DataFrame({'arr1':new_arr1, 'arr2':new_arr2})\n",
        "dff.head()\n",
        "print(arr1)\n",
        "print(new_arr1)"
      ]
    },
    {
      "cell_type": "code",
      "execution_count": 44,
      "metadata": {
        "colab": {
          "base_uri": "https://localhost:8080/"
        },
        "id": "dYNRxXXoj2SM",
        "outputId": "c702beb7-334d-4cdf-8990-dbabdc32eca0"
      },
      "outputs": [
        {
          "output_type": "stream",
          "name": "stdout",
          "text": [
            "[2.2441048852830856, 65.32349528009978, 6.846457565199254, 37.89998838469207, 16.629688445626048, 6.491826325690685, 11.485894190784125, 9.234379201086595, 7.312841096799355, 5.111882156722071, 11.702793442049044, 8.221780099848313, 14.06720952087564, 20.99332230041797, 7.292769997245373, 9.822358574373714, 4.284350735910942, 12.38567549365941, 49.0518956185933, 1.9942088404269827, 4.2591533923716405, 3.695155111428469, 5.350398901217021, 6.926098501175732, 2.4313842492544477, 12.303520115869668, 5.727196989328685, 7.937844143957801, 1.146960417497837, 2.4009334433593983, 12.00978368791011, 11.704959011345899, 20.127751393266212, 19.510039442901842, 50.744753548264455, 11.368197266766797, 14.627880292927925, 13.45510255423905, 2.3130465807465366, 11.779033555778447, 8.193083476011346, 3.5787241259544675, 4.881907699172174, 9.58816987078342, 4.551386856603172, 9.190314327491086, 13.428606294294848, 6.227572409586719, 5.34896155532558, 9.241828859237268, 5.442937498605618, 5.543748897222519, 7.75362954243202, 4.088058999717271, 11.235938918518048, 10.251634401346385, 17.303748726041917, 14.745060427954963, 7.0230439431287905, 5.827677189075408, 9.445219673377297, 9.770147777331708, 8.842133734387465, 5.31416635643795, 14.891266992620794, 7.264665590381943, 5.2527355663465105, 5.668678150021103, 12.449307292689, 7.763557599258788, 9.207719361216315, 14.67811527446078, 1.3986967179691852, 12.16126024973207, 4.036986970804374, 8.752489611068984, 5.4347091776678385, 4.573421711931077, 9.07146929291586, 2.890206627387225, 8.335368663938915, 1.301005559237679, 13.664089435897845, 13.069322182219103, 7.61767304459905, 39.45098701509093, 5.668678150021103, 6.784053816084493, 4.0421362408555925, 13.874986133949353, 2.4525025200390016, 9.080010914038674, 6.843158702904101, 17.904060363725833, 210.98963909361126, 1.9888127817646455, 9.107041214335503, 9.14329651897293, 10.23677322552355, 13.894093572044692, 8.367427663936938, 8.59724865678715, 4.1089902545499255, 2.34318844540184, 3.2312530174326115, 15.32540719015353, 15.132703926769718, 3.76805583309875, 7.2383670514858, 4.6613469982689, 10.73963539486894, 3.834452629789146, 14.320646749478696, 2.576771926084981, 3.7522699210343973, 9.811059913205426, 10.87948917477915, 9.587144494093582, 10.806127420013153, 23.016528414996046, 12.917833820718021, 2.7970348168663146, 7.824282308628724, 8.868063718309768, 9.147361194776675, 4.130504754422284, 8.047686681719677, 3.6320946015480593, 5.1438450902733335, 4.167463397711615, 8.531847817094052, 2.982505957707566, 17.200021338832144, 4.564220920668614, 7.376921196911369, 6.420206762334758, 12.60376204729504, 3.4093971194488044, 10.492426268150952, 1.200422077640058, 9.442598963681107, 10.537075351583661, 8.814833713464918, 9.351416413588142, 9.023346091076187, 8.69252207098429, 5.347340670534569, 3.5386843585616465, 12.984098575335194, 11.036498426052956, 22.33302458183248, 6.182658189670742, 5.491028094734741, 4.461250310997513, 4.337470124643177, 18.00482632617615, 9.302281705274178, 4.782677550541626, 5.232356050623512, 29.844694898243123, 2.4375433746784894, 9.02196539738641, 15.594345152872597, 1.9290452742706743, 11.76634448557139, 5.128781962375663, 11.238872779880914, 7.480244877341772, 10.453394340799441, 3.3730467102823973, 44.97088575632597, 13.06548367118793, 7.305669612753998, 148.2206705127659, 5.673838028353458, 26.402627956854822, 30.28671947554876, 9.165776637888921, 14.70031260960995, 192.3562627411292, 11.578591366129624, 7.490733684136874, 12.633441065128979, 2.0122688636046147, 7.4802999614467724, 33.04351477707254, 7.1882659840395675, 12.420258572754573, 36.70659000937796, 5.279696154232003, 14.429301887044126, 9.438453382892837, 4.851369382224337, 4.938236283455554, 6.304610248286155, 11.303538088522709, 10.600731923855701, 5.6639779774755645, 33.216761090907376, 10.846887957284961, 26.681514886463287, 8.984254290850318, 3.62747979538606, 6.1116620475119, 6.121226338390033, 7.620985272455491, 8.925289895989158, 4.634767345820163, 15.388812000442705, 9.728586703770342, 7.960802804447382, 31.08200365540111, 2.6703424842133554, 7.236338056605832, 2.2263449273569162, 17.075092186568966, 16.996949525226597, 3.7593378592847135, 9.518803006264786, 21.021731656996344, 18.632468106790565, 13.365428527308184, 7.8270833176508585, 8.616844399372592, 13.049960462451548, 14.901664909090822, 7.039985507993103, 9.802648195125034, 4.56121028970454, 67.9651056608196, 11.229033472400749, 167.09565969616153, 20.30576779339434, 12.71877871715393, 7.271697791314186, 244.67495153822506, 6.210529541446521, 6.594726719531666, 6.511002306750758, 5.324435511342441, 3.0963699405733713, 92.66151648351648, 3.7130384252488726, 15.863242074556995, 4.201154021993323, 3.8009477173967876, 2.91749018844019, 9.48562812792678, 14.326079588495784, 14.135929395434502, 6.143321677844509, 5.349604139499673, 3.1726049356932835, 4.6111581489191265, 10.492626626269182, 13.040351820914799, 7.674278050491876, 7.671354243445087, 3.688260029779213, 22.139087779092346, 4.44535915560238, 5.466372951197331, 5.700701627831114, 10.642878265064303, 16.426467017070674, 7.1760303517408115, 22.19247745524196, 10.410384884772633, 13.82262529294654, 2.3064925640686975, 11.367111677130342, 12.766979783135858, 16.12378608288823, 2.368900922977806, 19.8927388090114, 6.325149797415772, 21.03513907909653, 6.962645473692991, 5.721938600421781, 5.162215527411314, 8.489934779206653, 8.780654764658435, 2.0252308651968662, 5.196542571398371, 14.492917585758596, 2.8614483087562785, 7.735305410941152, 5.151482399450622, 94.1171229893776, 8.264144530534226, 8.240864114609453, 8.458007132865488, 4.41211760413851, 4.36198864006307, 8.843124837335358, 22.391477339581126, 13.856556946438598, 59.294737394233465, 16.216757467927515, 4.06153240953083, 13.27953888137356, 19.930037180275338, 6.083441813176349, 4.7191015743578095, 17.08962244623406, 7.037772911651578, 7.331324416797956, 9.882910089364554, 7.093573871257298, 12.759278547847034, 2.2179335074473934, 20.89548878684188, 3.3831873650521738, 8.138118343380068, 7.522015296477281, 5.107420606815336, 8.89011923429629, 13.098536223916751, 7.339294794014787, 13.943218224694721, 2.2328840826054366, 10.006562462786873, 2.0212067227125474, 6.854049077596208, 5.760982364646626, 5.100009511097273, 2.0646201734565546, 17.44652428403655, 41.9883529184093, 4.185798288867682, 5.568064753194944, 6.2406021689250215, 15.464352744311531, 30.043013610214626, 31.23958962684316, 5.39939333364697, 5.413977867112652, 2.4582593198979525, 14.534380153679772, 5.67164092360832, 8.782651286254312, 2.551306808413399, 5.61243175721408, 22.15507803129708, 5.526007242685243, 2.938360662946134, 4.885609078292941, 14.53150686091607, 8.219373832934563, 3.795558024743824, 13.756269101563538, 5.81512682002763, 7.821046259499365, 5.1415711503531725, 13.28875072728603, 5.300900948355746, 3.8306779681451895, 5.9066034235448095, 10.800293163338859, 5.949741246759647, 4.449833586833057, 4.8504204777470985, 23.8563320044147, 2.7818732696017934, 3.8014627034363606, 8.823268973544273, 4.91515503296889, 13.186841162135513, 8.16696244720308, 18.51908910446382, 6.0025390804071925, 2.6802060956224323, 126.81948977596477, 7.649290338692494, 8.543098031840971, 9.51538511799487, 4.63655821471039, 22.08355002999701, 9.684534164712653, 6.991194083857622, 6.2725090632821425, 4.810415483212975, 21.319191496858153, 26.004188136422325, 5.1019246121584025, 5.150114976094693, 9.428038199257635, 10.442800850049284, 6.126931393705615, 4.9121786211817, 3.601451405197321, 6.100765083363378, 13.890636907915765, 13.191146437603905, 5.477119488685913, 22.539942403405192, 4.412720261641353, 6.056512536922792, 9.550246270046186, 10.7166525523825, 4.154529650273869, 7.324478227062189, 6.666454553538433, 20.389913103725434, 11.238872779880914, 13.733898870953297, 12.752817307848076, 31.87743719547253, 7.326784978957238, 25.18189085318456, 6.229334453113108, 5.050581935000122, 4.221782919685904, 6.495377464663332, 1.8023055472569527, 9.76240326762536, 13.948959296107068, 4.87447828518677, 18.05960867444713, 11.780806823060464, 5.252050769019738, 2.2329652148449854, 3.698549119762058, 5.483087048855431, 14.060523882523135, 2.0629109705066297, 5.056888358445099, 5.34588148445184, 4.526126782346645, 10.790391467752945, 18.120719133822902, 8.928431736842183, 3.771513843631817, 1.5758135141480196, 6.352722076179646, 13.41918037573088, 12.227451849758285, 7.350014132730552, 2.5167911386868425, 2.2677220849343884, 6.962816422785288, 5.535741030019494, 4.165957149372898, 5.078775157798714, 5.1203314912505835, 5.941746572200696, 2.4070312829972114, 8.018789597597888, 6.289277126930144, 11.778194543043604, 20.233601206683105, 2.2907673589450983, 2.408448208838312, 13.55896048137633, 5.6540462102334486, 2.1636554869646343, 23.336864423387667, 13.401271580702112, 21.170829495043535, 11.255763561550113, 72.3966342388262, 2.4605322318408174, 21.710340195979096, 22.75139743194872, 7.405930186142112, 72.88465841171292, 19.274466567293324, 11.640476473777005, 13.133960867041084, 11.707435938170816, 5.1363089085594815, 60.634714233969646, 10.59444681481221, 9.381541011530896, 3.5649046969671265, 8.561249900790393, 3.3445218929677134, 24.150849596213288, 1.3143174052817892, 5.264187416064452, 8.176259316932732, 5.172516760511815, 9.251402239538912, 4.482792128042445, 7.454446543090796, 16.14881630958537, 26.438052460253175, 5.329186501904255, 7.365558755761802, 12.542395073300632, 8.682874444937468, 2.0048709054460225, 4.426533189886979, 18.978093465850876, 14.73543132092782, 3.1773504331770375, 13.298763262397097, 5.250452342492248, 7.133757513002224, 5.655086612916913, 6.953181631829847, 9.858333903388234, 9.721111937843329, 4.770338015214516, 7.7474420340062276, 10.280158777712053, 10.773292586202068, 4.755496824424342, 8.288559226967413, 12.368527638071436, 13.256094502398076, 4.02553991075669, 6.9568827358327905, 13.887396269853587, 14.466860563051503, 4.229708953172503, 485.04400000000004, 9.459300431457063, 15.804703935773567, 9.539624832364076, 5.261454512244653, 10.329836987420508, 14.837787123107576, 8.579471358782206, 8.350469262125763, 9.604226829984881, 8.056161445627687, 9.184612708749462, 5.118508623976799, 17.97731289632854, 7.2858321161739505, 15.106101569161298, 17.481525228973357, 10.276779690587398, 4.531264955631926, 18.13514274497517, 9.03771962284718, 7.360090511643734, 3.0606375783743722, 156.91634565434563, 27.41045184940425, 6.958434453978539, 4.175824251833773, 23.598123399392225, 12.71649535147326, 5.430375644192367, 4.875798960321264, 27.216316469289946, 9.195492733198646, 4.1027193661388734, 5.028263754208314, 8.5162183400296, 1.697129826107576, 53.31383375134851, 8.602136015255505, 4.03653249114905, 10.516763252253382, 13.88177521013914, 12.07465862047743, 8.254033069142235, 9.776666186519119, 12.50625027729816, 2.611528991921787, 6.051696075162358, 6.371186352725348, 3.953261829256015, 5.9337413307606255, 8.839190321647612, 2.789723684807099, 10.155884835511138, 5.848551393500566, 27.357802667151905, 4.42543748178245, 1.990630392456068, 2.4083422653632875, 8.862964516922695, 5.429091147998849, 5.287591769847777, 13.499219158557485, 19.354148460771047, 18.819376218594062, 10.517893752982584, 18.110023960392727, 3.492859572668463, 10.533045723293828, 29.466818338398692, 2.7569455247877572, 5.36302062722256, 2.5145982836749137, 3.3693032164524506, 7.707181839141418, 27.892089423002012, 40.327291778122316, 9.612970745637318, 14.74325537352086, 6.991204337137359, 7.135168808077265, 14.283386442810194, 13.646638791606826, 11.088580969803965, 5.179687934801682, 2.6327218446631377, 8.568010226585825, 101.5943596491228, 10.607823001681922, 3.040687224569648, 28.172495567114037, 17.47146146611847, 5.548751295134002, 6.234798775094506, 5.426619985402769, 8.515771746295796, 9.119603936918255, 6.220142153888529, 16.087754377141362, 9.718595979854387, 4.808252738995468, 9.92504363116937, 7.68254633906791, 8.068212160205851, 2.9173892524595937, 3.1510926111065225, 4.917951644311332, 3.2752048757351755, 17.537214916933063, 12.951879121454722, 5.208243290708328, 4.570352644168105, 7.500848636950642, 3.3864391452424627, 6.808582684872047, 9.335721516463083, 4.389036957990555, 13.560741516258163, 2.2747097292391616, 9.663380310665508, 12.633479917570629, 7.304465851827818, 6.817954221850411, 6.00495526730324, 13.865961585276507, 14.223221819072988, 3.2531329443842134, 6.176561575507396, 10.376865581174307, 3.640514413805306, 47.12129830524963, 10.57390716667391, 4.161441646820264, 6.179796206669798, 11.721394199789051, 8.934854989426492, 4.0621641248957365, 5.429418794410383, 9.632073235387514, 3.258602009740703, 11.552549184952152, 3.623659604874123, 4.894043327230511, 9.053490506970359, 5.721798869793087, 5.294448635941409, 8.828939985336302, 6.488813626833587, 23.411381513819705, 3.5720035666086374, 12.293939634447263, 3.548148666835334, 10.283283753416981, 10.76680352378197, 8.893691589355772, 16.20423711560008, 15.40670170532228, 37.62976111163201, 384.32153846153847, 12.340856791446456, 8.346591087198918, 4.017082310103466, 9.805262649108245, 9.312169960107315, 6.067690139243122, 22.204542115994727, 12.055013657350566, 4.8311658458695845, 5.140457929736774, 2.1796159961073314, 3.2406650200416673, 2.8423576400082267, 8.035042101075511, 2.0840587652613123, 5.229901169836102, 8.247636593959811, 11.597472941639559, 13.067368532675234, 2.2125355010119367, 5.799926925006568, 8.19956882783531, 2.851717161986374, 107.31617956884564, 9.890584748270424, 7.414422511841691, 20.005894628911044, 1.7131848922929174, 6.666796124316068, 3.764908895801166, 8.705742093211336, 9.237345643572782, 4.334524824460342, 17.963313304257856, 3.9459981961362427, 9.453214428539956, 4.683248117322074, 8.468056434451018, 6.966059617803539, 4.93639027285486, 8.914565263100886, 10.066664362275148, 8.881171565811918, 7.629956498533943, 2.147329874294248, 13.473547409379625, 5.767548588556516, 7.404236275657537, 7.976924717957243, 10.527608401013019, 5.184863422750117, 4.175824251833773, 8.86716069289369, 12.742400400982751, 6.4075254124688605, 4.835788961399471, 11.777177731708338, 2.46051005702758, 13.176917599110773, 8.036890949059838, 49.82606757658473, 10.230013986386583, 7.84083190367356, 13.87019977363761, 9.158307069542904, 64.08226751753273, 6.429092556393503, 5.533788691849362, 13.09614961101583, 8.901920188547368, 3.8411338510584403, 6.185470457632221, 9.2518691928394, 8.938813307496359, 7.976762430121025, 20.641796349856175, 11.301961539056615, 5.632427624311305, 3.0352844472591274, 2.2840604571392396, 3.6583529462443813, 4.75784929864446, 13.83605470623632, 10.947070533263716, 5.664575824773157, 87.09744970560945, 10.926247907014819, 15.967605091008645, 11.565369855752634, 3.8110101262074867, 17.17367371094549, 12.522857553814886, 17.509116665649064, 11.726857046813928, 10.872971417172025, 17.105088276518906, 9.331247115280428, 6.993693907618048, 5.150604695788859, 4.861497416910751, 12.102422470797244, 3.314895639327659, 4.82566979696744, 3.9037884290899907, 15.435248592631915, 6.572564891723599, 2.3813834182454396, 25.780070442253326, 1.4671690692768937, 8.824958756795716, 21.220451275414515, 10.117930877061843, 1.7192257869101502, 17.48913318929924, 4.804152366424927, 12.493603114308748, 5.244398110081654, 3.0957412349199376, 22.066121681326887, 11.163567503286336, 19.152143613075477, 9.760351654244886, 11.769629994784532, 5.696456844878136, 13.659185158209157, 8.746277362667463, 15.139508734236024, 3.386165838317581, 10.73876619456479, 4.955881869267018, 2.949495684403014, 15.21603779281011, 7.257436857029286, 7.766599371923037, 14.403886694725443, 2.1430281622748963, 1.243678848622607, 19.680005210563717, 14.53150686091607, 4.78704915812704, 15.074314449504318, 5.627291341564176, 4.955598450393253, 15.320224595745005, 5.21415014865164, 14.142381506222996, 22.747563647961805, 8.188138996964632, 5.684269928081792, 9.675995693829089, 31.50291992676517, 2.9759220995858247, 3.7441053677605636, 27.575048737886632, 2.7248841888503192, 13.73569759053861, 10.77336666422351, 65.08570722495895, 2.662513259875427, 6.572922924500741, 8.26791999335422, 6.44068323163765, 8.319591087198917, 10.362893393109612, 15.418239307541016, 7.6906280334388875, 6.09731280965516, 5.021569076720451, 4.7780746951839115, 11.21122359162031, 6.181315822084814, 2.1312602875499564, 9.734444811696337, 6.545838343082842, 5.094242290114228, 9.883631646671098, 17.587174043664934, 7.9739471061756255, 16.52122493899484, 10.485735566249666, 5.845061721349135, 6.04166029351574, 5.097818876203524, 9.332410409927343, 11.985271916932684, 6.629854518773964, 5.749832646088526, 5.112890208635853, 13.14774294464366, 3.2928393128513322, 5.615359814739673, 2.54453452188276, 7.807439008279395, 28.160476894463486, 15.020226298266786, 5.452844649705758, 3.518281123460091, 11.468065512717112, 8.194113539425693, 19.051640024179246, 10.660529664108262, 2.9495125997732576, 7.189869191713806, 10.639236820414556, 12.556865328717208, 4.545482135359798, 6.216300104009914, 14.330958776346046, 4.984484955878434, 301.65818181818184, 3.1189650611969117, 3.635287311829668, 5.460224791988183, 60.003325897687965, 2.0530099252600946, 13.926746334534675, 3.919981066334651, 6.112166532750737, 8.31679698138158, 7.043637931722969, 26.354343579675078, 1.86082316544962, 24.835387502065075, 26.85957000659947, 3.084121149919652, 2.145311504763601, 10.171141967943996, 254.6390625, 51.96631125631695, 4.827691091062994, 2.247217668521245, 12.101511043346441, 7.336336233358648, 2.089468178382928, 26.781671648406356, 5.497812704640771, 4.83141284512037, 3.8901535427904133, 2.7364882372704202, 10.34178762924902, 18.60088025740489, 1.705783646954612, 6.1202680888537735, 4.987030503170888, 3.7010501661361523, 2.643717464538124, 6.426966805586846, 5.239949279882283, 9.786655817736834, 15.228051164251204, 17.554825408419898, 13.29757429279643, 11.722572604286242, 2.960644322437553, 6.308088193851537, 17.123087282788013, 3.090095138298591, 18.773207279124634, 10.671487259710215, 2.8966847053490823, 6.01919564729182, 2.11853277391422, 5.29761653467364, 13.230627321232012, 12.905457242001376, 30.76719760330544, 6.289183830560072, 35.21927739858475, 2.294142973452668, 20.79019614576397, 11.57299284429626, 15.36737498184036, 7.109251496010278, 2.902156022535435, 6.013463884471975, 31.598267126761304, 5.399562057283289, 26.76255007655608, 1.856389894142253, 16.443138861282197, 7.9058004765123995, 11.65193614932639, 2.0366519280204196, 6.203014972913224, 7.1666256165062965, 7.62410232596107, 30.254493836792008, 14.036700148986542, 2.3495278684463305, 5.647061931858737, 8.725415197206317, 5.688778305469097, 10.384513768961549, 16.821906958426524, 13.12482337188009, 6.9740317635411575, 5.808783271174934, 2.8089250597897153, 5.4373603073241785, 6.325291819908757, 10.834076305305798, 4.385545227104281, 15.332635577131187, 75.25944492489899, 5.344617310806914, 20.327602968935782, 2.3085085625410713, 6.151465993957131, 14.578729561831812, 6.817385740222083, 7.456959691398188, 356.2590909090909, 17.803411336897582, 12.397225938267953, 9.047438249837656, 3.942535221119849, 11.819368123508825, 22.47174920837969, 3.3816308262003707, 4.036421499089013, 103.67119913850536, 2.089921094703272, 5.138679421055143, 5.867569376200626, 3.1264903811120295, 5.585163016886811, 11.549841432650974, 11.806705677780336, 50.84490272265667, 5.121593116821672, 15.863733002963862, 16.70289772546616, 11.227748990458661, 12.175539505013795, 70.26982114029944, 4.71764047434284, 15.090435620426222, 8.752333903061503, 22.58649438492083, 16.076862811066825, 18.892377240793234, 3.1029506744686857, 32.04, 12.834571334383885, 3.095717023610376, 2.3829809317065567, 16.025336849362162, 4.38690017116745, 14.880708510008315, 26.877639435121118, 13.59674701355236, 7.0666140832760584, 11.377669390578228, 7.778671197636248, 3.374804757055226, 5.932670401729643, 7.482317505502078, 7.937185156365599, 3.646499207466798, 4.175824251833773, 154.99856379080495, 32.80652555562707, 7.633311824527263, 9.10202118426936, 4.330073934275416, 6.617388866980352, 2.2606794775686954, 8.458071065515139, 10.380694076008329, 33.442456673369996, 8.660463524983484, 10.07751276169319, 3.1452774999498554, 6.104665723617753, 6.131977851256972, 5.336680609993241, 5.141923794195094, 10.37968394562266, 3.7860085324495425, 6.021479405171949, 96.19923076923074, 11.66501561761579, 12.500544615870977, 5.05874130973822, 13.277396841056346, 3.64209730040872, 22.667211578949846, 19.510039442901842, 6.588750358142087, 2.702183745494937, 20.16, 49.08154418685132, 10.684378351750274, 13.1082127317644, 106.31480118231852, 8.812755649711702, 6.680900509786875, 630.5764073007681, 6.30332778302453, 4.837045224553917, 34.36946122470609, 4.7608855097884035, 3.914444477569853, 3.389044582269859, 5.445478450778585, 11.989376962367766, 6.702004137744797, 4.827842439849907, 4.320296754062213, 9.781875439805722, 2.871100821974011, 3.3248989306395065, 5.826416306929343, 9.236309550241533, 12.026547894600682, 8.288685857729934, 20.975720798888627, 4.975115393910409, 2.539131249812137, 4.236238133686138, 48.889600810335416, 4.040505282496685, 13.38499652365798, 1.2522451440625109, 8.875436427046463, 8.09027890800021, 16.426946575395636, 7.936427024404362, 7.23346168306685, 17.967745904720942, 2.687832271956871, 4.299097189927869, 27.951087471394615, 65.65503299527492, 34.89725191239225, 5.897101576308447, 9.088148962452175, 8.226598639185335, 11.082855125944295, 14.677212318042196, 5.38564937459201, 5.159737471359149, 9.489971292999554, 12.059674595815277, 42.74603898151152, 58.80093101529785, 16.081091240386243, 8.57204437569012, 16.596947171361027, 2.4993793709585574, 94.92373153912916, 4.32152945955965, 11.035239121671362, 15.526820678578304, 9.104824732507526, 7.739142093476116, 5.5931597017659485, 15.225527631425813, 13.388611318318445, 11.368740233193233, 9.447670975816012, 6.046545299549191, 4.688002479423402, 7.278697344298276, 3.7652502861253, 4.127657436442043, 10.859227171901125, 11.974805106083897, 2.5336170570666394, 7.616501080851024, 11.209133502430186, 5.502490825002832, 9.945854007447316, 10.836747276672659, 7.368083051901915, 5.436371329979408, 12.758440574854799, 14.824615661936305, 13.03181835030582, 5.531556138480753, 11.225402994529777, 5.79009844131405, 10.287227650372673, 4.382231118145174, 3.5496435148513887, 19.854884770454262, 15.836859563370735, 85.67682158542885, 35.214284175903096, 15.067787128433842, 4.186235696483394, 13.761935058935421, 16.327406164812285, 9.405787444579259, 3.6749775590158062, 5.635464285019963, 14.081711326988987, 15.323011912226368, 10.771888478155939, 7.091538574115309, 9.284400535579621, 224.07, 5.345558645952605, 30.48535280600645, 3.4697820491862053, 2.70975655616117, 19.449729478666658, 19.868819202511418, 3.111961036965841, 16.01761781213968, 3.893797424719732, 26.362428824299677, 8.565395065833746, 5.4224065400629105, 16.895568675209823, 5.246222419694022, 20.136376154658862, 7.62317891910942, 2.202771588801828, 12.846705097046629, 5.585595064021844, 2.990785429096536, 7.234129814039622, 4.327723493159467, 8.495097194016099, 5.5225222952514414, 3.45866100641911, 10.091710123548815, 5.345546494287865, 8.553929321266754, 26.691517873174124, 14.882829507187457, 11.086250466852954, 2.5564840702519116, 235.70166411238824, 8.472523067011508, 3.7593076411315978, 6.727274202047873, 7.516971422124003, 12.971173218240562, 2.8589972251622893, 2.3594396666735804, 17.787254269582817, 4.779248659759784, 9.53921566072019, 5.656000881803049, 13.50237499603244, 8.747114252519776, 2.378479701698167, 10.398785781843829, 9.84788637655219, 8.938706402997205, 11.235710290537812, 8.295071973412362, 5.329872616980829, 13.409557638354693, 3.8414486680148947, 13.913425602432026, 2.986341369082408, 5.065347083592543, 6.36268685721692, 12.29370028892286, 16.191120790390684, 9.189479498346614, 3.7397958175236403, 3.688908459362368, 20.231817403709353, 30.120633796075527, 11.44865331545035, 2.4744333983690203, 6.680931602723997, 2.2200267859582645, 16.392078173621524, 138.83600450084177, 6.104441610847948, 9.189843255717767, 12.82562035981068, 11.216669137485422, 5.167665255485133, 10.322840419239997, 10.181442599995435, 3.060410806090606, 37.8168423524012, 7.41420379963127, 29.623534986360706, 8.39553590552667, 12.902420583198582, 5.929431392673673, 4.8165491110343375, 10.726130116795488, 15.285133117260546, 6.472076629448238, 24.051681812651736, 18.833059962441308, 1.492276737497501, 2.595109481009309, 2.3728964830573425, 5.510948997679949, 6.8787942243021964, 13.58593334432262, 11.42335249331094, 11.036258986234088, 22.62772143925156, 3.16845950172633, 7.968702051875058, 182.4375385399037, 1.877134847773942, 8.175934266473707, 10.366313498567408, 5.113098523005114, 13.071903545543448, 1.8538587410862897, 3.298922092682438, 9.340232452204326, 20.244219495067625, 15.936904049387312, 7.765454562142057, 8.510211957326767, 14.380866858493674, 8.194123351238622, 8.710770844514023, 4.390620247998371, 12.871754159030656, 32.36753899860877, 2.087604784717342, 11.210016550730911, 9.66725740644101, 13.535151392719749, 6.281509239427858, 4.764087424222941, 10.703673572021978, 8.182522158195239, 10.01359189899006, 6.9705543416122415, 14.815805876692197, 21.33469038207852, 8.489933173710677, 45.130858388124295, 7.3558826625779, 5.195428848039246, 3.5053411867153916, 8.52055651602839, 6.290759920564223, 7.9058004765123995, 1.9151553426605707, 5.894763115553231, 7.350014132730552, 8.99754142601633, 6.7859608755553396, 5.600719058261046, 52.51279530345498, 10.431406474447222, 9.08180482362772, 3.364865382164232, 2.9535544432137693, 28.190503800426107, 12.297977794697529, 2.205369627474404, 28.73864039134128, 4.67341035568759, 14.72700812150807, 6.285105911835293, 5.734045489257012, 8.914022256251743, 16.304006902261634, 8.987683428837034, 15.701484398393939, 6.542303489810747, 23.250047164766706, 3.8447786540927056, 22.164142237561638, 3.032818266311411, 16.957942119829173, 97.19624055829229, 369.8565163617209, 11.420003211668993, 3.971328357961008, 8.021734526493432, 32.69514880043286, 2.554731817857144, 22.34562877415465, 7.7918601150502464, 7.1730546073002435, 9.289046198299035, 31.673977252387257, 2.886185480854433, 4.3474035820908, 13.325045326304034, 6.725924258703323, 18.160875178909492, 13.41712997486009, 7.667019546857791, 5.707860177069442, 26.612672024670722, 8.29078638814016, 17.61996188688139, 6.58967018746474, 49.467164878857936, 14.439675677580196, 10.60074439803574, 1.702961159257416, 3.7351883000683346, 5.093797779519212, 9.071008477044641, 88.40083333333332, 6.44559895262911, 12.547324700055842, 10.883120964533168, 6.2592221984074445, 5.448980566761182, 26.45652016593486, 5.1338100685209405, 2.673481442501333, 2.811011568732631, 13.261076400589564, 5.549500273573048, 9.728592604403115, 30.912943667994437, 2.81040376391683, 7.520979095243458, 17.024367491176914, 9.695326228886133, 14.959894381419474, 6.194275074745829, 4.357632978655358, 19.390204816733185, 15.056037837154799, 4.3929180563412284, 2.695896105606865, 11.751333402982294, 2.870331026670387, 9.925810753918714, 8.907993736832841, 6.374288494375218, 14.44879424328719, 6.485980690568796, 2.8748000784834487, 4.989316927070856, 15.142816430167628, 21.799378956360815, 15.936904049387312, 10.191627509354271, 7.322989445713588, 5.9321040312730835, 26.641622093321942, 61.07365691405916, 170.60241462677547, 23.836327219813967, 3.737192003724035, 6.286691628681964, 2.2370435140853893, 3.764908895801166, 53.79643735855982, 14.31363068103843, 3.4362432408804238, 48.00388181818182, 4.904825624339647, 9.426505163116394, 9.217580801997276, 2.684259514664325, 8.083791589522733, 4.63655821471039, 8.761898002692876, 12.997115706079681, 8.829553789069948, 2.303406434254237, 16.852176545309813, 3.8533275595615737, 11.5703889378109, 13.270328921673753, 8.703679075382961, 14.68478390921434, 12.393253573161443, 5.982473566959714, 16.873241624233845, 4.901854446496186, 113.4446871088861, 8.226598639185335, 4.731618452109076, 10.670643061034712, 14.773697835087889, 10.027122117134713, 8.829553789069948, 4.782677550541626, 8.905837025558066, 2.620432962799658, 3.7122900680137785, 3.7130384252488726, 3.8082324702326065, 11.821448317555632, 4.371346881234762, 33.59912650735835, 11.409526557077378, 15.074314449504318, 11.303423644738718, 3.9095461037445123, 10.006072263364299, 13.711807839778798, 11.063848378313065, 13.153586837343418, 2.284144246186159, 3.4023115151170003, 9.151050323413896, 2.115946532077609, 9.694242108331208, 2.9570540550635833, 7.804240809289232, 72.57205426296211, 7.603766047346694, 16.07421804566138, 15.188773713118021, 12.065900989434626, 10.03188036125564, 8.943282853850738, 3.6976844734842693, 3.9426835961129707, 11.634998464616764, 25.859956723519044, 12.112733894762794, 8.35874530133892, 3.7178460877636272, 13.267631629194677, 9.625344579404139, 13.098536223916751, 1.3070096729863425, 31.308740920111845, 1.455198460688334, 3.8462281972531382, 5.541935543282787, 10.13955810191218, 4.862881813855086, 7.436462515512708, 2.6685448793614883, 6.82581967534774, 32.167126026842745, 3.8422048724523803, 6.945130931305121, 9.358071829033605, 10.212863182802275, 2.1374889608553547, 4.325222983155737, 4.701363170394926, 2.9590357180328564, 23.032349505795487, 7.341010268010641, 24.416868408384115, 7.4400203072368125, 7.654356751165601, 4.278330431760413, 11.055957126908732, 5.308775347654139, 10.123532866006663, 3.419531435191242, 5.728925912239155, 14.977831815934524, 42.94382733895541, 12.697624202064818, 2.8110774117442854, 1.8938922112319247, 3.148175888270901, 9.064043492205693, 1.8383186925423767, 9.963888571963532, 12.71441607547157, 14.694299921593768, 3.8336385723896744, 8.053349062781505, 8.37631284456615, 7.582160510357032, 14.664365635339104, 8.47464046684209, 15.152581069724954, 5.437538420671773, 4.367107342657335, 8.93671585131311, 9.301293313828765, 4.357632978655358, 2.4544043547151158, 11.952366633095119, 2.187545613723362, 51.851044849608826, 10.573088443790605, 21.51977979125104, 7.060667964873189, 11.38921695020489, 10.567572023536735, 13.120033423327932, 23.47069994184847, 13.756269101563538, 2.351130791701191, 8.285878148591927, 3.229657203235981, 7.659941464015723, 7.0023162972272175, 12.123780895612411, 11.619019335325385, 7.588990667181793, 5.806358697265756, 5.1669367485829945, 7.568230936483355, 4.948063202547405, 8.752338514670623, 13.673802875514587, 4.148103173272243, 10.645132471895256, 11.833796364380156, 5.232993145227309, 8.786941228243307, 5.946836747289507, 3.651820968682328, 6.534443045905106, 13.192164045675934, 5.00470206984813, 9.563139574637345, 4.872669979105871, 5.799773000572434, 2.2080362582358446, 5.056888358445099, 5.666368302043175, 4.156833699433836, 6.229309719276852, 17.951733571611022, 50.65038799775016, 7.955006634232642, 5.138679421055143, 17.6084499462378, 8.581060916597915, 9.9021309375706, 4.309784988850275, 12.819197429242406, 11.743205404449059, 1.609687413396764, 6.811717875603973, 7.840881520720739, 9.792892145397687, 5.222693314353814, 4.0260321816873414, 6.63211142473542, 1.5977336230933636, 39.778134041471574, 6.0479078230916254, 6.231463328183963, 6.670012397080396, 21.52261678866385, 2.204986495660507, 1.1981998554178357, 16.42562757181121, 9.799980813861179, 8.834678841721454, 16.311918586654233, 6.0013523398229776, 7.789704039406273, 3.6746771144597807, 12.642311260412361, 9.641299288125897, 5.851684923104578, 4.863091752584508, 13.632165553209152, 11.412320944633539, 17.5068134937552, 8.359831045725686, 12.482260078223145, 3.86968433123804, 4.861461006609491, 2.8356540276500444, 4.180671304365009, 10.769997574658316, 5.8483566527476, 12.838677739586362, 2.081416647946967, 4.07624944544559, 6.7952272498833315, 7.383773546484698, 12.006549941066487, 13.139598686095356, 4.860105649868506, 5.534152065080693, 8.235044627931778, 27.50109823714018, 3.548910499238803, 3.862423396888072, 5.590584051465715, 4.830901180761285, 39.204559457256764, 46.91546334403634, 10.954319308652803, 8.804650454732462, 2.7024555514078528, 8.625981278614503, 25.550838394188034, 9.824745458400606, 6.77307572124029, 16.793670916917925, 8.764304323072977, 8.505292399247494, 17.828313497319428, 1.8769948027098946, 10.831423860335944, 13.549064598453155, 7.142526913584548, 10.943980503771602, 12.12960230378287, 3.1392361649926808, 4.501643056827973, 7.053587258857475, 5.028557400465272, 13.337286564409697, 3.1941998462034293, 6.625169098733226, 3.7184427386600714, 52.60144716144799, 6.017797950194469, 8.243000146248354, 10.063243390015367, 3.2174053995352008, 48.2673478858199, 4.966793240411727, 5.695365441373815, 6.128714874436043, 17.67410299387193, 13.004318562453403, 12.240704560870741, 26.07873770304316, 5.3910664858245045, 32.54133042391791, 4.111394141176408, 8.812438223816862, 12.174899613825929, 1.2751944221861617, 2.3401787302811408, 6.349958285561473, 11.933731149154669, 60.175065476190476, 8.500820755095448, 5.2890111885752376, 8.794540059363634, 10.624729276982851, 10.479297299743221, 4.266842073747319, 5.345538388363363, 15.163892540957058, 28.330254368060622, 5.051882278536447, 8.175685516880582, 2.918928548108193, 3.1731931686494512, 10.060949761320142, 44.60332840212837, 7.662088289426184, 6.72409911304412, 5.109068863982674, 4.955630825977749, 5.353243349943566, 8.56928098505266, 12.327264352102613, 4.765173095415568, 6.051545462910514, 15.178053300762876, 15.320224595745005, 14.280863840930497, 12.20311987010394, 4.9378953387993745, 9.174526206984535, 10.374758688896708, 7.389251633001427, 14.554882805933296, 7.636063623720516, 9.898052912707827, 48.995124469994025, 46.008718498631055, 11.299232611417954, 10.883618394905236, 6.912692847082363, 9.48520601649717, 3.0504713247685284, 2.856260278632848, 5.73858700498198, 4.72489640741548, 9.424925178616467, 12.190160883415484, 6.1239485589952105, 6.04060162550364, 5.6625257276778305, 4.030661350718476, 8.450149950250884, 2.909324592074592, 187.7912602040943, 3.1256396526090926, 4.224526923106787, 17.31800316877876, 10.754814224230113, 3.235386136041122, 18.395722832424372, 5.721353958120876, 15.347486825129822, 6.849964403068087, 14.737070364878946, 2.638887952371582, 6.203014972913224, 1.2334751748750394, 7.63418606748036, 1.8210369230283883, 9.951837503581118, 9.038114910672023, 13.623242077664516, 8.327931537225325, 15.03749965048919, 7.451519378827596, 10.000851091615084, 23.990323167652697, 9.90070509232638, 15.912673259184352, 9.211267967377784, 2.384611716423424, 8.503652535770076, 15.933167605370777, 15.372886431203137, 10.502731258422191, 6.371589579461164, 8.421940340406941, 2.9088824045248685, 21.0670434800376, 10.122834801677193, 14.228591812904515, 7.204439907070201, 7.055346509476092, 5.99219844791881, 76.3052229254571, 2.9634278340217497, 10.927454808762294, 3.3945307160290246, 9.09016597048277, 1.9775303185178035, 10.510103049653042, 28.777653663704303, 14.601876990962477, 8.625260793473137, 17.94598854032284, 8.533706267381692, 35.3233670557642, 2.1441532884028676, 9.11667191439576, 3.655752574088657, 8.994526322675124, 12.895595566675425, 27.050601037601396, 2.4900894653297727, 6.882423705337121, 6.10056371688012, 6.2443255083297995, 1.9336155123057943, 3.741952402029878, 2.3656475672248063, 9.729286847264701, 5.245121541220901, 6.264197252059295, 3.1710807971932606, 1.1232708378578231, 2.6278587021411615, 9.726645950236428, 10.74053768510101, 19.881254085131367, 10.281903550971032, 12.872465044365917, 7.1865094033105485, 10.676468774253884, 8.522019977066616, 13.10738733213136, 7.31643873827531, 8.453107138403642, 5.7874321188043965, 8.392195946643625, 7.994673723334564, 5.409390665206771, 104.33169770580298, 7.12558731873612, 11.741532006862682, 12.71629900332106, 23.94125455812675, 8.056929015661199, 1.6971236279505875, 2.3334078124008464, 4.334530291868582, 11.291174745656988, 5.266122206313594, 8.745529143130184, 8.810545753281508, 2.2286213014499543, 6.843212184541714, 6.556909637584002, 3.3105906911964365, 10.624729276982851, 9.304719893904071, 7.297470709168289, 5.762813825076619, 4.874692482067157, 8.19817096128265, 1.2678365955411994, 11.13336795073843, 13.92357082998216, 2.9823686716735063, 4.104812907509005, 17.563890859830643, 6.317393087462586, 13.242556010629931, 43.70689774985678, 11.498302082418517, 2.0966670419698503, 8.66257014838429, 6.101351943104641, 2.7960459887082227, 11.591568964002281, 17.272259461950934, 2.6893551685932784, 27.03839595673838, 2.7303426126861465, 4.064247010821255, 13.062853760234423, 10.754715249676119, 8.347342499858685, 29.819364538042272, 1.7356887360479805, 12.96037167688185, 4.902477999045621, 2.145311504763601, 16.909204180916685, 11.686079694246098, 9.591344709738529, 2.8366557485061286, 9.764572007897288, 7.800794306558739, 4.774987836346999, 5.451280446504603, 8.72749622752319, 19.823468360627082, 10.276697159303488, 7.748614944111214, 9.98440022637255, 15.44952377397082, 16.260952217819597, 28.246392653746074, 5.990455489126988, 10.905333502149386, 5.439836736439162, 26.421979908297267, 5.7305623488696495, 6.304512543822413, 13.16344460550383, 8.971228521581372, 18.831061100980552, 3.776806582776053, 2.1332530920150576, 7.039906495528746, 1.2081344640831768, 3.8351890503017696, 2.4302278722822774, 4.148083157409883, 8.346487626510463, 2.1686509793987927, 5.306812227102072, 10.1503107635057, 3.662580363179145, 3.0209371719707088, 4.1262300864886825, 3.9293812534197263, 4.917213574925404, 7.6980059265732255, 9.504033012704943, 8.050972540618982, 6.507404596233293, 17.551721103363455, 16.6035984420004, 5.67164092360832, 100.82897764081761, 4.020507644224926, 6.236474055180162, 12.202717508739635, 7.811928501506479, 5.963987658900326, 3.038745060627838, 8.388418775879966, 4.592624710598502, 5.477228088003062, 2.383612912221106, 15.60882105185044, 5.988430958148331, 14.919847733349451, 7.885186314954513, 9.322103049999306, 8.64829861743039, 37.59394409843658, 2.4284340295072, 33.847145996117085, 12.712618047447394, 21.692391233687857, 4.565130014867148, 7.735888838542118, 10.850005956142118, 9.9221876057262, 1.2053602336464997, 8.622815487148847, 5.617835676231055, 9.06272181113011, 7.566463332859728, 9.484447781416707, 7.350014132730552, 12.861455162941612, 5.810146017417341, 14.598495127046954, 16.321719268529073, 5.326403762982675, 35.74128861046925, 5.968293834914019, 18.773207279124634, 12.56242935158798, 7.754025542450804, 13.2201291877105, 7.180540432036707, 6.169036362799947, 2.0397260237171237, 3.3604593497998856, 14.707709038718908, 1.5268078201513862, 2.9142235350012955, 2.2425337765257924, 4.845889106291276, 3.0256386127535313, 5.0296036883953334, 16.487642610777154, 5.022260962430921, 9.866523365832217, 6.235603890225499, 12.171987719029477, 8.918789849255795, 37.38285465796482, 5.0605574112401, 14.402246408643984, 7.724962114182804, 9.039445764871916, 6.482218257109558, 1.872379593018594, 3.0049822996594253, 12.852663925401778, 2.0085448527240746, 5.206857026911109, 4.16073274768385, 20.745629000491775, 5.271021197992761, 111.55979471270557, 5.865812667744113, 2.149079725567176, 17.051339716035645, 3.7669189440876325, 8.925289895989158, 8.871773764703772, 3.6504085363291576, 11.746137589951841, 9.250587656320896, 5.078152751497145, 5.671626758067747, 57.431448985566846, 2.784268788636492, 2.3391718867811306, 2.5948450383204387, 13.209526986554016, 16.260952217819597, 3.6746211227695595, 2.1734294757090074, 7.940860320695801, 21.903863883280998, 5.6696310169132, 3.49026717011806, 2.0705770371213, 14.839251269486077, 14.242713986205333, 45.40307615348702, 9.439741761058484, 3.030776515560686, 9.59374170819152, 11.40790644696096, 5.0187463535725785, 9.247391192966633, 15.488415857816637, 6.7913398715212585, 101.81, 4.0909296905748835, 9.905936538279846, 8.808124679430646, 8.869660474556328, 14.052145130698229, 14.068075484484753, 9.35433591975954, 6.818095238095238, 8.446208073633816, 7.9256634455280315, 4.882532384781146, 9.87160852850309, 9.959432359282662, 11.36226166922529, 4.609224119115849, 4.694000716629482, 14.068533751760224, 9.444898414090725, 4.858959419248988, 2.2370435140853893, 3.6267350898038186, 66.47365128418613, 3.944351963779206, 8.196827602226817, 2.7154402629084298, 4.956039845736413, 2.228394462386133, 2.3974284551024665, 16.350931286438378, 13.33683780663653, 5.014691515854043, 2.775917868177875, 13.035835151032042, 8.549032112405405, 4.748568743180874, 8.652549075315303, 7.65969847000164, 9.59374170819152, 6.164879979133642, 11.160683638901546, 15.033599591944192, 4.802565595876025, 7.701270665669405, 12.133266380209054, 8.705378831114713, 2.640137152902984, 8.625511620466005, 5.809695142270917, 5.972572373072573, 4.965565613822707, 29.466818338398692, 16.66338137000075, 14.066683351683238, 10.366538576041172, 6.111334564919497, 2.441942368197867, 2.036144652138474, 4.7356432762183225, 10.389683051161294, 3.8192353559419256, 1.4270288995471956, 10.44154874883307, 8.125162347621925, 2.9922624348566025, 24.387321915682406, 47.95488485164498, 5.437611825642537, 7.936427024404362, 25.275708646703784, 5.733267723305056, 5.683573760193602, 14.810319915814295, 40.55604511008277, 4.9420386317038085, 19.459541558162336, 9.856331754872166, 12.609376880025552, 8.461350912803946, 7.008657081761609, 21.030435233856966, 22.16033173796466, 12.148340847353161, 7.594095904254702, 8.030850805278249, 20.3246824162963, 8.998625623835716, 2.5560745706258685, 10.082896691409065, 5.331451350802194, 13.301450266119552, 8.69875132450107, 17.143703584500035, 7.928826940386979, 2.73332513358822, 4.9274680553862105, 14.467289900672816, 3.2072055713542666, 8.521317466575946, 5.436215451788281, 6.052282977448981, 8.615178493729927, 9.693112757862611, 13.435146538719824, 4.8916083933676, 27.23753557951284, 26.222891996355987, 8.56571280473661, 5.775695034284475, 5.94248594941277, 8.196158433810947, 4.26036395305137, 5.420217663931977, 2.9646127339765638, 5.125592483085058, 5.460853864943989, 9.692264428669185, 14.616948865333605, 2.826437667084822, 3.861153280804319, 34.667082796326454, 14.232412543096222, 9.940468028295207, 6.210276109633488, 12.436836458489754, 6.300216064560393, 6.424757810940729, 7.751105016339733, 13.043353901945501, 24.74287138851935, 2.313528397326088, 73.70521494874511, 10.68298398215102, 15.334270519313332, 3.169260029481569, 10.810538394005794, 3.69142858355145, 4.096521491371582, 6.716330906760895, 6.485980690568796, 5.329533421992377, 39.996066506061226, 7.553197052324332, 10.519211110411211, 14.471561037058782, 6.384812624820763, 29.46882275882664, 8.172710130346955, 7.647734612637106, 11.21103949355654, 4.3993230267420005, 7.377420153979683, 14.274490136059983, 16.06625575113916, 2.9969008430368116, 13.164720395081055, 6.763078721991152, 13.189817143942864, 7.342214608527888, 1.6676452310059353, 8.937210953600912, 3.4796289562827245, 4.8485024183884144, 32.52002728619013, 12.700131387838073, 10.55488906602262, 8.074425665228095, 19.287476086687413, 9.390789116078123, 2.5352428484591987, 4.893532475729124, 7.489601265284778, 3.2195308659748134, 13.65235726379854, 6.9288715005293025, 2.843840784176424, 16.59854379544342, 6.670905318890892, 5.745348968000834, 3.9011854074663486, 27.147896729352954, 5.120001576205018, 10.709976516885094, 2.602602300231249, 13.924873398619695, 14.253618649815705, 2.761156865903802, 6.469234881312353, 21.91494537693685, 5.119443946140454, 9.06950743774279, 10.196500787559142, 2.0795787525218596, 9.46327408296056, 13.151064564770252, 6.324177679274182, 4.513842141518431, 3.731767756251218, 11.875390410651676, 5.877631696227769, 24.944791856606635, 9.56838312592738, 9.376848688194368, 4.534919347480686, 2.6388185570238005, 2.0472216930506404, 6.893131493263678, 3.784765626665469, 9.333673377994334, 12.18897933216668, 6.664070059707298, 21.75662858624436, 10.32862039828628, 3.305211116410734, 2.1765189033800643, 5.381917489015546, 5.148151398352038, 11.90581813315114, 5.913211333048412, 14.720360956953416, 19.97818348321273, 5.453932048120992, 7.643626462756855, 1.089383910760231, 8.96575660449185, 5.376731678130053, 22.87136776173055, 1.0844087319277962, 5.745601552630632, 4.857070333825445, 22.83408283205144, 4.955726479866348, 9.679942603396846, 27.336286210341726, 6.234240115718092, 2.492270687318977, 4.169681238011252, 5.066265144347003, 13.351004993770143, 3.223493743065321, 5.8951539249305, 13.81155914177064, 8.915502818383379, 3.2036644746617355, 9.473932125528027, 50.80434404400638, 2.9490535823641353, 10.175987476284428, 12.406581814084925, 2.4180605414117444, 5.255727689157395, 4.992223414061652, 3.915825048043027, 15.687532419768665, 5.679968000139478, 5.089910546517943, 41.48176546669877, 8.016687287929791, 5.30118892516828, 8.596327641509793, 10.680138688699918, 11.83759082686567, 2.762662512545244, 12.12424853003074, 3.8215955020717205, 5.05503914561656, 10.30094355577932, 10.623355952749836, 12.844274601631998, 5.61020247742469, 4.576112915202331, 6.459984177950421, 1.1968243474593174, 3.944424585312865, 25.806083879565566, 4.536574877644161, 10.440740259013348, 112.49944096282582, 10.34473089677487, 199.48380952380955, 5.699473640251291, 4.281329362717972, 2.8797200653663095, 3.1374805636636274, 9.950948836113273, 9.546833713509335, 4.858959419248988, 10.623799917543032, 3.076893557808032, 9.627830594229357, 7.638465639668404, 18.863656615636273, 4.471937871549836, 6.471462203975793, 7.200615667584556, 18.156152848993237, 15.608239385787638, 3.8015726923360456, 15.89913528886761, 8.27377655365646, 4.6297769333099215, 6.113966230648096, 7.874475121619104, 6.937776475140825, 7.6573770029861885, 2.8877405382124106, 2.6287168404624004, 15.941876238353764, 8.953405408496177, 22.773700860382036, 6.575789909292022, 35.29082450495641, 2.9340644745270708, 8.567202928240718, 4.3229358813210155, 2.9439224135860123, 4.193330372268143, 17.02643455946803, 4.95794466977541, 5.871463721132359, 10.291313775960184, 20.038411136521464, 9.897903502285454, 2.964191537223544, 12.7004365290099, 27.50316516266171, 4.25346948974746, 5.1181926398859865, 5.941367525037423, 12.169481544852669, 7.419495572187487, 5.761802199206597, 2.312015371994689, 1.759586486979439, 8.65269024802077, 11.773847161453041, 2.1199679473152817, 11.740539894101186, 6.417480130375685, 9.334436400356662, 11.408542089088273, 5.562481743668965, 5.344803879086965, 2.35057681997617, 3.1511836930250143, 95.19321966683874, 8.861972375687607, 9.519619528742089, 2.448494270570313, 8.255562501371523, 2.5557970414220836, 8.83924451982901, 2.24193560415661, 2.29512552503812, 4.901369165187859, 7.598213055582102, 15.461722940376397, 7.0139156179972595, 12.491503528094656, 3.4234571059236525, 6.467933194095675, 13.371147033783243, 14.990118978621076, 11.468170746135284, 10.109296965570344, 11.578488688753202, 18.580968601986413, 7.159774034912982, 93.8717830672991, 8.355309997645335, 4.651339676946247, 14.57475153805394, 9.49635197105629, 19.757482097886115, 18.141738121922494, 33.245790279791066, 3.2534336738396115, 6.420213156138076, 5.211373063835837, 4.573609544323466, 11.481911909985808, 4.7780746951839115, 2.815490768168116, 5.643814391230296, 12.948737373061642, 3.474283492055743, 8.869660474556328, 6.053053594063576, 16.393799738384118, 10.573023149339607, 41.25764011614747, 4.823403005956549, 8.311042387157881, 10.009156286102332, 8.878577262248667, 14.815898781737808, 10.907794758107423, 5.7563285029977465, 10.697555528648559, 7.391486090136524, 6.978308528751492, 2.8471991261284053, 7.814422146387792, 7.463285065866285, 5.240201223621224, 7.702522778284434, 9.316276550094408, 6.23026418249462, 13.79304715731196, 12.804111553281627, 1.2371617363261609, 5.860231302529549, 22.616698924829052, 40.01332212044045, 3.8203084194599586, 9.076151092878673, 10.34178762924902, 1.6627044870906096, 4.25346948974746, 2.909964383599487, 10.404310803099797, 13.458009473612089, 7.546264289168792, 4.141370287251761, 25.823124975600763, 5.562909271043222, 6.675866133174209, 6.192895441361923, 13.24321989962348, 14.049539183968001, 26.93651525915337, 4.9420386317038085, 8.063806804820372, 74.81151553010528, 8.162637787413285, 15.137990528506911, 8.986812240340786, 10.765100098370139, 12.423980425965764, 12.35129327444392, 8.753485231745826, 38.891497904530354, 4.079977383149123, 7.550879969635978, 11.401095668037541, 6.789511053374851, 12.835870336231267, 13.894093572044692, 7.662771514740609, 21.015294071352812, 19.513750172049317, 5.729795203649832, 70.37041479660607, 16.32973947106599, 4.34154627421402, 12.878699333246647, 3.4537958643779687, 20.268515187966667, 10.054178949585951, 14.85566562121341, 10.967618448918502, 5.36195682899392, 1.5004002905459826, 4.093397360973685, 6.353918643832179, 3.833943144145218, 5.851212955117952, 1.5019174673146156, 9.491323093025121, 40.609795089948676, 8.560135893120112, 26.111028698037845, 6.415589927659784, 5.20161426133161, 15.545274583637992, 3.8306779681451895, 8.182726698501337, 7.296276640279018, 2.1362913675630395, 2.0588119494856203, 22.217739951392186, 5.582644364025813, 6.882289454996563, 16.910841304702856, 2.534979772776603, 5.384402093878318, 3.7643871246790326, 11.955761754122568, 2.1275372239100716, 12.128208637309188, 3.2587871206185417, 6.348682715798348, 153.16991355311356, 2.4269363638642725, 2.307827268040619, 9.340071184445563, 9.59913821237027, 3.8674976107698593, 11.321389146392633, 7.929713565975569, 7.9058004765123995, 2.9800883272867575, 3.524092538380198, 8.171537528906534, 9.838034943678911, 8.282209755060606, 3.391058527184794, 2.9479674718514035, 7.153740221530786, 14.649926153546511, 12.927547945161107, 169.57816238191654, 3.27358655725694, 2.824343583991787, 4.686894148703391, 22.361543812443884, 1.464751188552988, 9.389607217393682, 8.959573004613107, 2.1790936305681994, 8.388028370215189, 11.106327557411005, 18.110023960392727, 4.979745218590822, 7.2524358034388285, 7.623515980532303, 10.048315213939745, 11.724940032741811, 3.239358190914432, 2.1589881509053126, 6.580314026356753, 5.4006517191087, 13.812567745118573, 5.932935292939524, 7.245975426282463, 12.008169366280645, 2.606926921252876, 2.3134839045493765, 9.444369534003723, 15.635338856902663, 9.140714420759135, 3.7396638619415548, 6.937222702851597, 25.590303942537943, 54.828831909279096, 12.674939381230606, 8.306552516678313, 5.4162325098940345, 14.777051611907993, 21.73540494931405, 4.152278208161208, 12.322617575947726, 12.797456666780493, 8.876047462852947, 12.591890230438489, 5.4179795007123746, 5.975075573518161, 6.596188324902897, 9.426742487103413, 3.3570682454352543, 8.15575482958696, 25.54297132115532, 6.338163004038545, 4.605245336191157, 34.667294788134974, 11.725288967752629, 6.291374635930894, 7.5524677355506995, 9.611706995180498, 5.159806875302519, 30.001581226960656, 10.762373151638428, 10.163748968151944, 23.688449736211478, 6.517902624019258, 9.198293139848158, 2.167242538089991, 22.79411646662472, 13.02467812398328, 5.255727689157395, 15.668485591241106, 12.863193848603574, 12.992088676016946, 143.54442695722355, 6.019424035823693, 13.988874721430008, 9.099424960904734, 9.844553568741054, 29.537468775439347, 7.148707227428829, 84.96549654261247, 5.993138130923966, 8.371803975910153, 4.6267236745417755, 6.27083472397056, 2.9892982127237553, 5.672145431378478, 5.101526838053308, 63.719422874779376, 7.2828092059709855, 2.7583416662251237, 15.662058529077846, 5.368556014050172, 8.994378069945526, 14.551174111805159, 15.697726690424737, 5.695819118369752, 12.747819885941972, 1.9651374100667889, 1.3326770936733237, 22.016093869731804, 15.074314449504318, 3.7743154098338927, 9.262192200348593, 11.55312997420429, 1.6121564733424, 14.743822973241468, 10.161119858567409, 12.494688828109798, 12.397689944458723, 2.6727801101755433, 7.387809234087078, 2.6467719901604054, 5.4490191854373835, 2.7389917369322188, 4.205861206500355, 4.811059334118446, 12.382503516520103, 10.852871871074413, 3.28905532279243, 16.547597281175765, 6.081738778813259, 8.825328061886937, 7.863429207958507, 2.465375529288201, 2.240948355404947, 7.5034901893276515, 6.69133033356999, 27.326031151427706, 2.159614649015214, 8.462433518063113, 15.346919211529926, 10.69449051076898, 13.993009969442872, 3.324758084462847, 11.325797115877217, 12.803319136173327, 9.511122640151003, 11.725336681019966, 5.078230384084966, 8.345976093446744, 4.645924023768348, 13.242556010629931, 13.227493685760084, 4.957546268190535, 3.924785289121289, 4.672463977571324, 5.914877683230202, 26.001822269965537, 5.753048747914244, 20.9174790166033, 19.21805876146921, 5.581939514514278, 14.83442549707764, 7.598614965571574, 7.023227545552243, 5.462350404028688, 6.709326633627527, 5.968041109541674, 3.967695452316532, 26.54193252777826, 6.968490601846221, 7.143147315562069, 13.05669877272293, 5.4738095499303006, 2.230054352683755, 3.757993596343367, 5.919324489191552, 4.602457260515265, 8.429115318610679, 16.746862297883702, 6.704142119427526, 8.111625414845589, 3.884099521981733, 8.485721365256888, 22.598734525872192, 9.24415111690738, 5.488889628450931, 39.99737282843396, 4.5216769194139514, 13.562804412476417, 18.674332308713996, 27.84325247858299, 8.388326289803524, 8.487906156856047, 5.360604114361587, 2.6432640177229945, 10.614739996169217, 14.736278695799877, 5.083717586930069, 11.104906215619977, 8.618058119163818, 7.791319725376265, 5.288545737684298, 15.636800054588303, 26.921451501774058, 5.328372049451694, 7.452151295645868, 15.424844634904947, 10.094264276960464, 8.873777998869778, 8.327975307469083, 20.917791809295853, 10.59525205435197, 4.908655639750443, 3.170336458290466, 8.350469262125763, 79.05992556637197, 6.622808106878589, 14.98621756103343, 105.30747706622883, 106.01500246305419, 7.391883951086904, 6.343825869117095, 9.957215530502914, 3.859456669342218, 12.911533158443005, 3.6585302275152247, 6.75603654845715, 13.239933387101352, 18.91015074815492, 9.013176675354, 3.3932139348259085, 2.3458285469242934, 5.74084663364384, 4.000848240861322, 17.183789304859744, 4.506229763287541, 2.066882436060313, 7.398230763394233, 17.187820018343615, 11.12665984312821, 9.038253462293092, 6.156694745277323, 7.139994038158423, 13.108361443521762, 2.2706027385218603, 17.811301175448506, 8.021862570230113, 6.581500844535092, 5.79009844131405, 8.940932922300616, 8.997573181140233, 20.74882117216906, 3.2244366372187887, 6.071569737062858, 5.72723718656537, 9.896929401873972, 2.7983442013949382, 9.422406273154532, 2.08668102831531, 2.1139964627340455, 13.308532849242242, 3.4683623133675052, 18.627069034616746, 34.070644181726934, 4.199834779096356, 5.9737119019496, 12.282687886048084, 5.942996913506358, 28.747492817819158, 6.889963775124812, 3.486763033054855, 13.133916563683353, 11.182768506726065, 6.052206449498615, 10.34336443250236, 12.83421388356903, 6.7577868026909655, 6.4067923621949765, 65.72231478434033, 8.277591743329564, 9.258542458503268, 88.10150560268052, 1.5487959905627835, 7.056502861237488, 5.387451553678176, 3.44397583950524, 9.7772551969238, 3.8454277372315824, 2.306659801992171, 10.260380187770522, 6.393203202994974, 2.21777742946588, 3.6280160815740556, 5.627019247132222, 10.567572023536735, 4.104804366188782, 16.51745087188406, 5.371999759828153, 5.567615941919624, 5.0187463535725785, 155.57129422211773, 11.102483934585871, 8.623798872187086, 16.49474497690829, 3.8121595242137585, 5.547733182043531, 5.595223814606328, 68.19506910731556, 5.836582836265373, 15.647151902629549, 9.427554477225765, 13.435087711123412, 3.940756204368194, 5.671626758067747, 4.7237443049489265, 14.1940956381051, 10.980763885559382, 9.728902664619818, 10.83459160622706, 7.793930879798958, 8.764314975475001, 15.61301023878247, 8.023514033391788, 76.67888759485317, 35.59522744609085, 4.928597022110014, 9.048033747861746, 1.9854651533651386, 4.142636479518525, 5.028129377934453, 5.182479151800742, 9.382274155588677, 3.2164990575127335, 5.386902951468919, 8.13626326050388, 7.92631456440455, 6.211881642675979, 8.345402554733722, 70.03915291707649, 5.261454512244653, 14.565689814902676, 5.02798622247968, 18.01274192667069, 3.1328305956031017, 5.785363064903078, 15.093284033175303, 11.949703352897957, 12.152162841895622, 2.099142164699756, 10.217652021155546, 4.063178262425313, 7.191429694142388, 11.7528393784574, 10.083062104094283, 52.18718662200292, 61.73954653132873, 17.791982496861046, 7.762707724795612, 4.905362004169821, 42.52384187024059, 9.2518691928394, 15.974634024977693, 7.876093869731801, 16.048933670938048, 2.1114142398721807, 18.137891545770227, 4.88773224260172, 7.450027387069634, 6.566839196202177, 6.511278060518873, 10.438431696823534, 30.319851024151443, 17.02202862448219, 5.283475146307653, 9.121808350655899, 3.6879277993887194, 8.822170177050795, 6.139409644749409, 2.8557969603021873, 5.577698278364132, 43.950743933834985, 7.830384035471907, 30.66497204045008, 10.099164294041463, 5.432519173410141, 23.424202050034975, 13.12752238255243, 1.437457498669811, 6.233166237421059, 6.376894554659162, 3.987314546660081, 11.457504920602362, 9.297133995516752, 2.0198397403953283, 28.00125200047801, 21.367230056058084, 10.070434014391868, 70.8140184851442, 5.295428850813793, 10.37434317185889, 2.864049616810794, 5.236803687092553, 5.6620259777549515, 3.6917642971536613, 5.472952685435173, 7.901706056790834, 40.434926552258624, 12.37633293319532, 45.55547448547969, 11.450375220446324, 3.0884544016616973, 8.348642396358235, 8.037049091051033, 12.396174691738043, 3.488734107916306, 10.912110268590503, 8.519456429641279, 10.531358811569973, 12.367027998898735, 10.345724619442407, 22.894017251480797, 5.477119488685913, 6.123375867773949, 8.731430213458319, 2.66248015245595, 9.628336065277356, 5.600782076276081, 6.32518715040884, 2.4531630952556345, 14.92478544940887, 8.724684449737495, 12.427886368105924, 10.845060855840911, 21.220451275414515, 3.9047758885642008, 10.459829063017107, 4.167085868717507, 10.725845587392707, 11.449507241051357, 3.4260033125838434, 16.212791213843264, 42.55316294307549, 30.751896094013986, 9.179716265951424, 8.458320948531288, 33.81709995225365, 30.55654135298628, 12.247329981210411, 1.4582317152912945, 2.8560828138322143, 2.2506675890652303, 3.7790889684573035, 4.181866298191282, 9.954598266280914, 13.265772532804775, 3.091689158901031, 32.22754372550009, 4.3634986344685975, 43.966009179201166, 4.060868090796031, 7.918263147752088, 2.4831893541195544, 9.282379391668421, 11.321112402511078, 7.713648610033369, 3.297964376895852, 8.310226504657516, 6.416030430775501, 6.097664497274145, 24.378440850929564, 3.7278895315702205, 2.248888477014222, 15.305759974409915, 3.2051818235334553, 14.66238980066475, 12.235908222656834, 1.440227403444183, 15.15555023470256, 8.062742996578816, 11.907889577203225, 4.736299470836941, 4.5700754980693405, 10.91643335702771, 8.83744531009114, 16.67859583913151, 1.995383737751786, 8.52401680858669, 9.23260817471004, 3.4790242048771374, 3.9153548168300643, 14.816495323633635, 2.3587805970139497, 1.4841647195248102, 5.665656101268613, 10.685581699295618, 15.655307931392288, 5.69892317922311, 10.283987734158707, 5.682607256564987, 7.525977611249389, 27.041499960350443, 11.036247214209181, 2.302174328917808, 9.38770626502276, 5.7670090547116875, 6.041591788686032, 34.21080968023899, 6.2943970916033924, 6.071664106813066, 42.44567058073845, 3.561663651274104, 5.5207601410731515, 2.886559625917719, 3.685760839249537, 12.747907810152196, 7.2051166312617525, 9.535122036063957, 5.412638502270409, 1.7327124512352736, 18.809152415763407, 4.079977383149123, 2.480511086841661, 10.09390231120033, 16.14056492080118, 3.8310101779712205, 2.2537792598714463, 6.410952819093373, 2.5764888584495096, 2.424661617786468, 2.5448638596390314, 2.5291680201635085, 2.710100773349963, 3.2803634003676505, 13.153586837343418, 12.780807808115867, 7.245191540643975, 2.1906988699302548, 26.989987097639737, 8.774934502306824, 5.115627694241911, 9.352339463286214, 3.9295260737390736, 14.626107684361362, 9.33005922365861, 3.1265176033143165, 21.73540494931405, 6.5093240358932825, 18.523819583988892, 18.14354029665369, 2.572988614412394, 12.327282073233555, 9.128219456275382, 8.083016770997862, 5.30118892516828, 7.860578450187585, 4.299097189927869, 5.003477824330808, 3.2006785568572598, 5.28368301268621, 11.058323562975575, 4.032669408378192, 9.299253587164946, 7.747444250301654, 7.0399169580855245, 4.132232927974016, 48.59429865449276, 9.079061348798898, 2.821391678900415, 8.553630031109977, 12.659725946091319, 2.089796040682354, 5.794682636531945, 5.731182623646143, 85.21413776543481, 8.986095809626114, 8.042478353877664, 5.616952697332351, 9.587010480553909, 13.164932015072527, 2.0476182693998126, 8.425802831216675, 10.093773669479184, 5.90482664928797, 15.323011912226368, 3.302324212460563, 2.339058170410151, 13.302733936262953, 15.5204135219506, 4.863538591644609, 119.17072946707569, 9.905936538279846, 2.6286788075877765, 8.041415349476203, 8.54101226674706, 2.042617950919514, 33.63050142623284, 26.651018916832008, 9.924765138177793, 9.719361840742751, 4.044945718231242, 2.2242451164082375, 6.413983882927232, 11.790515516750652, 5.3999193712213245, 3.123256775157565, 12.627355557720813, 10.883120964533168, 14.626990155539506, 5.650188520942801, 42.562218163371874, 3.715128571428571, 20.99799743330248, 5.627019247132222, 4.069591358699042, 5.968293834914019, 14.938557142739024, 12.513838591808566, 14.258123478289603, 14.093986132712603, 16.424038570160608, 6.627769374190506, 4.431027667750577, 4.359757391420978, 4.355441936976601, 5.935705018315713, 14.052425336642685, 5.455688212992613, 4.955726479866348, 2.5908876702849284, 21.91494537693685, 26.084294437877038, 3.911712503330762, 10.832772731416837, 9.263274599894935, 7.599145102026994, 10.412394421055662, 9.27031281922899, 8.143929509930501, 2.8809770268871278, 27.0587223239362, 3.0150470780367424, 10.767313134564544, 36.01558719043509, 18.894332327815846, 6.508013604550228, 6.666454553538433, 2.0736155072421703, 2.2368194246656516, 3.9331833950929216, 1.9608168276714542, 8.902137677095714, 8.73359703950679, 17.28267088706813, 4.1645962319805605, 5.563006090684493, 16.731028978852535, 14.712421118575499, 3.272691010530057, 21.150568867370986, 8.093982396700104, 5.486125581733736, 2.934222467027861, 3.7593076411315978, 10.011685211326483, 2.3667393381973727, 4.9787971562106, 9.801776156198649, 18.74377447104402, 16.338455262393097, 9.460754591052607, 3.4370013274489777, 3.1504351742441945, 9.950977973298448, 36.529710603482016, 9.850397304912741, 5.362857654716418, 21.242008319848228, 2.225503170717043, 14.298577129776438, 8.890283159025243, 21.569814482862267, 11.052083152148985, 2.2127040199262056, 6.732970838420531, 9.871783460162392, 9.240588348908332, 12.742391368943842, 17.905653704218246, 7.999533952703853, 1.5431440701108496, 12.656741466296229, 2.3906946414357693, 9.330170672523721, 39.70745642384436, 6.588750358142087, 8.048520636411112, 11.73372223548152, 11.209986221339365, 5.29396373814954, 10.899653437019523, 3.535648601085872, 18.233217915834576, 12.547199227031474, 9.42991495075358, 14.930672264999814, 15.07366213677471, 2.127943789571762, 12.080291242098365, 6.502234655383301, 25.04959137140127, 3.271426506885717, 18.990140146776525, 9.318361580221785, 7.341267555884121, 3.672752734862192, 5.897504199960562, 12.289782827362332, 3.5102731228380213, 12.568420588789031, 5.40549641832674, 11.730941074503669, 3.715571594681182, 10.180111541522841, 67.88465638058672, 2.1853248387605944, 14.743822973241468, 21.888141061593043, 14.90061709281601, 5.314647371160455, 3.674112960986075, 5.547539585344672, 3.745437568294015, 26.30764413917255, 13.034549332526831, 3.600620397156442, 2.624427646502986, 5.143468196018534, 11.848309188672967, 15.073078823473445, 2.698512746119855, 24.037084947849234, 10.428535701337124, 5.965142399633146, 5.888715321423518, 10.658437462095158, 2.901214690072742, 5.678772570953144, 8.392079444590806, 12.866015226316499, 15.286752071777153, 14.01816299500836, 8.973508052371814, 3.0261947954065427, 5.362793669233469, 2.635043290992938, 9.329387781915024, 9.335459973882626, 5.784733268327001, 3.924785289121289, 9.226194423014157, 15.504656449168232, 5.113380576681118, 12.225077584410288, 2.9252939723510694, 5.242235745439133, 59.80462528612336, 10.23677322552355, 7.306252153954416, 2.4357205550224483, 13.43584107761596, 1.918938699294101, 13.511177169629443, 16.49041852775546, 3.7036273066121326, 2.195840867226829, 3.8153450841226384, 2.439345254267137, 6.031092061888804, 8.658812794703785, 9.927459274844438, 9.761842556936509, 67.92572081154022, 68.24785549102951, 8.846544517064657, 13.859166694808307, 84.70929216927806, 13.576589802411005, 5.626944325903522, 9.02120831813238, 12.949454376615456, 10.782039169677454, 13.805269818150698, 365.26, 11.691924529824899, 5.985833369941009, 2.320513922278818, 22.943503966143258, 212.31661922261074, 5.3296899559129995, 8.579471358782206, 7.640234612637106, 8.730146302544858, 16.653717366376984, 14.19672920988529, 7.658304212239256, 3.399540612169385, 3.5627670168266707, 2.542416465132149, 5.3000318898786425, 4.901422040838309, 3.762650914804236, 11.011891318895021, 6.972759479186134, 4.511694168325804, 12.507210641259885, 4.980580586283905, 33.36170277763671, 3.8623910608319956, 12.115215117928978, 9.202923204487199, 11.270469572761856, 6.612644768091846, 4.492257662355807, 5.542645164398523, 12.539482049235067, 2.859892108865837, 10.764763170343805, 3.1942880435724548, 26.686474216366545, 34.52622587935677, 15.091458338052151, 13.415353216821742, 8.997139694892903, 3.8153628665252977, 7.927804963221363, 27.72587285902503, 6.711124952838102, 6.024791119458642, 205.57494505494506, 8.518908862250461, 3.1941998462034293, 4.673768924729094, 9.084960058010504, 20.807280990732597, 9.690103109301129, 7.186399092758479, 2.639032425154932, 10.596291196016619, 3.5627670168266707, 9.785555283630272, 2.685288400587566, 3.4879136747495925, 6.921736789778081, 20.98781739809185, 33.3014985918958, 14.471561037058782, 15.859363359291585, 13.186389302883876, 2.4777403290640274, 10.411939672915523, 5.956986413558566, 18.132769644481606, 70.5648895822909, 4.923118739926995, 1.7426077466277903, 21.109318448247006, 9.203828224370941, 9.464527080458526, 27.71728711483601, 17.99316527414456, 7.3780654616956305, 26.66601509084072, 5.500475956188419, 2.5863296217477414, 10.310443587907598, 14.558632252155112, 2.524824217327303, 12.697305409886011, 2.9001317598312135, 4.743075762840837, 8.347136412420097, 9.563213038926854, 8.437273253374858, 5.886402878157542, 7.9855740595316895, 5.170980307890411, 5.921092708671753, 9.029268277338053, 14.306530117432205, 7.51439532918597, 5.212946928830861, 13.186841162135513, 14.63560583395035, 10.14983162519955, 4.0260321816873414, 9.892487872697377, 8.904805679506255, 13.115223466795387, 2.6624408622037623, 6.546269368335788, 9.89078328022491, 16.92200553926411, 4.80404056293076, 9.32632280596999, 5.057090035199807, 5.561854534883106, 2.3910578167450867, 23.514824953855285, 30.095020620065544, 7.541358442687223, 11.980139611341315, 7.4802999614467724, 3.9293946160358058, 3.8792498231095096, 17.306982682051043, 8.05542420911854, 29.93552357609711, 8.641798808722381, 9.134805829637083, 2.4492105096730175, 16.2657171980783, 3.495676930196368, 36.12853902463448, 75.9056676499803, 7.23364448629468, 3.605505789906264, 13.986880144922795, 7.712098177953914, 12.356686409816419, 5.208243290708328, 107.82543678271783, 2.8496490003838124, 8.21335408967692, 23.990323167652697, 28.417966991212, 12.115537539865604, 11.525284271318553, 5.349604139499673, 27.139915590631734, 7.963308497855125, 4.568468939855495, 8.172184314528188, 1.9516019744829216, 3.2259462659990334, 8.32015730914153, 6.03046621547398, 5.0291735562200435, 9.444099717594073, 9.637115225254684, 6.919657881240315, 2.026778039006401, 11.424856876102332, 2.069776706069713, 4.6502203913210085, 4.629555194535552, 9.024465745397114, 24.03855651234187, 6.8070199829717595, 7.336969536086221, 4.7665633873991275, 4.816665457674867, 1.3047688408325326, 5.345422043543469, 2.641313724398038, 6.715411740705032, 16.337414254699613, 3.281196169858014, 28.114575428367342, 1.643834264914036, 8.756756752783911, 4.903126576205018, 8.915996219200604, 7.851933403314617, 7.697399697537873, 1.9736185956570234, 5.450933528357105, 3.8873674962945604, 1.9647473730120577, 11.72966385147785, 4.8485097592884205, 14.852048920240755, 11.119327450081705, 3.6323888229087795, 5.039774999075512, 39.32578209343759, 5.5669116301986, 6.10056371688012, 7.620917699310767, 7.731257438632391, 8.697939490974505, 16.20944564089527, 3.2640876403868733, 10.365870274911005, 8.256219489663547, 17.70373726255838, 5.961239732661234, 8.890282229965592, 2.2263634866332245, 10.462664988477945, 8.654091675096804, 351.06497872933954, 2.353635154368705, 4.1994001682224855, 3.6975164240848595, 14.203544446855117, 9.062347755249485, 8.328528847212459, 15.346919211529926, 8.994854135006838, 12.808953400202851, 12.786351817631289, 8.463500623678549, 3.782916814824259, 8.596138857568015, 9.788593165590731, 2.3858664890976313, 13.489388827058235, 3.297964376895852, 1.9484515448319804, 16.801982300526625, 3.694653784292656, 1.9542361529905279, 5.698635523606868, 2.4313842492544477, 4.7208078368443385, 72.77340125785724, 9.86711598688832, 3.0042579345306772, 15.839396472156382, 4.532218813370091, 2.3159362838256685, 8.83003236085496, 14.64972588001649, 3.75653813333344, 2.7667371615560374, 6.705032445837684, 2.698338216337768, 26.82690691003097, 3.799612748188635, 2.549866636187521, 2.515386768819143, 10.246920619384003, 5.303929539879042, 5.298518427359881, 11.853784607686743, 16.80406484752872, 8.943620156603549, 1.9991642392852478, 4.248426438019593, 7.939856699917364, 9.555655097871462, 7.91015316705291, 4.309784988850275, 133.34923076923076, 3.295354212495566, 6.478937192804715, 20.01735703033753, 32.83023679393955, 6.0359189221352185, 7.649175085003763, 2.1379888326492447, 8.553230020106167, 22.048073020891565, 2.1828809209674964, 20.396989364865576, 11.418107830903379, 4.000541028102711, 37.419252865243166, 9.251534677184825, 12.70102959520566, 6.906195439301169, 3.6235696831257145, 3.62898624233087, 39.87130136761834, 20.786920301105287, 8.635478599419502, 4.750281412210205, 5.688082165912873, 14.104970560453253, 6.721197491887543, 6.709326633627527, 18.110023960392727, 12.065900989434626, 14.87464666979109, 13.164803298427884, 12.913573758792538, 11.207294780250905, 4.400128349925311, 16.476488330335588, 8.089078751605763, 6.219226971703559, 7.761366957872382, 7.395364110504931, 3.372277705692, 3.017580516227588, 9.957080605749807, 2.3706456714195463, 5.858422143848625, 4.496684595645824, 5.6074387049464205, 4.08055931738848, 11.656013483408561, 7.94298151225018, 25.257008214888966, 8.278353091282158, 18.244084771779107, 53.930597181851816, 14.373227346333058, 2.1569828849399904, 3.333350709129906, 53.79643735855982, 6.190998085238483, 2.019554714452494, 8.842133734387465, 108.95755954191982, 12.493603114308748, 7.515872047012721, 13.82775535228702, 2.180318586436696, 208.23807565789474, 4.72958526851682, 11.464958145869817, 14.936526293161695, 5.255364238494543, 22.92766541909133, 9.936862938553855, 2.1374889608553547, 8.714529084273662, 12.364501762626741, 4.130485793570901, 11.268618750335696, 15.526820678578304, 6.190609168995785, 8.624853597216342, 11.884446301710017, 13.283043449996551, 28.958459098866086, 8.27260197857893, 27.360583671706745, 10.554554950107775, 1.5769370082628953, 7.531117375350569, 5.272547170750158, 5.805487421262732, 9.92376499292884, 9.820601493479987, 21.75662858624436, 34.34857395957761, 4.2696013627342975, 7.916111790860933, 20.179285999827485, 80.12429389668186, 2.1298999184000804, 11.968887486995655, 9.830565660624966, 2.9077145810776615, 2.271664583518643, 21.43935772969785, 5.294639406953442, 11.564581601057721, 37.35622366351599, 10.530367364796502, 14.620774475897187, 6.173968638481236, 3.2386207788995125, 9.167668847992065, 7.414696003658026, 5.8257735613466775, 114.18668744473918, 20.3917340348161, 8.727291781555031, 9.235999241393062, 2.4142064164909764, 15.021510342277866, 2.8242072566265874, 13.641568354572899, 9.676852382420545, 14.500930299867019, 8.982901207439145, 10.914979476922024, 12.146421402779017, 20.77751800967821, 80.12823845280067, 7.842314213681236, 4.524340056911203, 10.094264276960464, 5.746065293244102, 5.143600095757295, 3.741003447272909, 10.542609146251074, 11.457504920602362, 8.755261631130189, 7.738729597657168, 9.607908742385439, 9.648763685167046, 2.2033445558155385, 18.999737070841235, 26.897411310151544, 7.507020412801586, 1.909049842836503, 5.730110310641007, 5.4209533014581055, 16.678144540865738, 10.270698589570916, 13.420757292178862, 11.116278245935046, 11.899274407837002, 9.425081699873042, 2.270123478549804, 4.250361812776846, 5.764911224330017, 5.092900914799364, 13.30266542761766, 18.73741107045825, 9.886563268440167, 5.114934188259428, 13.434278020908447, 7.0535144985762726, 3.0035677293420764, 10.70662573973683, 13.455071555463503, 8.00024810344275, 14.447052302042543, 28.92744212370555, 3.628762005784063, 9.235311329920815, 10.653581157918204, 5.558591837959011, 97.66333333333333, 6.78411403598892, 4.655912371591418, 6.62008290314948, 3.0749214129070697, 26.830672884520745, 8.066793681077982, 5.623098433719106, 2.2989043932262634, 13.536398915741323, 7.646802261608765, 2.953343800764488, 7.512013012824882, 23.768666601043563, 4.858959419248988, 13.459442251801953, 9.014102106742595, 26.14091752624854, 3.507665776365645, 2.1990966190439374, 4.47063573800961, 77.90975518579158, 12.36174734133283, 8.035042101075511, 2.9577277990061304, 2.9838423858182255, 4.736514781248297, 4.924978466062193, 2.654613094470547, 13.452800718231254, 8.714529084273662, 4.657446489902563, 8.169446723814378, 9.761886033385169, 7.415548968325897, 13.009665928622832, 2.9081852306201172, 10.500303207494456, 13.111892097782588, 4.134531477543641, 7.92687263753198, 4.934143987481859, 12.001401478134937, 7.532618042868181, 14.418447025415862, 3.9767773882238355, 5.4854712073514005, 9.89389280856505, 6.6586989351664165, 24.640605197464495, 7.018989161852224, 9.817286140333191, 16.330038872998696, 6.866864524015548, 2.123269308708143, 10.768504045251763, 2.380746673075807, 3.5925265492230194, 11.252832520188374, 62.46907350529172, 3.627752870278596, 6.895497436442038, 14.607305746698502, 7.879960367909534, 10.5246037677507, 13.421673457454387, 10.816173999084835, 6.243288367904292, 2.4276826843705264, 14.53150686091607, 3.8017368925102932, 5.924618610878865, 7.6286649722826185, 8.461487072557263, 13.315937062285549, 35.71997940186175, 110.89375947293448, 5.292940796444558, 7.378010465168351, 26.686474216366545, 3.143840278098844, 3.141787216464294, 55.23692219814767, 3.0185026568252193, 16.80368425525428, 7.793205670476299, 5.039912864009658, 9.587071532578145, 15.37401203017866, 14.32738273147821, 12.838884015448606, 2.960644748802517, 8.601047489343712, 10.105560386927841, 8.963148378908132, 2.5769032317619924, 9.05670327773553, 3.3376998265013373, 2.2404981819468492, 7.647734612637106, 7.025591364431612, 31.48716666666667, 10.956549649185703, 13.48030629510839, 16.47394251848563, 2.3202617955313314, 10.006789424265573, 15.21392013215753, 9.765789367393683, 9.83914665684507, 15.749041084092683, 2.5324279859640666, 10.291879985158799, 7.259059527480715, 200.91973890826372, 7.415350430408118, 7.237387127418494, 9.454949984241209, 10.092288658336203, 4.748219643777035, 8.014519005646207, 14.29930874937178, 4.246582281297181, 4.894731117201833, 10.596291196016619, 1.7569305353240612, 9.683755409694903, 4.336816445595235, 16.015015036474868, 8.608285961645665, 8.868063718309768, 6.190241523945522, 9.648188026243453, 3.8101467168846113, 2.6537093073441476, 3.542414134938905, 12.735844509402371, 13.00813899159116, 4.468372612717369, 2.955207034119478, 9.082904022839129, 9.727186945486407, 9.50785158983827, 3.1189650611969117, 14.791973079157847, 21.887474704011897, 10.500303207494456, 11.729905435264893, 16.40267686829261, 8.312355707492785, 6.751996854947696, 11.813817494483958, 12.509112893842328, 9.186593471443503, 5.5396975089687785, 15.198272823905986, 8.92539524323238, 3.4418377973361465, 3.82635420112325, 183.55834586466167, 6.0386902278976855, 15.577730984841605, 4.894078941969701, 10.81964676777158, 17.386651181570663, 35.00305524106287, 8.977213641678867, 9.785869801494608, 2.5185090711452576, 2.7954053971827637, 6.637613818861233, 86.03878725912928, 10.052762865443933, 7.260158078356902, 3.2143404923870964, 5.908605333722904, 27.313910927787084, 34.55348000635942, 4.791482758865586, 2.04983916529719, 7.1585892418316295, 48.193088663642605, 2.0970525587526763, 11.104906215619977, 15.616618426930685, 9.392700809623705, 2.6397189754850787, 7.9637085240969, 4.010957888497625, 9.540689969720969, 10.664374004157512, 4.629520170019455, 12.851553129348124, 71.16792072101575, 15.347486825129822, 12.205207618135178, 54.11481949573357, 10.398785781843829, 11.378827422922138, 4.980934701146565, 6.093653737010703, 8.749071742111216, 26.716098604350883, 3.6864356001251095, 14.75868118246541, 22.576026967704106, 11.920965542172238, 4.390513135945279, 9.361753928985687, 10.604926385521743, 5.8242144742155775, 2.2648682110627227, 13.765054916996318, 11.340030754319548, 9.169446525098593, 5.925474485581423, 7.173052584117188, 14.746853339622373, 3.020421928069459, 5.866526847711534, 1.6738925410993035, 4.118145246103628, 11.465223063610543, 11.011744052913244, 7.425649618494527, 12.420258572754573, 7.797950372713898, 19.82448227698209, 14.240569383134364, 5.587232225667172, 17.61858174114392, 2.2967450549779302, 40.516489313872455, 2.210840791602793, 7.489086005653794, 3.3328408351500127, 14.601448194021316, 7.45551190266681, 10.856489025646955, 12.348785804866703, 12.561127531367786, 14.399012667143602, 26.196197495390606, 3.7568284266351877, 16.724822810908435, 9.36584591277091, 4.363628853548321, 2.66474496458384, 3.5123211083547297, 9.628336065277356, 9.65684238394883, 6.215609510413158, 137.58716892208784, 5.935232947523639, 9.288397773790152, 27.97039153417066, 5.232993145227309, 7.072631086736396, 6.449316565970097, 10.401917195136516, 11.578056463084046, 8.919144404376066, 11.108707531127504, 17.50131173786025, 16.293002796821632, 9.504258049388428, 10.681628754119675, 13.27840663208432, 10.117238532823103, 12.43114877175992, 30.51675664311998, 2.4212073899209208, 7.3018226420321, 7.176056086664497, 6.928942223733169, 3.5628122374758413, 2.641313724398038, 8.585819473080274, 2.2600112219041146, 3.768709420395966, 9.65357474112116, 5.142871865977789, 13.357656668037851, 8.207025077682605, 13.718803448859294, 153.7791630171741, 13.083761474566806, 20.559771157869967, 2.555196435145433, 19.865775260456694, 16.075242996411554, 9.255179095321255, 8.74993430294107, 6.609232878599489, 7.447644677088445, 2.8966847053490823, 4.027900512467797, 6.840414314037366, 1.9417647989995552, 9.262192200348593, 24.937540995835935, 2.2195972807324664, 14.39850272718821, 5.401417699749259, 90.42570679493726, 5.813857610971866, 21.19753111184382, 1.2550513869644866, 11.745339666622225, 3.992557541090247, 9.515303213116175, 4.928263573031109, 8.590409334580416, 10.548786454230992, 4.925136578177033, 24.982949394709717, 1.1645679059883531, 4.6643586263530015, 3.861229444254739, 2.327975746682989, 5.696122104234055, 6.456823605360215, 7.098075668810855, 4.490046095380013, 5.182016014282384, 15.073078823473445, 5.932670401729643, 2.2556282313224285, 3.356598462965156, 5.270945107195903, 3.301535758879706, 15.559115429939197, 6.327525626884235, 15.217425280894268, 13.046947381639779, 6.044135800730216, 7.930890024653061, 3.707085267820928, 17.890273418686277, 7.212663718969116, 5.244435603017816, 9.45131986121218, 12.516118386370978, 2.5597138206420267, 3.8212781004939647, 3.0805233854517344, 5.446893141730277, 16.455989012732733, 2.2907673589450983, 14.53150686091607, 9.208668352122062, 7.953360761895798, 31.696117648742817, 6.023793191090463, 10.47282250229069, 5.820789775112761, 16.37019804849017, 2.563827654860887, 17.12880401202761, 3.288471984498512, 2.284224104682627, 7.2680256250665245, 16.290884793346226, 2.3051717637390574, 19.099483114528844, 5.664252580829275, 355.8053846153846, 15.201776426321153, 11.03474930130733, 12.493603114308748, 2.060280538304755, 7.903547760836884, 2.73861664537999, 57.431448985566846, 11.171482059935688, 3.898531755539525, 18.876097991491463, 4.374276365777167, 33.216761090907376, 14.23824696769693, 10.405522439144503, 1.903124989861089, 14.700127164353498, 6.985318457017534, 10.270698589570916, 8.398864927735824, 6.35477532506252, 5.05809262839885, 4.79085586406542, 8.600350821739534, 7.9855740595316895, 6.466039386910178, 8.240252054618884, 9.086927909544178, 33.76974999750124, 2.447228073408585, 26.136529991004615, 10.241931702518524, 2.453251529246897, 9.235114998450937, 1.7848964162428522, 2.076633620054101, 2.8636800290060984, 15.093284033175303, 9.441499010696774, 7.601919555023086, 6.916264097091478, 6.933787843144171, 9.113554210947823, 10.925228563955656, 8.138482902339918, 4.702243770884465, 2.954480295637044, 5.430353819259279, 5.609459895023081, 10.464295465546344, 29.543427792299614, 8.695915395800778, 7.893388194074462, 9.342360767922624, 8.248811941985878, 8.92539524323238, 5.453633034575228, 9.099184420496437, 11.624564556907801, 12.8540748383681, 139.57468172663584, 9.209048675051779, 3.4935066611369594, 7.640611010192794, 10.624099845432047, 7.581514000659772, 2.780081766228172, 17.572168865899823, 3.091153009750473, 4.301504383917383, 6.954394679196155, 11.053959574013001, 5.089453785392418, 7.736113370012358, 34.60076676904098, 1.705783646954612, 11.66144406465046, 2.972286039547364, 21.704139822644347, 13.453661821194007, 2.8931540053116276, 4.71728639775088, 11.439772464927005, 12.025808199391058, 30.63499784582946, 21.016274390493, 2.870159837846472, 8.995015759586748, 13.784620271312262, 9.24644683843883, 8.387011464479581, 48.016903706848154, 4.9533549124781295, 19.001122853848763, 12.003937124538409, 1.9034378100800413, 14.069455054713792, 5.31812181217621, 6.532615492067156, 8.782220577434979, 10.23677322552355, 2.635043290992938, 3.248715482172479, 17.643374611619652, 4.243229619111463, 10.52052566851841, 7.424753376582272, 5.9593480555577045, 13.72121371983728, 5.803527887726471, 5.9954118662830425, 1.8020752379591047, 11.32760328775819, 12.12424853003074, 11.279737834477395, 3.4677433071597235, 12.82562035981068, 8.547625296196175, 6.226144448117425, 3.018040254590298, 3.7226341534088716, 13.422832302640458, 2.159771970899557, 13.48273179114497, 3.6776661009678606, 6.201373312684679, 8.214653023135568, 5.352163493526498, 2.0042924800378823, 9.530397782280925, 7.478003107782908, 10.400937079992225, 11.011344150749174, 5.391474903884663, 7.767890862486573, 13.127471837663139, 12.719174711975318, 5.836090154518855, 3.742147055020597, 2.283410835392078, 5.804641777792527, 116.98175456389454, 2.5296820230925743, 9.113108864476047, 14.51462230492765, 75.11335402829931, 20.52597823594061, 8.570286591027678, 7.3780654616956305, 8.648097044076236, 1.807742296420463, 7.785702990067657, 1.597119830025335, 21.96406585862647, 8.26831165664396, 13.44354183287553, 4.825125751673049, 6.017784010979174, 7.5730135963812755, 9.869635687684458, 8.326939052970735, 68.93623398621345, 5.504228748510209, 20.205334242255503, 5.449856610087312, 16.194485469340336, 3.072446713405009, 8.77597857342365, 4.425288825475522, 8.77991626468657, 8.097088774377648, 5.882987428382179, 11.842223234320437, 9.309170584248058, 9.13069671022423, 1.5371901043759315, 26.319182245886456, 6.15154669363651, 3.5306675264836263, 6.562089401815425, 3.4205515435160847, 27.247152658918857, 7.7625478363231855, 5.237059122655325, 19.71038464823852, 8.20719426691175, 12.985110813908795, 8.991542568884858, 13.320092640310651, 4.363721194036538, 10.23677322552355, 15.074772353704805, 15.20274629563517, 2.7835111981976577, 4.634767345820163, 16.5533455148642, 2.2574416676226132, 2.2425337765257924, 5.5977938694748195, 6.167992660107624, 14.274490136059983, 14.056417852068524, 6.145895210705667, 11.327622069795504, 5.221693500366392, 5.436660266484017, 7.304549717242471, 13.087373401205593, 7.896780101628493, 26.16018164464739, 2.2742848793567365, 38.639670769111014, 8.505292399247494, 4.140122053931491, 3.0007648441863104, 13.38011818010064, 18.244225166079328, 2.4035460138130933, 6.049176230773383, 22.475573850884594, 9.901958429681423, 2.049226120371324, 2.9105336643490607, 13.119731597424215, 5.7944306304661675, 8.865819859316916, 7.614593869731802, 6.25176135262642, 5.513256484327728, 5.942996913506358, 12.577702737377988, 4.47489228484544, 9.559670602291805, 2.2115246873317105, 15.488415857816637, 3.7079036260506246, 8.717137918915391, 8.578568531250882, 1.541456874652695, 11.109472849126382, 10.489010645260835, 5.356951347788719, 54.65912283669209, 9.643516260465729, 5.971197814948158, 16.773709999431777, 10.609142128553797, 2.6802060956224323, 7.50340326719311, 8.370311656251246, 22.21380761700491, 3.4946984618518666, 2.5935842190303453, 3.144957899073323, 7.323694802234926, 5.172567030181021, 3.192752199820527, 1.994083066347579, 27.031930871092207, 2.775917868177875, 8.588901405677378, 45.77728883523134, 4.911883238786396, 12.371443548627465, 5.753048747914244, 6.078341823863024, 6.693525789176111, 7.608694781680756, 5.938722185512301, 4.135796783718572, 18.255583972052875, 21.797843948252712, 20.55597243410472, 9.58353915096605, 12.460917381159293, 23.440753499946364, 16.409384474090405, 9.374030129141351, 5.734746125145131, 2.9704916518754745, 2.327715434340318, 131.24666666666667, 3.6184743077982637, 14.847476832762782, 5.092263616144137, 2.2944549738098594, 11.822806338762788, 95.66, 2.808403600012427, 13.411537751011348, 6.896421877635698, 8.065493158064866, 3.1612270926253148, 9.305385928079323, 10.39139143982465, 5.047426552932539, 4.948355458117499, 10.497305191172796, 5.057443317769045, 2.3929642036772454, 8.432324442089191, 13.158476453235021, 14.80867683707831, 9.871783460162392, 4.9157263905641635, 10.503632553238054, 8.76243689412884, 13.600944838591568, 3.1691307755040294, 5.400946013100428, 5.787150658231204, 7.870773172620785, 5.240177205712754, 4.075353713479687, 3.6238685048548827, 8.291580022903961, 7.549132050721625, 8.746779223698962, 12.077475188186417, 5.460061134194222, 25.779790216024367, 2.0087205236035173, 3.063457181890703, 10.260359132437776, 12.804398147314481, 12.767661892998042, 1.3527524428180544, 9.037359925748458, 12.577702737377988, 2.9510086052043016, 13.081291995039974, 4.482054105251683, 9.272463049491332, 5.726118055651511, 5.80382459248418, 11.689765551974325, 12.517910245339587, 9.154119878454285, 16.86810890618326, 3.492859572668463, 28.74453965673949, 5.705864934576085, 8.561249900790393, 4.144986620527535, 12.899038667874379, 151.70226018352466, 3.468770672095912, 36.93525925925926, 2.679521435694361, 5.440125136541995, 8.143929509930501, 3.8037776757962574, 2.385597491769324, 2.2225395751345434, 2.5311917476685597, 8.236538393125722, 8.960590812228258, 19.633667200713166, 2.180684587567904, 5.988888525835028, 3.4806249134673486, 4.103714643997832, 11.484906407857473, 7.671716710969882, 9.889463641332037, 11.755783709783058, 1.583513748923441, 26.332248528762015, 4.7780746951839115, 7.482501011539628, 9.001510290747781, 9.750970138892747, 3.761034159222802, 2.517037870313895, 11.315633882852222, 6.288506889838965, 9.517206209256562, 4.623186342673922, 6.884538341166919, 13.740728907194294, 5.794682636531945, 14.81397861157091, 2.307827268040619, 10.141641373734533, 3.285364830564792, 3.83543991770334, 4.137675270731487, 4.362253404982205, 21.009076949134315, 15.440697457563893, 12.154703437249939, 8.096543378700684, 29.49236902727283, 3.095717023610376, 2.3527786946077978, 51.29425304371949, 11.695963942389769, 11.65083946010469, 29.361030635492142, 16.38803389288865, 8.652598737963562, 3.8618296314263203, 6.710685779199237, 13.367174025066937, 95.67767518624785, 7.436757726082111, 18.64910807988309, 3.8961579036548892, 3.0792182509699138, 5.747421927712969, 9.343266277167107, 3.586643887321521, 4.881073374936835, 54.3417436381133, 5.379190088158372, 37.28177311015008, 17.549402652322332, 4.530282557552285, 8.039621397260209, 9.341094812049636, 8.189455440235696, 7.631186009324909, 2.436323824639361, 3.5530665022575123, 119.43954384685817, 2.249250676303819, 5.952904955047733, 5.375097705337878, 15.739924002962182, 13.71458230569603, 2.478115877730437, 10.753106356789182, 11.241492206392149, 14.278664493679832, 13.25240618530612, 26.85864109785517, 3.3615044890749504, 12.80351834092969, 5.019419923702859, 7.4696550804284785, 13.009627385889942, 8.283852737415708, 5.583499454912498, 17.273131974011655, 27.27581339254615, 9.215842012430208, 2.404843346698843, 22.04626445884079, 10.400961373739854, 14.014163807087748, 13.259180517444033, 3.1504437214215675, 12.976896725620666, 2.4313842492544477, 6.173669877909846, 5.135438093515477, 10.606360556358515, 15.481575240036614, 19.693023093428653, 4.781300943924534, 12.089106617918173, 6.255749396510462, 6.188045376121995, 5.322059638459966, 13.186841162135513, 9.609485484334893, 9.582342751992137, 14.241938566097861, 8.016900200101318, 5.1231523646924835, 11.170022920173158, 8.33124941773309, 2.5622176743729734, 7.435028085375638, 5.756536839204937, 8.85308159637167, 7.739142093476116, 4.887846244380885, 2.056040886748997, 3.763827043793194, 8.270309881905735, 17.34366741677093, 3.7473970055639945, 11.908662631099867, 10.434677820237358, 6.624552220091341, 59.982761538461546, 41.14765378228013, 2.4835805081378397, 10.009291060046667, 2.1662217404720234, 3.729516777077251, 9.050760666827916, 5.372729577844263, 1.6213662993159716, 10.338826003383536, 7.938643026469674, 2.574999310397802, 5.20350773134523, 9.948917382540907, 9.956617160681395, 12.536945109630196, 11.973433794469166, 8.189534288158326, 7.90677352208779, 3.048103430072493, 5.323085839175127, 4.530622535500198, 3.579252426129345, 7.201172513972897, 42.8867322390458, 6.565737632609978, 5.316970234051423, 11.624687209868991, 2.182863111968363, 7.092234927432974, 2.3150183537731532, 15.292208477289757, 9.798604804320764, 13.431022250236293, 6.736994993262764, 11.892884052447698, 4.46979609378891, 6.988289986997981, 24.678958620983714, 9.923401874513793, 8.274572426319528, 9.785760470825872, 36.707898665327974, 36.934721153846155, 72.65973946379246, 9.808160229302505, 4.283883264924902, 13.252337921978256, 3.5903009072730425, 1.619058376803892, 9.80139532993158, 6.33346130860128, 13.07854872847957, 13.213682939967143, 7.502399366062579, 1.4818214428697698, 6.334079661097185, 12.72127041774194, 66.14002739038209, 12.224407769630263, 4.454707555035064, 10.895136785817838, 3.2244366372187887, 10.605839197070194, 11.781216959052351, 13.91681199447711, 1.491097836581513, 8.73359703950679, 24.69757014823786, 5.389402690448982, 1.9865030013051628, 15.969778416846532, 4.332219791258198, 23.789418550129852, 7.827150259139863, 12.11249378058567, 2.6453503525957784, 3.866163719645022, 2.211111927303769, 17.970798730554076, 13.477995279471765, 11.966169584912548, 14.624684548329483, 8.754298783730587, 2.619215397932308, 9.69126029953553, 8.766344350259434, 10.366878929296668, 2.7612986295983166, 5.793631398079616, 25.222508061418186, 12.870259889446453, 10.47659235043094, 7.671805808208236, 3.2614208354448295, 16.6753690419226, 3.7266542195531427, 4.337470124643177, 3.4113749530891426, 14.789891519642108, 14.362526423610177, 18.789049200004705, 6.100678864125638, 2.0759330685141992, 7.079284403278705, 5.021569076720451, 9.941610249167807, 4.164456796161115, 24.45647741826698, 4.940650321380326, 7.905241730365264, 16.348590662174797, 14.794546533181382, 14.052093807799851, 15.076617913452292, 2.15382155740365, 3.191109926502104, 4.174985922041217, 10.196687263106323, 11.052083152148985, 15.311322735350636, 3.7834583156546207, 13.755609891817066, 7.6705096654095515, 27.834679232224715, 24.748202294416497, 14.188699251462092, 7.249978718475449, 9.179743803551666, 2.008280177014085, 10.802304684124199, 9.40597514396708, 22.939678517455754, 13.62864061165583, 19.02642207075567, 4.189352534235785, 2.628273007943475, 4.291845975968307, 129.31859062131008, 8.994659939128091, 35.53488892322089, 2.2782561894711195, 8.529064529581474, 12.08684444809596, 9.842815580735762, 5.836857371237337, 2.925980077387858, 14.860582170571274, 1.9121467453630583, 1.6356358013215486, 4.5122110654382865, 2.456945574410391, 7.378010465168351, 10.827193240707427, 15.968153056114838, 34.69928601219057, 4.15500478143416, 3.286217004159381, 79.15009699405844, 8.104513818603403, 10.946763289253282, 6.743960294118747, 1.3923988551567594, 4.007028151984365, 12.808185981923067, 8.027394357450175, 6.309115610080811, 10.54563262418257, 3.7877832029523777, 17.352680929219208, 12.584972691044666, 6.151465993957131, 16.277141894053685, 8.205414137047704, 7.568369650534013, 5.7083345078844765, 70.62825925925927, 25.30747045648219, 10.53021135631309, 11.182336285994898, 6.745742944436455, 11.99945407620538, 4.123362839894884, 17.290711596288084, 6.103467646968201, 14.665627877501738, 1.9619571873900532, 12.18897933216668, 4.547685656006447, 6.523804728541457, 3.371584753918169, 8.936323194546619, 4.040505282496685, 22.4934308458363, 10.062701600820365, 2.220389878880316, 13.288979052034183, 24.30325794974984, 4.599511673443118, 4.116148538424175, 7.506962570064476, 2.379367241946189, 5.920071620457389, 6.26314686194837, 10.851676460487504, 7.741918129304236, 2.4190620737626256, 6.493897422820802, 6.121181029362861, 5.790748458930681, 4.632828478579113, 4.026548868094753, 15.149418138771559, 6.596952436571585, 15.936904049387312, 51.23738884885551, 9.458145525744579, 4.504777755064556, 7.845345657888803, 16.730209886351357, 11.147922108622415, 7.396335937872014, 3.849901833824934, 42.97758196911431, 12.373935730947226, 7.9058004765123995, 6.68583812572313, 2.4579990390642306, 7.149260934436292, 10.142131702503988, 6.402555452646962, 2.9823686716735063, 2.0391878275147772, 15.372515998535718, 16.73750300063226, 4.98062258455546, 1.488368537597614, 11.261074603202278, 5.015592893854033, 5.149994452636563, 7.759581666983933, 12.605965236934402, 2.1432268263558805, 13.488036813621138, 2.9237840511908364, 7.748660242860279, 8.25533606936417, 21.660431795747222, 8.688037512423332, 6.554367867023336, 3.2492462079993656, 2.650652447932942, 12.101511043346441, 2.4291317555519223, 5.635464285019963, 8.061616557413547, 3.6662310892077876, 8.565321100530003, 6.831498721532497, 10.342033749985944, 8.367379619930741, 3.0886837336838475, 8.265099679430284, 5.825818533949023, 10.288768706430922, 7.823133308394482, 12.937549014153273, 3.548148666835334, 2.795741612589623, 4.63847765402139, 11.41046918345101, 1.1351270750046019, 9.86351142061025, 13.712364735373905, 6.732020119148616, 7.628856505915257, 12.578345350092201, 3.642566307348574, 15.694310096714826, 8.9641513185213, 2.3636611793016296, 3.1463814127323975, 11.509484352839227, 7.325491732912995, 22.557394259872964, 10.307076872603327, 8.388522604113387, 6.397059344546078, 27.517099396518656, 2.5197491330946855, 16.904625220423462, 16.12378608288823, 2.716512927799709, 2.653963640224863, 9.848639654516848, 8.622978798921633, 3.3616354950768126, 7.863806003453663, 11.264254474336015, 5.956986413558566, 5.348414527813945, 14.57170831811506, 69.99395833333332, 13.25805315747818, 2.0900128041932446, 5.758834853211725, 12.135685580218917, 9.259759366108693, 6.527491503884837, 14.240911099940147, 7.8869166517487095, 12.356497099170738, 8.80917063313457, 9.51293722827479, 2.191147930256686, 5.5496475783020545, 9.767836483869853, 3.456810335082715, 6.57344931407731, 7.207628955903154, 10.006072263364299, 5.326459323388651, 4.5382024120198885, 8.471546657703014, 3.6468439043501233, 5.7365032372022355, 5.5728363475022205, 36.1581508688016, 8.356753874537233, 12.895595566675425, 7.27758439193587, 19.432893092363837, 3.5817885978433184, 6.827507303402319, 18.43728509815579, 8.316293446319985, 12.282687886048084, 3.551148331509586, 7.3366783028343034, 7.072217099197076, 2.0949885916848765, 5.5728363475022205, 6.334310512023786, 5.1473012119226835, 15.7147005439868, 11.99945407620538, 22.40310372261258, 6.292972348214311, 1.943496036330663, 2.869614311572497, 6.67389442138064, 7.4011076768759905, 13.154744279228371, 8.676128607389128, 5.361444347061754, 11.219554962649056, 7.053632208003222, 7.966282207721877, 17.52425476346281, 13.35802674208962, 9.382471887577802, 36.63549387203604, 8.732671902366608, 8.17337183791168, 9.290785487572144, 48.08074763742537, 2.818720041883609, 2.4323220165864, 2.424661617786468, 6.890843959627736, 9.703997358522853, 5.562319442859586, 6.192495212015777, 11.731372378365352, 8.795152149100053, 12.292381320785152, 1.502272265433018, 13.86801946244527, 6.771563068380135, 11.450972476709783, 2.4964805068032465, 8.7581790299141, 4.761945525349926, 3.210586348009916, 7.606811953507339, 8.52253583291193, 7.362465279730474, 2.98912956682606, 50.45576338094289, 11.21679930690821, 9.646071557623749, 13.013906339313516, 5.39982622758297, 9.997023746417142, 3.4206488281706267, 12.113913986569239, 5.319051688502927, 4.623220735518827, 10.099326771696665, 3.850043161848206, 3.237620231709165, 24.69221372004348, 4.984668830424436, 10.06401347154803, 1.178290067288639, 11.171133565671475, 2.9519421680834537, 10.549782062152453, 16.294082114824114, 9.426621021064536, 5.665236371738797, 13.2941446755357, 1.6738925410993035, 15.739924002962182, 11.714606445126218, 5.274571940055526, 78.03597416989373, 12.433088595220527, 9.479945529937703, 1.8925258900137039, 2.071455673611748, 11.668351246521036, 13.44666154744758, 21.20746061889268, 2.9762856834236913, 13.898031989425478, 4.966221856483484, 13.58593334432262, 85.75600504762203, 10.888937770129823, 8.874848089589381, 15.276780427908477, 3.8192683624433066, 43.479351860724336, 2.0329793965574594, 10.868790232747324, 3.161688602585766, 4.015874412637815, 14.275900347952982, 6.626315492677233, 9.826288221444036, 8.028110470236273, 4.622959464187448, 5.527241691675884, 2.0566179569174903, 4.722347318752572, 13.868556036877942, 10.358497423871627, 20.16, 3.0987943937410733, 6.051545462910514, 293.76972593174605, 11.17318955913707, 8.812874651567945, 5.858145951986919, 10.689074310539633, 10.82225490532678, 17.97306391747921, 2.2179335074473934, 5.115627694241911, 5.058038980172856, 9.270777333589114, 2.4679000384732563, 4.520603232272183, 11.79961855119103, 9.336415552305903, 13.818428373717099, 13.986880144922795, 6.729978324898351, 12.113802964226986, 2.1926421658809874, 12.780499711079115, 8.495249084685714, 9.085173658948865, 2.1729989355390997, 7.239980347133903, 5.634742375059951, 3.3615044890749504, 2.2556282313224285, 13.603974259131874, 2.447302460807549, 2.0721777338330356, 1.8252441447680305, 3.776074619024927, 13.571869044943028, 7.843106111166166, 93.38130452880452, 8.379224217996091, 13.85412015440914, 4.359904686509171, 4.663254859140926, 12.503143447461946, 128.95912961792385, 65.25326070605276, 9.876667371601235, 14.852048920240755, 3.603253821451796, 44.54005040085304, 5.843392731182328, 8.702001483059744, 2.91655981388527, 15.635338856902663, 9.059173853335245, 13.28199914904701, 15.625867768203374, 6.580889731360783, 9.784688207774089, 3.4442539165066557, 13.554643206800861, 17.19079594812571, 7.7195770714275485, 5.17563023647276, 9.90535344872007, 6.429013875270266, 32.94024181200883, 6.04166029351574, 14.264236745689416, 11.439179736515205, 28.790921477597347, 4.285747954475195, 15.600265365800633, 16.68516657307994, 9.006918337820949, 11.485206648452737, 15.720234002780478, 12.808185981923067, 2.8537246062863333, 8.629550865717727, 16.348786191079434, 5.74925559623521, 2.170072573826273, 14.167403772273135, 3.78937261408617, 8.51314950291947, 5.365291211248866, 6.031092061888804, 4.451698825481814, 5.620229130306622, 4.921395212277033, 31.07549492920215, 22.84047089924353, 39.39516781027338, 14.18605124404148, 8.820647745881137, 8.055320320250626, 3.1744642537870704, 14.514625389594325, 27.040755580760756, 6.179715717557617, 7.675909561861554, 11.220398242414674, 3.8425663403391463, 12.137934990574427, 3.251185812239571, 5.7749474360510735, 12.074570680503054, 10.867669289016558, 2.455097974006663, 8.722026742686376, 10.900510572628987, 8.119064602339533, 7.922230327996557, 3.155731688118322, 3.7305194688821475, 8.20719426691175, 2.178327068758071, 2.6734388759376553, 4.956039845736413, 3.092795361743794, 2.3515270346539037, 8.316417226244342, 12.536481704018454, 8.69252207098429, 3.6358435530602895, 6.955461848737322, 13.330943324363101, 14.584138966841925, 12.885784325417987, 6.593943095513192, 4.079743062309512, 4.075353713479687, 13.090532787293341, 9.113873743722559, 11.466367035229156, 9.422406273154532, 2.4443547804561963, 5.0235816047660355, 3.7223374372502547, 5.18429202363228, 12.557208359058174, 9.386715594994394, 7.291752116413765, 323.05, 69.79189849439419, 8.349543507043709, 5.4347091776678385, 7.700601504404753, 5.3134870310885844, 2.1711787824637097, 17.772349343087775, 7.88689497783364, 5.974265741003713, 5.504730717272375, 2.8063485187815114, 11.613842432848942, 2.0933470980732842, 8.644997557453339, 4.848101273042694, 23.615738709188626, 10.374983910119525, 3.3631533612296636, 10.701734147121172, 2.966155271082523, 6.432805381115596, 3.1215364137326147, 2.1070237363762243, 16.81973299889097, 9.644139088404621, 8.25831925188035, 4.865498999642383, 8.514711866514192, 2.2617531192975355, 7.25523184115968, 10.040901729826116, 10.674222446576703, 8.730488219703124, 11.223966931835923, 19.61938661766521, 5.6410674484387515, 13.27499306141089, 2.7354382535033532, 6.348855406468848, 10.864823021517134, 2.2556282313224285, 3.371584753918169, 15.981954566316825, 3.0245082970270674, 10.020157744131478, 9.681152806768363, 2.6082242301546192, 91.2887396396945, 2.3637787129932497, 4.577536382048194, 8.809773673554453, 9.163608999343282, 17.979869393994747, 2.0823730986962583, 4.1503968997214455, 13.193893137453076, 5.261674418261796, 2.6782468551867025, 15.322264720794015, 5.986729922963733, 6.178935468459006, 36.54730971453443, 12.935636047383225, 8.030850805278249, 7.780858125192334, 2.3389356955908474, 2.6929801036006773, 81.76734278093112, 10.549782062152453, 21.622829029861478, 10.84488234512493, 8.097088774377648, 11.716363850569692, 59.55344532190254, 7.811457840030689, 3.4203656239694724, 12.788943607290973, 60.76803335526034, 4.757240195971276, 33.17110104694592, 6.8208977476834285, 8.497140596479586, 9.76057466878118, 16.55041100831579, 2.5135255549371114, 9.011327792367451, 6.988955605535666, 5.847497531819393, 5.6576691953294365, 13.71109226661764, 7.449637610831029, 10.277538772168286, 3.2564262943334916, 4.334069404254526, 5.077454998789699, 34.671193088862836, 7.780447111563511, 7.815830695536697, 7.275966009966331, 15.677895483207742, 79.10371771907752, 37.759334642236325, 12.955257190766586, 11.293131950216672, 12.162355188264982, 6.7689680154483485, 13.310833280853569, 10.943996350163962, 2.2480039977247186, 7.675909561861554, 2.949495684403014, 6.319807254810086, 4.998275968514886, 10.89963795729728, 14.208633981525711, 5.058717908328948, 5.513139306837109, 12.550087928830475, 10.373873485346486, 1.6533823577702285, 10.161250741514024, 15.479385763682263, 7.922627135036406, 2.6055078748603737, 25.25805564881005, 13.670918922487147, 14.413689803326326, 26.568703693677374, 14.867107831743006, 8.26831165664396, 20.392347252529934, 6.461182586858583, 38.83787502558784, 10.317302058479793, 7.916704823879808, 8.032453930431162, 2.5705208570336593, 15.69639282505447, 7.1737153073222775, 3.9866503613201676, 7.875786711071572, 71.6659980521305, 20.101458871078364, 1.717135164005656, 4.677711498849927, 9.50621603110867, 15.127900925959034, 38.72496933765286, 10.895088152973527, 9.7155577995567, 10.353646599757726, 4.911883238786396, 5.343126618874591, 7.905241730365264, 3.44690973514102, 5.534786582127213, 3.2777755255223116, 5.900047453945223, 5.1740993746703445, 5.498760671929406, 13.742974900309978, 5.948225835077861, 6.386455778902206, 7.635477220760485, 5.376723486199971, 8.7867311674148, 9.919117469370763, 13.31654501786981, 6.5402377084025, 8.473335448762038, 10.864122061016614, 13.827467860143111, 27.13476061149426, 5.6723730659718195, 6.992982145626399, 6.54594578700295, 1.0941750565131765, 5.493076549300386, 6.056601349085055, 2.024714274211496, 2.8533282666311393, 5.286795055497748, 9.7240855204089, 9.659142776057273, 25.23649019663048, 1.9120783414188987, 33.663157149906816, 4.329179623530492, 11.178133854989834, 8.675073691617818, 3.285192666240023, 19.796885482621846, 6.163664788461149, 5.39790979723832, 107.94249519507282, 208.891159723847, 8.952802862059263, 10.992471747323775, 8.742388887976292, 4.866879002942132, 19.891367787570235, 14.21617006402449, 4.454707555035064, 27.818006932530185, 15.97946709584027, 6.649932429391676, 12.408883348937257, 10.76680352378197, 7.301960635219318, 7.827063543750842, 8.51314950291947, 5.469134850876522, 6.692996485329454, 13.452800718231254, 5.985833369941009, 5.982728331662888, 10.212058944838384, 13.55581653300375, 10.437239393991126, 7.41056336916533, 27.443424567657903, 3.9249561391073393, 5.245121541220901, 5.216706459478275, 6.251733035742876, 8.890272384905776, 10.755281039243796, 3.379118739897168, 10.643181688272852, 3.0844526549763587, 2.6782468551867025, 2.90293535171964, 6.077443076081007, 15.061698243366461, 9.877544090019116, 10.065080096659571, 6.551791863365422, 3.849901833824934, 10.148591061206465, 2.443783635278628, 10.79397855136541, 32.15520009038477, 4.316183801609509, 10.423963097922249, 13.192592077198153, 9.302193082141956, 6.165044793084, 2.8192037354950408, 24.150849596213288, 10.104544147362757, 11.999259133689659, 5.663880603400919, 8.915996219200604, 87.56905228532118, 9.717264461783527, 4.11087685094653, 2.148012565592724, 9.787076772956981, 5.405604410524306, 5.21000869172443, 4.613727594709763, 4.310321492958212, 6.174338378250924, 10.6062001508134, 10.338826003383536, 7.554293281182819, 9.21152338371801, 16.960163880069018, 4.354955174035164, 48.63896753246753, 19.579930398216412, 12.28405389412301, 31.2483594642447, 11.463677624678539, 6.0211580530397235, 2.3814405116549473, 5.963709058398926, 1.9359408009688965, 7.690706423844355, 14.268077445659907, 2.073775698851172, 3.300582259810517, 3.750191092388697, 9.028138310209147, 6.2388791424372565, 87.04778269820996, 10.12269729597919, 13.605803659281142, 3.2288419123402194, 8.11661747857374, 9.667842054405954, 20.3917340348161, 2.0721777338330356, 9.417389744008288, 14.940474085473827, 13.82523653457042, 19.015882716091472, 21.42965191359477, 5.04537913187495, 3.710753553966094, 15.157838710857355, 5.920316310192387, 15.61552988887865, 8.618058119163818, 8.611343720440964, 4.9391363619535795, 5.608433253674605, 2.0502685797009854, 10.477098813474209, 2.141081221269698, 14.916495715801824, 13.501246411751572, 7.72107884645268, 11.090940608245365, 4.45209696205092, 9.896356636284045, 3.0572911147069215, 2.8415443423706175, 12.57476489081457, 5.816294781493518, 16.146350627558352, 1.7536479502246258, 4.3634571537050695, 18.69390634548445, 13.689258797862315, 31.545780407402418, 5.538999833269081, 5.817603862662845, 10.823148742655189, 3.0074829820259454, 2.2388577719827665, 2.612427956208618, 10.380694076008329, 3.189909430553075, 13.453525637791067, 9.764712906607562, 12.383325295449431, 12.191642716090222, 9.648259292816023, 12.632634371599718, 4.736697992804717, 6.567318051501698, 5.619984648007456, 52.567962272119445, 3.3112418307498643, 11.090052432475677, 3.2955942852447446, 10.227483696160206, 6.392923579562567, 5.107957219126928, 4.422647873372322, 5.690922689426851, 3.4206155334446766, 11.168577526414289, 11.794392424648873, 13.552782786805079, 6.130497380708761, 3.9058250295683314, 2.037186997137409, 3.773689682001381, 9.508542939575575, 11.809381708753033, 6.081122855545288, 18.031154650703257, 6.1025477850105325, 7.928376479615678, 5.6173623040769725, 6.389391675602212, 3.60437026004578, 3.008595285357524, 12.778930307037218, 13.316990384605933, 2.0912636941097706, 6.414673577657998, 10.078380097193023, 2.0865422513706116, 38.33582176771052, 80.65362055648951, 11.073968847015413, 3.485499108084168, 2.584149097895728, 3.9363341924808704, 11.210286561735948, 8.091184723215514, 7.821897669721235, 2.42640759424247, 14.782737468341264, 3.8408270355188385, 10.716723379193693, 18.451423437128902, 13.421673457454387, 3.89152479279321, 1.0666644795672837, 5.0182361674549245, 7.880940177560046, 2.9750561178124197, 5.671420571642422, 113.1349042032333, 3.848573220811482, 3.106733207250567, 3.186089089584126, 7.696204467870547, 3.731071666315588, 17.306982682051043, 6.234193832254005, 211.46, 2.1625726632434827, 9.070716500982236, 6.043230317903504, 15.996678678632213, 9.83724422500061, 2.0036876020363277, 9.193192754237446, 13.901905622676674, 2.861620264297174, 9.217580801997276, 13.227644413248926, 3.825601459270021, 10.354890377591785, 5.377831499612341, 7.089559254766653, 7.324973504546875, 10.773054625628577, 18.313625115704635, 8.11980053462213, 10.666784117023457, 5.089576106219563, 47.34227142857143, 11.39150322779609, 334.2550503511452, 10.857690205486882, 5.4017813723227945, 5.756290484621905, 14.461088417390945, 5.220608265556366, 9.919117469370763, 6.485888692596781, 14.135710543798364, 5.039912864009658, 14.990035710570572, 3.199366364555388, 5.129856559755313, 1.5929581156803936, 7.772119779276154, 7.18598335975666, 5.876118673849374, 10.117587873912976, 8.492509206956205, 2.095839320599749, 16.34379956432126, 10.49037042459244, 10.681792247713265, 4.210611067511744, 3.3923382757124734, 1.978384767611599, 2.6837018951479052, 6.5480364951663885, 9.628127306944076, 12.527433479960287, 3.680926489042379, 11.743551432664635, 18.63406670111802, 11.866653084394693, 9.326140591681652, 7.520979095243458, 9.434478030617841, 9.139675183647437, 10.782039169677454, 28.494834236528654, 68.11815259144248, 7.946885711440368, 13.030024906213919, 13.830021095371473, 3.3949543204755424, 5.792846672209348, 15.803449407118704, 5.6577058905928945, 3.359611163309158, 13.40514693973015, 11.151645897499481, 14.369091223677504, 6.679532130188912, 4.7392423918611835, 27.057286117229474, 13.117165243766886, 8.324493244968101, 7.100887654115009, 2.8063485187815114, 2.797749043411572, 6.0128600348819905, 5.9888207744850375, 10.835425826828509, 13.867687151909013, 1.955139451642695, 6.081919467632912, 5.457223694525145, 7.391328462085604, 7.197848406209224, 56.54486446790738, 7.348602150279131, 2.2086883797048977, 5.941746572200696, 8.745200391866492, 7.985927980292708, 12.83421388356903, 12.824795677737024, 3.011764033599688, 6.136957305974569, 21.114165337748044, 7.601233615619626, 5.547409279061606, 21.558221831201827, 81.34750429049018, 3.9295260737390736, 2.867468600506487, 16.821906958426524, 14.620039709818206, 218.27870093786504, 10.29611545586698, 5.351937262597018, 11.719383253341405, 8.033194217014708, 4.568468939855495, 2.739902904746761, 2.6175975165825385, 5.060802194499854, 16.672384632876852, 17.796350981366682, 13.54958051795304, 38.444189806413846, 8.53166183320953, 8.751879457699483, 6.753850743386713, 9.241751186372433, 14.212850408687073, 11.493469417601174, 18.534855378101362, 14.935611162198517, 5.369263271904146, 8.20356934163151, 7.064888806098197, 9.455315160196255, 5.601153556251529, 20.121309546784637, 10.928560010147422, 1.8056325755640446, 25.53930735030089, 5.354135709521618, 6.920550533651476, 8.176106838314514, 2.9073456850380883, 3.7131853390165834, 2.5624034554587216, 9.707545261626004, 14.162819826867771, 16.83365809455052, 2.3053089374418287, 5.496828282132077, 3.5229589966932644, 6.363793914148996, 9.552520127355532, 26.961978328417544, 3.734585922004743, 15.544823186412952, 6.674493719960451, 7.6006513165396665, 5.062602080804307, 4.063178262425313, 6.69133033356999, 6.044558207198987, 13.918975933046251, 9.943782052685798, 21.019597801156173, 13.07558907257315, 8.606233069945466, 6.301411513635561, 3.529168926573438, 9.966761489897305, 5.170114096145552, 12.183655233915706, 9.099424960904734, 6.407224022778479, 8.061084350226649, 7.494533335685885, 10.499636381578293, 16.88848675780252, 9.515216355079282, 11.270579734836712, 29.31273651972856, 7.451519378827596, 5.923880272506063, 9.382274155588677, 3.3105128402407815, 11.391861852586997, 5.364990702651096, 12.773832006200417, 4.392136771287821, 2.2730848072777095, 9.618041914343884, 7.0354141215915105, 7.960802804447382, 7.947576964939489, 10.081300023665792, 5.797695658658357, 10.054539817935614, 2.0036876020363277, 18.01274192667069, 9.705121809635212, 17.939300893619933, 3.295776731012528, 8.85447663945882, 6.0488697582566635, 5.344902421643386, 4.825654835024315, 14.197896747912718, 7.091694829860904, 56.70445375017913, 9.838527389017482, 5.918163509647185, 13.458009473612089, 11.367111677130342, 5.900807317468884, 3.6018809250667077, 14.253434358014331, 8.381844032201057, 5.618537409026958, 2.29213767712695, 9.898228713793399, 3.789126868726309, 6.88544251602815, 10.458938576630455, 2.7288701939493802, 5.151364384165597, 3.6062201229297397, 17.737768505914588, 7.089528987985619, 3.0911413708107234, 6.626667937527498, 10.735222518564003, 14.113237383956651, 9.037359925748458, 1105.0811294871796, 6.203413220422455, 12.559840517606402, 13.2964436164891, 5.024298019886431, 15.669268764449487, 8.843359713005475, 15.044922857982158, 11.164258838786873, 11.995814482013367, 15.547326638499376, 8.426138061618927, 5.223034531975662, 7.765895145473439, 14.776503255572353, 3.7232489092196324, 38.49140971852545, 8.912103603461038, 2.7240676936969224, 2.350515916442477, 13.51580072163994, 11.047139920188236, 8.329630355988071, 10.268627129290905, 4.968909955005903, 10.656506566571109, 6.182874154065059, 9.255727537185585, 7.595599542678229, 9.17202869841517, 5.626944325903522, 4.861497416910751, 3.8719557449202098, 5.794135480542691, 53.135937677966886, 1.5386497454740102, 12.107591943310327, 27.624022862666006, 14.535364145685527, 1.6676452310059353, 5.141860478918557, 8.438669734519033, 3.3479738579228018, 5.968133573697051, 9.360362615198426, 14.363216117177553, 9.024465745397114, 5.8303537799992675, 5.485464853938119, 5.631589967560173, 8.522019977066616, 49.22241160664893, 2.704786225848667, 6.137967660222389, 13.088035196767926, 13.245047401556024, 35.6712446518241, 6.62008290314948, 31.44466427556173, 14.806853539174556, 4.5284623505629344, 8.780087725900577, 12.005766100777405, 9.308507839935988, 11.92546945366297, 7.139428330648928, 2.082266652453785, 31.718486722263496, 9.898685216775956, 5.785324772537698, 10.320114375261545, 9.822576653891002, 2.8487599677043765, 3.471164545649937, 11.101622639155979, 10.634620907902672, 29.3391721072844, 16.107285764818815, 19.99659343439842, 19.477727610905834, 5.100009511097273, 33.55988496999687, 18.897799883441778, 8.918604702059566, 12.950354930822128, 4.1721196613521, 7.143553301767087, 3.8871313940153787, 50.0365, 7.118523617617723, 7.907638384923755, 13.101475996057673, 4.160627370180706, 11.268105876067471, 3.9414671736617906, 17.286919605978042, 11.970927456915174, 9.01060201265972, 14.141540487761711, 3.999336693874747, 2.0222742443367956, 21.92362911282771, 3.3471459276296325, 7.2614811061486, 7.583114584851861, 9.479010536249577, 10.51845263697871, 9.69628753453359, 3.3086342898306755, 2.1762840379908077, 7.254230530645768, 7.679503392201534, 78.16056117839038, 14.190199228649304, 4.2727620073590975, 12.094115876084595, 15.384287507947388, 13.773468052936018, 5.271187615938994, 4.120752310833979, 9.002887030445155, 11.122683413352684, 7.915868131137631, 8.816393733097238, 5.317439147604449, 5.669499685201276, 2.1677163269356554, 8.326260985293304, 4.4843483309301755, 4.239774480957258, 3.3402533740456004, 37.555840704157525, 3.7138413809138973, 13.851596147915325, 1.8957768911812927, 10.699308651324431, 10.140526254539376, 36.7899163372859, 7.9912931406059355, 1.2881004124819753, 36.59696357251663, 11.826654077529533, 7.931884478117509, 9.891476334374962, 18.033351392138012, 2.7992878575293902, 8.731225906180292, 6.24630938994526, 7.046923351211875, 17.90797792523117, 17.072215833037127, 8.287945901970689, 5.393531379111076, 7.877427057656288, 13.765054916996318, 17.348433713552016, 16.96927393025848, 7.318376266120796, 214.07054632673825, 7.752229097011277, 2.6539640629047314, 5.236013755523402, 4.210718778348151, 23.62676939931937, 5.058038980172856, 1.825919609772576, 13.03448286937132, 1.5821929325866568, 36.06925925925926, 9.42295496436004, 5.585992058785825, 8.539808385791398, 3.398866083723117, 7.433190796235676, 26.50917327172871, 8.301038480136883, 15.711571641576866, 5.930608434268721, 2.330732303226907, 11.878553757436466, 3.7648181126343645, 9.984099430100963, 13.753300233190016, 17.882188353225676, 2.2522499517692873, 3.8525513620457805, 23.440010909661513, 39.09110103059711, 8.552061651230359, 19.95965569937774, 32.141877900430494, 12.550087928830475, 1.768648206854829, 3.3563007819822146, 12.623320988001517, 2.353506417769055, 23.178163189242586, 14.250866653028215, 4.284583928998412, 5.9445026882105205, 8.010145633377137, 38.50901048022344, 4.704290834083603, 39.16317473830638, 12.853166782705275, 7.893562304455978, 14.597481979348665, 3.783351030055621, 9.871783460162392, 13.043211822714127, 1.8769948027098946, 19.367794296433523, 9.109333708694106, 4.34205188843452, 10.378918797165651, 30.363218934856583, 11.469063491577888, 12.646866225352433, 6.266464182860766, 21.355720364437435, 16.1386941103131, 3.960502241340169, 8.155959031134325, 22.677211578949844, 9.168293796479805, 28.322608232276313, 1.2531011806453372, 1.2822087801838442, 5.210793252173978, 9.824340572838514, 11.707706038510665, 8.057817317291262, 5.353850635252309, 9.913814167830349, 53.811102357321815, 7.246142468957675, 9.629949685268679, 24.85900945659418, 4.688421764962311, 15.068504544120081, 9.066002410737132, 10.437746297930232, 9.473711993311973, 7.180154307385718, 2.021819380244239, 10.054178949585951, 27.356176981709652, 3.7773622010531667, 6.52114118827565, 8.856082904954455, 6.26554865894091, 3.6780134921821395, 10.697564921138957, 16.03335043416449, 5.272640106508621, 7.625938561033011, 12.124592240040704, 3.419531435191242, 10.785966569121356, 3.555165364674264, 36.434853515989545, 6.899948369843571, 8.261227665423423, 12.036814097865635, 9.696797508228775, 11.172817197025315, 12.864394935082533, 10.747175412145591, 8.737098459057949, 248.54467675672421, 10.69895983930189, 12.133349674186736, 2.988743602727616, 8.893691589355772, 13.771674811852833, 7.102834548390211, 16.460322004715145, 9.139675183647437, 23.86356364925535, 47.18616239567537, 2.6388185570238005, 6.28863227734701, 4.700782251888071, 4.4459570021015855, 2.1580915759546766, 2.426972556448815, 9.197326916747393, 14.15027046114131, 16.49460500775076, 3.4220815742227204, 5.661909007019822, 7.592935266941708, 9.716860483363794, 20.25400669902878, 6.112852798984882, 5.865068090688485, 27.419238873710594, 12.584972691044666, 2.7349300011929905, 3.922630169698333, 34.14244730796048, 21.34496219246435, 4.798853387718641, 4.588873069311448, 67.29374860540695, 2.421036431694161, 8.064648100624506, 3.5409447740565407, 15.552169189396407, 4.130199593135885, 11.182768506726065, 4.28181817719491, 1.1942319655452307, 15.216026201542679, 5.347340670534569, 12.324570411524096, 14.330958776346046, 10.132534633250504, 3.4542360204365163, 8.365417621993435, 18.069918993189493, 13.439001205261578, 16.44597835826237, 121.76666666666668, 2.9382299574047726, 13.034549332526831, 9.80492299174986, 2.233066511615628, 15.262276240886049, 7.780447111563511, 27.173898292723084, 2.3226354031365837, 5.630454508096216, 16.79732305823018, 6.555253469074348, 4.388265396952886, 2.863543132537883, 21.998857214954185, 10.374100345208237, 9.095502778200482, 4.669199051193721, 23.673209959718157, 13.13119193605137, 9.049478961999643, 9.78362963195051, 14.921535876785192, 5.554247138617873, 11.267455855847604, 11.153342732391327, 4.833686844289104, 6.413628742836938, 2.1104106954069635, 9.98440022637255, 7.3275660518013, 13.421032767786855, 4.2292879009056294, 20.79019614576397, 10.587445458055528, 1.6470175475311952, 11.97208418677304, 7.839673708748333, 4.507250095704759, 4.227615532192174, 20.01150971492085, 6.915273277751156, 8.037132221829353, 43.78801753586319, 3.1835735638038973, 13.10411288183614, 13.974873855590012, 18.757252001552658, 4.785779854215602, 9.09016597048277, 46.756489977470316, 8.426846414371623, 2.982505957707566, 16.955854296327757, 6.030121087029764, 8.725132735998574, 42.378724049901614, 7.827150259139863, 42.74603898151152, 2.365210912485554, 5.307957854662783, 24.982949394709717, 4.973230665740282, 5.08538739665482, 14.24447286164521, 14.43054233518665, 121.1271663003663, 5.804294620753926, 35.689345459461485, 4.420038245921801, 13.326789388008306, 8.207403431474848, 4.737141831032157, 9.163484977857157, 5.1359212683720274, 11.65193614932639, 82.44842795217437, 30.865265771755432, 11.690069144125225, 26.204597425464623, 8.469913427291997, 17.104243725301288, 13.889196429580101, 3.039314442631968, 9.10507030262147, 32.144145664568995, 6.292220363349729, 6.875908408587818, 2.331188601727543, 9.71132317442314, 5.8658166292006335, 4.051261961182559, 14.33426302288533, 54.61843447462845, 36.707898665327974, 7.079284403278705, 2.97788704375044, 16.146165082365684, 26.35788340744223, 17.819162993523356, 8.554142440892441, 13.459546419911655, 299.4066666666667, 2.788853450236237, 5.605385756919392, 10.973275774903549, 7.00498799797228, 52.375395411680074, 2.2727329873512714, 10.94273416850916, 4.0657196311789185, 4.219746082397916, 10.34817497918659, 4.859867300598331, 9.356577868361386, 7.322989445713588, 16.761167534095247, 10.66399902369461, 3.0359763854711357, 8.540702114227763, 8.941821339461951, 7.305982444600895, 12.486564800564343, 7.795966737008066, 14.282246190170943, 28.194748867413068, 7.312841096799355, 10.268712536888879, 6.466039386910178, 27.465796304650013, 3.16540684711618, 15.367667468940294, 9.247391192966633, 7.697600849949412, 8.916634171251983, 14.383416005679164, 8.854730559991813, 32.8946201705146, 7.52803905313815, 3.6862310663322533, 17.655482657075687, 6.253759328759203, 6.808032050491119, 1.3966856729876538, 5.4549610831779365, 14.426514829223953, 7.845111274965148, 8.705378831114713, 11.607557547297102, 2.251901267949379, 19.38835802612469, 8.351952803184258, 5.511813125498834, 5.953094551774365, 1.575852857106375, 2.6244832032308945, 18.421574251478624, 3.4680973548692804, 20.397028605304236, 2.66044682058171, 2.104223570697413, 2.690072211306466, 12.09292242722111, 11.871517152834443, 6.934009286774316, 5.827006636141697, 22.10934370670686, 13.316403631180112, 27.1233763624415, 3.5627670168266707, 14.036467308204031, 4.300045735024886, 7.956771382379432, 7.827650094644065, 4.143352884092731, 11.493469417601174, 7.264234922140983, 10.205373044653474, 13.741206578345025, 6.891960542848405, 5.917679673510797, 40.76662771774108, 3.0965451821420995, 7.871460783683566, 3.3682905674134003, 6.380307865334438, 8.51549432407596, 11.631357654822574, 6.424802800328108, 17.386651181570663, 2.192561614443479, 35.117682214566926, 3.1040067683066304, 14.876421076248235, 21.220451275414515, 6.319549384272794, 11.361616554993283, 2.538081083227672, 8.687683183715997, 2.7178761665914077, 110.43172841864018, 2.156341668674449, 4.209988039184761, 15.115825187774497, 5.820979451577274, 38.09745685962723, 2.2724822701575946, 2.6890107315408978, 9.031205901588873, 8.009267583829164, 81.41853716474255, 7.912831498938832, 13.810645834506145, 4.282690064010782, 18.798644243090138, 7.280607772372885, 32.61673318912783, 22.04956327711346, 55.360594174870656, 14.034017276432202, 26.323675293720115, 5.912412797623401, 8.19905902717078, 7.473758763077926, 4.959382997913925, 10.76228256115734, 13.491602555460943, 6.217169591900531, 7.9102943905398, 9.302522439016382, 9.785047000604173, 8.89206245992151, 3.736890898505097, 8.64465586768659, 3.022796267188174, 5.706566375347768, 14.190938673219097, 5.874708668891915, 27.30763125907067, 5.2724702458787895, 9.226242077104269, 2.517560991869403, 7.951895782860873, 9.289310640802773, 10.354174080378614, 11.899383952627625, 5.5931597017659485, 5.7315096723420655, 20.437952938139052, 3.1322783510501, 6.030683995265348, 11.147922108622415, 10.205718284530503, 12.375317947233652, 9.791460319026049, 5.662323318108724, 37.97403627217724, 16.83009295086198, 9.22512805723955, 5.253334763894688, 10.341756732019105, 3.6535856164479834, 10.543928647146236, 2.914538305081521, 6.958127819440588, 5.4933661388142845, 11.508727730107818, 3.0599053439975052, 17.756146016221617, 3.360992433443627, 8.751811707443856, 6.295119738150452, 17.595788704364598, 5.70721286261519, 12.807009456594596, 5.194520795020496, 4.103774536339483, 43.25564876489464, 7.60441748254404, 9.340048815755159, 9.818355965178108, 8.195664192289819, 9.266874274388245, 53.93020319432214, 5.098040766019563, 12.597609259215535, 4.530622535500198, 8.250989569481337, 1.7202823331296582, 41.17983025536201, 21.296074915350914, 2.051196723624138, 11.803197071034909, 9.582114466139846, 21.012376562682974, 15.70111496890154, 5.425941147923145, 9.426545657150701, 6.8044431448495075, 3.9905799776837956, 6.482435602426356, 7.20015169674921, 2.4113222921294684, 13.827205352165384, 3.4986148207642787, 7.009428371183969, 10.492258107502098, 13.807686849375656, 15.530029235064765, 8.31484601214098, 3.8012212161144805, 15.535957422162117, 2.246598864949749, 19.274466567293324, 48.780299789352156, 7.687881690386449, 3.274434197634913, 7.751105016339733, 12.570177640695055, 4.838483149695092, 12.63858062929881, 7.761928615064887, 4.2306452585473195, 4.502312861532238, 13.503934565319371, 8.255197003735223, 5.266684903036577, 5.00470206984813, 17.759700662132847, 2.045325950749482, 9.93774567180515, 5.113203682651623, 19.95643980057829, 16.26210939988748, 3.9637246315325685, 5.495937850066431, 13.75885117193328, 14.90061709281601, 1.6551528808083256, 2.8063485187815114, 16.329618668927257, 6.654864994147987, 46.50024076430203, 8.755878602676809, 8.080312829885848, 24.342479885067327, 5.962741463468903, 8.640643537095313, 12.577702737377988, 12.37633293319532, 4.545482135359798, 25.69852283530828, 7.659826576438482, 5.314647371160455, 6.4663712834116405, 2.8150118430778996, 3.352267542833457, 10.621325008768213, 5.85606399945904, 9.454368977243595, 2.108410698063384, 16.33082382243638, 4.8013806488507065, 3.718027367419447, 7.622534136491765, 4.6863838931679656, 17.375074726397553, 12.003585486265559, 44.333843615840394, 25.90040204533777, 10.213639667312108, 14.16150903761233, 3.18337559077985, 4.568468939855495, 2.658031695865639, 4.544069550889534, 7.608595258249771, 14.685793519556238, 8.921959959837647, 6.008053578895775, 10.018209888942836, 5.0291735562200435, 29.301400799461476, 6.008749353672257, 2.7322115393038637, 29.23486050655416, 6.353790121704044, 3.434683557291803, 8.753154900358744, 12.03814402287582, 8.289063392838571, 8.079042974291166, 13.362158952509922, 3.8858765878517483, 5.061370185659967, 9.826957650387415, 2.2310837113628694, 24.378440850929564, 7.563452283922137, 5.344522705244707, 5.201801314612613, 8.278147354288455, 16.43000444164143, 6.488603609834964, 44.31325764159665, 3.7559480302737147, 9.760351654244886, 8.225980473823249, 3.753071775281822, 7.326784978957238, 8.348624246168326, 14.541777275534573, 58.8814165282392, 14.766894807386821, 3.6302765068047473, 6.086777095911481, 24.27325859914452, 9.213383858212865, 5.103676239963197, 3.140822449427388, 8.775593542947249, 12.742505050067756, 11.057414088356936, 8.496023792402314, 12.701704216711295, 3.0825968423222854, 7.196292230362292, 5.208154198846345, 9.105378091246918, 11.192271882211871, 8.401132683349154, 6.051545462910514, 7.027389174961462, 7.660610980051002, 10.302923035317804, 6.033770062073177, 6.633837049781667, 13.162510979997267, 1.5850758891841474, 6.019305997681463, 28.31605119139799, 4.743903410875584, 6.481173577608795, 26.270921709053, 30.406149003407645, 13.185704127351196, 43.20925936702863, 6.591542239328903, 4.724417442727017, 35.39848530087002, 10.548436564808505, 13.511177169629443, 7.51270172155841, 25.9179094255577, 3.5082590618767955, 3.670602859927342, 26.73474620166698, 2.39186998393697, 2.4079823192533754, 3.345067317722333, 4.089229392775303, 2.7227190074328473, 10.458938576630455, 10.054178949585951, 3.9249784297736885, 10.86799384322815, 5.719302156808541, 5.018980405917908, 2.3170284454931247, 40.51622366351599, 12.758053529064656, 13.16503512132224, 2.775072918189116, 19.271370358453222, 12.269828241546838, 3.300815745265835, 2.5065158544825166, 2.4313842492544477, 15.032320906446632, 10.353117294285733, 7.277522050553871, 5.166404749081, 1.2864970177970176, 10.052762865443933, 7.996892540555654, 22.70325176626194, 1.3539483638430319, 9.01148073648576, 20.06666863036355, 15.856157760580915, 5.162560979249464, 10.679805208830453, 5.503252168826168, 8.745529143130184, 2.99740371225133, 2.944571469837611, 10.314031293752343, 12.102422470797244, 10.267340319344573, 30.54166058148894, 34.892294772530846, 3.7549295862312384, 5.4221844273628435, 11.592213362602045, 41.36595035483997, 5.307119977258526, 12.324037840545797, 12.631230425719206, 8.648818646336034, 5.192988117268888, 2.8702048371783087, 4.0260321816873414, 8.14100922387329, 8.962053648177465, 2.97299544566299, 2.4182106021224308, 4.199248018067935, 12.347442210708378, 2.3747606916476474, 3.6057360782835275, 4.588491901745135, 8.53805491644283, 9.624997491931925, 13.365653202438244, 26.053385564370032, 2.986568514543307, 6.010521625541124, 3.622339817772492, 4.7385059292905956, 9.845917298026789, 56.73877334630636, 11.407132646339171, 10.99633905578955, 2.5017054851611404, 12.480302134958926, 10.309150320749067, 8.860216168528254, 9.837812338119468, 7.620917699310767, 7.736339766925962, 3.5588062891139174, 4.463708806841771, 8.249644256792873, 2.265097630008634, 3.4623790911288177, 5.8156778676236875, 8.848440701851555, 5.503783416079411, 8.44552174200967, 5.346770474476381, 2.9554467788336893, 5.115627694241911, 1.5792289206681303, 6.063532503450854, 9.049724747794544, 13.69821394859955, 6.444216888934961, 7.834641468347041, 3.5810446357612955, 8.795419553451987, 3.274975463218924, 9.86605821033585, 2.1677943585648656, 1.2704229690377076, 2.7219930172973683, 11.401558601947876, 3.4430798764424604, 2.8306317763074005, 5.672729199836209, 10.329117750754223, 9.611909776715056, 9.906164620217133, 25.46966900210356, 17.357903766672596, 8.423946828061316, 26.527641858674734, 8.932830525901652, 13.362676606896432, 2.244682321147219, 3.028647156345301, 3.9641671765895876, 2.245371799390577, 2.0997395259241864, 11.235747610710735, 6.901853391976974, 14.144459641714615, 8.33596512128676, 21.544048239161675, 3.6369382719629813, 6.447199707429545, 7.027851255170981, 3.22885703416425, 12.602152286262738, 21.027419635051515, 9.93774567180515, 9.302565938859079, 6.962816422785288, 7.246142468957675, 12.961258668608245, 3.319203535763682, 10.281903550971032, 16.306753381797076, 5.0576435908705495, 2.140137880356014, 2.264263317593699, 12.340781686094115, 5.2720610873732845, 9.663648085857915, 7.046492688050024, 7.134344055308585, 40.61474055248731, 3.8547378202241065, 4.037606452714505, 3.9031722008109906, 5.632745330606038, 2.2441048852830856, 6.476585092692069, 32.36371737469967, 64.08226751753273, 18.849701519740204, 4.839693384107896, 8.462621441596456, 9.786413285863826, 7.696022635033987, 5.721798869793087, 3.338419406208699, 13.594998332984403, 10.316628432532243, 7.874672806825277, 17.065828349383878, 7.175281255751656, 55.947740236091455, 5.534144632122182, 8.97322621441932, 9.638005097985472, 4.360999789613284, 24.61185419013787, 5.151482399450622, 4.977887897636319, 8.73097499890491, 10.040901729826116, 9.719963734627244, 4.668271710048375, 5.742605992486988, 5.6350401226543285, 10.003479656660552, 6.081546773427793, 5.6017876436444, 8.749035267184407, 5.472177059395604, 7.349950649105524, 7.232949403532363, 7.943268150353744, 11.60506587687401, 17.756146016221617, 9.063302270896168, 23.249201130918408, 5.5529319745122, 8.915996219200604, 23.177544337514618, 8.896895818193375, 5.388192798678452, 36.981894681390756, 41.76305736568743, 7.874176188871877, 7.053632208003222, 8.466161104600578, 11.122394213897254, 3.2426780455179487, 11.654382136003965, 21.73401375405947, 3.5035803871794293, 23.260648100015498, 42.784, 11.514879844921754, 5.290957958457046, 1.9951460990399053, 3.9082573550664654, 6.906412186974242, 4.811745886554337, 10.345724619442407, 28.106929563156832, 3.055833237047659, 13.203682528508944, 6.873174630352496, 16.252991788504197, 2.064199659135786, 7.706483858151626, 18.301809409808435, 42.23222748248766, 14.53150686091607, 4.9346079015765145, 6.87386753872224, 9.173706071035461, 5.8580870331011, 6.627769374190506, 13.172350748273509, 7.644473784986901, 11.13949261201961, 19.19357609348152, 5.838370949008985, 6.5597545190945565, 28.618423960497307, 10.461510160994717, 5.110904725071098, 11.173459832100386, 4.018022771236802, 11.103174895808401, 181.5157479601088, 7.012376783493362, 10.203914537794372, 13.553904458842844, 5.141564712317102, 14.669805043366848, 6.310356693225763, 13.553904458842844, 7.039441564512743, 3.7762292929513297, 2.268805015777383, 3.7722941448485403, 8.732671902366608, 5.896799777213206, 10.757689042975835, 15.386881083099498, 3.8782874193236494, 19.20645380453837, 9.325274218895435, 7.835239204264228, 4.8760344597554, 15.701837091650791, 10.321188378038423, 5.644257481744921, 6.634963309253802, 23.807181936770647, 2.8086321307864597, 13.133960867041084, 9.18372800783394, 3.435793781550334, 2.4149671806138957, 2.3897400132253033, 27.97039153417066, 261.85, 4.837257037066873, 4.634767345820163, 8.388028370215189, 4.582363232525821, 16.31285134021545, 9.796082618352754, 8.83003236085496, 11.01871500134409, 5.000680598473564, 2.5607871139171414, 10.817486035878128, 26.190638849169844, 7.953393752297606, 5.3444686861821715, 27.050601037601396, 314.990559210973, 6.496915725183333, 1.8647297273196903, 4.047570520796575, 9.114909834895395, 6.436695279391545, 10.02482003842865, 5.610235643442044, 2.3780378204637755, 3.1882079560608867, 3.276299341507181, 13.88177521013914, 10.210756277082252, 4.136468204466653, 2.123725177682752, 2.4702722345566057, 5.190284453596977, 7.606483951435273, 25.688684693951846, 12.899268654049365, 2.327206500288118, 6.2351737997363985, 10.854667848013287, 6.602870994475658, 12.383125758521878, 12.567265534130836, 5.995108615235074, 1.8409460679214684, 1.98031983877334, 2.6175975165825385, 16.578736718149454, 37.77654297546578, 9.856740244509119, 3.2100146075835316, 5.331506185598032, 5.7827903036294845, 13.712364735373905, 13.192336183480224, 15.7325810054732, 10.943719792007842, 14.227736575710027, 7.983737643326615, 12.038496546724103, 8.720985212230973, 9.7409883348046, 13.784743453935251, 100.52819047619049, 8.729780266182516, 14.635793456081506, 3.7957939665305487, 13.40567168761455, 6.6103263282303795, 25.03821181621156, 8.201138847181593, 9.219522070021833, 2.2369236539610093, 2.7359010693410784, 31.782514040603456, 26.578473081804095, 12.764325765017182, 3.685774818049739, 11.221093205083214, 10.780629334982482, 8.820706614211739, 61.929087152910306, 9.196356921336358, 5.417918710953309, 6.67600013317798, 12.868141241398812, 10.492426268150952, 14.888904963440991, 10.439732539323463, 22.465302064149217, 14.879190457047086, 14.487803930915872, 5.637244902252832, 5.712586008370794, 4.732981958857722, 23.507997529711858, 2.8631551752253923, 8.52253583291193, 18.79489654532202, 7.329588576909759, 37.215682190130885, 5.543114592412438, 9.481595783184993, 2.4791374097387937, 1.9944690326337382, 7.498669061641129, 5.0678887864150814, 5.079640129912358, 2.9580157977649804, 13.209526986554016, 6.548498291869005, 11.448140660947274, 167.84479998087707, 11.211032897210462, 2.4531609783234107, 40.121632133706115, 5.443962395417981, 9.537888597053795, 35.774351297551604, 3.3057935644854064, 3.1897647159005755, 10.753997856389777, 15.455561652698316, 5.5553493064666535, 15.339185118830757, 5.133276404654271, 3.491043780075931, 21.251196070636798, 28.276873536000082, 12.998971588793202, 10.497825141449114, 3.4440693909356703, 11.845656038483865, 3.9508123416381697, 47.87902152893408, 4.839943046898255, 7.971819912348064, 2.1258334605405467, 12.137876357388093, 5.365587383015043, 3.214362373121478, 8.02179725720507, 12.08684444809596, 7.008400707597266, 3.8520494258102813, 7.172675445770306, 1.9088308870911797, 2.3143489923444536, 5.8308848480536835, 7.340283642343976, 13.357656668037851, 5.782844926322496, 26.506704770218256, 28.596079130216705, 3.61223190888113, 23.85270657315233, 9.327290588862176, 7.643929964140935, 17.04460959473498, 8.581758500572409, 4.688421764962311, 20.83426690103642, 2.6159854390084853, 8.706903611712743, 1.885447812834221, 8.777502607017897, 9.65088276802476, 5.104257178999931, 2.886813934533946, 39.186753491491, 1.8409460679214684, 16.390008466639628, 3.412110972191075, 3.5150717982185737, 4.390195668907285, 3.6877382455731023, 5.282794675485817, 5.647949269803211, 2.6864200025923397, 34.521482883716736, 9.712589504642072, 7.222306306610525, 18.396188673650695, 5.510496140626409, 15.306522236953894, 16.513563069166402, 32.406806630061, 11.42883072975753, 13.081849359066307, 5.200506207326788, 13.786698494323574, 7.616501080851024, 8.41820179586852, 8.08318770965844, 8.776410901332975, 5.186271916327204, 3.6761884210760245, 816.6443115115114, 16.48628677459904, 3.0182721698158286, 20.83271672834332, 4.868323461632325, 30.504352688617544, 9.608541017754197, 14.49709384470742, 7.771408794801416, 10.022239616479213, 15.695063950060089, 9.58440416160509, 2.7993721724483716, 5.6351229185420815, 9.602780582868862, 8.488160756191236, 4.419754172913592, 64.57283561206005, 6.431337367385185, 11.577155399969628, 10.327455190642322, 8.217784751046656, 9.429485960797921, 12.303909348954512, 13.76962827594425, 8.545833617266197, 10.63093507803007, 6.2081116527016125, 6.449641708468632, 11.27431344593085, 4.813687862825144, 7.596629255693135, 11.864914716366995, 14.379742496353087, 4.608885160032973, 4.650678644810479, 5.143600095757295, 44.60899822667518, 8.46050304744091, 4.06910056858276, 16.04245846266913, 4.530672019965892, 11.69379497546206, 10.438857678970146, 3.6909163519832653, 31.19912167215126, 31.18683384669162, 11.347752660778653, 5.2509591796559505, 6.1269592698073225, 9.898228713793399, 25.972941176470584, 26.686474216366545, 49.555881818181824, 13.056357725763085, 10.267954794997708, 9.508088050566878, 40.65955004903002, 1.0943707619628493, 14.012632659132601, 30.83454873795906, 10.482805042364612, 14.234559780826185, 6.637447088462323, 8.202545992541861, 5.074658593174114, 2.1965411346328487, 4.242545233587936, 5.793332284960391, 5.737945684021172, 5.49773295871945, 2.6733643136657452, 6.441217711442035, 9.197931014371175, 10.55036667032622, 3.5646015998685012, 5.272547170750158, 12.6923859598428, 2.0243218122850197, 9.962441228840374, 4.449986003869732, 7.220792537704195, 26.854468305891725, 7.856128778860816, 13.235337133715477, 1.5385687661844716, 11.424856876102332, 12.859089529944573, 7.0666140832760584, 2.3287681252949817, 10.928560010147422, 10.15811075845189, 11.794392424648873, 13.114350827480806, 5.477259908196472, 7.187465833958697, 11.997315617253426, 1.9923137027634008, 4.646487290613342, 9.055079046190192, 10.4036539054998, 2.2175531352629347, 2.9823686716735063, 5.192728838236971, 4.906998329804106, 60.494313080275916, 2.3857818563847593, 11.569400834198463, 256.3120958978054, 73.07066666666668, 10.590102201531295, 23.12225974406981, 8.014473839712052, 8.751879457699483, 5.298328534059454, 10.452508333988446, 6.93721909317989, 12.124592240040704, 10.015289646180921, 11.340030754319548, 9.5353198859551, 8.66638225111826, 6.963585682527963, 9.362817749508771, 10.086901038345687, 7.4159647809891895, 10.86924785137837, 4.362253404982205, 3.6211549874057334, 10.382056589437717, 3.124656305185307, 12.001085756269925, 2.6428247541495398, 6.117463199519474, 8.299532435056792, 4.329966071205391, 5.492873579460502, 2.9743127053973546, 11.654563793061794, 23.697143909689398, 13.225457726453872, 15.275091707497753, 12.523167960888536, 10.021248537571433, 16.36319650273828, 5.291101110995982, 5.0878995541543555, 5.214179981554091, 5.432338059467151, 16.760285810946762, 2.9759564989592513, 3.560798563972703, 5.283475146307653, 16.63967862328453, 26.75438434380642, 15.813539519202852, 4.932812483133772, 6.528862078143814, 12.098941938005746, 3.077381041865302, 7.408478894819043, 3.107227647830166, 9.006247443676525, 28.53969496368919, 1.2073659296485597, 5.5225222952514414, 5.31579482598625, 3.4673603540809688, 5.159362379805252, 5.566308959076193, 2.4570105333634196, 9.636630437969393, 11.78912570325523, 13.207757060532991, 15.058175564028017, 250.46, 4.0909296905748835, 7.825920452954518, 12.0663784066069, 9.104962506541284, 10.68615791782857, 2.7487622752044376, 15.790370448350084, 13.081849359066307, 10.382630619007388, 5.814486075129086, 16.951692639727902, 9.796879560284118, 23.118055394374547, 40.76931206813514, 2.4223067548167325, 14.901587316210868, 11.519769489571658, 5.454872696510653, 23.590227985379038, 9.626344709738529, 2.1565016792593474, 23.39481934548992, 12.129446487738937, 9.652948363846654, 3.1385732460256617, 15.085833727098256, 6.119825717279046, 3.3945286516424495, 8.174879403006013, 18.542863175370897, 10.510798413948686, 19.663287800016693, 7.187299232344681, 5.00066378394452, 10.7640535243734, 2.2730493346284075, 2.5110300960294096, 10.582386413022553, 2.0953567129338, 4.334226717948623, 3.437417526969572, 9.222569640182565, 11.84755051563689, 4.953862775757553, 13.535104256602196, 3.481118013010969, 3.405066850364869, 7.370023748875729, 9.288162552774182, 20.540677590065567, 9.447495503179487, 8.216455754790237, 4.507741506714321, 6.352722076179646, 9.966761489897305, 4.240054221588521, 5.8870853802285765, 5.164440400308013, 5.370202913421332, 7.928039333221576, 12.87166217873888, 17.194281678268798, 2.952542276293509, 4.421429201854314, 15.149418138771559, 9.541328303014403, 3.8362624176673905, 8.485716421497566, 3.983325815206292, 7.842314213681236, 14.842756436899146, 5.240710917336989, 2.422024645103726, 9.158231411788032, 13.773468052936018, 1.9949485957823745, 5.846940261640465, 1.7295657464028458, 98.53363603390862, 6.85877497973219, 7.4593915081805005, 15.560942010762847, 3.7790889684573035, 11.320458489718645, 7.2665201430215145, 4.908910011505946, 28.127579906438974, 1.951576407331172, 16.065041923519633, 11.093375571703444, 1.4918609554795066, 5.282771142818808, 8.239361161144844, 5.645446936874485, 10.272941996165653, 12.77730900938365, 12.107008166061846, 5.59680562627199, 9.239669186481628, 5.039774999075512, 7.0586636751854535, 5.7874321188043965, 14.198123782118031, 9.628127306944076, 3.772513799832067, 3.6520890953555223, 8.437223183669433, 12.529666638338307, 2.2021646257120873, 10.731208213961576, 6.228142859889367, 34.73123009995568, 2.635043290992938, 10.439496897562321, 11.910535272810025, 26.89558279058572, 5.085840342039514, 19.529994636343066, 12.996209680807695, 7.254600690941984, 14.610229709168523, 3.6121304496867634, 6.4523616356371045, 14.848901537689393, 14.748095085500852, 5.164141854927213, 4.026548868094753, 16.067947454055044, 13.56375560910359, 3.1031506619170828, 8.37795410810011, 19.475564426232896, 4.035675507172442, 9.264001305192846, 1.591867171198569, 5.375103714798812, 16.80179231092179, 34.80272977953714, 8.046393097485863, 5.617835676231055, 11.897965169970128, 2.244682321147219, 2.1485683516538647, 81.35857142857144, 10.932667519418148, 14.268902657029638, 5.083794635099555, 15.405958500311733, 3.613118337758177, 12.910352563909132, 4.2420279178347275, 11.699932836497783, 9.878614021687477, 72.08043900073186, 12.267874041900143, 8.428281188223346, 11.81950570536093, 6.894439831654529, 3.574572080558363, 10.468293451019804, 5.46473618744952, 3.861229444254739, 8.42111410091078, 6.757494314651703, 5.891870516814443, 19.487174500672023, 8.057565660806747, 9.135573557278256, 24.297448372722712, 14.913045041945523, 13.27679295656967, 5.577698278364132, 2.7566961846404685, 13.343164869230465, 8.469965356903705, 8.92133106244022, 2.523376106823759, 12.393429242089033, 16.168537472171206, 6.497648340391014, 18.11637260573411, 11.349760149662787, 17.28267088706813, 5.76410783249099, 19.151831574811645, 7.972765453254459, 4.883972895243426, 20.52597823594061, 4.814208051990637, 7.614593869731802, 10.586811821871443, 3.7650182415112603, 26.349473111948086, 9.316653364318693, 4.318178318711428, 13.748928764386065, 15.939515528101035, 2.1298388448414016, 41.083190880488104, 11.406284251688762, 5.002067765290916, 27.993572033353747, 5.570527522504704, 11.21679930690821, 7.790301326374124, 3.3167423059503482, 6.36072487812188, 12.963559425011177, 5.501775741177445, 12.378920491537196, 25.741368525963935, 7.948444801529121, 7.753181213196624, 11.469063491577888, 3.5357366016489418, 2.1628653146659262, 7.56986404653916, 11.048090861448925, 5.595223814606328, 10.556682146809438, 13.1177983250027, 106.98915952044845, 9.24415111690738, 9.2518691928394, 5.914286619988484, 6.990571669461453, 8.021862084975789, 10.180450724884167, 7.001536325493093, 3.679959835290625, 10.700202222362066, 2.5528925098515334, 7.834217542370109, 17.844527429195413, 13.125574226747515, 2.637981688083889, 7.186641738511384, 11.583552371182469, 9.471894958270163, 11.39552027752307, 1.7546721905175542, 14.55596843366628, 9.270379982682334, 1.8981241598636647, 16.606847274746386, 9.076616228494688, 13.600944838591568, 9.849335186229412, 17.161086906265588, 2.3906946414357693, 3.6664990143891636, 2.5461949852255663, 4.7356432762183225, 3.8642458162005173, 6.35982658916324, 7.183957567012166, 9.52486016750174, 12.158990800590068, 26.303215436154904, 3.5201663757051636, 4.945409659671252, 8.954450991855744, 9.288397773790152, 8.207929964932076, 6.297857009346618, 26.61600083546997, 16.416794769165982, 5.5977938694748195, 4.555950417758267, 9.588516862883496, 7.161685130147757, 9.42295496436004, 3.4944710186080834, 10.036864047835577, 10.109845934387089, 12.4804191841487, 10.600450937536959, 52.452349010885264, 12.50240598521483, 18.098675781929636, 1.807762182418708, 2.6761630536777345, 5.344522705244707, 10.606774922926906, 21.78137765632523, 23.980930886889816, 4.791470952032952, 4.84803615307466, 131.18564037079355, 15.10516768152943, 125.633741225396, 10.586811821871443, 9.761886033385169, 7.045401264319979, 7.800676063197653, 1.5221600805377296, 8.75498042942781, 21.329925612650705, 7.3617370595844465, 12.041850013103577, 45.40307615348702, 7.37235853032842, 7.045427311595907, 9.264666286505163, 5.27411845450149, 5.286598772596982, 7.32216524729381, 1.796516508099177, 13.451243373228824, 1.0571691930769438, 32.67333333333333, 15.187407549875907, 8.373009500294254, 12.961237513757117, 5.233751430704139, 27.40932105934447, 1.8183052890310352, 5.583351357086411, 10.489500522143674, 7.868218995292616, 4.032987221124412, 19.616333333333333, 4.18055641591974, 18.87150502529114, 5.796545159412947, 10.111334657834309, 6.797227960069821, 6.004225027319763, 7.442489537341407, 1.963550176387656, 11.837886432689611, 4.858238277865606, 25.6383438572724, 7.734911579585056, 5.1518953919181465, 6.488813626833587, 10.437239393991126, 10.36358117808146, 2.996888288454532, 6.278440765430592, 4.129957112706858, 10.540737215663428, 1.8946001863141604, 2.3732755858004073, 4.933262654859028, 11.695255370269587, 3.0035677293420764, 11.910535272810025, 13.74458068158584, 10.388370422510246, 11.102527303900345, 29.82723636817668, 3.7596233090549482, 4.440717799291162, 26.643024816704287, 3.5840616258236087, 3.5090824213775256, 4.8579986600698755, 14.90061709281601, 2.4743393313881104, 5.473055341689384, 3.2234455503507893, 69.21550181354384, 3.0296352895251153, 4.627093532344395, 10.69825749940751, 6.2195889722144395, 14.867959389117091, 6.8078464111363886, 3.14102395727795, 9.215972116468127, 5.900638693524307, 7.017862986556089, 12.859144950692333, 5.354094851381929, 9.161890862338861, 11.974805106083897, 4.11348531152125, 6.740349318962705, 10.55083674956275, 9.56807825922256, 13.216124818366708, 16.52205410792867, 10.646242851724546, 12.056663630384797, 31.494335934999313, 2.4756749866614793, 7.586346344526016, 12.351205852988098, 6.767274797294517, 4.838163992656039, 3.4430270733694446, 5.553572802593326, 5.618457452987118, 4.4980962219041425, 2.0837708989535066, 4.353089375564075, 21.116708694332974, 6.211881642675979, 7.106868862035345, 20.861433358929425, 10.75961967527278, 9.822414909076546, 5.942202531382661, 11.766663924102335, 6.416808453464584, 87.97418840579711, 10.656506566571109, 5.571726590986881, 16.607604539544706, 11.72148247646833, 17.228706231459565, 40.00255512695044, 4.557672145200589, 7.1730546073002435, 10.314900571062246, 14.016057940458431, 9.836536349269185, 9.01247052887536, 2.0538193025418803, 11.877912366784644, 8.429939205904935, 20.261115228405796, 16.48628677459904, 107.47486378260444, 12.115215117928978, 23.838494962879786, 1.7258868920463923, 7.396680848835316, 4.179010369943442, 14.55386147277585, 2.9322609212787807, 5.060802194499854, 7.506374086197086, 7.314626684591325, 17.665009652585255, 13.610415105388565, 12.718324133247508, 15.720234002780478, 7.542996874742097, 4.932812483133772, 10.357717406406106, 5.101531626124794, 9.832003781056294, 12.909644049814972, 4.365493251916182, 7.90677352208779, 4.926476521054997, 5.5346181733670985, 10.38693483227328, 1.1514691362997482, 2.4121348874721225, 17.613056865831776, 11.634998464616764, 9.280368137925173, 10.0002550733338, 9.077916869298265, 10.973915476500467, 26.07421564729645, 4.777050273092106, 8.215566587026148, 3.1352644515262282, 4.552295500466709, 5.725750334697823, 4.3342288962932045, 8.050471232621815, 3.3716430515141673, 3.3523220121032877, 8.00981486434228, 3.866163719645022, 3.8824585916812033, 3.5409447740565407, 10.872100996627331, 9.235114998450937, 22.426052385498657, 2.2704762160703273, 11.872213252145205, 10.523769329508722, 9.515216355079282, 2.8032695378938244, 15.706119373233303, 6.277117680544577, 10.272614470383603, 117.52328634235312, 4.650149778207986, 5.065910767712114, 3.5920037743918174, 3.558668665962499, 10.022906176819205, 6.06428182260096, 4.644419517343771, 6.257236580969418, 9.041184246274762, 2.157168037044437, 13.258250643351193, 5.870496451265133, 2.9535544432137693, 5.371753001832647, 20.971885249089112, 73.72940576542068, 8.090520191537184, 14.051797631172496, 5.641725164119066, 7.796075450513928, 10.249891049341691, 2.246838210086148, 3.5153182116448995, 8.684234466808368, 8.83490206249443, 9.038963748738984, 9.961979564730001, 2.0605092807413787, 8.8532733602464, 11.713966763379316, 9.920904614087888, 5.3288855148301115, 18.302863715298056, 9.940043878160715, 26.45710983443392, 6.181315822084814, 33.767541666666666, 13.868556036877942, 15.399878379821551, 12.08015587968326, 3.260827702628813, 9.325274218895435, 4.331825183037124, 2.015870417657025, 2.652726556893932, 11.821687172500999, 5.618225326724387, 9.945378166270286, 4.388265396952886, 12.600674030977844, 24.77878809661252, 8.964543687531409, 48.281861969905464, 2.352760724207847, 7.544866485670403, 8.604798124711762, 2.021425073266738, 71.47403303139437, 3.983839670981946, 4.6548299968975595, 6.523283803251591, 8.665156962169293, 4.923338129524365, 27.038064479331585, 20.3246824162963, 13.389819702646669, 3.951796767092306, 2.4756749866614793, 21.221931491020367, 1.7908165286261477, 26.28543247820702, 18.661896407798142, 12.08032975140734, 4.96616302645422, 17.97306391747921, 4.7780746951839115, 11.624824800809906, 9.47672140781479, 1.7243099034575835, 3.5538495131409142, 8.958481568728837, 23.673209959718157, 4.767918591718783, 11.834971964463556, 2.2862910854505296, 5.8332150983363995, 9.963065811228828, 88.43626441456847, 3.3058116722902495, 13.910683281524138, 1.9645233033396992, 2.634451937667555, 51.32652546218514, 2.39186998393697, 16.70638576830381, 8.000654196525396, 86.79746462297206, 53.556508311892394, 7.826811396447145, 7.024641617079174, 4.398078575177831, 9.7240855204089, 4.997861972087932, 12.339591252654763, 11.37432595687762, 3.6412417640331864, 13.281106635171874, 7.357849483823424, 6.44728727151735, 19.750060939131025, 6.928942223733169, 5.102483359887309, 9.791460319026049, 10.809153226378323, 15.745703726995819, 12.171815419909208, 4.609411378392591, 23.637983977708117, 22.94200905013385, 10.727246184080945, 9.061661846830521, 4.018888834494727, 7.094110987066702, 2.013045617883002, 10.685581699295618, 36.38802413681105, 1.1660573777268213, 2.5777071221189294, 8.837852585233342, 5.081396028584697, 1.1872589793542971, 5.141186556360961, 7.106761550933811, 7.0010806262605545, 48.21891923804278, 10.609056850142672, 7.928039333221576, 3.359404697865636, 2.733851054027063, 28.220418771612536, 8.960883964056743, 5.166921975923244, 5.547871336388816, 17.431626994871927, 8.817762749283066, 3.2639311050457764, 24.221749177787256, 28.172495567114037, 10.92958320233811, 6.50207327212481, 17.39589339424097, 15.503709297789044, 13.047504097006117, 9.809816071359931, 9.305903469507664, 8.850468096057817, 5.498760671929406, 1.4856433335483388, 3.6677199553924216, 8.60906974760844, 5.298099884251723, 3.718020942602654, 5.314647371160455, 2.1386493196693697, 4.229647889961105, 4.0339949983654915, 14.876421076248235, 5.678377867248387, 13.254601330429619, 6.028515171407102, 3.300659715720451, 19.999841867724445, 9.27929267423307, 5.932935292939524, 3.8208976099628673, 2.899085509102784, 3.8228092886894514, 19.43566224180881, 11.634998464616764, 5.23703042640864, 22.843883906208347, 8.576125278288172, 14.230018725021262, 1.8077779568552257, 5.58232830481311, 5.67779935445397, 32.10335195828815, 7.190939881993636, 7.055346509476092, 8.245899076278272, 121.32666666666668, 6.259815576972797, 18.0632436041107, 5.709159096939543, 13.865961585276507, 12.037460590012364, 255.05576923076922, 17.058470048223125, 3.2850982609180783, 7.570419205659946, 13.709476620702098, 11.483002542564098, 3.9756042178982636, 14.612191814972238, 8.515771746295796, 10.782148437340052, 6.65605376891669, 3.240569732424964, 7.684322114583066, 9.580420310866735, 38.17589866532797, 5.883144459552524, 13.444761676265111, 14.815717649711734, 2.5998299929614235, 14.472351757089125, 7.135168808077265, 12.85563147211854, 19.823718456310257, 7.1123684937075655, 14.62540461209786, 2.4927871299224065, 3.2394236302519994, 13.714646823816222, 50.96388181818182, 2.870331026670387, 3.8805271413711937, 9.454554260102661, 18.712733601845372, 12.04388887630512, 9.266937468945057, 11.760573369252334, 11.078564306883825, 8.22922004668824, 5.615931647484469, 8.556107450728113, 3.1254108103636717, 15.007354427824147, 4.631813161512555, 9.576985444896494, 136.0688379118203, 6.047903522052029, 2.4807905703575077, 9.347854080120738, 9.899091333078406, 3.911625174577827, 11.940716697973937, 28.022133104717, 5.049396689765894, 31.076707646425255, 3.81192110461288, 3.977374776751331, 11.853784607686743, 10.697870271731524, 2.0074108272144446, 10.010389934358223, 19.56031045139248, 3.491043780075931, 22.576361760263634, 6.428229151469569, 2.74202758416279, 2.8486858083540603, 6.24425988554498, 9.237200241666697, 5.269455598292333, 4.18793278800696, 3.3932139348259085, 8.196779439813682, 7.004497473481104, 5.235774623930666, 14.18953916379327, 75.53910156234451, 3.084129294152717, 5.9324391106498595, 10.44788485559301, 12.025020876771741, 1.140081047938822, 10.969993012526695, 2.0505361152117207, 7.068791019284702, 8.512913225436412, 11.048090861448925, 6.353291535891072, 7.567050346925198, 6.754055267127511, 20.392347252529934, 12.866015226316499, 5.600154168951784, 4.038053772776591, 5.871387540676036, 8.449541339058069, 5.204570610589786, 24.982949394709717, 8.87645254836054, 7.659941464015723, 3.6300095880138965, 5.229549586667071, 14.879072019324713, 13.337286564409697, 13.159168633940281, 6.830627324019685, 15.671774111173113, 44.813536030648464, 3.6726932732333215, 363.32305617329257, 16.550975944110487, 125.04256788981397, 6.422323418302992, 8.794540059363634, 41.07024356591121, 10.626292502895247, 7.394399064885757, 2.9466643271167228, 8.952834927562586, 8.947510185377697, 9.235535974119184, 2.144006007567875, 2.115026933407369, 7.751105016339733, 12.242602033123596, 26.064437768142874, 26.39800165875627, 10.977247627834872, 10.5522983609392, 3.7244327160781148, 3.975690887958839, 14.177706579681985, 14.485008667179056, 9.271823255007352, 9.651290928565817, 3.4537958643779687, 3.804507711532458, 8.25533606936417, 25.942068917406687, 11.345821242794056, 5.470308549187503, 4.920100697488204, 5.426295247191273, 8.919387668950868, 14.507273787660159, 8.971228521581372, 19.348577304242205, 5.264085776428335, 5.050162032951471, 7.2413436783138545, 2.1011022033152074, 13.816001881935545, 12.511985565933822, 24.181013185142014, 8.34067750999801, 11.819642562130348, 9.475454808101883, 2.041166392146695, 8.928881596495383, 7.6568699520647305, 3.143433415755662, 52.21848769777239, 2.7510866815659023, 3.486917857608511, 8.334204442332291, 2.7907220871409124, 11.684750536663746, 7.003794453054698, 9.275985770575481, 6.710685779199237, 16.542974247330942, 11.107693844109155, 20.99799743330248, 8.714522658764354, 13.428606294294848, 13.182947763348228, 14.974461852086273, 3.7152296001929197, 4.16953832013299, 158.67071937133628, 16.105358071007625, 3.8552672561359564, 5.14609680474108, 9.22512805723955, 27.10916091290057, 5.379631616022896, 2.1095553748469262, 1.6536389069975603, 3.709571632852081, 5.742072897451846, 9.899553109407117, 8.992356834612266, 15.007354427824147, 15.20432689806964, 8.376273072849052, 26.833925987478686, 13.75885117193328, 43.246536519826556, 2.351952159131184, 22.231136456890855, 13.03078444895237, 34.48675905914926, 12.201609792138674, 9.799415690811829, 6.090611388513924, 5.517677081055421, 4.985944273520708, 7.861894034296853, 9.941544403398952, 4.6326913973586255, 8.745200391866492, 5.488714853721205, 7.903547760836884, 26.332248528762015, 9.402668987550024, 7.312841096799355, 4.354594575065739, 7.798925087077597, 7.122538351146396, 14.170591110282505, 5.253759873343479, 3.6712367152696608, 5.972689337813046, 9.135573557278256, 6.397059344546078, 10.830200028733342, 16.155751009021248, 2.638887952371582, 8.729656993837727, 7.62720747241269, 3.9659125189339353, 7.965242667929712, 1.6255499433051963, 35.53488892322089, 12.005766100777405, 12.202126726739428, 5.46159087775731, 5.603957644465182, 6.058072446232854, 10.068162871107313, 3.430373357714235, 17.836735922557125, 4.082308351526367, 14.799862534964934, 28.689949816850667, 8.187266935863184, 10.490275130856398, 14.26342400503139, 15.343845323954405, 2.772130166758327, 6.751996854947696, 15.378235903350877, 3.690946475768876, 9.158307069542904, 4.458377197864827, 74.0529075600943, 9.0643644312236, 6.339695326332935, 6.272767152464029, 4.094338199667878, 150.52602874260813, 8.23413971058778, 13.054142795547767, 19.115192116427657, 5.580325511981324, 6.821605828432872, 11.172817197025315, 10.089679553218412, 12.585415309914431, 4.437554234963628, 14.85330065131967, 12.99793313406202, 83.17060233188933, 5.773513331683582, 7.790029106303913, 14.846410714500541, 8.739449906078931, 6.359720253238699, 5.566521161277802, 8.240371767441484, 51.2147951945377, 4.051119204442867, 6.293147773552042, 8.07953960128932, 9.451613310436953, 2.7094753006754098, 13.520662390152788, 9.293563717528327, 5.894070842444442, 9.552985657685303, 6.764285307434781, 8.441594621860022, 13.101475996057673, 3.8142357988872937, 26.30255828682246, 5.20135304847847, 2.6584317198984575, 14.597929134854349, 13.436691084324982, 13.295632349538177, 6.76559531263884, 8.233035582681644, 22.155693205811744, 8.085747759488795, 5.9200473089082175, 11.192132532009913, 14.7736824435266, 11.739491433752839, 12.37633293319532, 7.7824997466022445, 2.0157695371108924, 5.413268732092929, 23.490607484421876, 10.900510572628987, 2.9800883272867575, 3.1360187054428668, 4.270770903442532, 13.399998464498433, 10.69895983930189, 4.132423615685243, 6.757494314651703, 26.35788340744223, 12.870259889446453, 8.218866158723792, 4.490604444298333, 10.95327060334456, 7.136708494247201, 10.66410675967536, 398.2006386554621, 2.6852355337803893, 2.153875101720024, 7.2919214752829715, 4.037154358771203, 5.298518427359881, 12.77730900938365, 5.282395783072079, 156.8842165325629, 13.108701811401927, 8.842000315885581, 6.714549480937113, 21.436773407509442, 3.3805926888503497, 2.0472216930506404, 16.351375964361818, 2.9623720351145693, 11.511092674532401, 3.7240535017939105, 2.9884064141733755, 6.833544879252816, 13.143459180249565, 19.958935845031192, 11.181693597476894, 1.2487943424524857, 22.314001674313346, 12.935320057780007, 6.2597914158568235, 10.015289646180921, 8.650203760079371, 35.99655114296147, 24.027663196431373, 7.264298693173456, 7.971819912348064, 2.0935961807751324, 8.960883964056743, 6.7796262529664375, 6.053053594063576, 8.208959115641822, 7.161685130147757, 8.170211299376014, 5.2466104164689, 2.379367241946189, 12.99578955730741, 10.383071279977926, 2.144814302769296, 8.110092672265303, 5.327808235282212, 15.090901685940283, 5.3928906467841795, 68.40478785513906, 27.713264853279465, 11.251601129966472, 5.723631474427934, 19.348577304242205, 16.193122936766216, 4.424925706049975, 28.973288341098236, 12.746331802786628, 13.059228581063385, 4.631202676435109, 35.30962544270758, 4.219777345487696, 5.79831859824186, 12.699126787625909, 18.29122003269238, 2.4576337530437327, 11.586264278249955, 12.127054901299305, 20.30498206678897, 13.25780700232681, 4.4974330859517515, 37.549925925925926, 12.062414890017473, 4.006776814955948, 8.151742452049406, 9.192123032871304, 2.3484612330986483, 4.115438067173176, 21.790898277614478, 20.381314758626477, 6.856214415529219, 3.8801730937276204, 8.801816639898941, 8.236404861038748, 8.64689291440776, 7.226553355220268, 1.6418454056968759, 4.865605347071247, 7.90211220896456, 6.008395415024503, 7.910689264462847, 5.209617558449001, 3.092366041247593, 5.470409724816194, 17.756146016221617, 12.959916982940715, 12.074066608652366, 4.1605860315044705, 8.267707879167698, 16.046815871690622, 10.222675540240255, 17.797426102157992, 11.90581813315114, 13.416815573602198, 7.9380391255018585, 5.26090391970642, 9.683855848035453, 2.2439236940286036, 11.069105502234558, 3.333350709129906, 8.095220753685341, 5.686430123900126, 7.220740045520779, 5.498132430544973, 4.088693365729995, 2.290365441486708, 6.318993132701277, 6.8485774059504685, 5.661151288306484, 11.313948329628763, 4.385983595337219, 13.327668302051872, 6.359720253238699, 5.558591837959011, 8.982633956803769, 7.230800491552546, 5.50726441968386, 6.978567643174286, 2.930792794063261, 11.614824254692948, 12.124592240040704, 13.715943062679987, 49.041015277005414, 9.172319674858318, 28.060125858329847, 8.095976184844135, 3.7438387518718472, 28.27750298544944, 3.3730467102823973, 5.312075921515312, 11.720806970898986, 4.912043294043449, 2.98912956682606, 3.5032202127447145, 2.736724668385049, 2.918928548108193, 6.818095238095238, 4.41916082469935, 8.313896730111212, 2.129658732107783, 11.968887486995655, 5.570527522504704, 24.985140633037503, 9.811059913205426, 4.092471184136094, 2.601376475661598, 10.440434268919999, 2.1668529264614658, 7.041344716184916, 12.96039809256362, 1.4952176005712448, 11.891987275164567, 2.951548689668069, 4.189352534235785, 7.681512756131101, 3.2108326171842494, 3.7722961435862516, 14.815898781737808, 3.6536215243507337, 16.319429781208857, 6.959162162931125, 85.82894451908243, 13.88177521013914, 12.331558793065327, 8.00981486434228, 9.315159186993174, 8.603467039947658, 37.01374386801699, 2.489478598546563, 2.4299508573223916, 2.743482560477203, 18.93173015029812, 29.185455952464654, 7.368438595418366, 8.914951340915293, 9.340342149036772, 6.57344931407731, 3.8169691452177803, 19.536124525091783, 24.909443263139178, 8.86550966313454, 4.149545684680243, 14.667137959126446, 9.051309023082377, 2.3331042314483996, 11.615758467690027, 5.498760671929406, 14.158133802568038, 19.881515081044697, 6.87735571053803, 8.495792966314673, 9.375066497716167, 8.82871866350844, 1.436634950927202, 33.191189345489036, 6.8485774059504685, 6.214950637748902, 19.785191020663365, 7.239825477705925, 15.746698545511704, 5.3606201939871685, 21.1078368953511, 5.521373936815754, 3.953439591579988, 8.67547590753013, 6.209731696575683, 13.578494508485226, 5.7359838615367105, 13.573644331424955, 10.672319748998811, 14.527613169216584, 23.122278690431866, 1.7934310520446652, 8.962053648177465, 14.071597866772564, 5.230724761101047, 2.208883639927226, 74.34339710708754, 5.373698870999127, 15.311322735350636, 37.61574370773401, 4.789623256929688, 5.1069565428439025, 2.7708381266454634, 2.996763073905311, 8.0348349010898, 12.950354930822128, 11.88882880463343, 5.358845579701161, 9.811381033732557, 29.322974585028177, 6.079932433376082, 6.977543910085842, 11.555037682527965, 6.531343922056563, 3.852433731218408, 5.750610443771509, 7.961736954890978, 25.87839851251299, 27.74678938120959, 1.3548871838253915, 5.323085839175127, 9.923726513303873, 3.943961348019528, 30.57296541679167, 5.370248222124885, 10.752877415957782, 5.495098486863734, 13.133916563683353, 3.9202809977118114, 43.007082196589025, 1.9746666634320615, 11.62617876285109, 8.854730559991813, 5.696473205695383, 2.3684853103679218, 5.063654955857021, 2.6384804278298146, 8.723236104643984, 10.085937225874545, 2.143723574836281, 42.890823030259725, 18.647507852563418, 2.0351046039782132, 8.427249718674522, 4.376461129893595, 7.557658902029182, 5.002149788591722, 3.161688602585766, 3.3946598060455586, 14.24781197788956, 5.066623963251081, 7.826327215714519, 21.473325861089375, 4.370767848938542, 26.22403231438074, 5.865812667744113, 4.96148150195339, 2.433130338774251, 3.6248673278873436, 3.883530990956946, 5.19417588098199, 6.002607768182354, 7.030369924977583, 13.88676725433551, 5.950830156934221, 3.916276244842964, 5.318194492263974, 1.1055502523825738, 5.653837182759154, 20.357484497850972, 40.76662771774108, 6.928681416449083, 16.805216564751216, 8.688037512423332, 18.48881552600457, 2.084736074727583, 11.774158832893187, 8.971228521581372, 8.804134301024252, 10.68615791782857, 21.080895664258527, 3.7278895315702205, 3.8402412161698374, 10.442126340460863, 2.26697007811157, 5.929023677948197, 11.055865329828242, 5.991728059096503, 2.7580190723221643, 5.528670725214843, 7.774361904748349, 4.413628526111408, 3.5628122374758413, 8.995146423803448, 3.4689116156549162, 12.901375492780312, 3.977026455692409, 4.7268873086736205, 4.979678667920328, 13.49752674230386, 1.9169460679214683, 6.216418590371759, 6.800744270546279, 7.826915495946323, 3.844840169427366, 99.87820841004839, 10.720954846274568, 2.089796040682354, 21.815111459211547, 12.504828496894206, 7.498431192496765, 98.03433569979715, 17.040074889112276, 8.70911575666242, 5.242595262722334, 11.106572336321621, 3.9707880072972093, 3.978212239346036, 7.837061977660214, 7.308495945484118, 11.58492310351885, 3.4355685220273346, 4.687495444594369, 10.259530237932143, 10.671506617095059, 146.43952298987352, 2.0219060948426146, 23.06127467646118, 45.07809829601401, 3.0257052511605877, 16.80971842638348, 5.823321578564851, 2.2840604571392396, 13.811790753827314, 12.257839071401552, 15.06080848269781, 5.743918419817326, 4.634965240325516, 13.424276306866648, 10.535274024296003, 8.626427797031752, 16.20319961093141, 3.02195198234388, 26.05581884683455, 28.441349192766232, 8.623798872187086, 11.944175125082316, 45.47279387078616, 11.735801974479092, 2.63464764580736, 9.024465745397114, 6.126979955870144, 17.516275600010776, 7.1137836318624, 164.042320740268, 5.711036132655842, 4.805457842915675, 35.887541666666664, 17.943179034291084, 57.68584396171296, 8.893691589355772, 2.209087065630608, 8.804140903066015, 10.626538443974695, 5.423478142398444, 10.611592154191367, 3.7714193941645044, 6.500948666565635, 19.604482646341804, 11.49728677246599, 7.012376783493362, 4.663464670924363, 11.628286235591345, 1.9505101204616075, 13.182947763348228, 11.524807522223934, 11.02110121036323, 20.750851387273123, 15.225092964614467, 7.9529071504845215, 5.894763115553231, 16.61945244232402, 12.167005453750896, 328.116, 1.2914972552530544, 3.1604857379791933, 12.297977794697529, 11.439747177397722, 1.3527524428180544, 5.081462331476384, 9.757571950046723, 12.301415790328145, 3.9460629780320464, 13.2593609009864, 3.9552195537793993, 9.617912683742809, 25.304152258134046, 3.3626835450281023, 18.180704219463145, 26.691517873174124, 5.182268523020092, 6.655260221337719, 4.796763079973654, 11.674607854545018, 12.285143225343678, 13.164932015072527, 12.209694240257178, 8.015516740364816, 18.740507762675524, 41.88387217320942, 4.817537109494845, 7.180473906661914, 5.141704017872116, 8.63845980463478, 1.9643745880317471, 23.050370385327888, 12.835337881046549, 9.805472455171921, 102.9522498383969, 15.123877879116998, 5.192728838236971, 18.217923449604886, 13.843129001457752, 8.540702114227763, 78.28426511614747, 12.970630640051365, 10.97673793333146, 40.34565176018669, 5.8035288954287125, 10.988539571775142, 8.406665248531198, 7.780329323489862, 5.357567737605532, 7.046923351211875, 7.572448785371169, 6.943355256342541, 2.63556677151101, 2.9562233854606528, 26.643701211467604, 13.82903556256544, 9.8023063793715, 10.864823021517134, 18.254213148531583, 8.243281523997274, 9.061269978690103, 5.000464101805527, 1.0776328370477097, 5.834193524909392, 5.412613373813725, 6.563862987640551, 4.400146621103761, 8.140378993071941, 5.209842836754241, 17.010415771207878, 12.001282347540691, 11.17318955913707, 5.641601801253716, 10.76534711050995, 7.96071729254704, 9.680699964669143, 5.40203093347852, 5.593349424388013, 8.738191669811625, 2.633861121358695, 9.14082359003211, 9.604226829984881, 14.274836811529374, 8.036876111169088, 10.116435331003508, 4.411604124983365, 6.998545472383966, 6.425139140477694, 23.865641016699055, 5.513256484327728, 10.48639711348349, 29.373298162009846, 8.576834982291503, 7.474266156480434, 6.833960109913997, 2.2750473166621292, 27.587603067766796, 24.474841165371718, 1.9542361529905279, 8.576082220739705, 17.470735286522366, 8.07934646774174, 12.342075921642806, 3.0088932028855813, 21.91494537693685, 3.004976736233809, 16.989945914983444, 11.683486910273816, 8.955700426675, 4.47063573800961, 37.88697331779263, 6.05760710412439, 15.464352744311531, 5.140654939869992, 13.814857897879309, 9.432473289800049, 7.496046615376318, 6.767867928604964, 5.640036954036248, 29.916888246957498, 15.971354941074043, 22.68300380500374, 36.34635350645349, 8.623798872187086, 7.677929893896876, 22.587078375406808, 9.228080655323506, 7.3621287609601325, 6.833502866257558, 6.469234881312353, 17.742103107625685, 36.451282836236906, 12.654478979223896, 3.237147494600484, 12.657672447759342, 3.024302019134902, 12.14929769618558, 8.56951572228917, 3.723790001979654, 25.48021830558694, 7.232104400310635, 13.268036758239754, 2.3287681252949817, 6.392463312215279, 8.210650183150182, 24.74287138851935, 16.599374194505483, 13.751339273231743, 13.222439601979751, 1.7072752079105442, 2.0010434577936977, 15.154809652998722, 9.754974644849126, 2.300165203074938, 10.146223081715275, 23.990323167652697, 15.096340857131615, 7.796686248661814, 5.282212642309114, 6.44728727151735, 15.028852672473842, 9.322889987701414, 5.11953359496563, 3.312436839345549, 60.30558118733876, 7.23170838835216, 17.844527429195413, 8.805522169804487, 5.229901169836102, 4.7929350781881395, 5.043064523984933, 25.562989747634962, 10.766272138412178, 138.65, 17.615257917918285, 4.000541028102711, 12.036814097865635, 6.393841848811267, 4.032392978928151, 5.8146797793394045, 10.8175418170495, 5.206527863578018, 3.837971854727274, 5.209842836754241, 1.4162731055791125, 7.834217542370109, 10.404310803099797, 18.832152144187468, 7.4677448699415105, 19.2644378783266, 3.369803174362296, 6.154583212194594, 5.054761139913726, 7.109653542108219, 9.402668987550024, 1.93618913575519, 5.171261189174701, 2.6838162566672032, 8.871995034339058, 7.3014113992994, 4.241897789367047, 13.68894300272374, 5.180602626108136, 9.572995468213373, 25.83226141425648, 2.1628653146659262, 47.95247977774327, 10.60313529256841, 3.6774992400155195, 31.47062829747153, 5.743809759896343, 25.73073111489957, 15.102704161469864, 15.277300128777348, 4.916383785331371, 10.189875532606484, 5.779257937155702, 9.572108551675235, 3.415680899880203, 9.282694192999726, 9.199358044922594, 6.573935904739187, 10.55868979462681, 12.523167960888536, 9.880237184882914, 7.109497145328678, 11.959201122563854, 31.421702977626243, 2.013045617883002, 15.194294803455747, 13.382307371638097, 10.074275460122367, 5.360123935348583, 10.616466182204162, 13.254656158319797, 5.236044688255533, 15.89923884100044, 9.082674514253311, 11.692971253858428, 3.9873219205321675, 5.674832243374153, 10.87566985929313, 10.659612363898612, 8.914875852076705, 29.495073077531124, 13.123953751720533, 13.76293227786972, 7.423155240562586, 3.7724949340262803, 4.412720261641353, 2.2711749056839445, 3.724193269879816, 5.079566856244247, 6.130066332095302, 12.582243335645039, 10.09902733069286, 9.212974342618741, 42.378724049901614, 10.220431205131776, 8.289147077638175, 6.458719075764585, 16.455267528028795, 16.640996217732173, 7.24306242278331, 5.510461519080787, 13.09614961101583, 7.502393134258328, 12.05515851603916, 24.184, 37.48500730387844, 11.139986290808556, 10.519323838635149, 3.88065051915293, 21.45273313938333, 2.030436357125825, 4.612853080187464, 27.057585548999967, 10.851128160890838, 5.748818696451248, 13.338491492843557, 5.572559186556195, 6.487277075053438, 1.6190170094940302, 39.489254253707074, 3.435793781550334, 27.72224649351015, 2.6808758684673957, 8.73167674550077, 9.707545261626004, 9.15297718156511, 21.76099877389986, 1.601425108388068, 12.931066451359086, 14.302753119888319, 6.675254394377734, 13.579234834690357, 10.371395595308922, 29.69387838158658, 2.2267847850071227, 8.928881596495383, 3.5202397048182945, 3.817101742231797, 11.72148247646833, 9.261260702378946, 17.515232905569054, 8.079911767158183, 1.8830306153306682, 12.919458333671491, 36.98828107919266, 11.845374483908092, 1.991706093263154, 17.607969402531328, 8.574131204020654, 10.47659235043094, 13.573290759473268, 9.515222189057338, 6.8071167718398735, 9.076151092878673, 3.428051972636554, 9.94610423568984, 5.299293584449998, 22.00848933452845, 35.07327739858476, 5.846392791457231, 20.79019614576397, 3.606956368588576, 4.456547796407353, 11.76280800777082, 6.998045021859449, 6.322960237363982, 22.815444169271267, 10.843096594279164, 7.81876898707625, 17.586786342704528, 9.506809169335446, 2.3304880926245644, 2.2684736544871966, 5.199235023805017, 5.6455952915503635, 4.448135585566302, 7.903547760836884, 958.5510002456996, 4.743033556550031, 4.951741018221534, 7.082981256732617, 15.073942234752359, 3.901314697053037, 5.229901169836102, 8.395095674274826, 11.449262071052706, 10.268627129290905, 4.96616302645422, 3.415680899880203, 3.838387196735822, 1.6856406926068157, 12.162355188264982, 2.217430067896082, 23.377049149089814, 8.244698629770616, 4.5222045237675745, 9.743629278241235, 5.990236742215327, 9.482053169110225, 9.561873054166526, 27.517099396518656, 1.8443941873400078, 5.811298086590885, 19.638217242876557, 11.965912032694373, 4.6863838931679656, 5.976686716692508, 14.232520640467538, 10.261276399127514, 12.24964607615223, 4.65472763996506, 9.937593935198619, 5.0734679849199775, 3.6829717363178283, 2.3732868001225245, 9.792538373901422, 8.909665517653302, 24.85900945659418, 6.025905897734995, 7.571766657246882, 5.982900344751108, 8.554519739045464, 3.391877186290342, 8.462433518063113, 2.4239680627139837, 198.7845220003885, 20.74882117216906, 3.3248989306395065, 6.052206449498615, 25.835429500061263, 14.378544027479588, 12.742505050067756, 9.546024778244758, 3.988329682214718, 2.780867193420026, 4.391871622373648, 1.3469119146906359, 6.795468532774057, 12.550087928830475, 2.4145644259515393, 26.48834280063451, 3.2596563719471283, 67.74325723268652, 16.137586254072016, 4.8311658458695845, 23.197659181301468, 2.061693731137744, 14.121761137848605, 13.320562503319831, 8.4634659549944, 6.1401691192496965, 28.064047067884047, 3.5101250702500266, 2.875886221502193, 15.221137087496192, 50.70691833149216, 2.319061833807436, 29.647827100782862, 17.500250734765615, 13.28199914904701, 7.65969847000164, 14.946658544754964, 8.581060916597915, 5.889256932731229, 8.057565660806747, 8.028003550369206, 13.75582853542987, 3.0185026568252193, 35.39527168758395, 8.899233329373931, 21.54125174793794, 2.7916789591468136, 10.507347316891872, 2.19124430580897, 17.13310546190315, 5.056653636449894, 5.069017725989888, 2.2367049681035613, 2.213129683823641, 111.55979471270557, 12.899038667874379, 8.172124504114024, 13.312141649165978, 9.559046370662937, 4.142445298998226, 6.415589927659784, 17.66400349180109, 13.771889535067505, 3.380678374628987, 10.698357186296754, 5.6509157484032775, 11.523219616271524, 5.98606615340752, 9.636902621626833, 14.504292529393286, 7.1785229524058085, 8.924334392080102, 9.336866130447897, 8.42182685278923, 14.730380224982923, 10.996222546155868, 8.421915070292311, 4.840027878109833, 5.583730932890237, 36.996556920040746, 28.34667130637641, 10.914278823890179, 12.219449439417764, 2.0580620951947752, 2.294142973452668, 17.54743642385491, 21.75662858624436, 8.56214933976011, 14.878235164540147, 2.225220106298863, 2.7929694600924266, 49.21950605606831, 6.006813476122907, 5.938053486218928, 13.573261467390985, 6.183278755806273, 2.9379773245125675, 2.9873436818471446, 3.804710691325214, 6.121800806840522, 2.9060447317282097, 115.24437476811552, 6.6837205218976665, 244.88384087589932, 7.919349863812243, 12.725568946479786, 11.296460560447638, 12.112183650183475, 3.950627541568553, 12.488022365289403, 4.8485024183884144, 13.580070900569408, 4.601405954304999, 12.0697736873244, 9.370531345184403, 11.25467786845084, 6.077948269006927, 5.745348968000834, 2.879443162005125, 11.517929943051262, 1.582786635330791, 24.961489065989916, 12.931911195099005, 9.950977973298448, 7.90306372727216, 27.13771090889718, 7.9637085240969, 8.090520191537184, 3.757993596343367, 5.026004466443029, 5.17563023647276, 5.711555682016528, 9.949713257640003, 8.00135586761039, 13.838441181850037, 8.561611503400465, 6.081920413849883, 3.756861123035725, 5.873270076946021, 8.212657153330882, 4.80867502712807, 5.917029493981975, 13.101475996057673, 2.0029270286896588, 9.811729350215398, 3.341578832586797, 6.59897543768142, 1.7483417576720195, 9.33488763410579, 6.44728727151735, 1.6320711850791485, 7.143294842461366, 16.91229521496232, 8.40984756265171, 3.056080652760372, 2.271664583518643, 8.107896893383499, 13.539900467370714, 5.6975984893532505, 5.460224791988183, 5.578186415436866, 4.910312789835222, 7.18681363204828, 2.109261172287416, 3.2966791063382135, 6.957917776180815, 3.7308143396836506, 12.972348836987244, 5.9074754133098555, 4.8792224846073085, 5.192219246461573, 15.337801892275852, 7.976554306441466, 8.263136688991152, 3.20103340478951, 7.643232501985965, 10.0260486503744, 11.511092674532401, 9.301058449052269, 25.112498126413133, 8.529751684455507, 2.0754035659686574, 9.58353915096605, 2.2724822701575946, 5.717085725857055, 14.033418324352503, 4.159908457773616, 9.71472386775631, 14.783505706241892, 2.1765036100769235, 2.5227218899741253, 32.493676091354644, 13.560912286498858, 6.902284064828759, 5.024618559465074, 3.790854857152683, 1.3627879788815451, 8.989456023223276, 1.9409231649544865, 3.4033115272472414, 9.9221876057262, 8.746120730954217, 1.7300050767062305, 2.430299061534596, 5.777699760028152, 3.7907649582249525, 7.865628570152776, 10.33801073800209, 8.624504545514375, 81.5801322941697, 105.5107219887642, 8.224325497189431, 7.727985085660154, 6.044135800730216, 13.591162583635244, 5.084101180092835, 11.079541340340542, 9.695866683228767, 3.858632356790986, 2.3787510540706167, 13.601389894439086, 18.938658693358903, 18.872448280531145, 7.772119779276154, 5.49829294851935, 4.923556562366742, 4.095092519669907, 120.09675456389454, 37.63228388688709, 13.96947625045158, 3.2740495060926116, 4.70850668753574, 9.350698360788696, 2.1562248539406084, 27.549797892345246, 8.818204673114726, 2.0949885916848765, 13.565606885636493, 6.787627288731117, 2.5358758379717488, 26.73549294259114, 15.464352744311531, 3.486558539302352, 49.45830346742507, 17.10273518804635, 8.069328776657198, 15.313031392370199, 9.655263020298175, 6.180393169810055, 13.991922075834722, 5.2527355663465105, 6.247012459262959, 6.857050841691401, 8.69250201488884, 10.240243414384736, 27.147199070812718, 12.698313151316071, 13.139598686095356, 2.453602221649472, 6.315143922767939, 4.087042295797669, 13.609453292707133, 16.951926576853968, 10.664647156278551, 7.825848231753938, 9.644552163235069, 12.751359247953385, 2.4723178377499964, 5.892172416536844, 2.6251613664591718, 3.605014047741554, 5.90575197498902, 8.092209309938564, 11.113596909911612, 2.637161894616969, 8.285060669591644, 9.948454968278504, 6.019712112387363, 4.533657940326372, 16.91229521496232, 9.914512671438775, 2.2684736544871966, 8.70911575666242, 8.767626773611058, 7.615104805316134, 7.597555814703433, 20.39444283277973, 10.252380760552251, 33.09600790330622, 7.482305425277492, 6.7431372787221475, 11.665675686164313, 8.305378431761094, 11.789107772124126, 10.447356114182252, 16.995735994915535, 8.582924619006327, 24.065226150673798, 16.831357558624333, 2.6795276198277884, 8.02865375904849, 26.004188136422325, 13.79304715731196, 8.022695578554798, 9.716206937575325, 2.3892604472548875, 3.740967944267349, 20.076931362379497, 10.126350754862555, 17.756314811473782, 9.501514452978673, 11.439650282948467, 8.603467039947658, 8.030981669721307, 6.334115664897511, 12.36601255083043, 5.704771541614889, 11.558806961573103, 6.917019333544913, 5.278417307701707, 28.7417381051419, 8.398738525790138, 17.971325883766923, 4.4918086709545495, 7.484678175405171, 10.57513171412721, 12.207209540411053, 3.387335168211154, 11.961424273033622, 12.94579760092072, 2.3954203507478455, 11.219554962649056, 8.529064529581474, 5.081462331476384, 8.609499562124439, 9.387608679809745, 12.27190487504046, 6.25907000231566, 7.143735373169423, 13.027667559148172, 4.620620642088593, 2.1914182995738285, 7.669809864068433, 1.9034378100800413, 10.731208213961576, 10.315290078116464, 26.351397187624052, 4.092101408396314, 5.246585669459713, 10.139995787140867, 37.161466279584154, 8.678898715184584, 13.414219483400935, 9.14435666052986, 14.92139933546436, 4.149744476730589, 13.053651593577804, 6.454543229569018, 37.35039896948276, 4.948770535695818, 12.328056745175127, 10.413996821067624, 3.687958598233438, 7.080481831304143, 4.741547717863239, 12.701704216711295, 8.432453845702044, 10.618822582459067, 5.272561327851109, 2.8572806579194805, 1.4734447679269942, 25.47149159635301, 5.876877032986685, 9.013159781115853, 2.4445235007294723, 9.635742719516351, 1.9969856603014429, 12.775141336276254, 2.362950529021415, 5.991036345773398, 5.652639688896582, 5.635637441709024, 8.545833617266197, 6.409060963942177, 5.332020262730589, 9.475700169243138, 5.678264705223195, 9.57887726679469, 5.996251407158757, 3.1892768905983497, 5.3000318898786425, 8.485765682815009, 3.8454277372315824, 7.896924566632463, 14.485008667179056, 2.524824217327303, 6.534545243226766, 31.43476119770911, 13.43551203770334, 3.2694172487398574, 8.623798872187086, 2.090894562484526, 3.758196812881755, 4.26036395305137, 6.063546063648512, 9.449059027170781, 7.275631979942509, 9.837079795333686, 4.469637207882144, 18.648257167116746, 3.421814536648266, 10.697635745930974, 112.52859220664395, 2.9577277990061304, 10.192087939117268, 8.028806592910419, 14.160437593035779, 7.456959691398188, 9.427554477225765, 9.6110224741696, 27.415666188954823, 26.66724926706456, 5.985314840888391, 13.215742266671434, 12.488198961494527, 6.680931602723997, 16.664526286650112, 10.955403750053863, 10.029836329401975, 8.631015969811921, 5.750463925237576, 5.619067765961251, 10.872699421557089, 14.50811165953737, 5.12475245296514, 7.539710288694786, 61.3634935272558, 11.104906215619977, 19.87122985139982, 6.756444899206555, 10.375794370592578, 15.683171615357985, 2.3425445781361898, 11.912465961885054, 5.947475068924052, 9.57630417292567, 6.949304410866256, 8.237378750481293, 13.030036692215633, 1.4534560035288502, 6.20852001865749, 27.94109762677418, 9.718728816806022, 4.70705029754757, 4.796483149375538, 5.927727333042466, 2.6820140488813244, 9.082904022839129, 3.232652308794579, 17.705988586767187, 48.64708285393685, 3.1265176033143165, 7.821467135921714, 10.797356237404689, 8.73359703950679, 3.8079984813713366, 3.2822260848793636, 14.143150134661173, 8.431320539328098, 10.154927386055984, 10.648903133252652, 10.732588050091529, 55.474218174620134, 4.319905900092391, 8.109910173819976, 2.9019128267714738, 31.299473459173523, 5.834353627698583, 2.379367241946189, 10.626292502895247, 15.239792195942991, 15.312229398388997, 6.59073162243795, 2.5324279859640666, 10.620149572659233, 4.749490337262948, 6.272647093933973, 5.1473012119226835, 4.7780746951839115, 10.818310353957493, 8.517309771231405, 8.59690148690192, 5.577548262642816, 11.924524960166458, 104.97553679386077, 7.496356718359879, 3.972051647880893, 12.639968714942036, 6.933787843144171, 23.56662807758601, 5.6058933172976095, 2.3656769006087073, 5.758328082739639, 5.35659168444928, 3.023018765406353, 98.23468163747411, 26.11647544745923, 8.488160756191236, 5.589266146868031, 15.412852321091629, 5.286548217972402, 11.442547536014041, 26.615150081858737, 20.313062227437822, 10.996562387406794, 1.4698747477782164, 7.8695539776515036, 3.5903009072730425, 17.788024951890694, 2.815538115569708, 5.195033546893448, 5.541935543282787, 6.408482647794525, 7.1730546073002435, 14.702085048446003, 2.9762856834236913, 2.8017170825790236, 5.2463088386816175, 10.320114375261545, 9.901976368828112, 16.201368744370804, 5.802573312902838, 4.337411422818477, 16.250284479300873, 10.414696215812185, 8.972184748705928, 65.6426216259357, 10.648101450856885, 14.896765321395378, 12.925003940425567, 8.15553584171247, 14.852198682092029, 10.445963395474084, 28.442626731939168, 9.311808891326196, 8.256661286299096, 2.051158142326404, 13.280861247229163, 31.461223955041806, 5.396857496106848, 18.414283186566376, 3.8151471020330074, 12.585415309914431, 23.87060890517205, 27.742475010090814, 10.227969621097968, 5.698004791263976, 7.603431918341005, 12.032848770122904, 4.646160650499516, 2.8082264015030596, 4.5390187477751684, 2.360566333038763, 8.751281804880037, 21.104926362935142, 12.473245361769962, 12.584581642324896, 11.823286012638516, 7.294019714906137, 5.694442948603461, 9.488004979513832, 3.407972424023321, 9.537467114958327, 6.3274778682279536, 26.20214041766506, 5.3940679769463555, 20.745860641163553, 12.907627718215977, 3.6664990143891636, 13.170300596810684, 4.138951197623831, 2.2531640782278783, 4.903126576205018, 19.620287113512394, 8.11237584615078, 8.138815295943603, 10.03471969201296, 3.7550647044336873, 10.123962210054085, 8.66964737179929, 13.35802674208962, 11.868225436703328, 18.41465511160128, 3.7749260684643224, 11.05090699433856, 21.366828125985535, 63.51567547402834, 12.183091837442397, 5.033019974251353, 23.006974798148693, 8.437643059799196, 4.20177661965641, 3.056219169562577, 6.478979436208629, 4.421857107840655, 13.419218174039203, 8.346482390534364, 22.668517006712985, 4.781300943924534, 13.742974900309978, 3.7482256178690947, 5.458849329564778, 25.613693891670028, 3.1082730309155813, 4.82228223683656, 19.959300373956644, 14.640394091679717, 13.529417739446991, 3.794925613289705, 11.270579734836712, 8.178927569517567, 3.5694041259270417, 67.47132271041146, 8.256093818933618, 14.034068699994066, 11.426030790640768, 10.193499496382389, 9.853304438637297, 6.52045060342696, 12.292381320785152, 8.073122987456731, 28.824476737080655, 10.209462602570243, 7.5863074084745685, 3.051853764466511, 1.971345942097246, 3.992557541090247, 16.736630843818276, 27.113496518675063, 10.994115381906873, 6.009993539253885, 3.3805926888503497, 8.674092885087465, 7.453811983409684, 2.9081911468579547, 190.78708333333333, 13.303774263643838, 8.05451856718604, 13.96619750601959, 3.570169104545966, 5.130271909466398, 10.961733567303213, 11.494531570063273, 8.8778189171295, 16.348726810801814, 2.9979390087749693, 2.2224394248942736, 3.3603132505853917, 12.676499390645592, 9.414285212410814, 6.3105870529630606, 8.714925858018368, 22.917027067932228, 11.649213202558464, 11.002877706587443, 6.747773377512638, 2.861057491652364, 3.7544509015400473, 13.986622283434755, 4.85310660549608, 17.615362344157603, 6.56488373230331, 61.35070566516262, 6.867999769157688, 2.6941854003212016, 13.49618599646302, 6.7095511447898675, 8.207929964932076, 8.449342498025432, 8.549032112405405, 4.055934755710673, 2.014672348798165, 5.47068461573182, 10.240463882612579, 3.642815333632835, 5.635637441709024, 4.789167177037133, 17.875593976168105, 17.680436513551932, 9.030572477247974, 12.329984171197943, 80.61498133470876, 7.297470709168289, 2.3870942308002405, 7.242569511974532, 7.872110102857952, 6.0059443104761145, 4.364909998493602, 6.397059344546078, 2.3843456789113873, 2.0360947376263403, 9.763115674675339, 4.2124470944578345, 12.919458333671491, 11.695255370269587, 15.361207919916701, 6.190288340486531, 10.364842517765085, 13.773065586719992, 3.306004555569278, 9.630353260093887, 28.954475074954008, 8.22342549817401, 9.600346131508143, 5.172516760511815, 10.104544147362757, 170.64, 2.979687568564211, 4.0081023116876695, 11.689765551974325, 9.649985531262523, 2.7580190723221643, 5.12475245296514, 1.3851160298677112, 8.476955255303862, 8.402217857274035, 2.4452785676483875, 26.09477863070485, 5.412365627872334, 49.20205633037242, 4.079355230495657, 27.441873913526088, 9.537844272841696, 9.790428656395312, 3.605747123166178, 21.947441392521245, 4.575726701915141, 9.327764988224738, 4.9830262511750965, 8.70911575666242, 11.492695564498549, 12.18897933216668, 43.20513964084371, 6.1118695186264755, 3.6248576508729418, 21.302291472320608, 3.2522902874668618, 12.18897933216668, 20.62656179272775, 22.576361760263634, 1.723680577071773, 6.1901523419766225, 2.305087876177076, 18.69998548779185, 22.16033173796466, 10.032502052316552, 8.65391673479083, 5.202204539912558, 8.743619070968352, 7.297470709168289, 7.997951395823701, 12.077475188186417, 17.065828349383878, 5.663122039389895, 11.87281743330113, 7.44702473736915, 19.884028859591567, 22.566752556876896, 4.207243741025324, 5.5280993581968865, 9.652948363846654, 12.655941205423455, 16.975534980362696, 6.945182764970615, 8.70424006708546, 5.736620477855664, 3.3813571827278754, 16.168537472171206, 8.122309261968052, 16.133184774487972, 34.48675905914926, 24.215525874514245, 6.7577868026909655, 9.309978604361087, 3.379118739897168, 3.388745321102612, 4.822369448195815, 12.928317728915001, 8.195938789339094, 14.70625709815059, 14.307399297991596, 4.272236823861975, 27.314336890931717, 6.0969792646863565, 22.825120863024473, 4.227310125477583, 7.804829274169103, 6.1559342597653846, 8.468056434451018, 2.6063361518772243, 50.10746983998842, 26.58108598326485, 13.476826417554022, 14.198123782118031, 8.093982396700104, 2.559360757279322, 7.605564722952902, 5.259223426627815, 11.332192096601734, 14.696272334755752, 18.217923449604886, 31.334874309986795, 17.432100093778256, 32.41311883156134, 54.18946859550322, 14.694698578769987, 8.87236750119711, 7.929254633072844, 10.657376840673694, 14.974307438031085, 7.669633670879156, 6.431979503158366, 4.180088587347914, 16.872777802887864, 3.4762002411548214, 6.334606702333306, 105.4025641025641, 20.977841566467664, 114.54374873956658, 11.819633606421723, 27.397222931294277, 3.916390327177246, 15.256887855814984, 15.701484398393939, 2.613061879293745, 29.836989129931368, 12.086438831212293, 8.29126407171007, 18.737563417411465, 4.388265396952886, 4.184498309126688, 3.4036360745669554, 19.35285962780551, 3.4261241404454226, 5.319271567518347, 11.252602865197089, 3.898936282062222, 10.98620533064855, 8.808522963940796, 7.255700968278927, 7.716850683820308, 18.556417959684126, 10.760480012158084, 11.083244001175808, 2.700426911415899, 4.821352677855919, 7.834660418471773, 7.673485525559663, 26.055849395393423, 12.665562176930363, 18.833059962441308, 7.2515201914880665, 16.376330338892405, 16.03363400624166, 10.713888905976393, 29.135620288575073, 12.9971512821992, 1.2908324409846488, 28.30337145266518, 9.659612790342837, 6.002195153672528, 17.352680929219208, 3.721706066116385, 10.380694076008329, 30.08, 15.373883782605601, 2.7835919807155096, 12.689631850798639, 10.02028437025014, 3.650322806667275, 8.122309261968052, 7.314626684591325, 11.32944131498768, 5.930218853264982, 8.797827577521865, 11.988511958645793, 8.203087897046927, 10.347415444844206, 5.876877032986685, 8.439948735606432, 4.145934661159894, 7.47314786857346, 6.166588793308473, 4.986472092759354, 5.501775741177445, 8.762661176522291, 5.019779918013058, 6.225737659199268, 26.678237039612686, 5.0777161531586215, 1.9866358670891828, 2.011532032842053, 3.3824853513306636, 7.749700806130305, 3.124656305185307, 6.056699586289144, 2.1806880190627247, 10.548786454230992, 7.098640156384781, 14.247428455495763, 10.864721647581296, 8.48196683796659, 1.8305893318727249, 7.552169798703917, 8.420455390332513, 2.812426807423329, 6.28863227734701, 10.33801073800209, 4.1520419485741, 140.19406355713022, 72.3966342388262, 2.7351133482182415, 6.694838802442968, 6.365306254215244, 25.563645257881884, 9.78362963195051, 6.406041305662538, 4.004411813796215, 11.620642066300887, 3.198770720769253, 27.613763287117166, 24.129712539833985, 5.792317654282541, 8.825423320146928, 10.939294446065286, 51.07981903766202, 21.247471299853306, 8.008141649480592, 2.8212711121796077, 6.949193495160599, 2.4078830720268307, 19.428428184126357, 2.0437731540446045, 2.6122783221345394, 8.37707388091361, 5.434527576727784, 7.513279911362118, 6.970618678010831, 2.982505957707566, 2.2664026026607904, 40.61474055248731, 4.571659768380052, 8.23125950675395, 5.622788587476425, 3.017007775860234, 1.314316053237311, 26.78307309000732, 5.043886843531947, 3.5361822826546, 4.603766989372808, 3.2246891710186922, 6.016259268222735, 4.596187569453514, 3.2102893959377634, 8.638730724325859, 8.540842060396526, 3.5182198740219555, 7.345192399637995, 5.844941152234878, 3.2378614818716005, 30.373241143055456, 10.068162871107313, 2.938034942381344, 9.692309669884443, 9.403153054596197, 1.0932286488983474, 3.914100067034356, 4.778145407793264, 3.829016056572225, 16.27974656569476, 4.116148538424175, 88.0111424464045, 9.008070450982522, 3.845760914072021, 2.434939897826956, 15.487503229323984, 13.34186398604812, 7.773317644799498, 2.203537281640011, 16.03335043416449, 3.8900960683291474, 2.844779241619503, 5.089453785392418, 11.963216958155606, 3.817101742231797, 2.629133774626209, 4.121059924381492, 14.39453513739125, 5.801270030681454, 2.5579060578537347, 5.831425996292797, 5.073856400967485, 4.93639027285486, 12.157820278205866, 10.093773669479184, 9.588830385953738, 9.469193441800646, 10.041915411547334, 14.530867677981375, 6.179901862945271, 24.38971117898058, 4.490604444298333, 2.2618577214158595, 5.702651043618415, 100.53372307692308, 12.824795677737024, 7.291752116413765, 10.041915411547334, 3.7335660960025416, 1.307370820174319, 17.554245177460015, 8.062273569593488, 10.290747495825055, 5.390722323070133, 39.347902430286496, 7.489921119719066, 7.645020146410117, 2.541306326148094, 3.911219403336022, 14.258123478289603, 10.046136217329229, 16.351375964361818, 5.812578644747845, 2.214553059659708, 6.782202547565749, 26.327012223440537, 2.2887732139618904, 3.084129294152717, 9.021679213106585, 12.383374345067285, 5.013441205101999, 4.768903396127872, 6.50503653997131, 6.969974241185155, 3.9267601750127192, 15.551865089303362, 8.879239595136337, 3.5159540277168393, 8.33596512128676, 9.910837266947038, 3.958302145330165, 8.591025691590978, 11.396591473828712, 10.820259015763941, 3.465358942161484, 7.71731280851042, 10.4845886750499, 18.798409731840312, 10.926247907014819, 5.95738436641958, 6.431979503158366, 7.206295184871681, 10.26567325489046, 22.180562285847536, 11.614239077506335, 1.8517771472851343, 2.392613472478774, 32.29162521628726, 8.08318770965844, 5.1894435773459975, 9.547897832907061, 5.29396373814954, 6.087669437385331, 14.203746081901912, 12.897965099699539, 5.389832876386801, 4.123859125648716, 2.7517122192907015, 12.241826951689225, 3.3664986297950206, 7.924000136565394, 6.455601040676742, 13.791345155048433, 9.935228592475616, 5.229901169836102, 9.943782052685798, 5.27219942792812, 3.8122218962364367, 6.210529541446521, 9.981984112076013, 3.3873547557583685, 5.282212642309114, 37.8455862118915, 12.86826068605617, 5.932935292939524, 6.131254934375152, 9.437573809970953, 9.570980730886262, 4.550630841130123, 2.893794764654789, 9.001490801927787, 19.507931139581114, 2.2639912447945623, 3.1456105321561556, 2.7560544268251794, 2.380733129999443, 5.365054867025898, 13.87451736528767, 3.7553283702147393, 5.3794706453219545, 14.476872061477263, 13.081811108298838, 6.711924104339994, 7.977798603552421, 15.019013953763213, 2.9464606137095837, 10.222968837830217, 4.699300996113954, 8.533733039362048, 7.400531431365811, 22.598734525872192, 6.372684342274055, 3.6849663098300756, 8.27334884505914, 12.242330818762955, 8.38056100890123, 3.566545002235401, 9.609485484334893, 12.286236825160092, 10.47659235043094, 6.993863802842375, 9.262527508944997, 7.063903736801649, 4.519289456279841, 8.906010004161416, 9.234379201086595, 8.773987033077708, 3.7833981984312737, 37.313051500655405, 2.920064449659348, 2.7993721724483716, 8.523079786806154, 12.949454376615456, 8.051982245690578, 7.818119517383302, 7.506374086197086, 8.23428770123062, 38.438976188745166, 9.041918207196112, 7.62174748530543, 10.736842146698207, 6.971970043930547, 3.2390678500347847, 14.893331498027068, 16.198501443362996, 8.089517410085097, 8.102358664369127, 1.9290452742706743, 2.6119140611587652, 15.428370278120425, 2.421036431694161, 5.785323827654054, 14.595885812182548, 9.290280077011925, 16.12378608288823, 5.360244825371894, 6.130066332095302, 7.435032393711853, 6.582741540613386, 4.6267082518515625, 2.3471746420147817, 6.544364207929109, 5.495703786098436, 7.809185096587063, 6.11582619185811, 49.555881818181824, 14.746853339622373, 43.66078842069376, 3.801344355930393, 1.8544776140008081, 5.347122286713332, 13.114960349190115, 11.933406695734075, 3.919981066334651, 31.293876530113824, 5.327398546794903, 4.155128276375077, 8.296854735584667, 8.449504415181913, 8.99980745324648, 6.0645311638223545, 8.406882153418417, 9.060257486215534, 7.66659721498147, 13.746713614757711, 5.328372049451694, 7.794362212411671, 10.482951362743172, 8.56276247676252, 6.064509170470284, 14.743822973241468, 3.822103541942636, 4.645924023768348, 9.337643951858226, 2.1766445291125036, 17.290711596288084, 10.85159962570925, 3.5773450196933756, 2.4377900462054645, 10.378935664153753, 20.52008422596509, 9.222569640182565, 4.5722708657752955, 6.780084761789666, 3.369803174362296, 17.653204816061482, 2.5340114002270524, 5.381652448403515, 4.875958146166303, 14.990035710570572, 2.7876141978842384, 8.815596075593302, 5.609311818595318, 5.755778283190341, 8.702130052650059, 2.553409159484732, 10.490001781296792, 12.807009456594596, 7.74891178492996, 28.147615711870994, 56.89530070322703, 4.373779873231546, 10.376482822931187, 10.930880963191605, 9.225146211727571, 3.2147907901249044, 8.760807502213357, 5.4878142174767, 6.924237959710371, 3.751132942446738, 3.7771664544969523, 12.589506822312421, 5.333195987169429, 9.045313392721882, 5.565661696929596, 13.646901632583395, 7.432265341277972, 8.932830525901652, 9.772833602755679, 5.795937199821711, 9.837812338119468, 16.405836489190122, 6.441194803903949, 4.9269192926884475, 4.834529964092916, 18.363332606144876, 1.4766951688930032, 11.122958765554145, 36.69459751256417, 2.9983241459953542, 19.95965569937774, 9.177495269541154, 6.936873637132744, 5.627019247132222, 23.31793176848669, 19.334570164886212, 72.32156643356643, 10.348741119909612, 3.8767384315845725, 12.482260078223145, 12.851553129348124, 5.435333198483903, 8.702211073188824, 7.718018966653785, 16.324914692307146, 4.597573893703879, 2.448973554784028, 10.342231446427384, 5.888387894350859, 17.62966316347762, 19.320043943487455, 18.399419707425206, 5.599636187248349, 3.445414584551098, 6.675466096298157, 11.263473301425849, 7.85517513720321, 3.22507223797634, 3.9338666908595594, 72.53818870818353, 9.604489177083444, 2.2577164586844463, 68.57429464082836, 8.061528583079292, 5.434527576727784, 38.43552831807356, 15.323011912226368, 24.07621227919374, 19.123518971469444, 8.994854135006838, 12.760740300182276, 12.577702737377988, 8.063271794181963, 2.456875835327932, 1.453153742095586, 5.363783115056764, 2.1873958241244917, 3.1315717817982556, 14.7736824435266, 8.50278166114391, 4.1463586059218445, 22.567879952379773, 16.22126903636571, 13.221238367867452, 3.7138413809138973, 2.1093547274962106, 4.985453456880004, 21.35066416306344, 4.069885749046598, 4.039273196365494, 6.355061889840763, 3.822686338629942, 18.90660952861317, 7.206822225820221, 33.40034137834399, 6.049176230773383, 7.687256774412272, 13.199562558818243, 5.560165893522816, 5.589698577921914, 8.238432729374821, 9.607466626554707, 3.833707891170082, 9.240542857141136, 26.79369946709971, 2.7867243983867143, 9.850702185105106, 11.53299737344213, 6.866715677409961, 35.44780261892225, 10.273711575271104, 7.82299837854833, 2.8942421811161037, 5.534776489476021, 9.950977973298448, 9.43486168216304, 8.442255389373853, 11.166801312384376, 18.979907544188112, 16.374913174212228, 15.415329600243188, 2.3786486304954355, 4.938344175853556, 9.183038404805865, 10.933809446977072, 4.370877477540653, 7.573796983525845, 3.9141414495046285, 4.804944337770558, 7.9023357070109475, 6.5505082492955875, 9.52786111381638, 20.31090544706358, 2.0695412677996234, 14.388299053659853, 16.17617044939811, 3.594662300003119, 5.165511057528291, 13.874986133949353, 8.353221256761415, 1.5970053164226232, 11.00533097238618, 13.42933583140067, 5.9487633446056565, 5.9165410265015534, 3.0448519517004984, 3.4433204649505544, 2.222587180772214, 7.09196119849208, 12.861686219243055, 2.224274965198145, 5.341717427935846, 8.400788695814459, 14.002123494883442, 39.71747287775797, 8.801612797851412, 9.177629038980132, 15.74426811637828, 1.9150182635151716, 5.340568330709682, 10.85240831334484, 4.26036395305137, 8.82529928041564, 13.139598686095356, 8.967689863310119, 7.304381839227194, 26.264715789056726, 3.7722941448485403, 9.184612708749462, 2.0973224542698037, 9.063531714462721, 5.886622315470978, 5.796545159412947, 13.439831003578337, 15.072550373714646, 4.527689102020293, 2.8504767646242795, 7.970842515483939, 1.453153742095586, 4.28373340703589, 17.176363132665053, 9.271592089368939, 2.0705770371213, 19.258848868748764, 2.3039649920853593, 9.211554983621326, 8.54155848567916, 10.168530527621781, 13.292918804352023, 12.780185067843881, 15.123632678796959, 3.8454277372315824, 4.398657366347519, 2.469083387723816, 7.609468065716543, 8.38201808042571, 6.562089401815425, 3.3515645201213737, 88.5708670320949, 3.343900064221771, 8.41326076438976, 79.41621970256378, 8.793620097633847, 7.940432100445446, 3.672059815675821, 2.2989043932262634, 12.920292679566419, 12.793871136679131, 3.191109926502104, 4.113340257936665, 5.466647194161086, 2.0420723478847655, 6.961108304382825, 2.2133200002411817, 7.971474599807543, 1.896818509891231, 11.862860845512023, 13.48273179114497, 121.7445238095238, 4.490268160830188, 5.430353819259279, 5.9050035699904155, 12.872465044365917, 17.560839473952765, 7.772727234476816, 36.46008233782985, 15.565051289910318, 4.9274680553862105, 2.2179335074473934, 15.486882507630542, 12.363082117427707, 8.253603171609871, 4.4170580644584545, 4.46785134729908, 3.0633962064840388, 7.969569272917515, 8.075342216240568, 3.234378436957521, 26.05475919772633, 5.743918419817326, 11.916656250789217, 6.316068486749702, 5.528126613895108, 9.064438282442863, 14.414914198540513, 3.2181017690141998, 10.313150435517565, 15.882544303663485, 17.377900245774693, 9.24644683843883, 4.400395822620897, 34.62524233964766, 30.459139458243513, 6.300216064560393, 6.928942223733169, 2.659644706644139, 28.396353648223872, 3.865820111881919, 8.21098947983291, 5.58021369449643, 9.627497403970205, 4.462588939006942, 7.9279629306458945, 6.567038984243189, 8.987247661479184, 17.595788704364598, 24.557758345921393, 3.3603132505853917, 5.4209533014581055, 10.77348296468439, 5.774397219446299, 311.05197338533975, 5.813750012931705, 11.412320944633539, 4.334161016644794, 8.889605331698313, 3.2601542374004633, 3.578893799369148, 7.070637722407476, 14.157183057201285, 9.510180243754062, 8.636048418597534, 12.394043187007135, 6.393841848811267, 7.7107754350527795, 6.114670847716825, 8.023514033391788, 27.265843435173874, 6.723717407438975, 3.912045290146395, 127.25799617884064, 1.9700376766441046, 5.814720304248542, 5.081201169749098, 8.77797919820024, 26.34918856094528, 3.5442501380717757, 8.344651693276385, 1.8347885164079683, 9.806983238000676, 6.98239357136251, 6.532615492067156, 14.595413551034017, 9.334048441143771, 9.13345066778137, 8.556396797391319, 7.113897692041573, 2.5484260633305613, 5.144591284780461, 2.342099276189293, 8.40198176773396, 12.745228607248377, 1.3485025849590462, 6.7065849814660465, 22.034004793672302, 26.221698050198953, 5.530124921308885, 2.350515916442477, 10.510103049653042, 11.358303616977409, 16.279972065389323, 4.315107115389835, 4.9744068727829855, 7.835181911134052, 8.128041377668115, 4.274530020325595, 8.37423067602956, 13.648636949850244, 12.786351817631289, 23.32, 4.027056302847309, 6.0457313779611175, 2.482012925916589, 9.288397773790152, 9.740271090873913, 13.024221373713406, 171.643052552132, 5.553572802593326, 3.9348183805826498, 9.648083877713, 40.82890414226297, 9.404535979246091, 13.73621345285958, 25.58047123485145, 3.2342552756609506, 3.67275774994362, 9.113821883606601, 7.27135998260818, 4.9542836625118865, 7.534451269122374, 9.782431775698658, 9.029406633605777, 6.454543229569018, 12.005043316635392, 10.161119858567409, 7.89131516906103, 11.730941074503669, 9.139831435942524, 10.806354349305746, 8.886931751969552, 13.728580505392149, 3.9783709185696687, 7.725852386018671, 18.136086903784733, 1.86082316544962, 13.930720605294107, 4.628683186856436, 25.90040204533777, 41.6292817501943, 5.523958704235665, 9.038114910672023, 15.972684158429665, 6.727671145276122, 21.367230056058084, 24.84422903780878, 14.96387821741158, 10.466625778174917, 10.928491000993954, 35.99655114296147, 13.476773089973427, 232.2235164835165, 23.30652313182765, 4.347737885709188, 9.627497403970205, 8.944753076868142, 3.501097997083124, 1.9031162451490968, 8.76992860885627, 2.5644595150168352, 7.830338194511312, 6.026733274092018, 5.933511364085872, 4.703632432262094, 4.506023464403937, 8.932830525901652, 4.001341727903659, 15.024930158614291, 12.330064979794438, 4.861497416910751, 3.8979710986562948, 6.200511951638566, 13.963616645710731, 3.9403340789191503, 7.870743804739911, 11.447855647667712, 13.189000794967223, 5.04198695178396, 5.078575461238617, 8.778975287021792, 22.160811847022554, 4.2943946672289615, 5.460364372837738, 3.8871954774706152, 11.151645897499481, 9.997631838072245, 10.47659235043094, 5.871463721132359, 25.41139799018882, 2.8206570552595998, 14.113319733302678, 18.73121084395543, 6.875908408587818, 7.832124829175458, 4.737973209702999, 12.749972478249381, 3.1450084911781113, 9.308507839935988, 7.532618042868181, 7.299977342344944, 15.106889999828121, 7.069016675257472, 3.7897916135399425, 7.617136754915355, 12.05984692867433, 18.217923449604886, 7.647207004234386, 10.83370762318719, 53.05718686044831, 9.853541184603946, 9.012939173376507, 4.167752335601281, 5.66342037389819, 10.669574447162422, 12.612310483529923, 9.626344709738529, 8.398864927735824, 9.429551325098739, 6.463501317195028, 16.226270918763234, 9.959432359282662, 14.644158952450539, 89.70334495389669, 14.127352498739171, 3.549272637409201, 11.386180043065437, 9.844553568741054, 9.144725692040312, 3.9416708545400008, 15.074314449504318, 9.536653969759765, 8.859192639742586, 13.207965072218926, 6.2120108157937795, 19.666192173804895, 24.150849596213288, 10.15540731213085, 35.733904242290656, 3.9397907391540765, 14.666823925003747, 2.3493784559885262, 4.0416195168180105, 1.6536389069975603, 6.837764554523748, 13.272303035062235, 21.541680203009626, 5.660952849657614, 3.6771037585646593, 4.44535915560238, 2.9580157977649804, 8.284382083542669, 10.215730801143412, 5.360244825371894, 14.20280445235305, 32.579125362121694, 4.81415101128359, 10.274134367504548, 10.021657393115364, 3.4001516052438485, 10.527680864893878, 14.666836059605874, 2.3235361121442795, 29.128126853565014, 6.405877380263819, 2.0459156420675537, 9.729755381999466, 8.354049006732726, 5.58232830481311, 9.110046137706709, 13.61032771736807, 7.115360645034369, 8.215954436981644, 5.523274440721605, 12.819876117610916, 13.40819276417884, 17.384458980661158, 6.325010800777639, 4.965254345281471, 10.34336443250236, 5.513139306837109, 15.087481467097605, 9.432473289800049, 3.285192666240023, 2.9178029329676933, 9.192993328760346, 8.462268097501884, 6.3354668091636315, 5.7577482336068035, 6.2819866733076175, 4.049472103127503, 4.325527318266744, 15.803449407118704, 10.186039869257549, 9.337683521710211, 2.041902477459448, 5.826774874684292, 4.129333369322723, 14.473892619159777, 16.94294054292762, 19.099769353346954, 6.433301774378035, 5.491469640610775, 7.52803905313815, 1.9239229623923402, 10.440434268919999, 6.603106454144143, 1.551589618031868, 3.144957899073323, 15.494740704670289, 8.59714791167877, 4.45307739340734, 2.260621672303551, 3.588636088633816, 6.0519067231005, 4.8260094610223625, 14.782361525850954, 7.822525116617842, 5.084957303344391, 1.9792119902296776, 18.799466119525526, 1.7022844216231388, 7.704390948923666, 5.760849688921081, 12.627725069399922, 25.304984821446038, 1.883584380158574, 12.433012946789045, 2.320287529715362, 17.347776361638072, 12.92084853145863, 4.1308394056684925, 2.2570586979292897, 12.864394935082533, 5.802531852292665, 4.431027667750577, 4.373779873231546, 14.066440329627952, 9.124599387876081, 14.641376171374132, 4.474746962916158, 15.706467667403285, 3.944178929467703, 4.234886308040344, 7.8024665655173155, 2.230054352683755, 10.823813186804388, 7.173079218834939, 3.629930625155247, 8.960590812228258, 10.663088574688482, 4.803001934619594, 6.229309719276852, 3.380333058813362, 3.819112362466159, 2.580147083609268, 16.768650408754212, 7.299645159307895, 19.079994765899656, 3.1776145326044105, 4.81900642368233, 3.6859438452191062, 8.827952699396732, 48.5270051524766, 10.081300023665792, 7.747909330398064, 13.92619680136108, 11.794783226161673, 5.480161815022822, 7.997926727161084, 17.801890477954384, 3.9863705834354493, 20.12487898897027, 9.081799698468147, 10.307796717428866, 4.414493577884687, 4.942347575287766, 8.188981729606295, 3.5194152434011765, 2.696964215650691, 3.523749017390873, 9.511748562590068, 21.315064406076814, 3.856016481302454, 33.44869041574153, 41.814265116147475, 14.259300149085774, 17.07541866367325, 4.250361812776846, 2.2125355010119367, 18.445095238095238, 3.7526817649648523, 253.6861782292769, 71.9709623675163, 11.53762282273438, 20.43839208119844, 14.404266272550542, 11.5898952134337, 10.682639747965208, 3.331538127016111, 15.107557698849066, 29.55592209479299, 4.396329550748911, 11.141535819777573, 5.35097489833668, 92.66151648351648, 8.332102971436116, 26.623460301728333, 1.9844286756823473, 12.153849876988366, 15.15507892609283, 36.29310521735299, 22.023363874078385, 2.99131790539711, 13.448235169945768, 4.476183005896269, 8.319591087198917, 10.74372269702274, 5.06080679953837, 15.026834905368569, 113.25097582417582, 9.240005446532514, 3.1375590486672227, 3.67509026155373, 17.063243682017163, 4.189527667490419, 5.499332638511998, 7.698979757824483, 14.682718600168261, 8.183663808829321, 23.000710473093253, 7.535958656446135, 6.374351703744505, 22.22827564876807, 125.94176848798146, 11.517441297959325, 15.311151333177268, 2.473011479604786, 5.534786582127213, 3.7733857920915113, 7.096527364923576, 10.554554950107775, 9.133270869613881, 13.150078087348763, 5.83529343436228, 11.877985586969338, 6.2811039350059135, 12.0663784066069, 17.0734000689035, 5.996251407158757, 21.947441392521245, 4.6863838931679656, 52.03397982054006, 13.234321704795548, 3.4447787377519203, 8.355561233828752, 2.826595500822646, 13.523569564965664, 5.733267723305056, 7.396890183463562, 2.2574416676226132, 11.381450328252779, 6.077566127310511, 5.541795932567168, 14.803919043178544, 12.857313395256174, 10.348166734911361, 6.122376080595208, 53.28744400301993, 6.223479212096947, 9.400232527273205, 4.01924233124965, 5.767272169835338, 16.1386941103131, 8.0030897700412, 11.667613338237944, 5.911012628673269, 11.738167780918715, 8.894115655498656, 13.815034565936942, 5.0975871939035455, 22.242774166733376, 6.428229151469569, 14.81391744188001, 14.772540554829407, 3.7849671897275785, 2.093071589974943, 9.379425156784942, 3.1056474080971763, 35.64025795017006, 5.299939363344621, 11.741532006862682, 8.078628352076235, 2.5123548953626167, 184.24329778788592, 13.566294698193817, 7.16192238401597, 3.770263544010926, 2.2000260366002338, 8.147620857239682, 9.647489465761804, 8.258441219722958, 8.807325336148956, 7.756236840424848, 5.31416635643795, 13.024180448168845, 12.99212863948749, 9.204434124129527, 13.783083789211833, 4.596373946134132, 10.062291692948417, 39.23178472156505, 8.432324442089191, 10.160096116665219, 23.014915910475384, 10.154398868793605, 2.6846644166871, 9.971385821041702, 11.88868996156089, 3.1035740157896345, 8.114018829091698, 1.753914764635003, 5.394901685842898, 103.41022986507627, 37.566, 5.052601058669594, 9.339341311665697, 7.949207108468922, 10.095765593212297, 8.152510648572243, 9.154119878454285, 21.027684673230233, 2.7733945331897187, 69.5705517859605, 28.224546526980106, 43.84556121147376, 165.0543844759468, 15.372886431203137, 9.256350825388672, 9.091581444590815, 8.804134301024252, 25.438587818191394, 2.616367670210742, 8.10635358399102, 11.89254029801882, 10.505260667422744, 1.126559344347874, 9.746977484013003, 7.251318822332764, 2.23971658494539, 9.766914929228742, 120.46266430782838, 5.5346181733670985, 14.604511748215836, 5.760157509314314, 15.731231277525923, 26.128873559405914, 5.366079889583159, 7.813195107080747, 4.806742029800839, 7.843106111166166, 12.205740240118155, 8.45665063428854, 10.798179456859216, 2.747520781055327, 13.806805996405695, 8.851354063555135, 3.778775050400075, 2.1201512934957063, 14.40017884314608, 15.088777709732197, 16.98278585418122, 10.206519474914352, 3.6400390383762486, 3.5204199084403816, 2.5679220714929802, 8.471170251002132, 3.3505283944805444, 5.784854215771608, 37.621696265988916, 3.1949298021606167, 3.3647139822083925, 8.474574140392866, 24.69221372004348, 15.47540271612509, 11.201381578450626, 1.4455530395628133, 8.358101130569331, 1.293268810960666, 6.779751471232309, 11.028079056543834, 9.862126398222676, 5.39722584546968, 3.509001894255565, 6.000918623978144, 2.2782561894711195, 8.301264514612411, 6.998545472383966, 9.016019380987458, 4.650878248382423, 8.84246656071759, 3.561663651274104, 14.60774867525738, 3.0801579184438683, 4.269561567470391, 10.2858449518825, 14.32493024210738, 5.275591245749574, 7.694186085849766, 5.148545982983063, 8.815256872553404, 8.89409765690329, 6.340417039087932, 7.159875506872311, 3.8616032092905823, 6.203610304099102, 93.26221309544931, 13.496760604286914, 40.13070273785498, 2.0305747662207665, 2.746331447448858, 6.485888692596781, 6.294333951206557, 18.542197828411965, 38.45107272898878, 2.802728536513155, 8.44681976677883, 20.52597823594061, 11.173055307585223, 5.91508439776792, 30.877444763974783, 7.603825296699325, 5.473055341689384, 11.628764985162443, 8.821382403692425, 14.925569492038797, 3.111347661385178, 2.471560988602668, 3.050512317397804, 8.063736754572828, 1.731464043250292, 8.749060417994157, 5.550321430099026, 9.785869801494608, 9.105378091246918, 5.599673610985502, 9.850702185105106, 4.687495444594369, 10.65279414363867, 8.756677380837028, 13.062064256353624, 38.650514397272524, 10.829329059965445, 6.229372979830378, 4.344264241306794, 2.1604398607851123, 23.783255623916748, 2.200520939859565, 5.166404749081, 11.789107772124126, 3.659041385042688, 160.72732452451385, 10.33177455640335, 5.279849213382668, 31.563583015775343, 9.450906634942957, 7.574500759811221, 14.452613103407419, 7.800794306558739, 5.00066378394452, 8.037355228412952, 6.698743775311792, 8.039621397260209, 9.063794458287052, 4.956039845736413, 5.529333776546805, 5.175533286120242, 15.466505768083659, 478.42, 1.8600351533232498, 5.1548954568236045, 10.86525046612227, 7.843106111166166, 10.471963215656688, 6.556909637584002, 13.046391429993452, 3.1784143465574393, 9.69519699724791, 10.573714641417746, 6.8521758955817695, 13.933874739962231, 12.701164701345611, 19.744592341567824, 5.948556431958211, 5.233751430704139, 9.632073235387514, 11.781216959052351, 8.8778189171295, 11.048216136069088, 9.866588413844172, 5.86401490042864, 23.724895199223514, 2.4570105333634196, 6.713860093063201, 5.737945684021172, 49.71005969229155, 1.5431440701108496, 5.473983140808511, 5.98327418115921, 15.37401203017866, 7.211408748562742, 27.849941588542215, 9.299253587164946, 7.698140260657307, 4.533903578218622, 4.146998972506595, 1.8409460679214684, 10.093633813174968, 55.70952378901747, 9.859706390242707, 4.008290602593074, 11.395296130232364, 6.8895410963225014, 2.874403134966916, 7.351781069321816, 6.58151717428009, 4.036961736410415, 6.09008246616053, 1.7076576793880367, 11.964503813970246, 12.773076310549436, 6.309440734991375, 7.66659721498147, 10.94701544123763, 16.973720310637688, 11.290517175811164, 6.151913682401901, 7.8847040524765495, 3.141426663456104, 28.367090061483573, 9.903093902388333, 6.676031179222041, 38.65873723682385, 4.439606930054453, 3.6770947320972374, 4.189153533987917, 9.575736742974083, 2.5476157508947566, 6.2332807634312495, 30.554263973624476, 11.398181103608982, 6.715084645894658, 13.225015638926209, 8.483412791259171, 2.7707623171900235, 9.09851071022682, 5.2730114232681045, 24.950337932062226, 4.239188527635363, 15.608239385787638, 5.333112481920226, 5.281573327168302, 1.8472638134127726, 5.886622315470978, 2.237893627669653, 7.726327990624482, 7.98889795664175, 12.632513087409613, 5.329799945316374, 8.804134301024252, 4.743942807136375, 12.503378136927761, 9.628127306944076, 8.748901673083774, 14.893331498027068, 83.07393090973567, 2.3015993781453923, 15.372515998535718, 3.297387377318356, 9.92504363116937, 9.2518691928394, 3.152702051288517, 3.002996346368201, 1.259984440204487, 5.604204181167878, 16.109588258471746, 2.514846302097696, 2.283669312540736, 2.3404548089509785, 6.250572892279161, 9.86921195583729, 40.67065999247527, 2.0958273579297533, 3.787144794545626, 3.87066294672406, 2.7630650810934316, 14.268077445659907, 9.386754198262842, 4.09835284480423, 5.591777645202231, 6.023793191090463, 10.682474813182903, 5.156114361632287, 3.473194948454842, 10.276779690587398, 12.19453137118085, 9.140194739460025, 7.583114584851861, 16.290884793346226, 75.40601719181464, 2.4153591371718703, 5.170919450435393, 9.904399215066302, 2.8258707795706517, 9.01247052887536, 2.543577779523449, 32.59014701927668, 2.8539026566353782, 3.767019548813242, 26.30514650496858, 18.489971216016986, 8.039204532002433, 48.051995812818674, 7.659941464015723, 4.942347575287766, 7.646993045621162, 6.709326633627527, 10.045602204689196, 5.432338059467151, 8.553130866629038, 9.307036416250508, 20.79075042043919, 10.932805084920332, 9.850702185105106, 11.248183092544904, 4.209757906519597, 5.98674056883114, 10.140057178059802, 3.0359763854711357, 15.015219034100166, 16.550842566461107, 6.800728121115014, 6.070483186459179, 8.386673267886902, 5.968152154885438, 2.255677179962741, 5.325541429525484, 4.62151097568826, 11.051541359808638, 13.903743956946457, 5.734980416707417, 5.804504923263261, 3.864957281075222, 6.2761197786837615, 3.407216514110094, 4.492424910785444, 5.216045972581104, 2.1809300299708303, 1.5431440701108496, 6.191240093261963, 8.320283879165807, 5.7743936566609, 14.329870899965506, 3.8076637556504584, 7.305669612753998, 5.847187726030102, 3.6840991725996868, 16.85084918059623, 6.704142119427526, 7.314626684591325, 2.444182724076536, 5.299150998865384, 2.244403118989789, 50.6499052083659, 9.530538859877476, 15.547326638499376, 5.238047897373163, 4.460772064389156, 10.261086117620243, 8.50969260945864, 1.910544789885222, 9.940069902556239, 13.751200548956833, 10.566799722063143, 12.462018295555202, 12.895467453731458, 10.051894115761813, 3.7587310803472924, 12.745626393801576, 15.697726690424737, 20.204334140276366, 18.79941217741473, 12.969264551742954, 4.476431833207684, 10.461188084079115, 9.561167602807187, 8.381867108897845, 33.43058445389729, 2.367498414162584, 10.600731923855701, 5.3863915754638185, 5.27411845450149, 3.9598177144511992, 12.200499538890165, 3.3219087135890946, 4.185986151704134, 10.384867883412214, 7.484749719398231, 5.235151372700561, 30.532604855178647, 6.49006929366882, 2.5597138206420267, 11.53762282273438, 2.3334078124008464, 13.611131403201293, 16.452976215567528, 5.353776562471086, 14.163259041853497, 7.005779879921813, 5.33591497067299, 6.261526569110277, 9.10202118426936, 4.8756343136958415, 4.392136771287821, 1.527158158210402, 24.85900945659418, 7.934967167752347, 10.855427770652431, 11.278445854082172, 5.892000756887507, 11.453694209846649, 8.513638872595568, 4.521290280218176, 11.38706628773352, 1.586652179392409, 7.663848899281769, 2.442409516956248, 6.946189189868921, 24.002052998767432, 5.082665667738774, 7.275966009966331, 7.724519052948808, 14.512553472179402, 5.5006355825082505, 2.1784435476067, 11.96959210024042, 9.394019590303795, 5.665236371738797, 3.1841466925603634, 4.888421649410223, 9.316653364318693, 11.932545250941528, 151.8707692307692, 10.509231344859439, 8.825328061886937, 3.9820672422788363, 6.327772374028785, 7.376921196911369, 5.942787070592176, 5.3871369442181996, 12.864394935082533, 23.384917555575456, 10.060949761320142, 11.673212917350847, 13.470876198595228, 5.583351357086411, 9.519340214290668, 9.927720105042825, 11.302602586820901, 7.98506717621121, 124.67854260501885, 115.33246634243706, 3.306292375805469, 13.919909555238338, 16.536355354548313, 10.277689984721121, 9.663981705003748, 16.38661992752283, 9.08575094912707, 5.212922103425097, 7.716007266050176, 7.525977611249389, 8.845426266602546, 62.872426567873326, 3.8224438406518164, 14.113980655147486, 15.84445458643209, 12.897965099699539, 16.204312145770878, 7.738590495271756, 7.338204479657154, 2.453718191800222, 9.429485960797921, 13.310163394274783, 3.8235671275918035, 5.874171267670634, 5.339723581418216, 8.85106947941574, 15.271437573075435, 3.387335168211154, 25.28307220084222, 10.9328373778543, 13.013094771409591, 7.50340326719311, 13.065527165821402, 7.765454562142057, 15.465754587504216, 12.909359999511873, 14.523646591235098, 5.96712391809377, 2.6108363809103365, 13.53823159913636, 31.73744868948743, 163.09660136678642, 5.202204539912558, 19.63297467032517, 13.027667559148172, 7.314435059325444, 7.924926238069398, 8.604105007079752, 4.778145407793264, 13.153266197157093, 2.2797635374288117, 2.5295823183099806, 6.172659200975372, 1.5134921361542555, 4.1308394056684925, 5.3975925599603025, 5.212946928830861, 4.579975753652352, 5.064912793496756, 5.7708293174752745, 11.81696329028748, 7.211945013231518, 8.111657434912852, 8.953405408496177, 8.426138061618927, 6.961422954283964, 15.426529198210382, 2.3466477815068045, 7.769538346759168, 10.85114434218525, 31.963519312809577, 8.809120452758927, 6.052282977448981, 2.4431926367035786, 2.675948167546714, 3.950012700329789, 2.085474894561705, 8.328571150184946, 18.248098597165537, 18.41465511160128, 13.049765858154004, 4.330001373443315, 12.27040045097824, 15.061280166187693, 30.43477232891752, 5.408060405574255, 15.192929794674624, 3.2509383407033154, 2.8494406980171463, 1.7801057628949897, 22.133705114409672, 8.574302960570082, 14.368644176063516, 13.35953888137356, 8.874848089589381, 25.81432921098195, 12.373755536532588, 18.916265544816707, 5.753048747914244, 3.929457230760944, 10.180656442520842, 4.347574513891205, 5.592009789938636, 17.194076449955524, 2.827314809370604, 10.507347316891872, 7.537119549358231, 11.179385315967231, 5.4767052716505376, 4.732729967678516, 5.01125928396427, 2.2218575360792143, 13.098230832381248, 5.859869440153019, 15.125527631425811, 5.421620495740696, 9.454368977243595, 5.695365441373815, 3.2362759077971246, 5.067539071193543, 1.7353509164325291, 14.745060427954963, 7.677978117567052, 3.3965012256958547, 8.944833202453331, 11.253125025385469, 9.724966474935732, 27.44356244036913, 2.61507535262648, 10.956549649185703, 22.394388771097734, 8.6018730542435, 4.193463611523285, 23.41339775578269, 5.664609819341506, 27.03124353683977, 3.651820968682328, 8.216878370360062, 8.814833713464918, 12.369828950862239, 16.774255394298326, 2.2471217358431272, 18.74824839029628, 17.26269786196299, 6.806666337646301, 16.805049955714086, 12.494688828109798, 2.2425337765257924, 26.85864109785517, 2.2033625270577804, 14.59132282024364, 10.404310803099797, 5.033823811549746, 4.34154627421402, 5.70957353830394, 19.355221594762543, 12.04388887630512, 15.060653159913258, 6.964014163909985, 3.098642974128538, 4.1304088421105005, 9.83446039813188, 3.1352644515262282, 7.210159495033653, 3.349016625844456, 3.878702954600625, 32.55809315498991, 6.078117393910851, 12.080144617366402, 3.4312478361092684, 17.306514472086498, 49.719942304730445, 3.979150555532411, 2.6762470658150703, 4.497575050214004, 3.7482256178690947, 10.98887970978446, 19.027620120998314, 8.942965837478036, 4.094184130595986, 6.914558279076792, 6.866862567757022, 11.065210471429287, 10.33527491591399, 5.395239816334157, 8.443904257548652, 4.9162487469775495, 126.0749780361757, 1.8973821948857037, 26.85864109785517, 3.8780708743060517, 5.118658826654754, 12.472590681956959, 40.96140166409534, 2.722142207116857, 9.381947475984035, 4.031336646675514, 43.35024703547977, 16.27070465784815, 8.73469817892542, 1.2648727587153996, 5.3039151505100435, 8.838013408052714, 4.1769911193517375, 8.259434320428257, 15.421652525509705, 10.093773669479184, 6.510690100946939, 14.636304778927492, 6.387870931478727, 26.236581450839207, 15.317758029080533, 21.154647837225692, 16.415624359384086, 16.280444285034804, 12.049403858609253, 9.056836916417689, 8.27334884505914, 4.447590462237686, 2.471510381731265, 2.11452936773498, 1.243678848622607, 6.818095238095238, 2.7367260544509535, 67.74325723268652, 17.08275150498681, 15.9706392793663, 6.427061618078999, 5.453180705618194, 8.928656760900273, 8.40662211175864, 8.954017505221406, 3.787808450641359, 12.50625027729816, 23.934760191363324, 5.0501582730831025, 2.825941523773455, 8.607485533597542, 363.26941970864385, 21.97279140363657, 4.4776234065135085, 2.0462486777279323, 5.096997778499649, 1.9861381907969535, 11.516795687411724, 26.98284938620366, 8.392079444590806, 9.835728600638872, 6.766424702271487, 9.642674188392762, 3.145952636002123, 13.580070900569408, 11.231214809801086, 97.71810675712587, 5.95856835515527, 8.719278865861376, 18.30266364377438, 4.307667182561732, 5.977570612296422, 9.20457163590341, 15.488415857816637, 10.18425662920312, 64.48618892013143, 2.518872720384387, 11.41607479708161, 14.938564558164428, 4.518500835421887, 203.90369034061914, 8.256085855031325, 10.95879463338436, 8.236852152261827, 21.259915277338514, 3.221669637252919, 12.046177095407531, 5.681730431567618, 2.9828593603826907, 15.151446523000322, 4.17548836336476, 9.56807825922256, 36.71039880952381, 13.379374164929125, 5.243271296648848, 10.486419401564824, 4.677032239946735, 4.8685962335895825, 3.4277894659279884, 3.667393777929635, 5.159808433794929, 8.697295329594569, 6.721379557309117, 5.341170798400288, 12.701968472313803, 27.61009338316023, 7.012376783493362, 9.676417417504389, 8.326785332321005, 8.372005541423293, 7.01153882286856, 8.834355738531253, 1.3258983552276618, 9.39906841590704, 6.316109678238028, 4.646303019867324, 7.210245088605599, 10.903153580352432, 6.960806891695861, 16.64855179270521, 10.331993696212301, 3.3605798750386304, 2.453718191800222, 11.569400834198463, 15.142816430167628, 4.2561588614290295, 2.3544867153839037, 9.962510936384595, 49.71794276816664, 7.572169462276147, 2.574968537740271, 54.55156952335802, 2.350459340894473, 7.821271363575785, 10.464295465546344, 15.969830446141618, 2.3233242818797297, 7.842314213681236, 8.933126993720238, 17.43902833529754, 2.933383119175706, 13.776120611364247, 4.241483880553936, 4.338615263110456, 4.98052547859819, 18.61126102222221, 9.049478961999643, 13.827770611376934, 21.50476162296412, 10.436320593821545, 10.546951499205074, 20.251553905647015, 7.3830816312191825, 18.48420538997665, 16.26144300529522, 3.5413162636918343, 8.057809701181247, 36.31361061523924, 11.218183916392961, 8.97603435656603, 2.2224394248942736, 4.9533549124781295, 13.531963157705208, 16.119010363458752, 7.520298997872035, 2.2552364915419196, 14.477891934510142, 14.350796383657064, 9.638726291128298, 11.552549184952152, 3.609946551991008, 24.61408922870568, 5.081337193903545, 2.3510830399131346, 89.02145645822446, 12.102422470797244, 9.384434679087306, 6.808538439070604, 1.9081384046399679, 3.430881679609875, 6.071350976096929, 5.48897305546855, 9.350177885188002, 9.34890467557399, 14.060604238992335, 14.387330985307091, 4.652730032787948, 10.90939624965359, 12.506173121701407, 4.8442345926081325, 11.0204901276858, 9.604658050332471, 3.522563129576724, 64.37701597224333, 3.768709420395966, 13.327414419125141, 16.943094273300275, 6.525897285789117, 1.5130727499103123, 6.92374058252503, 3.9181066114009697, 3.7838617918178006, 2.446440435232887, 22.435647531845024, 13.55387819583961, 12.955257190766586, 4.0086960707900205, 45.833920794906305, 4.675375627221666, 5.216136708320571, 4.4475641588755614, 11.08850898829602, 6.178740977735362, 9.730198466084756, 19.6147809510762, 7.8948502157650315, 7.334789331645621, 2.83611459950112, 3.6111170991001114, 9.289310640802773, 1.931091824301474, 3.137636874158714, 3.7249632154185046, 9.190314327491086, 6.817139678564216, 4.249323308750615, 7.766599371923037, 27.827736212290628, 13.702134958006313, 4.503750739418004, 13.888302811705195, 1.0955198430389073, 12.96039809256362, 3.9669058550629295, 2.7726228373181927, 3.5090967150015557, 16.27413385729652, 13.879148502533088, 31.291605156300403, 7.381572678330929, 8.033609380021305, 5.656278806158352, 7.005233526447007, 5.92095484652301, 1.6859294089370769, 6.1014095418061425, 7.0299587923183795, 4.988189103785149, 73.72940576542068, 4.568685419173114, 14.63560583395035, 9.597925792407423, 7.90677352208779, 13.081811108298838, 5.4057492890968, 7.968702051875058, 6.525969078748091, 6.426239212847548, 4.692916979801316, 11.37921954819462, 9.217580801997276, 11.403396908119307, 4.951741018221534, 8.11237584615078, 4.271897044167151, 14.72256441008559, 10.181442599995435, 11.401095668037541, 12.655537106043408, 5.3727158087636955, 13.072880176865178, 5.117244959631319, 13.871588582261527, 7.682893606984583, 31.14695995643534, 26.354208225064948, 3.4198590382231857, 56.83291160664892, 21.91494537693685, 5.993447113396737, 30.264962798057063, 14.422945666472092, 13.571869044943028, 38.741918614141106, 4.381626306810382, 5.118185008911988, 4.5194557813735265, 4.211875994505496, 7.786603135643611, 7.268728054518684, 13.001093658767951, 7.211256914563934, 17.140322068434454, 2.6719666019750004, 4.576213044841875, 6.491403996013109, 7.7698273759329695, 6.977543910085842, 3.451432925984303, 4.260014896193406, 6.5751390681772275, 3.065957638561402, 2.177374249149992, 3.2349555413634965, 15.608239385787638, 3.2285700159303286, 10.315996473659824, 3.914100067034356, 40.86707744107744, 7.6627806930220705, 4.32058828419804, 16.422216403702116, 11.627717183223004, 12.54221718589175, 10.900510572628987, 14.053776956381212, 6.591374380056513, 7.064580004016929, 13.182947763348228, 9.917956266586142, 14.493368805371787, 6.181315822084814, 13.06766207135561, 8.609499562124439, 8.679144165805958, 9.886563268440167, 2.762802581949895, 4.051119204442867, 8.32337478162106, 72.52054350667596, 6.663925992673679, 25.98939668689453, 2.5448638596390314, 8.796529262077865, 5.665236371738797, 11.12821020459901, 1.965137887523102, 11.382919565476522, 2.1773809879094417, 11.318977140687753, 13.277136515865694, 23.98599975991338, 12.090960700618687, 17.58983782006351, 4.08837803360936, 9.542117437559961, 2.750172784171441, 12.133349674186736, 4.272855479922514, 45.33662249177087, 2.3015993781453923, 16.662223293380226, 23.606918551925165, 7.89093261677198, 2.5769032317619924, 7.775735599326128, 5.168088932237099, 9.898685216775956, 7.615104805316134, 4.889616111626862, 3.6303634747438958, 4.863538591644609, 12.454504576783748, 15.368867901163094, 8.35302383950941, 6.862784321768813, 11.632059882283752, 12.130254686585115, 9.594283563389492, 4.792050439403096, 12.209694240257178, 14.56259684942392, 9.406572446119466, 2.139088463186304, 3.8311584465131863, 8.313819859795423, 7.1331443365338405, 5.371999759828153, 18.188100257858636, 21.7601493993877, 57.131529676473285, 3.0609830968135845, 22.226902344125406, 12.213056844633991, 5.299939363344621, 13.477995279471765, 9.210244034314508, 5.770303932970486, 5.70294490235249, 7.809029821517092, 14.655288909513486, 18.989934274060417, 168.93839233954452, 13.748552299196472, 13.277396841056346, 2.979687568564211, 5.275460442471471, 10.11215843637075, 1.4044421198768604, 19.517451828335325, 15.032071913183515, 8.42522628589146, 8.80461764958239, 9.08597909122566, 4.798081229095088, 36.410871214534936, 3.024302019134902, 5.796545159412947, 5.2698954982831, 6.772825646184512, 6.3138103306183515, 16.085140051900574, 12.518896318138268, 14.674124082748078, 14.556260535964306, 7.8718967316800885, 6.723988588713918, 2.6187792639628054, 9.422406273154532, 2.960644748802517, 22.57528225063904, 11.342152745658696, 3.6996097065297584, 8.675324928222, 22.539942403405192, 3.855338864347438, 5.830756873600174, 15.442947831827583, 16.942927026355388, 5.659105427669935, 5.12206690437806, 5.830871545672067, 9.49710893514768, 10.648075178993029, 2.1485316999926765, 2.4098998877668585, 10.59551787885078, 7.921597946384678, 5.691847476722595, 10.492426268150952, 4.068998585228045, 6.150400102461744, 15.445839448598953, 12.029297320619092, 27.80152469579765, 6.263617367184122, 6.580314026356753, 4.381066000843901, 4.773995280742196, 10.046136217329229, 12.917599189197709, 7.638808320708676, 10.304046960625561, 9.311453301741443, 5.36264299064609, 2.9680673843465075, 25.72982541081994, 4.341645403956238, 13.172388546581834, 10.510798413948686, 5.594960732048716, 12.5718477264916, 9.601525167039883, 66.04349105690953, 12.161861401544993, 5.294448635941409, 32.14855764220659, 8.254120677966206, 20.3917340348161, 25.340377788267524, 6.622571044604315, 10.360650762780283, 12.112128054723094, 11.456809723486112, 2.6037355264187885, 5.869179199330769, 10.359328703102678, 14.016261912211865, 14.81471576929373, 7.554543908511564, 11.658566884987186, 9.77874841377695, 2.246050934652543, 25.98988658958777, 6.285022171483085, 12.899038667874379, 13.884222444975151, 14.331951817101428, 14.448571676591994, 4.439514977872693, 9.510277172377878, 33.59030085542905, 42.43997940186175, 3.8206312278447223, 2.3946821445946083, 17.665009652585255, 6.761267373871538, 46.745268537919145, 2.5092175476289555, 5.101674284428213, 10.66410675967536, 9.179743803551666, 5.693861063201853, 1.3235693372803101, 4.113718715697937, 5.686703524092752, 16.611686425615755, 4.84699313940857, 11.39011625300692, 5.8510748751661446, 6.437869395991114, 5.600218718510469, 9.341008555923121, 8.854460053610586, 25.344135680088215, 52.21848769777239, 2.886559625917719, 2.804501541537058, 17.336331419772456, 1.7182049481897663, 4.793386897188557, 6.666754687176104, 38.5189452405727, 5.643857032096417, 11.895906854783213, 9.665852919726904, 9.877355377352067, 7.658304212239256, 13.06766207135561, 13.117671040176763, 13.195525619957122, 7.71175101720063, 17.45256093248632, 18.561924235352592, 6.216300104009914, 2.2841020274762305, 9.330139637745356, 9.494491080480833, 5.989162316156905, 4.431558425445469, 3.5903009072730425, 8.987184677387154, 2.964191537223544, 13.198375629129153, 10.929951059295579, 6.760840406655599, 9.33083763975824, 2.5533090020363884, 8.521317466575946, 16.1386941103131, 7.100570909352135, 11.756891556825238, 12.85563147211854, 7.350751920886957, 7.081056773246967, 12.482260078223145, 9.967310497785467, 13.210669100155373, 6.4349213526979945, 24.681306765467628, 5.653476062752219, 6.0444679178812475, 3.422621671796788, 8.263614621192616, 7.892500741557466, 4.181163208035349, 8.562538089018943, 3.776806582776053, 56.16871849863106, 4.087095445078271, 9.904906554533852, 6.368390090762386, 4.837418227206493, 4.589527327189518, 8.572126295725782, 2.635043290992938, 9.032277290596891, 14.67090923330208, 5.804301811068893, 13.944188993718376, 8.836630437719137, 12.029110778284767, 27.911520277419154, 10.710760475253371, 10.206239508122529, 2.8856052174550935, 31.88221691559995, 4.175423572063059, 18.737060342406618, 16.33210749417802, 8.257863389106056, 3.659041385042688, 4.1509517595109084, 7.997237732689763, 10.79614780661667, 16.03801578583227, 4.575248976215823, 15.673554112892123, 13.326091280618845, 6.339526186028345, 13.328075975009483, 5.542819693887797, 7.418303914770527, 5.260720364948375, 7.810813356044365, 1.2608399245466784, 1.621315267607803, 3.7799317544290734, 7.883388556966646, 12.02639930775962, 3.690686299805951, 2.7262480302324543, 21.88334147129556, 5.45469835043012, 8.120283555617707, 9.534821468875052, 13.521890103811547, 11.955507601686568, 8.038126039281952, 3.762369942213788, 30.86725368997395, 8.479722576614533, 9.965536743129922, 8.859353664815126, 3.931654811896189, 3.6468619507131903, 14.203680291058266, 11.746137589951841, 7.691312568668291, 3.7473970055639945, 8.348111236366371, 8.026969350812202, 11.108937261633121, 9.816633158050667, 12.828873774874994, 4.8677845662594965, 10.15790509980179, 2.283410835392078, 4.044250172236577, 3.415977136866709, 159.94199332399307, 3.1637792016062014, 7.16778881800576, 9.639059711264096, 4.699904582784713, 5.8609835089481965, 6.02016028968188, 7.994427838691937, 10.301077233485243, 4.544710121855474, 3.5730976354593356, 9.190314327491086, 11.085562850379402, 7.478819005560106, 11.768720783075656, 2.620138954769366, 5.066265144347003, 9.719294714672305, 1.8647297273196903, 28.096, 5.836857371237337, 11.036498426052956, 7.461181970283977, 26.28543247820702, 8.666741391825202, 3.1809583195454096, 13.388021078229073, 20.028569249845194, 2.7703492878455513, 10.598805097912319, 10.037339273350156, 13.357656668037851, 8.354049006732726, 4.254364357773934, 142.94166666666666, 7.564474302036894, 14.20693328013838, 8.301555887716832, 14.32493024210738, 78.09027142857143, 3.816748386950382, 13.132789739889864, 11.597008233951087, 8.74993430294107, 11.701836850425252, 7.578968875433938, 2.0471812011830535, 8.285642346077328, 5.958023142931901, 7.051302055256064, 4.116996265431968, 4.089338656859928, 12.811669477398821, 13.227920971823114, 5.460061134194222, 4.65472763996506, 3.962282639519737, 6.366790529707965, 6.955210859788978, 2.997487840689907, 5.081392896075795, 10.345240473919903, 9.926337511633871, 5.659309213670123, 19.792982920633534, 5.954022747468969, 4.949351355751902, 4.313893980583737, 62.5400639546666, 4.669621652376645, 23.768666601043563, 5.5866924326297145, 9.617902356352909, 5.3296899559129995, 9.248690021199469, 10.927492072074429, 16.705051154908933, 9.809916643905826, 7.0316785618242195, 11.115632335196064, 7.35978414354984, 7.706810755382399, 30.21659124277553, 4.699353098180013, 6.744653220608281, 8.31526024836277, 5.381917489015546, 29.551831968793127, 13.109856987896388, 2.7661251058548793, 7.766124192211901, 25.04081372774107, 9.786413285863826, 6.791583695830286, 13.760595951850137, 11.416436113255886, 25.12875410793743, 5.120195379159811, 9.580420310866735, 7.873976810268557, 3.6746211227695595, 9.759314851389666, 4.523533954028828, 49.93893351413924, 15.306522236953894, 7.8948502157650315, 14.107425949271265, 4.520064950470804, 2.381294218348519, 2.4443547804561963, 32.07056095197532, 8.24056710298934, 12.485199850364067, 14.800175480123073, 8.324698629770616, 15.84233572559791, 2.8615518746683284, 18.288624574259103, 4.040045537367796, 5.126721786302957, 5.960466856216783, 19.43566224180881, 1.7490383505617115, 6.588750358142087, 10.009800063387795, 17.53945596213751, 14.768192598424728, 7.068318730575778, 13.295306627920734, 3.285699613404369, 7.712659977285165, 21.0670434800376, 11.986720462914452, 5.025966206097961, 3.141416111646637, 5.054761139913726, 11.225138349565922, 7.178985741699404, 9.450075045649792, 12.91651856153057, 2.641313724398038, 3.914100067034356, 10.490475482477718, 8.899528228309151, 5.683030053482285, 9.704618456091533, 5.489325634105388, 10.519211110411211, 16.57877859672215, 9.919117469370763, 2.547902741936879, 5.81223774874262, 9.173738401480609, 4.183298721865079, 83.1605994220273, 10.281268541874372, 8.4045709131058, 2.434545998075922, 176.42497872933956, 11.601227268605717, 6.478979436208629, 2.2969889201857208, 10.774270311493266, 19.2644378783266, 13.258250643351193, 10.837509976628299, 72.96236269864383, 12.446648703631174, 36.03997940186175, 48.230118529077565, 11.915155626338054, 15.897715209546698, 7.931884478117509, 12.107994292311545, 5.149255213389273, 6.089534462822509, 7.361448061889115, 11.5232655938855, 8.947916002505458, 6.6291271183107074, 138.83423401958026, 14.395814308392552, 9.079049789822017, 5.922644328871895, 7.212295209385988, 7.7658592165470575, 16.49041852775546, 7.1109201872606995, 3.4379106817656835, 1.8456098504241027, 3.4433204649505544, 12.06917771001311, 17.665009652585255, 2.230054352683755, 30.844541155481316, 8.218160927003282, 84.50765930289312, 2.231614925492678, 2.7090256577053125, 13.869102323796694, 33.57674774295773, 6.373845647196588, 1.983980607535477, 4.946371028251255, 14.144635495518926, 3.292730122254081, 3.8587925831991616, 4.262611460347558, 12.619712431577554, 9.846337067734915, 13.773468052936018, 10.467695107825703, 5.5768717728903825, 16.20128314347892, 9.699616136606387, 9.014102106742595, 10.6062001508134, 6.234670191137542, 10.738197636558159, 2.5568506599914245, 7.334294837140186, 1.2229335257335259, 4.340473439212558, 3.1537980149167426, 5.212452923235656, 39.74091171802055, 11.383368582230123, 8.176784907992237, 6.171162566945462, 10.920014814721009, 3.512751949930206, 14.301307258567219, 14.63560583395035, 45.17236813581625, 3.4993308744428075, 5.865443874673094, 3.6825942651605303, 10.938590819470067, 15.9088264769969, 4.933138836718356, 19.91338450499074, 13.056180213105117, 2.727140149600873, 16.78864244761507, 2.9490535823641353, 9.824808971902257, 6.393841848811267, 23.377049149089814, 7.462507917274933, 8.195664192289819, 10.53788862697323, 10.129347527578245, 35.486797896208216, 8.640643537095313, 6.807065018264907, 6.383472719241351, 4.977407747730514, 44.50420833333334, 9.854169950865284, 11.431290104012692, 7.54952866341078, 6.127069612059788, 2.2958200737874046, 3.9129519228928804, 6.209080321899328, 5.113340421788709, 9.448576907339115, 10.160207828109456, 5.846940261640465, 3.8149151721971104, 4.690044351273048, 15.373883782605601, 5.993818425783327, 11.708944887303248, 15.888277219180306, 5.923333542166927, 3.7047952281839054, 7.455642896508599, 11.271261543775656, 14.695113067083673, 26.3212345675824, 29.183746771414157, 7.775095466923829, 8.14193910132998, 8.282112570311547, 12.998016695169277, 2.4756749866614793, 6.704747701437847, 3.7441053677605636, 5.909590138470476, 7.082981256732617, 4.81415101128359, 17.509116665649064, 1.225320655635517, 16.996255838493283, 6.420289756339726, 3.7544509015400473, 8.77597857342365, 5.906896112192174, 5.289531395132871, 19.56031045139248, 14.946363994635957, 4.022334708988892, 3.3599760354866413, 14.471356718627064, 15.300593986172293, 16.620795741600638, 6.517022942378283, 2.346992370062324, 57.30641626684306, 4.955881869267018, 9.770147777331708, 2.812932195171042, 3.106733207250567, 7.700601504404753, 8.77797919820024, 12.408362611318676, 6.667171066986567, 10.166862735873352, 4.604429889808531, 13.365154766808399, 12.814823620876162, 2.6685689799859107, 23.668533728673136, 5.996351304474863, 8.145018642228552, 10.797684438028632, 5.4766989691291315, 7.09196119849208, 3.7033632566537302, 11.132800355297944, 2.5928866041585024, 10.890353616997738, 10.34178762924902, 24.8155948730829, 16.3765346978198, 60.18815137449756, 8.952523941124076, 3.2863425461335836, 13.901905622676674, 4.219698904091741, 13.589743576213515, 3.634069683125714, 4.700335663392288, 5.117562556031454, 5.9027830758906426, 26.692916925663265, 25.857369247574603, 8.850052849756434, 9.322001653573121, 7.435690138490531, 3.1135410590323978, 15.267872207468166, 32.42144986600963, 8.162181496963479, 9.126584351646088, 14.44368423830141, 8.850468096057817, 3.81999518830868, 4.015176038389568, 13.256044792652096, 9.165197279737718, 5.107420606815336, 3.882684464651528, 8.484186717568932, 4.719691968843352, 11.299232611417954, 11.636903465439508, 47.852514806897965, 7.516971422124003, 12.758889532681906, 3.903289379804014, 9.108980235188273, 6.035878627971701, 2.051158142326404, 3.7587310803472924, 349.08011005918524, 9.732665317294977, 8.963390902196824, 5.3249056859362245, 7.132817547945198, 14.743822973241468, 2.073775698851172, 26.119606305575974, 4.743903410875584, 61.2038199326073, 5.5866924326297145, 8.18492375971041, 8.663537626803183, 4.108211689264867, 8.946666321249198, 15.892094644387228, 7.816373350057278, 5.19801498904481, 26.604197742422862, 5.640762464317958, 9.173541802845838, 18.623536363981792, 16.277141894053685, 2.0105211101138267, 2.5769032317619924, 4.580312199363087, 10.731534444030833, 11.822106453904611, 15.695306753705715, 4.949916501364671, 8.759363245186387, 10.946439237279698, 7.5163810257094905, 48.211881818181816, 119.08332162463596, 8.17598820871368, 7.809029821517092, 5.017093216026778, 9.734016885317768, 2.24822048881563, 10.383071279977926, 7.363128845679038, 18.775939565236754, 2.1688617315306433, 3.13236384176157, 10.084711599168886, 4.036366325915851, 9.129978195921163, 15.223417420461347, 4.764836940571639, 3.2250993273090045, 15.488415857816637, 9.328712952068393, 17.0688349609787, 3.141928953336884, 7.129522266818912, 9.482303584873353, 4.915020594301131, 9.774983863242959, 10.45518913007263, 10.43355184100996, 9.422406273154532, 4.148072526688219, 3.113247477762726, 15.385448391156947, 8.173575564724716, 21.851576427296692, 8.412190442388042, 3.8388003504088797, 2.938034942381344, 2.4010006972228393, 3.8539304743245553, 1.5445962125837749, 1.6995736432411415, 4.857933427648779, 9.342360767922624, 3.9993633672376148, 4.65012281971583, 1.9636707886330658, 15.689220984382027, 4.060831707036167, 4.913671507725729, 88.79516666666666, 4.751230294157497, 13.826722261793288, 25.015012961505818, 5.527202165564649, 25.227384047772777, 15.571244395268948, 1.8357037678695785, 15.15156959151105, 4.896133444520963, 13.51066759678864, 28.34650788084161, 2.0298075436683276, 11.629304985780907, 2.7954053971827637, 5.546386597317922, 8.084332723125899, 2.246598864949749, 2.197892547886467, 1.86103495030435, 4.168993153092207, 7.969569272917515, 3.407713023263968, 7.796075063457468, 3.493919297528565, 18.525839330148624, 8.447389712248897, 4.494657501504923, 7.489451228915354, 6.386455778902206, 10.634358860471282, 5.400784254782616, 9.47672140781479, 5.788033670118746, 7.540773768136393, 5.491718517433082, 7.3556653487118, 40.64266666666666, 4.928512430576824, 8.574302960570082, 4.638659940348674, 2.6846644166871, 9.12138190274191, 1.5387408784405505, 10.232109295101418, 11.377970366414925, 34.357893026698974, 5.102756704059076, 10.087784979703045, 14.743822973241468, 13.791059557587442, 1.934790537267728, 7.117339672743216, 20.93180914313424, 3.439680107201533, 3.574572080558363, 14.076652817726684, 12.866493037420021, 14.528585554666961, 5.497230730689394, 6.534881100641506, 2.6721989003595557, 5.473422670023244, 10.502064382774458, 7.9418742095623065, 5.571726590986881, 2.012586371886865, 43.98492576956242, 7.731893191663532, 10.232794412799635, 8.581854555215966, 7.939854244150565, 12.298546311306737, 13.28689053447599, 3.6817014526509104, 3.2152439533381467, 16.34219307090642, 13.568235169945767, 21.33273180385372, 10.085288835719725, 8.578214918215611, 4.472438519272524, 53.811102357321815, 31.136795092087414, 23.615738709188626, 9.891056968710767, 6.789511053374851, 4.323343619970472, 8.267146742374136, 11.007645770837104, 3.5117514285908826, 5.119021200598034, 9.997423108849842, 9.005618137494615, 12.937360133089653, 11.912743399594303, 6.916553339967429, 4.403128902181382, 14.81640075221184, 7.652846962211717, 3.428056705659462, 6.494826637023489, 10.98785055087043, 4.0904215097884356, 12.09421062239477, 10.545798413948686, 6.122428065349842, 3.1567823082975024, 13.530658988525692, 4.709486114456365, 10.171858686659602, 5.766883893354986, 10.40686896423995, 2.4224786532221323, 8.86140317647811, 11.189328686684421, 2.13412295418363, 8.418253473617545, 4.565380751774851, 19.889505572821466, 12.155898040312577, 3.6798797786035857, 48.58376513549476, 9.94686292463954, 10.029572835931855, 7.160681075368383, 2.189873394625116, 229.18571315202803, 8.930320387364523, 12.32918420412507, 12.6739654089917, 8.852284508372712, 9.027217103377392, 2.6119140611587652, 2.0185887180213, 1.863756420832326, 5.689375579015096, 22.980758134864665, 5.022260962430921, 11.57533876499708, 20.464146600443172, 2.8975167619204036, 5.429088957389902, 13.495767079605095, 12.483884663321485, 1.6683979636415527, 5.982976128366314, 6.500948666565635, 14.755637429169068, 2.009508565893078, 2.1215085121543815, 2.8017607753567955, 11.613749092303213, 5.5695407619013375, 7.854218376356539, 8.904159911493212, 8.17510056158791, 2.278456593153321, 7.438617930302133, 7.993185915974899, 3.3723261663696693, 2.7449479563877266, 12.619522091704136, 98.50605456389452, 6.325350443721826, 68.7011104681261, 31.907351454458045, 17.010415771207878, 9.756349404284263, 3.396563405628468, 10.562591400879871, 11.558806961573103, 3.705517209736783, 6.3877603344487435, 11.357677816278505, 3.4203656239694724, 9.723510369785034, 7.077214829685748, 10.642195875861248, 5.759003449472018, 5.357567737605532, 1.5647424911714674, 5.763672422912688, 5.530124921308885, 6.908445601004505, 7.746422259357428, 5.413424721504424, 5.230113634648967, 5.014966404517533, 6.395899966329244, 12.241335849730582, 7.696063825828305, 8.960539826401153, 24.51070391524903, 61.40435209339107, 7.297470709168289, 6.264138085528382, 7.017653100317323, 4.345873050128111, 6.62008290314948, 13.03559669290596, 9.77874841377695, 3.76401042858861, 18.362225972121387, 4.260505757457627, 51.70354313143344, 8.581296013838958, 17.43443099727393, 3.314079606403677, 8.570799710371922, 7.308697155853293, 5.706153595269959, 3.2350920017787015, 25.490536285509865, 3.4670406778065064, 6.044780865245257, 8.949956080252697, 2.4814805682788457, 10.396816276683646, 12.396704451572417, 5.420618221596073, 12.143451986517999, 3.0426286064446115, 6.292919368591758, 7.644797114416021, 8.512913225436412, 32.55532790844984, 5.078009434840296, 1.349455574998631, 7.796191513847432, 9.47672140781479, 10.448673685665575, 15.771357944693008, 5.320214861475666, 23.000710473093253, 9.650738380377625, 2.4431926367035786, 9.760490525179982, 5.292214151375372, 12.844274601631998, 6.725638350246417, 4.553011075706063, 3.142936340295293, 25.801165077779938, 6.515884310106088, 16.74847627108161, 14.068222153865836, 16.426327425013852, 11.591568964002281, 9.325490156025907, 5.9377596646032655, 4.546706229457634, 8.255303009546934, 3.5752599786989343, 21.017687956647578, 6.409410298175288, 10.928491000993954, 2.5697172259503596, 8.740593039054723, 3.380333058813362, 10.919886606087289, 166.23708333333335, 5.623344321442548, 15.113392858580776, 24.78293489503731, 26.84489785583371, 45.77044669696695, 19.88161533586433, 4.824290174104201, 14.19672920988529, 6.0488697582566635, 5.660141336457931, 2.1954808811439825, 9.189843255717767, 6.810624800266194, 7.62174748530543, 6.8382318912158295, 123.43529473984226, 12.860965547026892, 5.270128732641237, 8.796986131029282, 16.563647837737168, 5.412794899924206, 11.474699638594426, 12.963430432410597, 4.556848458981342, 10.012971795527905, 3.2530359632579438, 13.564330279584617, 10.139902764096119, 2.280303020916089, 3.689278685379873, 7.212295209385988, 10.396712081120425]\n",
            "[1, 12, 2, 24, 12, 4, 12, 2, 12, 4, 12, 2, 12, 10, 12, 1, 2, 12, 48, 2, 3, 3, 1, 12, 3, 6, 6, 18, 1, 1, 7, 6, 4, 8, 120, 2, 9, 6, 1, 1, 2, 2, 2, 12, 2, 1, 2, 2, 3, 4, 2, 2, 4, 3, 1, 1, 12, 12, 2, 1, 12, 2, 12, 3, 12, 12, 7, 1, 2, 2, 10, 12, 1, 2, 3, 12, 3, 6, 10, 2, 2, 1, 24, 48, 2, 1, 12, 5, 8, 24, 2, 4, 6, 2, 576, 1, 12, 12, 3, 12, 24, 12, 6, 4, 4, 12, 12, 3, 12, 1, 12, 1, 12, 3, 72, 6, 1, 30, 12, 10, 3, 1, 1, 5, 12, 4, 6, 4, 4, 12, 48, 10, 5, 1, 3, 2, 12, 1, 10, 2, 2, 1, 3, 10, 16, 10, 2, 1, 12, 8, 24, 12, 1, 3, 1, 4, 12, 4, 1, 2, 1, 10, 16, 4, 12, 1, 4, 2, 1, 6, 1, 1, 3, 12, 1, 25, 192, 24, 12, 128, 24, 2, 1, 2, 2, 20, 2, 5, 25, 2, 12, 10, 4, 2, 6, 24, 2, 10, 24, 1, 24, 1, 1, 8, 2, 12, 1, 8, 5, 2, 8, 20, 6, 48, 1, 24, 12, 1, 10, 2, 24, 12, 2, 10, 12, 12, 12, 1, 1, 50, 3, 96, 6, 12, 6, 48, 6, 2, 3, 6, 1, 96, 3, 4, 4, 6, 1, 10, 8, 36, 6, 1, 1, 4, 6, 1, 2, 6, 12, 168, 12, 1, 6, 6, 16, 10, 12, 6, 1, 2, 12, 12, 12, 1, 1, 6, 28, 3, 8, 2, 12, 5, 1, 4, 12, 1, 12, 2, 24, 12, 6, 12, 12, 3, 1, 25, 12, 48, 24, 3, 12, 8, 4, 2, 16, 50, 3, 24, 24, 12, 2, 6, 24, 1, 1, 1, 3, 72, 12, 12, 7, 48, 4, 4, 12, 4, 2, 24, 20, 2, 1, 6, 19, 25, 96, 8, 2, 2, 24, 2, 10, 24, 4, 1, 3, 2, 4, 12, 10, 2, 12, 8, 6, 2, 12, 6, 3, 4, 12, 1, 1, 2, 8, 2, 4, 3, 1, 4, 2, 32, 6, 12, 100, 1, 6, 4, 2, 24, 12, 3, 6, 6, 24, 25, 1, 2, 12, 1, 1, 1, 6, 10, 6, 12, 3, 24, 6, 1, 5, 12, 1, 2, 2, 24, 36, 24, 1, 12, 30, 12, 2, 3, 4, 3, 3, 1, 6, 4, 12, 8, 2, 1, 1, 6, 2, 1, 2, 1, 3, 24, 24, 2, 1, 2, 12, 12, 1, 4, 1, 3, 1, 5, 5, 6, 8, 6, 2, 6, 3, 12, 8, 1, 2, 20, 6, 1, 20, 16, 24, 24, 216, 1, 24, 1, 5, 12, 24, 8, 12, 60, 4, 12, 8, 1, 6, 2, 6, 12, 1, 1, 1, 1, 2, 1, 10, 1, 25, 5, 1, 24, 20, 1, 12, 3, 2, 2, 12, 8, 2, 4, 12, 12, 10, 4, 1, 4, 4, 6, 10, 4, 24, 1, 1, 12, 10, 1, 36, 24, 12, 6, 2, 1, 30, 1, 2, 10, 5, 6, 12, 24, 6, 3, 72, 4, 36, 24, 3, 1, 2, 11, 25, 24, 2, 1, 1, 60, 1, 25, 5, 2, 2, 4, 3, 72, 7, 2, 1, 12, 12, 1, 12, 12, 1, 10, 1, 30, 2, 5, 2, 12, 12, 25, 2, 2, 1, 6, 24, 2, 24, 2, 4, 3, 16, 1, 12, 24, 1, 6, 6, 3, 16, 2, 25, 3, 12, 7, 24, 48, 6, 12, 3, 10, 30, 72, 24, 3, 1, 48, 6, 24, 3, 12, 6, 6, 4, 2, 12, 8, 10, 24, 1, 1, 1, 3, 24, 2, 4, 5, 12, 2, 6, 10, 2, 12, 2, 10, 12, 6, 12, 2, 2, 12, 1, 1, 1, 1, 12, 8, 4, 2, 2, 96, 1, 1, 4, 2, 1, 1, 12, 4, 6, 4, 1, 3, 24, 2, 20, 1, 1, 6, 10, 12, 12, 24, 432, 40, 10, 12, 24, 6, 1, 6, 2, 2, 6, 2, 3, 3, 2, 1, 6, 12, 4, 12, 2, 6, 2, 4, 216, 10, 2, 24, 2, 10, 2, 6, 12, 12, 24, 6, 12, 1, 5, 10, 1, 12, 4, 1, 6, 1, 12, 3, 2, 12, 12, 3, 2, 1, 24, 1, 2, 12, 2, 10, 3, 96, 8, 6, 12, 12, 9, 4, 1, 8, 15, 6, 4, 20, 2, 144, 6, 13, 3, 2, 2, 2, 4, 7, 24, 6, 48, 10, 12, 1, 1, 2, 1, 1, 10, 5, 2, 2, 8, 4, 3, 12, 4, 3, 3, 8, 4, 1, 48, 4, 6, 20, 1, 1, 12, 6, 1, 6, 1, 24, 12, 12, 1, 12, 6, 24, 5, 12, 6, 12, 4, 2, 1, 1, 10, 6, 4, 1, 5, 12, 8, 40, 6, 1, 20, 6, 4, 24, 24, 8, 24, 6, 4, 12, 25, 4, 24, 1, 100, 1, 1, 1, 1, 10, 3, 8, 10, 1, 12, 4, 24, 1, 1, 2, 2, 12, 36, 12, 1, 2, 10, 6, 2, 4, 2, 12, 5, 2, 12, 18, 3, 9, 3, 3, 48, 48, 2, 2, 12, 8, 50, 6, 2, 8, 10, 10, 4, 6, 12, 2, 1200, 2, 4, 2, 96, 1, 3, 3, 6, 1, 2, 25, 1, 24, 25, 3, 1, 12, 120, 48, 1, 6, 24, 4, 1, 25, 1, 2, 3, 1, 5, 12, 1, 3, 4, 3, 1, 1, 6, 1, 12, 6, 30, 9, 4, 12, 32, 1, 32, 12, 2, 6, 2, 4, 12, 12, 3, 12, 80, 2, 1, 36, 4, 1, 12, 1, 25, 2, 25, 3, 12, 30, 24, 6, 2, 2, 1, 25, 20, 3, 6, 1, 2, 2, 3, 15, 6, 1, 1, 4, 3, 12, 1, 11, 144, 1, 144, 1, 2, 12, 4, 1, 576, 12, 12, 10, 3, 12, 24, 1, 6, 12, 2, 24, 12, 2, 1, 2, 12, 24, 2, 20, 8, 12, 12, 10, 6, 8, 2, 40, 12, 24, 4, 32, 16, 2, 1, 12, 2, 12, 25, 12, 3, 4, 2, 1, 6, 5, 10, 2, 2, 240, 2, 1, 7, 12, 6, 2, 2, 3, 96, 10, 6, 2, 2, 2, 6, 3, 12, 496, 3, 48, 5, 5, 1, 1, 1, 10, 8, 9, 2, 32, 100, 12, 12, 72, 24, 1, 48, 6, 12, 100, 2, 3, 2, 4, 12, 2, 2, 1, 12, 2, 1, 2, 1, 12, 1, 24, 4, 1, 12, 144, 2, 12, 1, 2, 2, 10, 12, 12, 10, 2, 7, 48, 25, 48, 1, 3, 2, 20, 24, 6, 8, 4, 10, 48, 24, 12, 48, 3, 2, 96, 2, 12, 1, 1, 10, 24, 10, 12, 24, 12, 24, 1, 6, 12, 6, 2, 1, 2, 10, 2, 1, 4, 24, 2, 3, 12, 16, 24, 1, 12, 1, 1, 1, 2, 4, 24, 144, 6, 10, 4, 1, 15, 96, 4, 6, 6, 2, 2, 12, 10, 216, 6, 50, 12, 1, 24, 24, 1, 6, 6, 25, 6, 4, 24, 1, 24, 5, 2, 12, 6, 2, 3, 1, 24, 4, 3, 2, 3, 3, 25, 12, 2, 1, 48, 1, 1, 1, 12, 6, 3, 1, 6, 6, 10, 12, 12, 20, 1, 2, 12, 2, 12, 2, 6, 12, 4, 12, 12, 4, 2, 12, 12, 3, 24, 10, 40, 25, 6, 2, 6, 1, 24, 24, 4, 24, 1, 12, 6, 8, 24, 12, 32, 1, 4, 10, 1, 4, 1, 2, 4, 4, 24, 12, 1, 2, 2, 6, 8, 10, 8, 12, 3, 2, 3, 480, 4, 10, 2, 12, 12, 2, 6, 12, 1, 24, 6, 10, 2, 6, 2, 4, 10, 10, 1, 10, 1, 12, 5, 1, 12, 10, 12, 8, 12, 24, 12, 288, 4, 12, 1, 2, 8, 10, 1, 3, 1, 36, 3, 48, 2, 6, 1, 4, 1, 25, 1, 2, 20, 1, 2, 6, 12, 24, 24, 15, 24, 12, 25, 6, 24, 2, 12, 48, 100, 12, 1, 3, 8, 2, 6, 10, 8, 4, 32, 2, 3, 24, 1, 12, 12, 2, 1, 25, 1, 12, 4, 72, 12, 2, 1, 2, 6, 2, 50, 4, 12, 16, 2, 1, 6, 1, 1, 2, 12, 12, 1, 12, 2, 6, 6, 12, 144, 5, 2, 24, 4, 96, 1, 8, 4, 6, 9, 6, 12, 2, 2, 2, 6, 9, 24, 2, 12, 8, 25, 144, 12, 24, 3, 1, 2, 3, 20, 24, 3, 48, 12, 1, 10, 2, 6, 1, 12, 12, 3, 2, 18, 2, 1, 36, 2, 16, 5, 3, 24, 1, 120, 7, 4, 8, 36, 12, 10, 2, 24, 2, 1, 4, 3, 8, 1, 36, 8, 8, 6, 2, 2, 30, 1, 2, 2, 4, 10, 2, 1, 2, 4, 12, 24, 12, 3, 12, 8, 8, 4, 1, 7, 25, 12, 2, 3, 12, 24, 12, 1, 48, 1, 1, 12, 12, 6, 1, 2, 6, 3, 6, 12, 3, 10, 1, 1, 5, 3, 24, 10, 3, 1, 10, 1, 8, 1, 32, 1, 6, 12, 2, 12, 4, 1, 3, 6, 3, 10, 21, 100, 8, 10, 24, 24, 2, 10, 8, 3, 1, 1, 1, 1, 2, 9, 2, 12, 1, 1, 14, 12, 12, 2, 12, 6, 2, 10, 1, 48, 4, 8, 1, 2, 8, 1, 2, 2, 12, 12, 4, 18, 4, 6, 3, 2, 1, 6, 12, 4, 12, 8, 6, 2, 2, 6, 4, 3, 12, 24, 1, 3, 12, 4, 12, 12, 5, 12, 2, 6, 2, 1, 2, 1, 16, 1, 40, 1, 5, 8, 6, 4, 1, 48, 1, 24, 24, 6, 24, 2, 6, 1, 12, 3, 2, 6, 12, 1, 1, 1, 8, 1, 4, 32, 6, 12, 4, 2, 6, 1, 5, 12, 4, 13, 2, 25, 1, 2, 20, 2, 10, 36, 12, 3, 2, 6, 1, 1, 3, 4, 10, 6, 1, 3, 10, 15, 1, 3, 4, 1, 1, 12, 6, 12, 3, 10, 2, 48, 1, 4, 16, 3, 29, 1, 3, 4, 12, 10, 8, 1, 1, 16, 6, 4, 6, 1, 1, 6, 12, 32, 2, 3, 20, 1, 12, 3, 12, 6, 8, 12, 12, 1, 1, 12, 96, 2, 1, 4, 4, 1, 1, 24, 2, 4, 24, 20, 6, 24, 3, 1, 24, 2, 12, 4, 12, 144, 48, 6, 2, 3, 48, 1, 2, 6, 1, 2, 12, 3, 6, 2, 3, 2, 1, 120, 1, 2, 10, 2, 4, 8, 5, 10, 12, 12, 1, 6, 1, 6, 2, 6, 3, 24, 16, 12, 1, 12, 24, 10, 12, 10, 1, 10, 24, 24, 24, 20, 5, 1, 12, 1, 4, 2, 1, 6, 200, 4, 12, 8, 10, 3, 3, 9, 7, 3, 96, 12, 96, 2, 6, 4, 10, 2, 24, 3, 2, 7, 8, 2, 3, 1, 2, 4, 1, 6, 1, 2, 12, 12, 64, 10, 6, 1, 3, 10, 1, 12, 10, 6, 4, 12, 3, 100, 1, 10, 5, 12, 6, 1, 8, 5, 60, 6, 12, 5, 2, 1, 6, 1, 24, 12, 6, 1, 3, 4, 1, 3, 12, 1, 3, 3, 24, 1, 6, 12, 2, 10, 1, 2, 1, 7, 2, 25, 2, 1, 12, 12, 6, 2, 6, 12, 1, 1, 24, 12, 4, 1, 2, 1, 2, 12, 2, 24, 12, 30, 24, 12, 12, 25, 3, 1, 6, 25, 6, 6, 6, 12, 12, 1, 2, 2, 1, 1, 2, 3, 10, 2, 8, 20, 1, 3, 6, 2, 4, 12, 10, 2, 2, 24, 12, 6, 100, 12, 6, 20, 2, 2, 16, 4, 3, 6, 2, 36, 18, 12, 1, 12, 10, 100, 3, 12, 12, 16, 48, 12, 4, 12, 1, 12, 2, 12, 6, 60, 4, 12, 1, 12, 3, 8, 32, 12, 8, 40, 8, 2, 6, 1, 2, 3, 1, 1, 1, 2, 8, 1, 1, 10, 12, 5, 2, 12, 3, 24, 1, 12, 12, 24, 6, 1, 2, 24, 1, 4, 1, 12, 6, 4, 6, 2, 12, 3, 2, 12, 3, 2, 6, 2, 12, 32, 4, 2, 1, 12, 12, 1, 5, 1, 24, 4, 6, 2, 12, 4, 20, 10, 1, 10, 12, 3, 2, 12, 6, 100, 4, 5, 4, 12, 2, 12, 12, 3, 10, 2, 1, 3, 2, 4, 1, 6, 1, 24, 3, 1, 1, 3, 10, 3, 1, 6, 2, 2, 24, 8, 4, 1, 10, 3, 1, 24, 10, 10, 1, 10, 12, 1, 6, 1, 1, 2, 2, 6, 6, 1, 8, 48, 3, 12, 8, 2, 4, 4, 8, 4, 1, 12, 3, 4, 24, 12, 4, 1, 6, 5, 4, 12, 200, 8, 1, 12, 12, 45, 12, 72, 8, 1, 6, 10, 12, 12, 4, 12, 2, 3, 6, 4, 2, 1, 8, 96, 2, 24, 6, 1, 2, 24, 2, 128, 25, 25, 6, 2, 24, 20, 6, 5, 3, 4, 12, 12, 2, 3, 3, 96, 24, 5, 2, 4, 8, 2, 4, 14, 48, 2, 128, 24, 12, 4, 1, 3, 3, 3, 10, 2, 16, 2, 6, 1, 4, 6, 6, 6, 8, 8, 6, 1, 12, 4, 12, 6, 12, 15, 1, 1, 2, 2, 25, 12, 12, 1, 36, 2, 2, 4, 4, 3, 12, 2, 4, 24, 6, 3, 2, 25, 1, 12, 1, 18, 24, 1, 16, 4, 3, 5, 2, 1, 10, 12, 1, 1, 4, 12, 7, 1, 2, 24, 3, 2, 2, 3, 4, 4, 16, 20, 12, 12, 1, 1, 4, 6, 12, 4, 1, 24, 1, 1, 1, 8, 1, 24, 1, 6, 1, 12, 1, 12, 25, 1, 2, 3, 2, 12, 4, 3, 5, 12, 10, 1, 36, 3, 10, 6, 2, 10, 1, 3, 120, 6, 4, 6, 12, 1, 2, 12, 2, 2, 24, 2, 1, 8, 2, 1, 10, 1, 1, 1, 4, 25, 1, 12, 100, 2, 120, 3, 3, 1, 24, 1, 48, 4, 10, 12, 6, 12, 1, 2, 6, 38, 12, 24, 2, 6, 2, 2, 6, 16, 4, 24, 1, 1, 48, 10, 24, 12, 24, 3, 1, 6, 2, 2, 1, 1, 2, 16, 5, 2, 6, 1, 25, 1, 4, 3, 12, 3, 2, 2, 1, 6, 8, 2, 4, 3, 3, 1, 6, 6, 1, 4, 30, 2, 10, 4, 5, 1, 10, 2, 4, 2, 2, 24, 1, 12, 2, 2, 12, 5, 10, 2, 24, 24, 4, 64, 4, 12, 12, 4, 24, 24, 24, 1, 3, 2, 2, 12, 4, 6, 2, 12, 1, 3, 6, 12, 2, 36, 1, 10, 60, 20, 12, 1, 12, 1, 30, 5, 2, 6, 24, 6, 4, 2, 2, 10, 12, 1, 2, 10, 12, 3, 1, 5, 2, 4, 1, 1, 2, 2, 12, 48, 6, 6, 2, 1, 12, 25, 12, 4, 72, 12, 12, 12, 1, 12, 8, 12, 2, 7, 12, 2, 12, 5, 12, 1, 1, 24, 12, 192, 12, 4, 2, 6, 6, 36, 1, 1, 2, 2, 1, 12, 4, 21, 2, 12, 24, 10, 25, 5, 4, 12, 1, 20, 6, 1, 4, 14, 2, 6, 16, 1, 5, 2, 4, 1, 12, 1, 2, 100, 2, 2, 12, 10, 1, 3, 3, 10, 1, 2, 12, 3, 4, 2, 2, 5, 10, 5, 200, 3, 2, 4, 2, 1, 12, 12, 2, 12, 12, 16, 5, 5, 20, 4, 12, 2, 1, 1, 6, 2, 10, 10, 10, 2, 2, 8, 48, 5, 6, 1, 25, 100, 24, 6, 6, 36, 24, 1, 3, 3, 1, 10, 4, 6, 4, 12, 1, 6, 168, 4, 1, 48, 6, 6, 6, 2, 4, 100, 24, 6, 24, 4, 12, 2, 5, 10, 20, 10, 12, 12, 100, 4, 12, 4, 6, 24, 2, 72, 8, 14, 1, 4, 48, 3, 1, 24, 1, 2, 1, 1, 48, 12, 4, 1, 12, 1, 1, 24, 48, 12, 4, 6, 1, 12, 2, 48, 1, 1, 10, 1, 1, 1, 16, 2, 1, 4, 2, 12, 6, 10, 5, 1, 2, 1, 2, 25, 5, 12, 12, 6, 2, 3, 24, 24, 8, 12, 4, 12, 15, 1, 24, 4, 1, 1, 8, 24, 3, 24, 6, 1, 12, 3, 2, 6, 2, 20, 6, 36, 2, 6, 12, 4, 4, 1, 9, 4, 6, 12, 6, 10, 1, 10, 48, 6, 12, 48, 2, 12, 24, 24, 18, 96, 2, 2, 10, 12, 4, 1, 2, 5, 6, 24, 24, 6, 1, 10, 12, 1, 12, 12, 6, 4, 2, 1, 64, 12, 3, 100, 100, 4, 8, 6, 2, 10, 3, 3, 12, 24, 1, 6, 6, 2, 1, 36, 2, 2, 6, 24, 4, 2, 6, 1, 48, 2, 1, 12, 16, 2, 10, 3, 48, 4, 12, 6, 5, 1, 1, 2, 2, 7, 4, 16, 2, 2, 6, 12, 10, 25, 4, 6, 2, 13, 3, 2, 10, 2, 12, 48, 20, 6, 24, 2, 1, 4, 5, 12, 3, 2, 12, 1, 4, 6, 2, 2, 4, 24, 2, 4, 1, 72, 6, 2, 12, 8, 12, 4, 64, 4, 24, 12, 12, 6, 1, 3, 42, 12, 6, 10, 10, 1, 3, 6, 23, 24, 6, 2, 2, 1, 4, 1, 1, 8, 1, 1, 10, 3, 10, 12, 4, 3, 4, 8, 1, 6, 24, 7, 6, 2, 20, 2, 4, 2, 3, 192, 12, 2, 6, 12, 6, 4, 12, 4, 5, 1, 5, 20, 12, 6, 12, 24, 36, 24, 2, 10, 8, 1, 10, 3, 4, 24, 6, 192, 10, 1, 24, 24, 1, 6, 12, 1, 3, 24, 1, 36, 2, 2, 288, 4, 24, 2, 4, 2, 3, 6, 10, 25, 5, 108, 12, 2, 10, 10, 2, 3, 24, 10, 10, 24, 5, 1, 6, 6, 1, 2, 12, 12, 1, 1, 12, 1, 6, 1, 20, 12, 12, 3, 12, 24, 1, 1, 80, 32, 2, 6, 24, 25, 12, 2, 2, 2, 4, 4, 24, 6, 8, 24, 12, 12, 12, 6, 1, 1, 4, 6, 1, 1, 2, 18, 24, 2, 2, 9, 12, 12, 24, 1, 12, 1, 2, 2, 2, 1, 6, 24, 2, 12, 2, 8, 3, 12, 1, 1, 3, 1, 24, 1, 2, 1, 12, 12, 24, 2, 10, 10, 4, 240, 3, 2, 50, 6, 8, 2, 4, 24, 20, 1, 4, 1, 2, 24, 2, 3, 12, 4, 1, 3, 2, 1, 3, 1, 1, 4, 1, 12, 1, 2, 25, 4, 4, 9, 8, 3, 1, 3, 72, 2, 12, 20, 2, 12, 9, 12, 12, 6, 3, 4, 4, 4, 24, 1, 1, 1, 1, 1, 36, 6, 12, 1, 12, 6, 12, 6, 72, 1, 12, 1, 4, 3, 1, 6, 2, 24, 24, 4, 2, 6, 48, 2, 96, 12, 10, 1, 5, 2, 24, 80, 10, 24, 2, 2, 16, 24, 6, 5, 16, 24, 24, 96, 24, 1, 4, 8, 12, 3, 2, 9, 20, 24, 12, 6, 3, 1, 8, 1, 24, 6, 12, 2, 12, 25, 3, 1, 10, 20, 1, 12, 10, 2, 24, 4, 144, 96, 2, 8, 8, 2, 2, 4, 1, 6, 2, 6, 1, 6, 24, 12, 1, 24, 12, 6, 4, 1, 2, 6, 4, 2, 6, 12, 48, 1, 2, 10, 25, 1, 2, 6, 2, 24, 1, 6, 12, 1, 1, 10, 10, 12, 24, 10, 2, 6, 2, 10, 12, 2, 12, 12, 12, 12, 6, 1, 24, 1, 10, 20, 2, 2, 2, 1, 10, 6, 24, 2, 2, 3, 6, 6, 1, 12, 6, 6, 8, 12, 24, 1, 24, 5, 6, 5, 1, 6, 4, 25, 1, 2, 1, 5, 2, 12, 3, 12, 20, 4, 6, 5, 8, 3, 12, 12, 12, 36, 1, 4, 6, 1, 12, 6, 6, 6, 2, 12, 3, 1, 8, 6, 36, 30, 12, 1, 1, 1, 24, 12, 1, 1, 3, 1, 2, 10, 1, 5, 120, 24, 2, 5, 72, 12, 6, 15, 2, 24, 12, 1440, 12, 1, 2, 24, 128, 2, 10, 6, 6, 10, 12, 1, 2, 4, 1, 6, 1, 2, 1, 2, 2, 16, 12, 25, 2, 10, 10, 12, 2, 5, 2, 12, 2, 1, 8, 2, 8, 63, 2, 12, 2, 2, 6, 6, 6, 100, 3, 1, 2, 12, 16, 24, 4, 2, 40, 1, 2, 4, 8, 8, 10, 4, 4, 2, 2, 1, 10, 2, 12, 48, 2, 1, 24, 10, 24, 8, 1, 10, 12, 5, 4, 1, 48, 2, 48, 3, 4, 1, 4, 24, 2, 12, 1, 2, 1, 12, 6, 2, 36, 1, 12, 3, 5, 2, 24, 1, 1, 20, 1, 5, 6, 8, 8, 2, 2, 25, 3, 1, 12, 1, 1, 5, 1, 18, 8, 48, 1, 48, 12, 2, 24, 4, 2, 6, 5, 1, 6, 16, 2, 10, 1, 40, 60, 5, 1, 25, 3, 8, 50, 1, 4, 6, 12, 12, 2, 12, 24, 4, 192, 1, 6, 6, 10, 24, 4, 10, 4, 4, 2, 1, 2, 1, 10, 6, 25, 1, 2, 1, 12, 4, 16, 4, 24, 4, 2, 3, 4, 24, 24, 1, 1, 24, 12, 12, 5, 5, 12, 12, 2, 10, 6, 120, 4, 1, 1, 48, 6, 48, 4, 1, 6, 24, 10, 6, 12, 1, 4, 4, 2, 2, 10, 5, 1, 2, 2, 2, 24, 1, 1, 4, 2, 1, 72, 12, 2, 4, 2, 2, 10, 36, 3, 8, 4, 1, 48, 4, 2, 1, 8, 6, 12, 12, 1, 2, 2, 15, 4, 1, 1, 2, 200, 4, 10, 12, 1, 4, 2, 2, 18, 24, 12, 24, 12, 2, 36, 6, 24, 4, 3, 8, 25, 20, 50, 4, 1, 30, 6, 4, 32, 1, 1, 12, 12, 12, 2, 12, 3, 6, 2, 10, 3, 3, 12, 4, 1, 12, 12, 2, 1, 10, 24, 8, 4, 24, 12, 1, 1, 2, 12, 1, 3, 144, 12, 6, 144, 2, 360, 6, 12, 24, 6, 24, 10, 1, 10, 24, 4, 4, 6, 1, 6, 1, 2, 48, 12, 25, 12, 1, 12, 4, 1, 2, 1, 12, 120, 1, 1, 1, 240, 2, 6, 6, 2, 6, 24, 2, 10, 48, 12, 12, 8, 1, 2, 1, 1, 100, 6, 10, 1, 1, 3, 1, 3, 10, 6, 4, 1, 12, 24, 100, 5, 3, 12, 3, 6, 1, 2, 3, 7, 6, 24, 2, 2, 2, 24, 8, 1, 3, 4, 12, 6, 12, 10, 6, 24, 1, 4, 1, 2, 36, 3, 1, 1, 12, 1, 3, 2, 1, 2, 24, 24, 1, 12, 10, 6, 112, 12, 24, 12, 12, 24, 20, 6, 4, 1, 10, 1, 12, 12, 12, 12, 100, 25, 2, 1, 1, 4, 16, 2, 3, 1, 12, 1, 1, 40, 20, 5, 1, 1, 4, 1, 1, 10, 6, 1, 12, 6, 12, 1, 3, 3, 2, 2, 4, 24, 1, 1, 12, 12, 1, 20, 2, 2, 3, 36, 2, 4, 12, 8, 2, 12, 24, 12, 6, 12, 2, 3, 2, 12, 10, 72, 600, 6, 1, 48, 2, 2, 1, 1, 24, 1, 1, 3, 12, 12, 8, 6, 2, 6, 12, 2, 12, 6, 3, 4, 1, 100, 4, 12, 12, 8, 2, 24, 12, 10, 24, 2, 12, 6, 288, 12, 1, 2, 4, 4, 10, 24, 1, 6, 10, 1, 10, 4, 4, 48, 12, 6, 12, 3, 2, 4, 1, 1, 18, 1, 12, 36, 1, 3, 96, 3, 10, 4, 6, 1, 2, 12, 12, 3, 2, 12, 6, 3, 1, 48, 12, 24, 1, 1, 10, 10, 4, 10, 2, 1, 5, 72, 3, 10, 1, 2, 8, 666, 3, 2, 4, 108, 2, 10, 12, 12, 1, 1, 4, 12, 20, 3, 1, 50, 12, 12, 100, 1, 12, 4, 4, 6, 2, 2, 12, 24, 12, 4, 12, 1, 4, 2, 12, 12, 6, 4, 2, 24, 12, 1, 1, 4, 144, 24, 3, 3, 2, 5, 24, 4, 1, 5, 40, 2, 1, 8, 12, 12, 24, 24, 12, 12, 12, 1, 1, 4, 4, 4, 1, 24, 10, 3, 600, 6, 12, 48, 6, 1, 4, 26, 3, 10, 24, 24, 12, 4, 6, 15, 24, 10, 5, 1, 4, 6, 12, 1, 4, 4, 2, 4, 1, 3, 12, 1, 42, 216, 12, 36, 2, 16, 2, 4, 10, 2, 6, 1, 2, 2, 1, 6, 25, 2, 36, 4, 24, 1, 1, 2, 2, 2, 8, 8, 10, 12, 1, 13, 1, 2, 12, 1, 6, 8, 4, 144, 6, 12, 4, 2, 1, 5, 48, 12, 9, 4, 29, 4, 1, 7, 12, 8, 5, 6, 12, 10, 2, 1, 4, 2, 1, 12, 12, 1, 50, 6, 12, 6, 6, 2, 2, 3, 1, 1, 24, 1, 24, 5, 864, 10, 2, 12, 1, 10, 2, 64, 4, 3, 1, 3, 24, 48, 6, 2, 12, 4, 1, 20, 3, 3, 1, 1, 6, 6, 4, 1, 6, 2, 25, 24, 2, 12, 2, 1, 4, 1, 12, 3, 2, 6, 3, 31, 6, 6, 8, 2, 1, 10, 8, 8, 10, 2, 12, 3, 5, 4, 2, 12, 144, 3, 1, 1, 3, 6, 1, 24, 2, 1, 1, 10, 3, 1, 6, 1, 12, 1, 12, 4, 1, 2, 48, 12, 20, 30, 6, 2, 8, 12, 12, 216, 4, 18, 8, 2, 12, 3, 1, 10, 10, 1, 3, 1, 4, 3, 3, 6, 12, 3, 6, 1, 24, 24, 3, 6, 1, 3, 1, 3, 12, 12, 2, 3, 1, 1, 12, 8, 1, 24, 6, 2, 5, 6, 2, 12, 12, 160, 4, 1, 1, 100, 2, 8, 12, 50, 24, 18, 4, 10, 2, 3, 3, 12, 12, 24, 1, 6, 12, 12, 6, 100, 6, 12, 6, 1, 2, 3, 6, 12, 1, 12, 24, 2, 12, 1, 25, 8, 16, 6, 4, 25, 8, 2, 144, 1, 2, 8, 12, 2, 10, 16, 4, 6, 2, 3, 4, 1, 6, 1, 24, 24, 2, 12, 1, 3, 6, 12, 1, 125, 2, 36, 3, 1, 4, 10, 8, 4, 5, 24, 3, 1, 2, 12, 6, 1, 6, 3, 24, 20, 1, 12, 4, 1, 12, 3, 12, 12, 7, 3, 12, 4, 24, 2, 6, 9, 12, 1, 3, 24, 24, 4, 1, 1, 2, 1, 1, 1, 25, 12, 1, 12, 4, 12, 12, 1, 10, 3, 1, 2, 96, 12, 24, 4, 24, 24, 4, 2, 6, 2, 2, 12, 3, 12, 1, 2, 6, 160, 4, 12, 2, 6, 1, 48, 6, 4, 4, 12, 1, 1, 3, 12, 6, 10, 6, 72, 6, 2, 6, 6, 12, 2, 6, 12, 3, 6, 1, 1, 24, 2, 20, 6, 3, 10, 12, 12, 1, 10, 2, 4, 12, 1, 8, 6, 1, 8, 12, 12, 12, 1, 25, 1, 1, 1, 24, 100, 2, 36, 2, 1, 3, 1, 1, 2, 8, 6, 10, 2, 2, 144, 2, 2, 10, 6, 10, 6, 1, 25, 8, 1, 1, 12, 1, 2, 12, 2, 10, 2, 4, 1, 1, 2, 2, 1, 3, 1, 24, 4, 24, 10, 2, 6, 25, 2, 1, 144, 12, 12, 72, 12, 1, 10, 24, 12, 60, 10, 1, 2, 1, 4, 12, 12, 1, 8, 3, 12, 6, 5, 2, 3, 6, 1, 1, 4, 216, 2, 1, 16, 24, 24, 2, 6, 12, 12, 2, 25, 1, 6, 5, 8, 12, 10, 6, 6, 1, 6, 2, 24, 12, 12, 10, 6, 3, 2, 5, 12, 4, 48, 24, 1, 24, 2, 1, 12, 4, 24, 12, 1, 2, 5, 1, 24, 1, 2, 1, 12, 10, 4, 1, 2, 2, 6, 2, 6, 6, 5, 96, 216, 1, 24, 2, 1, 10, 24, 1, 10, 1, 1, 3, 12, 4, 12, 6, 1, 6, 1, 36, 4, 3, 3, 72, 6, 8, 3, 2, 12, 1, 8, 12, 12, 8, 24, 8, 1, 24, 12, 1, 12, 24, 32, 120, 6, 5, 12, 1, 1, 2, 2, 3, 16, 1, 1, 12, 6, 24, 12, 4, 12, 2, 10, 12, 12, 6, 2, 24, 2, 4, 20, 8, 12, 10, 2, 4, 5, 2, 8, 1, 21, 24, 2, 3, 1, 24, 12, 2, 1, 1, 12, 12, 16, 5, 2, 1, 20, 1, 12, 12, 9, 1, 2, 8, 2, 1, 1, 48, 2, 2, 1, 16, 12, 12, 2, 1, 1, 12, 12, 12, 2, 1, 6, 1, 10, 6, 6, 12, 2, 15, 8, 12, 12, 12, 1, 2, 4, 256, 2, 24, 1, 12, 12, 6, 2, 1, 1, 1, 1, 4, 1, 4, 12, 1, 48, 1, 1, 1, 4, 12, 2, 1, 2, 12, 8, 6, 24, 1, 24, 12, 12, 12, 5, 10, 1, 36, 12, 1, 24, 24, 6, 16, 2, 12, 12, 1, 2, 1, 1, 3, 1, 1, 288, 9, 2, 24, 16, 12, 1, 1, 1, 1, 6, 6, 1, 1, 5, 96, 4, 1, 1, 48, 4, 1, 25, 24, 2, 6, 5, 12, 12, 3, 36, 24, 10, 3, 3, 8, 5, 1, 3, 1, 12, 24, 16, 1, 24, 3, 2, 5, 10, 2, 12, 4, 1, 30, 24, 10, 4, 7, 2, 24, 1, 1, 1, 1, 3, 12, 2, 10, 4, 1, 4, 12, 1, 12, 5, 2, 16, 10, 2, 10, 12, 3, 2, 4, 3, 36, 6, 1, 3, 6, 6, 12, 10, 6, 1, 25, 2, 12, 16, 1, 2, 2, 2, 6, 4, 1, 5, 8, 12, 50, 12, 4, 12, 24, 12, 2, 24, 10, 120, 12, 12, 2, 3, 10, 2, 1, 24, 3, 1, 1, 6, 2, 4, 6, 25, 5, 1, 12, 1, 4, 8, 12, 6, 2, 1, 3, 8, 3, 6, 12, 3, 1, 24, 2, 3, 2, 1, 1, 3, 12, 2, 6, 36, 1, 3, 3, 96, 6, 30, 10, 20, 10, 1, 2, 1, 3, 2, 24, 4, 5, 3, 10, 30, 1, 24, 1, 12, 4, 10, 2, 2, 1, 6, 4, 6, 6, 12, 5, 2, 2, 10, 3, 12, 2, 1, 6, 3, 1, 16, 24, 24, 1, 48, 6, 2, 3, 12, 6, 24, 2, 24, 3, 8, 100, 4, 12, 1, 5, 1, 20, 24, 11, 2, 1, 10, 24, 1, 24, 12, 4, 20, 2, 12, 3, 4, 12, 1, 5, 12, 3, 1, 2, 1, 12, 10, 16, 2, 12, 96, 10, 6, 10, 6, 12, 4, 1, 4, 1, 4, 1, 1, 6, 8, 24, 12, 2, 5, 1, 12, 4, 10, 1, 4, 3, 2, 6, 12, 1, 1, 2, 2, 12, 40, 12, 6, 24, 2, 1, 8, 392, 100, 24, 2, 6, 12, 4, 1, 1, 3, 1, 12, 3, 12, 6, 3, 8, 12, 3, 3, 8, 1, 24, 6, 12, 12, 144, 216, 2, 6, 12, 12, 12, 1, 2, 6, 16, 2, 2, 12, 3, 10, 4, 3, 3, 3, 2, 48, 50, 126, 3, 20, 4, 1, 12, 25, 2, 6, 10, 1, 1, 1, 6, 12, 24, 1, 2, 6, 12, 12, 1, 2, 4, 2, 1, 2, 1, 1, 10, 300, 30, 2, 12, 3, 1, 20, 1, 3, 3, 360, 48, 24, 1, 1, 2, 3, 1, 12, 1, 1, 120, 24, 4, 10, 30, 4, 12, 12, 6, 1, 4, 6, 12, 2, 1, 6, 24, 4, 6, 3, 6, 109, 9, 1, 6, 10, 1, 12, 3, 1, 12, 2, 6, 18, 3, 16, 12, 24, 2, 12, 3, 2, 3, 20, 2, 10, 3, 1, 24, 2, 2, 4, 1, 12, 6, 2, 24, 1, 1, 48, 4, 3, 25, 12, 10, 10, 2, 2, 48, 24, 1, 2, 2, 24, 24, 12, 1, 5, 20, 6, 96, 6, 12, 6, 1, 2, 1, 2, 1, 6, 12, 5, 12, 24, 4, 6, 36, 1, 6, 3, 1, 72, 6, 1, 2, 1, 6, 12, 12, 1, 2, 4, 4, 1, 6, 1, 1, 1, 12, 8, 1, 12, 12, 4, 1, 36, 6, 12, 25, 192, 2, 6, 96, 48, 12, 10, 12, 1, 12, 3, 2, 18, 24, 864, 1, 2, 5, 96, 2, 3, 12, 3, 2, 4, 2, 2, 2, 3, 6, 4, 3, 12, 1, 6, 15, 3, 5, 4, 2, 3, 10, 10, 8, 24, 2, 6, 12, 1, 6, 1, 1, 3, 6, 10, 12, 144, 6, 72, 6, 2, 2, 2, 24, 24, 1, 48, 72, 6, 1, 2, 1, 1, 12, 8, 40, 36, 8, 24, 12, 4, 10, 30, 12, 2, 5, 3, 4, 12, 12, 128, 3, 24, 1, 1, 4, 14, 1, 10, 3, 4, 2, 2, 2, 4, 28, 12, 10, 4, 1, 12, 2, 10, 3, 2, 24, 10, 2, 1, 1, 12, 10, 12, 6, 6, 100, 4, 4, 2, 12, 2, 4, 1, 1, 6, 1, 2, 1, 2, 20, 2, 96, 8, 24, 25, 8, 4, 6, 6, 2, 4, 12, 1, 4, 3, 1, 3, 72, 24, 320, 4, 2, 2, 24, 2, 10, 24, 12, 40, 1, 2, 1, 12, 2, 48, 10, 1, 1, 1, 6, 12, 2, 12, 2, 12, 2, 6, 30, 2, 6, 1, 12, 12, 2, 3, 1, 12, 8, 1, 8, 8, 2, 4, 1, 12, 6, 6, 2, 1, 6, 1, 2, 2, 1, 1, 30, 4, 5, 1, 12, 8, 1, 3, 1, 2, 36, 16, 48, 3, 4, 3, 2, 8, 12, 5, 16, 2, 6, 1, 1, 2, 1, 4, 24, 1, 1, 6, 1, 1, 72, 3, 6, 1, 3, 1, 4, 4, 4, 12, 6, 12, 12, 12, 5, 1, 1, 1, 2, 12, 100, 3, 3, 2, 1, 6, 24, 6, 108, 3, 1, 6, 6, 12, 2, 7, 12, 2, 10, 8, 2, 16, 6, 2, 2, 12, 24, 12, 24, 4, 48, 3, 192, 24, 4, 1, 24, 10, 3, 10, 9, 1, 16, 1, 1, 1, 6, 6, 1, 2, 6, 2, 12, 6, 10, 6, 2, 1, 1, 10, 6, 16, 6, 1, 3, 3, 9, 6, 1, 2, 1, 25, 72, 1, 12, 1, 2, 6, 24, 2, 6, 24, 4, 48, 12, 1, 25, 240, 12, 2, 2, 2, 6, 1, 5, 4, 1, 2, 1, 8, 2, 24, 1, 2, 3, 5, 12, 10, 10, 12, 4, 16, 1, 5, 24, 96, 4, 6, 1, 3, 100, 6, 24, 12, 3, 4, 2, 1, 4, 5, 5, 708, 24, 24, 3, 2, 10, 12, 5, 13, 12, 2, 12, 1, 24, 1, 24, 24, 2, 4, 4, 6, 10, 4, 1, 6, 12, 12, 12, 4, 3, 1, 6, 5, 25, 1, 24, 12, 5, 4, 12, 6, 3, 16, 12, 12, 12, 10, 4, 1, 6, 4, 8, 2, 12, 8, 12, 10, 12, 10, 12, 24, 1, 2, 3, 2, 1, 2, 5, 2, 1, 2, 12, 8, 12, 8, 1, 2, 2, 16, 4, 24, 5, 3, 12, 4, 4, 24, 2, 20, 6, 2, 28, 12, 4, 2, 12, 6, 12, 1, 10, 1, 6, 10, 2, 16, 1, 24, 12, 1, 3, 25, 11, 2, 100, 1, 12, 24, 3, 12, 16, 1, 12, 25, 12, 4, 6, 2, 4, 4, 160, 10, 2, 2, 12, 1, 10, 12, 6, 1, 2, 2, 10, 10, 1, 12, 3, 4, 3, 2, 24, 24, 12, 1, 6, 2, 2, 12, 2, 2, 20, 12, 1, 6, 5, 24, 5, 1, 24, 12, 60, 1, 6, 2, 24, 14, 12, 12, 12, 10, 2, 120, 1, 6, 2, 10, 1, 1, 1, 12, 24, 4, 12, 12, 8, 40, 1, 5, 12, 1, 2, 1, 48, 6, 1, 12, 1, 5, 3, 24, 12, 1, 4, 1, 2, 24, 2, 18, 3, 12, 20, 1, 1, 1, 12, 8, 36, 1, 2, 25, 12, 12, 4, 4, 12, 20, 6, 3, 1, 3, 2, 4, 6, 6, 6, 12, 3, 5, 1, 2, 2, 72, 1, 1, 48, 12, 8, 6, 24, 1, 12, 2, 1, 24, 24, 6, 4, 6, 12, 6, 6, 12, 144, 6, 4, 6, 12, 12, 10, 1, 20, 1, 36, 12, 1, 3, 3, 10, 75, 6, 12, 2, 1, 12, 1, 6, 6, 24, 2, 3, 20, 48, 5, 24, 72, 2, 1, 6, 10, 1, 48, 12, 3, 12, 10, 48, 4, 25, 12, 1, 4, 4, 2, 6, 2, 24, 12, 2, 1, 16, 10, 7, 3, 24, 10, 4, 10, 10, 5, 25, 12, 1, 4, 3, 1, 2, 8, 12, 25, 10, 10, 2, 6, 2, 6, 6, 1, 6, 2, 1, 25, 1, 4, 12, 1, 1, 2, 6, 4, 1, 12, 6, 2, 1, 324, 6, 8, 10, 10, 8, 12, 10, 20, 12, 12, 12, 2, 10, 36, 10, 12, 12, 25, 32, 1, 6, 2, 8, 2, 2, 24, 24, 24, 3, 6, 1, 10, 8, 1, 6, 25, 1, 2, 1, 1, 36, 3, 2, 128, 1, 6, 2, 12, 1, 12, 1, 1, 96, 4, 24, 48, 8, 3, 24, 144, 1, 1, 240, 2, 12, 1, 1, 12, 1, 25, 3, 1, 24, 2, 18, 1, 48, 4, 144, 1, 12, 6, 6, 10, 12, 6, 2, 5, 1, 8, 3, 24, 2, 16, 2, 24, 10, 1, 4, 6, 3, 4, 6, 3, 10, 192, 4, 12, 12, 1, 4, 10, 108, 3, 15, 12, 3, 1, 2, 10, 48, 3, 16, 4, 1, 2, 36, 3, 100, 60, 40, 1, 12, 6, 4, 12, 4, 4, 144, 12, 2, 2, 10, 24, 12, 2, 10, 12, 6, 6, 1, 2, 6, 1, 12, 24, 24, 4, 2, 6, 3, 9, 12, 48, 24, 2, 6, 12, 48, 13, 2, 24, 3, 4, 12, 4, 3, 2, 12, 1, 1, 15, 1, 1, 12, 6, 24, 24, 6, 12, 1, 24, 6, 12, 10, 10, 4, 12, 20, 12, 12, 3, 24, 4, 1, 1, 3, 12, 8, 10, 1, 3, 24, 12, 3, 32, 1, 2, 2, 4, 48, 16, 1, 2, 12, 12, 1, 12, 1, 1, 25, 3, 12, 1, 6, 8, 2, 24, 72, 24, 1, 12, 6, 24, 4, 8, 1, 2, 20, 8, 50, 24, 6, 24, 2, 12, 20, 1, 8, 2, 1, 1, 120, 2, 1, 12, 1, 25, 1, 2, 3, 60, 500, 6, 12, 8, 72, 6, 20, 24, 144, 12, 1, 6, 12, 2, 2, 12, 2, 1, 12, 10, 12, 12, 3, 1, 9, 10, 12, 6, 25, 1, 8, 1, 12, 30, 12, 1, 8, 4, 2, 1, 2, 6, 16, 1, 2, 3, 48, 12, 10, 12, 16, 2, 1, 2, 150, 6, 12, 2, 24, 6, 5, 3, 10, 2, 12, 6, 1, 3, 1, 4, 2, 10, 10, 24, 6, 2, 1, 72, 2, 288, 5, 2, 12, 10, 1, 12, 6, 8, 1, 1, 1, 24, 1, 24, 3, 20, 12, 12, 12, 6, 1, 12, 1, 24, 48, 1, 2, 4, 8, 1, 1, 8, 2, 2, 12, 3, 1, 4, 12, 1, 12, 12, 8, 6, 1, 1, 48, 30, 1, 5, 24, 3, 6, 2, 20, 36, 4, 12, 5, 24, 4, 1, 1, 2, 6, 6, 2, 8, 1, 10, 1, 12, 4, 2, 3, 3, 50, 1, 32, 12, 8, 4, 2, 4, 1, 1, 4, 3, 1, 4, 1, 4, 25, 1, 2, 5, 1, 1, 12, 12, 8, 2, 12, 4, 3, 12, 2, 24, 6, 1, 6, 12, 1, 4, 48, 2, 1, 6, 1, 12, 12, 24, 24, 6, 1, 3, 6, 4, 5, 2, 3, 24, 12, 1, 12, 2, 12, 4, 1, 1, 3, 12, 3, 3, 1, 2, 12, 1, 1, 6, 48, 2, 3, 25, 48, 24, 96, 12, 4, 24, 10, 1, 5, 25, 2, 1, 2, 2, 1, 1, 8, 2, 10, 12, 2, 1, 4, 2, 2, 24, 12, 1, 1, 48, 1, 2, 1, 1, 48, 12, 16, 4, 1, 24, 20, 112, 1, 4, 1, 6, 6, 5, 5, 6, 2, 1, 48, 12, 4, 1, 48, 3, 4, 2, 5, 6, 24, 3, 12, 4, 1, 1, 12, 10, 3, 2, 6, 12, 2, 8, 5, 6, 10, 6, 25, 12, 4, 2, 4, 12, 10, 3, 2, 2, 6, 12, 24, 2, 10, 2, 3, 2, 2, 6, 1, 1, 1, 3, 1, 3, 2, 4, 1, 6, 1, 12, 4, 1, 1, 10, 3, 1, 2, 1, 4, 8, 6, 1, 5, 24, 10, 48, 3, 12, 10, 192, 10, 12, 2, 1, 12, 2, 1, 2, 24, 16, 2, 12, 4, 6, 2, 2, 2, 24, 12, 6, 1, 5, 12, 2, 10, 24, 2, 1, 3, 4, 6, 12, 1, 2, 48, 3, 12, 4, 6, 2, 10, 4, 48, 48, 1, 1, 2, 2, 2, 1, 4, 6, 6, 36, 12, 192, 12, 10, 96, 1, 8, 2, 4, 10, 10, 8, 1, 2, 2, 2, 7, 1, 12, 1, 4, 8, 1, 4, 24, 2, 6, 6, 6, 12, 32, 16, 48, 36, 6, 12, 2, 12, 1, 1, 4, 6, 6, 16, 1, 12, 2, 4, 1, 2, 20, 24, 1, 12, 1, 12, 1, 2, 12, 24, 12, 2, 12, 10, 2, 9, 12, 1, 12, 48, 6, 2, 25, 1, 10, 12, 10, 24, 48, 4, 6, 2, 2, 12, 6, 72, 12, 2, 1, 3, 10, 6, 2, 12, 3, 600, 8, 6, 12, 3, 12, 12, 6, 24, 2, 12, 24, 12, 1, 2, 12, 120, 1, 8, 3, 16, 12, 12, 6, 1, 1, 2, 12, 25, 6, 4, 10, 24, 3, 4, 4, 10, 6, 10, 1, 1, 42, 10, 12, 20, 4, 1, 1, 6, 5, 24, 24, 2, 24, 8, 8, 3, 10, 2, 6, 6, 1, 1, 48, 2, 2, 6, 5, 12, 12, 3, 24, 10, 3, 24, 12, 8, 12, 24, 18, 6, 2, 12, 36, 24, 6, 6, 1, 2, 72, 25, 12, 3, 12, 2, 10, 1, 12, 2, 8, 12, 30, 3, 7, 12, 30, 12, 2, 1, 24, 28, 4, 2, 12, 6, 12, 1, 24, 2, 1, 2, 8, 1, 3, 12, 6, 12, 96, 12, 1, 12, 6, 10, 25, 4, 2, 2, 12, 24, 12, 4, 6, 1, 24, 24, 2, 1, 1, 3, 40, 1, 1, 2, 24, 6, 3, 24, 2, 6, 2, 3, 1, 1, 1, 3, 12, 5, 25, 25, 1, 2, 12, 12, 6, 2, 1, 24, 1, 10, 1, 8, 10, 1, 4, 12, 3, 24, 4, 4, 6, 24, 12, 1, 1, 24, 3, 3, 12, 8, 12, 6, 25, 36, 10, 2, 12, 2, 20, 12, 2, 1, 1, 1, 12, 1, 24, 3, 5, 12, 12, 1, 12, 10, 10, 2, 2, 12, 1, 6, 156, 6, 6, 12, 12, 6, 4, 1, 30, 6, 2, 24, 8, 8, 6, 12, 12, 6, 8, 2, 40, 12, 1, 40, 6, 12, 5, 2, 12, 64, 12, 1, 2, 10, 16, 48, 48, 96, 1, 1, 36, 1, 12, 48, 2, 7, 12, 1, 1, 1, 1, 12, 2, 8, 1, 48, 10, 12, 20, 10, 48, 2, 3, 6, 4, 2, 6, 2, 2, 12, 24, 12, 2, 12, 6, 8, 5, 1, 8, 24, 7, 1, 12, 2, 1, 1, 1, 6, 36, 2, 12, 4, 16, 5, 2, 6, 20, 6, 24, 4, 12, 16, 6, 1, 2, 2, 12, 8, 10, 1, 4, 4, 12, 3, 12, 1, 1, 12, 2, 18, 1, 1, 3, 3, 5, 24, 10, 24, 2, 1, 3, 4, 1, 2, 1, 4, 48, 24, 12, 6, 8, 12, 4, 144, 1, 20, 2, 1, 12, 3, 3, 1, 4, 2, 2, 3, 12, 12, 20, 4, 12, 24, 3, 3, 7, 2, 10, 10, 3, 4, 2, 1, 24, 1, 24, 1, 12, 2, 12, 4, 40, 12, 6, 2, 12, 3, 1, 1, 12, 10, 16, 1, 6, 1, 1, 2, 6, 2, 4, 1, 12, 2, 4, 3, 12, 2, 3, 6, 24, 1, 3, 2, 5, 10, 4, 12, 6, 12, 2, 10, 48, 2, 1, 24, 2, 1, 2, 2, 1, 12, 2, 1, 12, 36, 1, 2, 3, 192, 4, 6, 10, 1, 10, 2, 1, 25, 1, 12, 12, 1, 1, 12, 6, 1, 1, 12, 6, 8, 1, 2, 18, 3, 2, 1, 2, 10, 3, 2, 6, 4, 24, 2, 12, 6, 25, 1, 20, 6, 12, 12, 2, 4, 5, 12, 1, 3, 12, 12, 6, 10, 24, 2, 72, 1, 4, 36, 120, 2, 4, 2, 1, 1, 576, 12, 1, 2, 9, 2, 2, 1, 10, 2, 2, 2, 10, 12, 1, 2, 10, 2, 2, 1, 6, 12, 80, 10, 5, 24, 12, 2, 1, 1, 12, 12, 1, 2, 2, 10, 1, 1, 24, 12, 2, 12, 1, 1, 24, 4, 8, 10, 1, 6, 24, 4, 12, 1, 2, 25, 24, 2, 25, 6, 12, 6, 2, 6, 12, 4, 12, 1, 20, 1, 20, 6, 1, 1, 2, 4, 10, 3, 96, 12, 10, 1, 6, 18, 10, 20, 4, 12, 6, 2, 24, 20, 2, 2, 24, 8, 4, 1, 1, 10, 4, 2, 6, 10, 12, 50, 4, 4, 1, 10, 4, 10, 1, 12, 2, 25, 1, 6, 8, 12, 2, 8, 25, 12, 6, 12, 3, 3, 12, 1, 12, 3, 4, 24, 5, 10, 5, 3, 1, 3, 12, 2, 24, 12, 1, 72, 16, 192, 10, 18, 12, 2, 1, 10, 6, 48, 2, 24, 1, 6, 10, 1, 7, 6, 3, 1, 1, 114, 24, 1, 24, 6, 25, 1, 6, 3, 2, 6, 1, 1, 24, 1, 12, 1, 6, 1, 4, 12, 2, 25, 2, 2, 4, 8, 8, 2, 2, 3, 12, 1, 6, 6, 16, 3, 24, 8, 12, 12, 20, 1, 3, 25, 2, 1, 2, 6, 2, 6, 2, 72, 2, 1, 1, 12, 12, 6, 1, 10, 12, 24, 36, 6, 6, 12, 6, 1, 2, 10, 12, 12, 12, 6, 2, 2, 4, 1, 2, 2, 6, 6, 6, 1, 12, 1, 24, 6, 12, 6, 12, 2, 2, 48, 5, 80, 2, 6, 3, 12, 1, 20, 12, 24, 6, 12, 24, 12, 2, 2, 4, 24, 24, 1, 2, 2, 1, 2, 3, 1, 1, 8, 6, 3, 12, 12, 48, 12, 10, 4, 24, 6, 1, 8, 1, 1, 2, 6, 2, 1, 4, 12, 1, 4, 10, 5, 12, 25, 12, 1, 2, 6, 8, 2, 4, 1, 1, 4, 4, 3, 1, 2, 12, 24, 1, 25, 3, 10, 2, 4, 10, 12, 200, 6, 4, 3, 1, 1, 6, 3, 1, 10, 8, 24, 2, 2, 6, 2, 24, 1, 24, 6, 1, 12, 1, 2, 12, 6, 6, 6, 1, 20, 12, 2, 3, 12, 2, 25, 2, 96, 6, 12, 24, 2, 20, 1, 1, 1, 24, 2, 12, 3, 24, 12, 12, 48, 2, 6, 24, 1, 48, 1, 1, 4, 10, 2, 1, 24, 12, 6, 2, 1, 1, 4, 12, 39, 4, 3, 2, 1, 10, 1, 1, 2, 24, 1, 12, 5, 1, 6, 100, 16, 12, 1, 2, 36, 2, 24, 6, 72, 24, 2, 12, 1, 10, 1, 2, 12, 1, 1, 1, 3, 3, 1, 4, 6, 2, 12, 2, 3, 48, 24, 24, 1, 2, 10, 1, 1, 4, 1, 2, 12, 36, 1, 6, 12, 1, 14, 24, 24, 6, 1, 25, 12, 4, 2, 2, 1, 2, 24, 2, 24, 2, 12, 1, 5, 12, 6, 24, 10, 1, 5, 3, 12, 6, 5, 2, 3, 1, 12, 4, 288, 50, 1, 12, 10, 1, 8, 1, 1, 12, 24, 3, 20, 3, 12, 2, 2, 2, 96, 5, 5, 12, 240, 12, 12, 12, 12, 10, 200, 12, 4, 24, 12, 1, 1, 36, 2, 12, 4, 2, 6, 33, 48, 4, 12, 12, 2, 3, 2, 12, 2, 1, 12, 2, 3, 6, 96, 2, 4, 3, 1, 12, 20, 12, 4, 6, 6, 2, 6, 12, 12, 24, 128, 1, 4, 12, 8, 3, 40, 4, 1, 4, 3, 12, 6, 10, 1, 8, 12, 1, 24, 1, 1, 1, 6, 2, 4, 4, 3, 4, 1, 3, 2, 6, 1, 6, 1, 1, 1, 1, 1, 6, 30, 1, 8, 1, 4, 6, 12, 6, 3, 1, 1, 1, 4, 10, 3, 1, 2, 12, 12, 6, 5, 1, 8, 3, 480, 10, 36, 4, 1, 36, 12, 6, 1, 20, 1, 1, 2, 1, 1, 4, 18, 20, 12, 2, 12, 2, 1, 6, 24, 10, 1, 2, 10, 24, 12, 12, 4, 1, 1, 20, 4, 24, 1, 4, 3, 2, 3, 12, 12, 5, 12, 20, 1, 10, 24, 6, 36, 2, 2, 4, 2, 72, 3, 4, 6, 8, 24, 12, 4, 12, 2, 16, 1, 4, 20, 144, 2, 12, 20, 25, 5, 1, 1, 1, 9, 1, 10, 3, 4, 10, 25, 3, 20, 2, 5, 1, 1, 12, 12, 2, 12, 2, 6, 1, 2, 3, 6, 1, 25, 10, 1, 1, 2, 2, 1, 4, 18, 6, 1, 1, 1, 12, 2, 12, 1, 2, 8, 1, 24, 11, 4, 1, 6, 18, 6, 2, 24, 3, 2, 25, 6, 12, 12, 12, 6, 6, 24, 1, 3, 2, 24, 12, 1, 1, 1, 24, 3, 1, 24, 1, 1, 1, 12, 10, 2, 12, 6, 240, 1, 5, 24, 2, 10, 6, 4, 40, 1, 4, 2, 12, 2, 2, 2, 1, 2, 8, 6, 12, 2, 25, 6, 6, 4, 12, 12, 5, 12, 24, 1, 1, 1, 24, 8, 4, 2, 2, 12, 2, 6, 2, 3, 3, 2, 12, 1, 6, 10, 12, 6, 2, 12, 10, 2, 432, 1, 2, 5, 4, 12, 8, 4, 12, 60, 10, 8, 24, 6, 2, 48, 1, 20, 2, 1, 9, 7, 24, 50, 1, 16, 24, 2, 8, 10, 9, 12, 1, 6, 1, 2, 24, 6, 4, 3, 30, 4, 1, 12, 12, 2, 4, 6, 2, 1, 72, 96, 12, 1, 1, 12, 4, 5, 12, 12, 2, 25, 4, 6, 10, 12, 3, 36, 2, 16, 12, 3, 36, 12, 2, 4, 10, 1, 3, 25, 2, 5, 6, 2, 1, 3, 2, 1, 1, 10, 4, 1, 2, 1, 2, 24, 10, 24, 2, 11, 12, 1, 12, 12, 8, 3, 3, 3, 6, 6, 1, 2, 6, 24, 6, 4, 1, 6, 4, 3, 10, 4, 8, 10, 2, 10, 6, 1, 2, 2, 12, 4, 12, 12, 16, 12, 4, 3, 16, 6, 1, 24, 1, 3, 1, 2, 1, 5, 2, 12, 1, 3, 3, 25, 12, 1, 1, 5, 1, 1, 4, 6, 24, 5, 6, 6, 6, 3, 24, 6, 12, 6, 24, 12, 1, 10, 4, 1, 36, 2, 4, 2, 3, 24, 3, 2, 5, 12, 2, 4, 24, 12, 3, 12, 6, 2, 1, 10, 12, 24, 12, 1, 5, 1, 2, 24, 1, 6, 48, 10, 16, 10, 12, 2, 12, 12, 12, 12, 2, 4, 1, 12, 24, 1, 2, 12, 2, 4, 72, 12, 12, 36, 2, 4, 1, 2, 20, 24, 1, 6, 12, 25, 1, 4, 1, 1, 1, 6, 6, 25, 25, 1, 2, 12, 1, 16, 2, 1, 6, 3, 2, 72, 1, 12, 2, 12, 1, 4, 2, 4, 4, 3, 3, 10, 1, 10, 4, 1, 4, 2, 2, 3, 6, 6, 4, 3, 25, 6, 4, 6, 108, 2, 2, 6, 4, 6, 4, 1, 1, 1, 6, 1, 24, 1, 24, 20, 100, 1, 12, 1, 3, 2, 24, 1, 3, 12, 2, 2, 4, 216, 1, 18, 6, 4, 2, 48, 2, 8, 1, 2, 4, 12, 1, 2, 12, 12, 4, 100, 12, 2, 72, 12, 6, 5, 4, 4, 8, 12, 4, 1, 144, 1, 24, 2, 1, 12, 2, 100, 2, 48, 1, 2, 12, 4, 1, 2, 12, 1, 6, 2, 12, 18, 10, 3, 1, 1, 24, 10, 2, 48, 12, 2, 10, 3, 24, 2, 24, 2, 5, 32, 6, 24, 10, 2, 10, 1, 1, 24, 1, 6, 24, 12, 2, 4, 7, 2, 6, 24, 10, 48, 12, 3, 12, 18, 9, 480, 1, 1, 12, 8, 1, 4, 3, 12, 12, 24, 1, 4, 8, 2, 1, 25, 8, 1, 1, 6, 24, 1, 7, 10, 12, 288, 5, 6, 1, 6, 1, 96, 168, 1, 36, 12, 2, 20, 12, 10, 36, 1, 4, 20, 1, 15, 2, 12, 6, 3, 12, 6, 4, 1, 24, 24, 5, 1, 28, 6, 4, 1, 1, 3, 1, 4, 1, 20, 3, 4, 12, 10, 2, 3, 12, 1, 3, 4, 18, 2, 10, 3, 3, 4, 1, 1, 1, 6, 24, 1, 12, 24, 6, 20, 3, 1, 25, 2, 1, 2, 10, 5, 1, 12, 12, 1, 12, 8, 3, 2, 36, 2, 12, 4, 1, 10, 3, 2, 12, 4, 24, 8, 36, 1, 1, 100, 1, 20, 144, 1, 12, 5, 1, 1, 24, 1, 6, 10, 2, 12, 12, 6, 2, 3, 1, 1, 1, 1, 12, 1, 2, 12, 1, 1, 9, 6, 12, 1, 2, 36, 4, 10, 4, 1, 10, 1, 6, 5, 5, 1, 1, 4, 12, 600, 12, 1, 10, 1, 4, 2, 1, 4, 2, 4, 1, 4, 3, 24, 48, 48, 1, 2, 4, 1, 2, 2, 2, 4, 6, 3, 8, 2, 10, 2, 48, 2, 100, 12, 1, 4, 6, 576, 12, 144, 12, 20, 3, 12, 1, 10, 1, 1, 2, 12, 2, 1, 6, 96, 1, 12, 6, 1, 4, 5, 12, 1, 12, 6, 12, 6, 6, 10, 1, 7, 25, 8, 24, 12, 4, 2, 1, 3, 4, 1, 10, 12, 10, 48, 10, 16, 1, 16, 2, 4, 2, 4, 4, 12, 16, 48, 12, 4, 1, 24, 4, 1, 25, 10, 16, 2, 6, 1, 1, 24, 3, 24, 2, 12, 1, 1, 12, 1, 3, 7, 6, 12, 12, 24, 6, 10, 3, 1, 12, 6, 1, 6, 1, 12, 144, 1, 1, 24, 12, 4, 2, 10, 10, 24, 3, 1, 1, 1, 40, 1, 24, 6, 6, 2, 1, 2, 24, 12, 10, 12, 1, 1, 2, 6, 2, 2, 10, 144, 1, 4, 24, 2, 1, 5, 2, 12, 12, 2, 1, 3, 4, 12, 1, 1, 3, 4, 10, 1, 12, 10, 25, 1, 6, 12, 12, 4, 1, 12, 24, 8, 1, 1, 6, 3, 1, 10, 4, 24, 6, 8, 12, 1, 2, 5, 2, 144, 12, 4, 2, 20, 1, 1, 8, 10, 2, 2, 1, 3, 12, 1, 24, 2, 48, 3, 1, 24, 1, 48, 12, 8, 1, 25, 1, 12, 12, 25, 2, 25, 12, 12, 20, 2, 10, 3, 10, 10, 3, 1, 24, 1, 24, 1, 3, 2, 24, 1, 2, 1, 1, 24, 12, 2, 36, 24, 1, 2, 1, 24, 1, 1, 6, 12, 7, 1, 48, 6, 2, 12, 3, 6, 12, 2, 6, 6, 36, 24, 12, 12, 2, 2, 24, 12, 12, 8, 4, 2, 72, 4, 1, 4, 1, 2, 2, 3, 4, 8, 50, 10, 120, 6, 12, 2, 12, 3, 12, 5, 16, 5, 3, 24, 8, 6, 8, 2, 10, 1, 24, 6, 10, 12, 12, 12, 4, 1, 8, 1, 8, 20, 6, 5, 6, 6, 2, 2, 12, 1, 2, 2, 3, 10, 1, 1, 1, 12, 2, 1, 4, 12, 3, 3, 2, 1, 5, 4, 2, 2, 2, 1, 2, 1, 12, 1, 12, 2, 1, 4, 2, 12, 1, 4, 1, 4, 10, 2, 4, 12, 1, 12, 2, 8, 1, 1, 8, 1, 1, 2, 1, 2, 2, 3, 1, 1, 24, 1, 8, 12, 2, 1, 2, 4, 2, 6, 24, 2, 25, 96, 10, 2, 8, 2, 3, 1, 12, 1, 1, 20, 12, 24, 4, 1, 1, 6, 100, 75, 24, 12, 4, 1, 4, 25, 20, 1, 12, 1, 1, 24, 12, 1, 48, 1, 12, 2, 1, 6, 12, 2, 12, 1, 12, 12, 10, 24, 48, 2, 2, 2, 2, 3, 12, 6, 3, 12, 1, 6, 2, 3, 1, 6, 12, 3, 8, 1, 12, 1, 24, 12, 2, 3, 12, 12, 6, 24, 6, 24, 8, 8, 6, 10, 12, 10, 10, 24, 24, 4, 2, 2, 25, 10, 12, 1, 2, 1, 4, 6, 8, 60, 2, 12, 12, 1, 12, 5, 3, 4, 4, 25, 6, 12, 24, 12, 3, 24, 3, 12, 6, 1, 1, 2, 1, 2, 3, 24, 2, 6, 5, 1, 2, 8, 4, 12, 6, 25, 3, 6, 3, 24, 6, 5, 6, 6, 4, 3, 2, 3, 12, 7, 10, 5, 1, 1, 12, 20, 10, 3, 4, 2, 24, 6, 12, 2, 24, 2, 10, 2, 6, 4, 3, 10, 2, 36, 12, 12, 12, 1, 1, 2, 10, 6, 1, 1, 2, 1, 3, 6, 1, 2, 12, 2, 2, 2, 4, 16, 16, 1, 12, 2, 40, 100, 1, 6, 2, 12, 1, 4, 10, 24, 12, 1, 2, 1, 1, 12, 4, 30, 3, 4, 1, 24, 24, 4, 6, 12, 12, 1, 1, 12, 20, 1, 8, 3, 6, 4, 1, 8, 1, 8, 25, 10, 4, 18, 6, 2, 1, 3, 24, 24, 3, 1, 1, 2, 4, 2, 8, 10, 6, 8, 3, 24, 1, 12, 2, 40, 6, 4, 2, 12, 12, 6, 2, 2, 2, 12, 3, 4, 1, 12, 2, 12, 12, 24, 12, 1, 12, 6, 12, 2, 2, 6, 4, 2, 330, 25, 10, 6, 24, 2, 36, 48, 24, 12, 1, 6, 1, 36, 4, 10, 12, 24, 8, 24, 1, 2, 3, 24, 12, 12, 5, 6, 30, 12, 10, 96, 12, 4, 2, 3, 12, 6, 48, 3, 8, 2, 5, 24, 1, 30, 2, 10, 24, 25, 6, 1, 3, 12, 4, 2, 1, 1, 6, 12, 2, 12, 20, 1, 1, 10, 1, 1, 1, 2, 8, 24, 2, 3, 36, 2, 1, 6, 6, 10, 24, 3, 2, 2, 10, 12, 12, 12, 3, 12, 3, 24, 8, 12, 10, 2, 4, 1, 1, 2, 12, 12, 24, 6, 12, 3, 10, 24, 1, 1, 6, 12, 12, 4, 12, 6, 1, 2, 6, 12, 12, 8, 3, 6, 4, 6, 1, 2, 8, 2, 2, 2, 24, 25, 12, 2, 6, 12, 6, 2, 100, 12, 1, 12, 12, 2, 24, 12, 10, 10, 2, 2, 1, 40, 12, 6, 5, 10, 12, 3, 12, 5, 1, 12, 2, 48, 1, 24, 12, 3, 12, 12, 2, 6, 1, 3, 8, 6, 6, 1, 2, 12, 24, 4, 108, 10, 48, 2, 2, 6, 10, 6, 4, 6, 1, 2, 6, 3, 2, 32, 24, 2, 10, 12, 24, 3, 24, 1, 1, 6, 1, 144, 3, 2, 2, 2, 2, 1, 1, 2, 12, 4, 36, 6, 12, 1, 8, 5, 2, 6, 24, 4, 12, 4, 12, 6, 24, 24, 6, 1, 24, 3, 7, 48, 24, 1, 2, 1, 24, 40, 1, 6, 6, 12, 6, 1, 3, 36, 1, 10, 20, 1, 80, 3, 10, 6, 24, 12, 1, 10, 6, 6, 10, 2, 24, 1, 24, 2, 6, 6, 3, 2, 24, 10, 24, 12, 3, 25, 6, 24, 2, 72, 8, 2, 2, 280, 24, 12, 24, 12, 4, 6, 4, 24, 12, 20, 100, 24, 6, 96, 12, 1, 24, 12, 4, 4, 1, 3, 24, 6, 2, 200, 1, 200, 24, 25, 3, 1, 1, 2, 25, 24, 25, 6, 1, 4, 2, 24, 1, 12, 8, 6, 12, 3, 2, 8, 6, 2, 12, 1, 1, 3, 48, 24, 12, 12, 1, 12, 12, 24, 24, 12, 1, 25, 12, 8, 8, 2, 12, 32, 3, 6, 6, 3, 1, 6, 3, 4, 6, 50, 12, 2, 24, 1, 5, 6, 4, 8, 1, 12, 10, 4, 2, 1, 3, 2, 2, 2, 12, 1, 1, 1, 12, 4, 6, 6, 1, 1, 16, 3, 1, 6, 6, 1, 600, 144, 8, 1, 20, 24, 3, 24, 6, 4, 1, 24, 6, 6, 8, 12, 50, 1, 12, 1, 1, 2, 8, 2, 6, 2, 1, 5, 8, 1, 4, 48, 1, 2, 12, 4, 1, 25, 4, 1, 6, 1, 2, 4, 2, 10, 9, 1, 3, 5, 6, 240, 12, 2, 16, 1, 3, 1, 3, 2, 12, 6, 72, 10, 2, 1, 12, 6, 3, 1, 18, 5, 12, 3, 12, 1, 2, 6, 1, 6, 1, 1, 2, 2, 6, 2, 20, 10, 10, 12, 2, 16, 6, 2, 3, 100, 10, 2, 10, 3, 1, 48, 1, 10, 6, 36, 8, 3, 2, 2, 2, 20, 60, 4, 2, 12, 25, 2, 4, 1, 12, 4, 1, 10, 8, 36, 12, 1, 11, 2, 6, 4, 12, 1, 3, 1, 6, 6, 24, 10, 1, 6, 12, 10, 2, 12, 1, 6, 24, 12, 3, 96, 12, 18, 24, 12, 4, 1, 2, 4, 2, 10, 12, 12, 2, 4, 2, 2, 3, 6, 10, 6, 4, 16, 96, 10, 2, 12, 12, 2, 1, 6, 28, 2, 1, 2, 1, 4, 1, 6, 8, 24, 6, 2, 2, 12, 2, 1, 6, 8, 2, 8, 32, 2, 10, 3, 2, 2, 12, 2, 2, 12, 4, 12, 2, 2, 1, 2, 3, 72, 4, 1, 1, 2, 2, 1, 6, 1, 4, 1, 4, 2, 6, 1, 12, 24, 6, 1, 2, 2, 36, 1, 6, 12, 2, 12, 6, 5, 1, 1, 2, 12, 1, 6, 2, 3, 96, 2, 36, 3, 1, 4, 12, 1, 3, 1, 6, 4, 24, 10, 6, 1, 12, 4, 2, 24, 6, 8, 30, 2, 50, 12, 3, 3, 20, 2, 4, 16, 8, 1, 30, 24, 6, 1, 4, 1, 36, 2, 2, 6, 16, 6, 10, 1, 6, 6, 3, 12, 12, 10, 24, 144, 2, 4, 2, 6, 1, 2, 6, 18, 6, 1, 1, 6, 1, 2, 144, 4, 10, 40, 12, 24, 4, 1, 12, 3, 24, 1, 12, 120, 3, 24, 2, 1, 1, 24, 4, 12, 10, 3, 12, 5, 4, 7, 12, 12, 10, 1, 10, 2, 12, 24, 2, 6, 1, 10, 10, 1, 1, 1, 24, 12, 4, 48, 6, 6, 216, 12, 24, 4, 1, 12, 4, 10, 1, 1, 28, 2, 2, 32, 12, 1, 18, 24, 12, 6, 2, 1, 24, 7, 1, 12, 1, 2, 16, 12, 4, 1, 12, 12, 4, 5, 3, 1, 3, 24, 1, 6, 6, 1, 36, 1, 5, 1, 1, 10, 20, 10, 4, 9, 2, 2, 5, 1, 12, 12, 1, 4, 3, 2, 36, 1, 48, 24, 1, 6, 10, 16, 2, 3, 6, 2, 48, 18, 3, 2, 2, 2, 6, 1, 1, 4, 6, 6, 1, 16, 12, 12, 20, 1, 6, 12, 6, 3, 12, 10, 2, 25, 2, 1, 4, 10, 4, 4, 6, 16, 2, 2, 10, 3, 1, 12, 1, 1, 6, 2, 12, 10, 12, 12, 1, 24, 3, 1, 1, 1, 6, 6, 2, 10, 1, 2, 12, 1, 3, 2, 2, 10, 12, 3, 2, 6, 1, 4, 1, 12, 1, 12, 24, 8, 1, 3, 6, 4, 3, 2, 1, 6, 4, 1, 12, 10, 10, 4, 1, 3, 10, 6, 12, 50, 1, 8, 1, 4, 2, 12, 1, 6, 12, 6, 12, 1, 100, 6, 1, 1, 2, 25, 6, 2, 1, 10, 6, 10, 48, 30, 10, 24, 2, 2, 4, 6, 100, 20, 6, 1, 20, 12, 3, 4, 1, 12, 10, 12, 8, 12, 3, 6, 48, 12, 2, 256, 1, 16, 1, 10, 25, 2, 12, 1, 8, 12, 12, 12, 24, 6, 24, 2, 8, 3, 1, 2, 2, 1, 12, 3, 25, 8, 2, 1, 48, 1, 6, 4, 10, 2, 1, 10, 2, 2, 32, 24, 8, 2, 12, 6, 1, 24, 6, 3, 12, 72, 10, 1, 20, 3, 3, 12, 4, 4, 12, 10, 12, 1, 12, 24, 3, 6, 12, 4, 10, 1, 1, 12, 4, 2, 12, 36, 12, 40, 4, 1, 4, 10, 8, 2, 2, 3, 12, 24, 24, 96, 24, 4, 30, 2, 4, 2, 2, 2, 12, 8, 2, 4, 6, 10, 32, 12, 12, 3, 3, 2, 3, 6, 6, 2, 12, 1, 3, 8, 12, 3, 6, 2, 1, 4, 2, 4, 36, 4, 12, 24, 24, 12, 2, 48, 3, 12, 12, 2, 2, 7, 1, 46, 1, 1, 10, 12, 6, 6, 10, 2, 3, 12, 12, 12, 10, 10, 3, 2, 12, 10, 100, 24, 3, 12, 6, 1, 2, 8, 12, 1, 12, 6, 16, 12, 3, 24, 1, 1, 1, 6, 1, 2, 8, 24, 3, 4, 4, 3, 1, 5, 12, 12, 25, 3, 3, 1, 1, 6, 12, 2, 1, 3, 2, 12, 6, 1, 1, 12, 8, 3, 8, 12, 12, 96, 6, 12, 8, 1, 12, 10, 2, 6, 4, 3, 8, 4, 9, 1, 2, 2, 16, 10, 1, 2, 6, 12, 1, 12, 5, 12, 6, 3, 24, 8, 1, 3, 12, 10, 1, 9, 3, 1, 4, 12, 2, 2, 2, 24, 1, 5, 3, 1, 24, 1, 12, 2, 12, 12, 3, 2, 12, 3, 3, 3, 48, 12, 12, 24, 12, 3, 20, 2, 2, 12, 1, 1, 5, 20, 12, 24, 6, 4, 2, 4, 10, 10, 4, 4, 2, 2, 24, 16, 12, 5, 10, 1, 2, 144, 1, 24, 12, 12, 2, 2, 2, 3, 2, 2, 12, 6, 1, 5, 36, 12, 20, 1, 2, 6, 4, 200, 24, 10, 12, 24, 24, 1, 6, 48, 4, 4, 24, 3, 36, 2, 2, 2, 12, 12, 24, 24, 4, 12, 4, 10, 12, 6, 24, 100, 12, 1, 1, 24, 1, 6, 10, 12, 2, 12, 1, 1, 24, 1200, 72, 12, 4, 1, 7, 1, 11, 12, 8, 6, 24, 2, 12, 12, 2, 48, 11, 200, 6, 2, 6, 20, 12, 1, 24, 2, 12, 4, 12, 5, 5, 12, 10, 12, 4, 48, 1, 4, 10, 5, 9, 4, 12, 12, 24, 2, 12, 2, 24, 12, 1, 4, 12, 8, 30, 4, 10, 12, 1, 144, 16, 2, 3, 1, 10, 12, 2, 10, 6, 1, 12, 12, 4, 672, 2, 3, 6, 12, 12, 48, 12, 8, 1, 1, 2, 2, 2, 12, 72, 36, 2, 10, 2, 10, 1, 12, 24, 1, 18, 4, 40, 96, 24, 6, 12, 1, 24, 2, 5, 4, 1, 1, 6, 10, 2, 4, 72, 6, 24, 6, 4, 5, 2, 24, 2, 10, 12, 5, 12, 4, 12, 6, 12, 4, 48, 24, 12, 6, 7, 1, 2, 3, 2, 6, 72, 1, 1, 1, 8, 12, 3, 1, 12, 1, 6, 2, 12, 4, 2, 4, 2, 12, 12, 10, 12, 24, 3, 5, 2, 12, 12, 12, 4, 1, 2, 4, 3, 40, 40, 1, 5, 100, 1, 96, 6, 1, 2, 12, 4, 11, 2, 12, 24, 6, 2, 20, 6, 3, 5, 12, 12, 2, 2, 2, 10, 2, 10, 6, 2, 1, 1, 6, 4, 10, 10, 10, 60, 4, 2, 14, 2, 24, 3, 2, 12, 6, 100, 2, 4, 20, 12, 12, 12, 2, 3, 12, 4, 12, 12, 5, 7, 12, 12, 72, 1, 6, 12, 10, 10, 6, 4, 3, 12, 2, 12, 16, 12, 10, 4, 6, 10, 6, 10, 24, 10, 2, 1, 1, 4, 1, 5, 2, 8, 1, 12, 1, 24, 2, 4, 2, 3, 2, 12, 72, 3, 4, 12, 1, 4, 2, 6, 6, 4, 6, 24, 6, 2, 4, 4, 24, 12, 2, 3, 6, 16, 24, 8, 36, 1, 4, 1, 12, 6, 8, 53, 24, 1, 24, 1, 2, 4, 6, 24, 24, 6, 1, 2, 2, 1, 1, 12, 4, 9, 1, 5, 10, 1, 3, 6, 12, 48, 1, 12, 1, 72, 5, 2, 3, 1, 6, 2, 2, 2, 3, 72, 8, 1, 2, 3, 1, 4, 24, 1, 1, 3, 1, 24, 1, 6, 3, 4, 12, 5, 12, 72, 1, 12, 12, 1, 12, 2, 2, 2, 4, 24, 12, 10, 25, 12, 1, 24, 2, 32, 1, 3, 12, 100, 1, 3, 12, 4, 6, 6, 2, 2, 12, 24, 10, 1, 6, 2, 4, 2, 12, 12, 2, 12, 2, 1, 1, 1, 4, 2, 2, 2, 1, 12, 12, 2, 10, 1, 4, 48, 6, 5, 1, 1, 4, 5, 1, 12, 24, 3, 4, 2, 1, 4, 12, 10, 4, 24, 5, 72, 12, 2, 24, 48, 10, 6, 10, 2, 6, 12, 2, 12, 6, 2, 1, 36, 2, 3, 3, 1, 1, 25, 3, 2, 2, 5, 1, 12, 1, 12, 12, 2, 4, 30, 4, 12, 1, 24, 1, 12, 2, 6, 4, 10, 1, 1, 1, 12, 4, 12, 4, 1, 6, 6, 2, 6, 1, 12, 12, 6, 1, 16, 12, 12, 400, 1, 10, 2, 6, 1, 1, 1, 1, 24, 24, 6, 12, 6, 12, 4, 8, 6, 120, 96, 8, 4, 4, 10, 12, 12, 6, 4, 1, 1, 5, 1, 24, 12, 12, 12, 4, 3, 2, 2, 12, 12, 6, 3, 4, 3, 36, 1, 24, 1, 12, 4, 24, 1, 10, 1, 24, 1, 1, 1, 5, 48, 12, 24, 3, 12, 24, 10, 6, 12, 2, 2, 6, 1, 1, 6, 3, 4, 6, 2, 1, 4, 1, 2, 10, 5, 10, 10, 3, 12, 32, 10, 4, 2, 2, 3, 3, 4, 24, 24, 24, 6, 3, 3, 1, 6, 1, 4, 2, 1, 2, 1, 12, 24, 2, 25, 12, 3, 6, 8, 12, 1, 1, 24, 4, 40, 6, 12, 1, 3, 2, 2, 12, 6, 10, 2, 10, 3, 2, 1, 1, 24, 12, 2, 12, 12, 12, 25, 3, 1, 1, 1, 4, 12, 6, 24, 3, 18, 12, 12, 2, 2, 32, 12, 10, 12, 12, 1, 25, 3, 12, 12, 1, 4, 12, 24, 12, 2, 12, 1, 3, 12, 3, 2, 16, 1, 3, 12, 3, 3, 6, 12, 2, 1, 12, 3, 12, 33, 2, 1, 1, 8, 24, 1, 1, 10, 6, 6, 2, 25, 1, 1, 12, 96, 1, 384, 1, 12, 24, 6, 2, 3, 2, 2, 12, 12, 16, 6, 5, 12, 25, 8, 48, 36, 12, 12, 6, 2, 12, 1, 2, 1, 1, 2, 96, 12, 8, 2, 12, 10, 10, 6, 3, 24, 36, 4, 1, 7, 96, 24, 3, 2, 1, 12, 10, 25, 12, 12, 48, 4, 2, 16, 4, 300, 6, 1, 24, 1, 3, 6, 2, 1, 36, 1, 12, 12, 6, 504, 12, 12, 20, 36, 6, 24, 2, 2, 24, 4, 20, 32, 12, 12, 12, 2, 6, 1, 1, 48, 2, 10, 4, 1, 2, 8, 12, 12, 48, 2, 6, 1, 10, 3, 12, 4, 20, 12, 16, 3, 1, 2, 12, 6, 1, 12, 48, 4, 10, 2, 12, 1, 5, 3, 4, 2, 2, 5, 12, 2, 12, 2, 8, 1, 16, 12, 3, 5, 6, 3, 12, 6, 12, 12, 6, 6, 26, 10, 8, 3, 8, 1, 6, 12, 1, 1, 12, 5, 3, 2, 2, 12, 1, 200, 3, 12, 1, 2, 3, 2, 1, 2, 24, 6, 6, 1, 6, 1, 4, 12, 5, 1, 40, 3, 12, 12, 1, 4, 6, 1, 2, 2, 24, 1, 2, 3, 25, 3, 4, 2, 96, 4, 12, 12, 10, 2, 1, 2, 10, 2, 1, 3, 10, 4, 1, 10, 25, 12, 1, 2, 1, 12, 9, 1, 4, 24, 36, 6, 2, 3, 3, 1, 1, 1, 6, 4, 11, 24, 1, 2, 12, 2, 1, 1, 6, 15, 6, 2, 16, 10, 12, 2, 20, 1, 12, 8, 5, 5, 10, 12, 4, 6, 12, 24, 25, 1, 48, 12, 2, 24, 12, 2, 72, 3, 8, 4, 6, 4, 6, 7, 2, 1, 2, 3, 6, 12, 6, 4, 3, 4, 1, 2, 2, 2, 12, 1, 6, 36, 3, 6, 12, 5, 12, 16, 12, 1, 16, 1, 10, 12, 2, 12, 12, 6, 3, 8, 3, 1, 144, 4, 16, 1, 12, 6, 1, 1, 6, 4, 16, 1, 24, 12, 12, 3, 36, 2, 12, 10, 48, 2, 12, 16, 4, 8, 6, 1, 1, 6, 2, 8, 1, 12, 1, 20, 1, 12, 12, 7, 4, 24, 12, 6, 12, 3, 1, 20, 2, 24, 5, 72, 2, 2, 12, 2, 10, 16, 3, 6, 10, 24, 12, 48, 96, 3, 1, 2, 24, 1, 12, 1, 5, 10, 20, 3, 12, 1, 2, 6, 3, 27, 2, 24, 24, 24, 5, 9, 5, 20, 1, 12, 12, 3, 6, 24, 24, 3, 24, 12, 12, 5, 2, 10, 13, 2, 1, 12, 2, 8, 2, 1, 12, 12, 1, 24, 1, 1, 8, 12, 10, 12, 6, 3, 2, 4, 4, 8, 1, 12, 20, 4, 12, 4, 144, 5, 8, 25, 1, 3, 24, 6, 6, 10, 12, 1, 4, 12, 16, 24, 2, 12, 20, 2, 25, 3, 1, 12, 12, 12, 4, 12, 24, 36, 1, 1, 12, 6, 36, 1, 2, 6, 12, 12, 1, 4, 3, 16, 12, 12, 6, 2, 1, 10, 36, 36, 24, 1, 2, 12, 2, 6, 4, 1, 3, 12, 3, 24, 3, 20, 12, 12, 1, 2, 12, 6, 4, 12, 6, 6, 9, 8, 10, 6, 12, 12, 4, 8, 1, 2, 20, 3, 12, 20, 2, 2, 36, 1, 2, 1, 15, 6, 3, 8, 12, 1, 10, 5, 1, 620, 1, 10, 12, 2, 3, 12, 1, 12, 20, 1, 12, 20, 12, 96, 1, 10, 3, 48, 2, 5, 12, 1, 12, 4, 12, 24, 24, 4, 36, 8, 2, 4, 2, 12, 4, 5, 1, 1, 1, 12, 10, 4, 2, 24, 4, 1, 1, 2, 12, 10, 3, 36, 10, 3, 12, 1, 4, 12, 12, 6, 1, 12, 2, 8, 6, 288, 1, 12, 1, 8, 1, 490, 4, 3, 6, 6, 48, 8, 12, 6, 12, 1, 10, 6, 12, 1, 4, 2, 2, 4, 32, 4, 2, 18, 2, 10, 2, 24, 16, 1, 1, 6, 1, 2, 4, 120, 6, 1, 2, 12, 96, 2, 5, 12, 10, 12, 5, 2, 2, 3, 6, 3, 2, 2, 12, 6, 6, 1, 2, 8, 1, 3, 5, 2, 8, 24, 1, 16, 4, 24, 1, 12, 3, 12, 4, 4, 24, 24, 6, 10, 12, 12, 12, 24, 4, 3, 2, 2, 12, 10, 1, 6, 32, 10, 8, 2, 12, 24, 6, 3, 10, 3, 10, 1, 25, 12, 1, 24, 2, 1, 1, 40, 3, 1, 12, 3, 12, 3, 24, 16, 36, 24, 12, 2, 2, 12, 24, 10, 2, 432, 2, 6, 48, 24, 4, 6, 4, 8, 4, 12, 2, 2, 3, 20, 6, 6, 4, 6, 6, 12, 24, 2, 1, 12, 3, 16, 12, 10, 4, 48, 13, 3, 2, 2, 24, 12, 24, 24, 12, 36, 48, 12, 12, 8, 24, 8, 2, 4, 12, 2, 2, 120, 12, 12, 2, 3, 1, 12, 5, 2, 2, 2, 10, 12, 1, 24, 10, 240, 2, 2, 6, 8, 6, 2, 1, 12, 3, 1, 3, 16, 12, 12, 10, 6, 1, 24, 1, 3, 7, 4, 1, 2, 1, 2, 2, 4, 36, 2, 4, 1, 24, 6, 24, 12, 288, 1, 1, 2, 24, 1, 4, 12, 12, 2, 12, 4, 2, 4, 12, 2, 10, 12, 12, 24, 12, 4, 6, 1, 64, 2, 2, 1, 2, 1, 6, 2, 12, 4, 12, 2, 1, 6, 12, 1, 12, 2, 8, 2, 12, 12, 1, 24, 36, 8, 2, 6, 1, 3, 18, 6, 8, 4, 1, 24, 1, 72, 8, 3, 10, 2, 72, 6, 3, 1, 12, 24, 4, 4, 10, 1, 50, 4, 2, 4, 3, 10, 2, 6, 6, 10, 2, 12, 12, 2, 12, 4, 2, 1, 3, 8, 4, 9, 48, 10, 4, 24, 1, 12, 8, 4, 12, 3, 2, 3, 3, 2, 36, 8, 1, 2, 1, 4, 3, 12, 9, 1, 10, 10, 1, 8, 3, 12, 12, 4, 1, 4, 2, 1, 12, 40, 3, 24, 1, 3, 1, 1, 3, 300, 1, 10, 8, 6, 12, 4, 100, 1, 12, 2, 5, 10, 1, 20, 2, 24, 2, 36, 1, 10, 12, 24, 2, 1, 4, 2, 6, 24, 1, 1, 12, 5, 48, 72, 6, 10, 2, 8, 1, 12, 5, 2, 2, 1, 60, 1, 12, 2, 18, 2, 2, 12, 18, 3, 12, 12, 5, 2, 24, 3, 4, 24, 4, 1, 2, 6, 12, 3, 1, 4, 1, 2, 1, 3, 12, 2, 24, 2, 6, 6, 1, 5, 2, 3, 24, 1, 6, 24, 1, 1, 1, 3, 1, 1, 12, 1, 18, 10, 6, 1, 1, 8, 30, 8, 12, 1, 12, 3, 3, 6, 12, 10, 4, 10, 6, 4, 6, 5, 16, 4, 3, 1, 1, 10, 3, 1, 6, 12, 1, 4, 12, 2, 2, 1, 24, 2, 2, 1, 1, 6, 3, 12, 1, 10, 1, 7, 3, 20, 20, 12, 6, 10, 6, 24, 12, 3, 12, 6, 12, 20, 4, 10, 12, 25, 24, 48, 12, 12, 6, 12, 2, 8, 2, 10, 6, 12, 12, 8, 2, 12, 3, 2, 3, 2, 2, 2, 10, 1, 1, 12, 3, 6, 10, 16, 3, 1, 8, 2, 10, 12, 8, 1, 2, 24, 2, 24, 2, 2, 480, 10, 3, 12, 10, 12, 1, 2, 1, 12, 96, 12, 1, 4, 2, 2, 12, 24, 1, 8, 6, 12, 1, 1, 1, 8, 6, 10, 20, 2, 1, 1, 36, 2, 2, 432, 100, 4, 128, 48, 2, 20, 3, 1, 3, 1, 12, 12, 1, 1, 24, 12, 6, 6, 1, 8, 1, 1, 1, 4, 8, 4, 8, 12, 3, 12, 12, 12, 1, 3, 12, 2, 4, 12, 10, 2, 48, 6, 36, 12, 10, 1, 4, 1, 4, 1, 18, 6, 3, 7, 2, 24, 5, 10, 12, 2, 1, 6, 1, 24, 2, 2, 2, 8, 7, 5, 2, 24, 10, 2, 10, 1, 1, 144, 3, 36, 50, 6, 12, 4, 20, 1, 10, 1, 4, 2, 1, 1, 2, 1, 4, 1, 3, 10, 12, 2, 2, 24, 12, 36, 12, 2, 12, 4, 8, 1, 1, 6, 1, 12, 24, 24, 2, 1, 12, 6, 12, 2, 6, 4, 2, 1, 4, 2, 2, 6, 6]\n"
          ]
        }
      ],
      "source": [
        "preds_gbm = np.array(preds_random_forest)\n",
        "labels_gbm = np.array(y_test)\n",
        "labels_gbm = np.squeeze(labels_gbm, axis=1)\n",
        "preds_gbm = [x for x in preds_gbm]\n",
        "labels_gbm = [x for x in labels_gbm]\n",
        "dataset_answers = pd.DataFrame({'Label': labels_gbm, 'Predictions':preds_gbm})\n",
        "print(preds_gbm)\n",
        "print(labels_gbm)"
      ]
    },
    {
      "cell_type": "code",
      "execution_count": 45,
      "metadata": {
        "colab": {
          "base_uri": "https://localhost:8080/",
          "height": 519
        },
        "id": "Zwl3fGHfj42M",
        "outputId": "11bea638-10b0-45bc-9580-1d521e7b635e"
      },
      "outputs": [
        {
          "output_type": "execute_result",
          "data": {
            "text/plain": [
              "      Label  Predictions\n",
              "0         1     2.244105\n",
              "5627      1     5.018236\n",
              "5628      1     7.880940\n",
              "5635      1     7.696204\n",
              "5641      1     9.070717\n",
              "5666      1     5.756290\n",
              "5672      1     5.039913\n",
              "5674      1     3.199366\n",
              "5675      1     5.129857\n",
              "5676      1     1.592958\n",
              "5679      1     5.876119\n",
              "5688      1     1.978385\n",
              "5689      1     2.683702\n",
              "5694      1    11.743551\n",
              "5699      1     9.434478"
            ],
            "text/html": [
              "\n",
              "  <div id=\"df-a63d2464-ec5a-4704-87c8-7787a4971e43\" class=\"colab-df-container\">\n",
              "    <div>\n",
              "<style scoped>\n",
              "    .dataframe tbody tr th:only-of-type {\n",
              "        vertical-align: middle;\n",
              "    }\n",
              "\n",
              "    .dataframe tbody tr th {\n",
              "        vertical-align: top;\n",
              "    }\n",
              "\n",
              "    .dataframe thead th {\n",
              "        text-align: right;\n",
              "    }\n",
              "</style>\n",
              "<table border=\"1\" class=\"dataframe\">\n",
              "  <thead>\n",
              "    <tr style=\"text-align: right;\">\n",
              "      <th></th>\n",
              "      <th>Label</th>\n",
              "      <th>Predictions</th>\n",
              "    </tr>\n",
              "  </thead>\n",
              "  <tbody>\n",
              "    <tr>\n",
              "      <th>0</th>\n",
              "      <td>1</td>\n",
              "      <td>2.244105</td>\n",
              "    </tr>\n",
              "    <tr>\n",
              "      <th>5627</th>\n",
              "      <td>1</td>\n",
              "      <td>5.018236</td>\n",
              "    </tr>\n",
              "    <tr>\n",
              "      <th>5628</th>\n",
              "      <td>1</td>\n",
              "      <td>7.880940</td>\n",
              "    </tr>\n",
              "    <tr>\n",
              "      <th>5635</th>\n",
              "      <td>1</td>\n",
              "      <td>7.696204</td>\n",
              "    </tr>\n",
              "    <tr>\n",
              "      <th>5641</th>\n",
              "      <td>1</td>\n",
              "      <td>9.070717</td>\n",
              "    </tr>\n",
              "    <tr>\n",
              "      <th>5666</th>\n",
              "      <td>1</td>\n",
              "      <td>5.756290</td>\n",
              "    </tr>\n",
              "    <tr>\n",
              "      <th>5672</th>\n",
              "      <td>1</td>\n",
              "      <td>5.039913</td>\n",
              "    </tr>\n",
              "    <tr>\n",
              "      <th>5674</th>\n",
              "      <td>1</td>\n",
              "      <td>3.199366</td>\n",
              "    </tr>\n",
              "    <tr>\n",
              "      <th>5675</th>\n",
              "      <td>1</td>\n",
              "      <td>5.129857</td>\n",
              "    </tr>\n",
              "    <tr>\n",
              "      <th>5676</th>\n",
              "      <td>1</td>\n",
              "      <td>1.592958</td>\n",
              "    </tr>\n",
              "    <tr>\n",
              "      <th>5679</th>\n",
              "      <td>1</td>\n",
              "      <td>5.876119</td>\n",
              "    </tr>\n",
              "    <tr>\n",
              "      <th>5688</th>\n",
              "      <td>1</td>\n",
              "      <td>1.978385</td>\n",
              "    </tr>\n",
              "    <tr>\n",
              "      <th>5689</th>\n",
              "      <td>1</td>\n",
              "      <td>2.683702</td>\n",
              "    </tr>\n",
              "    <tr>\n",
              "      <th>5694</th>\n",
              "      <td>1</td>\n",
              "      <td>11.743551</td>\n",
              "    </tr>\n",
              "    <tr>\n",
              "      <th>5699</th>\n",
              "      <td>1</td>\n",
              "      <td>9.434478</td>\n",
              "    </tr>\n",
              "  </tbody>\n",
              "</table>\n",
              "</div>\n",
              "    <div class=\"colab-df-buttons\">\n",
              "\n",
              "  <div class=\"colab-df-container\">\n",
              "    <button class=\"colab-df-convert\" onclick=\"convertToInteractive('df-a63d2464-ec5a-4704-87c8-7787a4971e43')\"\n",
              "            title=\"Convert this dataframe to an interactive table.\"\n",
              "            style=\"display:none;\">\n",
              "\n",
              "  <svg xmlns=\"http://www.w3.org/2000/svg\" height=\"24px\" viewBox=\"0 -960 960 960\">\n",
              "    <path d=\"M120-120v-720h720v720H120Zm60-500h600v-160H180v160Zm220 220h160v-160H400v160Zm0 220h160v-160H400v160ZM180-400h160v-160H180v160Zm440 0h160v-160H620v160ZM180-180h160v-160H180v160Zm440 0h160v-160H620v160Z\"/>\n",
              "  </svg>\n",
              "    </button>\n",
              "\n",
              "  <style>\n",
              "    .colab-df-container {\n",
              "      display:flex;\n",
              "      gap: 12px;\n",
              "    }\n",
              "\n",
              "    .colab-df-convert {\n",
              "      background-color: #E8F0FE;\n",
              "      border: none;\n",
              "      border-radius: 50%;\n",
              "      cursor: pointer;\n",
              "      display: none;\n",
              "      fill: #1967D2;\n",
              "      height: 32px;\n",
              "      padding: 0 0 0 0;\n",
              "      width: 32px;\n",
              "    }\n",
              "\n",
              "    .colab-df-convert:hover {\n",
              "      background-color: #E2EBFA;\n",
              "      box-shadow: 0px 1px 2px rgba(60, 64, 67, 0.3), 0px 1px 3px 1px rgba(60, 64, 67, 0.15);\n",
              "      fill: #174EA6;\n",
              "    }\n",
              "\n",
              "    .colab-df-buttons div {\n",
              "      margin-bottom: 4px;\n",
              "    }\n",
              "\n",
              "    [theme=dark] .colab-df-convert {\n",
              "      background-color: #3B4455;\n",
              "      fill: #D2E3FC;\n",
              "    }\n",
              "\n",
              "    [theme=dark] .colab-df-convert:hover {\n",
              "      background-color: #434B5C;\n",
              "      box-shadow: 0px 1px 3px 1px rgba(0, 0, 0, 0.15);\n",
              "      filter: drop-shadow(0px 1px 2px rgba(0, 0, 0, 0.3));\n",
              "      fill: #FFFFFF;\n",
              "    }\n",
              "  </style>\n",
              "\n",
              "    <script>\n",
              "      const buttonEl =\n",
              "        document.querySelector('#df-a63d2464-ec5a-4704-87c8-7787a4971e43 button.colab-df-convert');\n",
              "      buttonEl.style.display =\n",
              "        google.colab.kernel.accessAllowed ? 'block' : 'none';\n",
              "\n",
              "      async function convertToInteractive(key) {\n",
              "        const element = document.querySelector('#df-a63d2464-ec5a-4704-87c8-7787a4971e43');\n",
              "        const dataTable =\n",
              "          await google.colab.kernel.invokeFunction('convertToInteractive',\n",
              "                                                    [key], {});\n",
              "        if (!dataTable) return;\n",
              "\n",
              "        const docLinkHtml = 'Like what you see? Visit the ' +\n",
              "          '<a target=\"_blank\" href=https://colab.research.google.com/notebooks/data_table.ipynb>data table notebook</a>'\n",
              "          + ' to learn more about interactive tables.';\n",
              "        element.innerHTML = '';\n",
              "        dataTable['output_type'] = 'display_data';\n",
              "        await google.colab.output.renderOutput(dataTable, element);\n",
              "        const docLink = document.createElement('div');\n",
              "        docLink.innerHTML = docLinkHtml;\n",
              "        element.appendChild(docLink);\n",
              "      }\n",
              "    </script>\n",
              "  </div>\n",
              "\n",
              "\n",
              "<div id=\"df-9dedc7cc-484f-47da-9e3b-5b00435c8eff\">\n",
              "  <button class=\"colab-df-quickchart\" onclick=\"quickchart('df-9dedc7cc-484f-47da-9e3b-5b00435c8eff')\"\n",
              "            title=\"Suggest charts\"\n",
              "            style=\"display:none;\">\n",
              "\n",
              "<svg xmlns=\"http://www.w3.org/2000/svg\" height=\"24px\"viewBox=\"0 0 24 24\"\n",
              "     width=\"24px\">\n",
              "    <g>\n",
              "        <path d=\"M19 3H5c-1.1 0-2 .9-2 2v14c0 1.1.9 2 2 2h14c1.1 0 2-.9 2-2V5c0-1.1-.9-2-2-2zM9 17H7v-7h2v7zm4 0h-2V7h2v10zm4 0h-2v-4h2v4z\"/>\n",
              "    </g>\n",
              "</svg>\n",
              "  </button>\n",
              "\n",
              "<style>\n",
              "  .colab-df-quickchart {\n",
              "      --bg-color: #E8F0FE;\n",
              "      --fill-color: #1967D2;\n",
              "      --hover-bg-color: #E2EBFA;\n",
              "      --hover-fill-color: #174EA6;\n",
              "      --disabled-fill-color: #AAA;\n",
              "      --disabled-bg-color: #DDD;\n",
              "  }\n",
              "\n",
              "  [theme=dark] .colab-df-quickchart {\n",
              "      --bg-color: #3B4455;\n",
              "      --fill-color: #D2E3FC;\n",
              "      --hover-bg-color: #434B5C;\n",
              "      --hover-fill-color: #FFFFFF;\n",
              "      --disabled-bg-color: #3B4455;\n",
              "      --disabled-fill-color: #666;\n",
              "  }\n",
              "\n",
              "  .colab-df-quickchart {\n",
              "    background-color: var(--bg-color);\n",
              "    border: none;\n",
              "    border-radius: 50%;\n",
              "    cursor: pointer;\n",
              "    display: none;\n",
              "    fill: var(--fill-color);\n",
              "    height: 32px;\n",
              "    padding: 0;\n",
              "    width: 32px;\n",
              "  }\n",
              "\n",
              "  .colab-df-quickchart:hover {\n",
              "    background-color: var(--hover-bg-color);\n",
              "    box-shadow: 0 1px 2px rgba(60, 64, 67, 0.3), 0 1px 3px 1px rgba(60, 64, 67, 0.15);\n",
              "    fill: var(--button-hover-fill-color);\n",
              "  }\n",
              "\n",
              "  .colab-df-quickchart-complete:disabled,\n",
              "  .colab-df-quickchart-complete:disabled:hover {\n",
              "    background-color: var(--disabled-bg-color);\n",
              "    fill: var(--disabled-fill-color);\n",
              "    box-shadow: none;\n",
              "  }\n",
              "\n",
              "  .colab-df-spinner {\n",
              "    border: 2px solid var(--fill-color);\n",
              "    border-color: transparent;\n",
              "    border-bottom-color: var(--fill-color);\n",
              "    animation:\n",
              "      spin 1s steps(1) infinite;\n",
              "  }\n",
              "\n",
              "  @keyframes spin {\n",
              "    0% {\n",
              "      border-color: transparent;\n",
              "      border-bottom-color: var(--fill-color);\n",
              "      border-left-color: var(--fill-color);\n",
              "    }\n",
              "    20% {\n",
              "      border-color: transparent;\n",
              "      border-left-color: var(--fill-color);\n",
              "      border-top-color: var(--fill-color);\n",
              "    }\n",
              "    30% {\n",
              "      border-color: transparent;\n",
              "      border-left-color: var(--fill-color);\n",
              "      border-top-color: var(--fill-color);\n",
              "      border-right-color: var(--fill-color);\n",
              "    }\n",
              "    40% {\n",
              "      border-color: transparent;\n",
              "      border-right-color: var(--fill-color);\n",
              "      border-top-color: var(--fill-color);\n",
              "    }\n",
              "    60% {\n",
              "      border-color: transparent;\n",
              "      border-right-color: var(--fill-color);\n",
              "    }\n",
              "    80% {\n",
              "      border-color: transparent;\n",
              "      border-right-color: var(--fill-color);\n",
              "      border-bottom-color: var(--fill-color);\n",
              "    }\n",
              "    90% {\n",
              "      border-color: transparent;\n",
              "      border-bottom-color: var(--fill-color);\n",
              "    }\n",
              "  }\n",
              "</style>\n",
              "\n",
              "  <script>\n",
              "    async function quickchart(key) {\n",
              "      const quickchartButtonEl =\n",
              "        document.querySelector('#' + key + ' button');\n",
              "      quickchartButtonEl.disabled = true;  // To prevent multiple clicks.\n",
              "      quickchartButtonEl.classList.add('colab-df-spinner');\n",
              "      try {\n",
              "        const charts = await google.colab.kernel.invokeFunction(\n",
              "            'suggestCharts', [key], {});\n",
              "      } catch (error) {\n",
              "        console.error('Error during call to suggestCharts:', error);\n",
              "      }\n",
              "      quickchartButtonEl.classList.remove('colab-df-spinner');\n",
              "      quickchartButtonEl.classList.add('colab-df-quickchart-complete');\n",
              "    }\n",
              "    (() => {\n",
              "      let quickchartButtonEl =\n",
              "        document.querySelector('#df-9dedc7cc-484f-47da-9e3b-5b00435c8eff button');\n",
              "      quickchartButtonEl.style.display =\n",
              "        google.colab.kernel.accessAllowed ? 'block' : 'none';\n",
              "    })();\n",
              "  </script>\n",
              "</div>\n",
              "\n",
              "    </div>\n",
              "  </div>\n"
            ],
            "application/vnd.google.colaboratory.intrinsic+json": {
              "type": "dataframe",
              "variable_name": "dataset_answers",
              "summary": "{\n  \"name\": \"dataset_answers\",\n  \"rows\": 13132,\n  \"fields\": [\n    {\n      \"column\": \"Label\",\n      \"properties\": {\n        \"dtype\": \"number\",\n        \"std\": 40,\n        \"min\": 1,\n        \"max\": 1440,\n        \"num_unique_values\": 92,\n        \"samples\": [\n          53,\n          25,\n          126\n        ],\n        \"semantic_type\": \"\",\n        \"description\": \"\"\n      }\n    },\n    {\n      \"column\": \"Predictions\",\n      \"properties\": {\n        \"dtype\": \"number\",\n        \"std\": 27.30822407749902,\n        \"min\": 1.0571691930769438,\n        \"max\": 1105.0811294871796,\n        \"num_unique_values\": 11926,\n        \"samples\": [\n          22.747563647961805,\n          1.1981998554178357,\n          21.329925612650705\n        ],\n        \"semantic_type\": \"\",\n        \"description\": \"\"\n      }\n    }\n  ]\n}"
            }
          },
          "metadata": {},
          "execution_count": 45
        }
      ],
      "source": [
        "dataset_answers.head(15)\n",
        "\n",
        "dataset_answers = dataset_answers.sort_values(by='Label')\n",
        "\n",
        "dataset_answers.head(15)"
      ]
    },
    {
      "cell_type": "code",
      "execution_count": 50,
      "metadata": {
        "colab": {
          "base_uri": "https://localhost:8080/",
          "height": 472
        },
        "id": "tkSS8LFkjgkL",
        "outputId": "9847a91c-4575-4535-ba73-6565e8b256fa"
      },
      "outputs": [
        {
          "output_type": "execute_result",
          "data": {
            "text/plain": [
              "Text(0.5, 0, 'True Quantity')"
            ]
          },
          "metadata": {},
          "execution_count": 50
        },
        {
          "output_type": "display_data",
          "data": {
            "text/plain": [
              "<Figure size 640x480 with 1 Axes>"
            ],
            "image/png": "[encoded data removed]"
          },
          "metadata": {}
        }
      ],
      "source": [
        "import seaborn as sns\n",
        "sns.scatterplot(x='True Quantity', y='Predictions', data = dataset_answers)\n",
        "plt.xlim(0, 50)\n",
        "plt.ylim(0, 50)\n",
        "plt.xlabel(\"True Quantity\")"
      ]
    },
    {
      "cell_type": "markdown",
      "metadata": {
        "id": "OkQ0U6Auk5gx"
      },
      "source": [
        "Since the graph goes to 1750, rather than 50, we need to remove that part of the graph to be able to correctly compare the graphs."
      ]
    },
    {
      "cell_type": "markdown",
      "metadata": {
        "id": "xMEo1df-JYhb"
      },
      "source": [
        "# Now to start buidling the app!"
      ]
    },
    {
      "cell_type": "code",
      "execution_count": 47,
      "metadata": {
        "colab": {
          "base_uri": "https://localhost:8080/"
        },
        "id": "QlX_I-Yr28vl",
        "outputId": "43eb2602-9730-4437-db6f-6d5c247341a6"
      },
      "outputs": [
        {
          "output_type": "stream",
          "name": "stdout",
          "text": [
            "Predictions: [80037.984]\n",
            "MinMax Scaled X_test: [[1.91057086e-03 7.93103448e-01 3.68421053e-01 1.23465936e-05\n",
            "  3.63636364e-01 1.66666667e-01]\n",
            " [2.88388055e-05 8.62068966e-01 1.05263158e-01 2.83971652e-04\n",
            "  9.09090909e-01 6.66666667e-01]\n",
            " [4.68630589e-04 6.89655172e-01 5.26315789e-02 1.23465936e-04\n",
            "  2.72727273e-01 1.00000000e+00]\n",
            " ...\n",
            " [1.18960073e-03 7.93103448e-01 5.92105263e-01 2.46931871e-05\n",
            "  9.09090909e-02 1.66666667e-01]\n",
            " [9.97342023e-04 8.96551724e-01 3.55263158e-01 6.17329679e-05\n",
            "  5.45454545e-01 5.00000000e-01]\n",
            " [4.68630589e-04 4.82758621e-01 3.35526316e-01 1.35812529e-04\n",
            "  2.72727273e-01 1.66666667e-01]]\n"
          ]
        }
      ],
      "source": [
        "# Function to select rows based on StockCode\n",
        "def select_code(stockcode):\n",
        "    dataset_stockcode = main_df[main_df[\"StockCode\"] == stockcode]\n",
        "    return dataset_stockcode\n",
        "\n",
        "# Example\n",
        "dataset_user = select_code(\"267376\")\n",
        "\n",
        "# Function to select rows based on InvoiceDate\n",
        "def select_date(invoicedate, df):\n",
        "    dataset_invoicedate = df[df[\"InvoiceDate\"] == invoicedate]\n",
        "    return dataset_invoicedate\n",
        "\n",
        "# Example\n",
        "dataset_user_date = select_date(\"1/20/2011 11:15\", dataset_user)\n",
        "\n",
        "# Function to extract Quantity as a separate array\n",
        "def select_quantity(df):\n",
        "    dataset_quantity = df[\"Quantity\"].values\n",
        "    return dataset_quantity\n",
        "\n",
        "# Extract quantities from the filtered dataset\n",
        "quantities = select_quantity(dataset_user_date)\n",
        "\n",
        "# Final prediction function with all 6 features\n",
        "def makepreds(UnitPrice, DescriptionLengthMedian, CustomerInfo, MedianQuant, Month, Weekday):\n",
        "    # Combine features into a single array for prediction\n",
        "    features = [[UnitPrice, DescriptionLengthMedian, CustomerInfo, MedianQuant, Month, Weekday]]\n",
        "    preds = xgb_clf.predict(features)  # Ensure xgb_clf is already trained\n",
        "    return preds\n",
        "\n",
        "# Example usage for prediction (replace with actual values)\n",
        "UnitPrice = 15.0\n",
        "DescriptionLengthMedian = 10\n",
        "CustomerInfo = 12345\n",
        "MedianQuant = 3\n",
        "Month = 1  # January\n",
        "Weekday = 4  # Thursday\n",
        "\n",
        "# Make predictions using the function\n",
        "predictions = makepreds(UnitPrice, DescriptionLengthMedian, CustomerInfo, MedianQuant, Month, Weekday)\n",
        "\n",
        "# Output predictions\n",
        "print(\"Predictions:\", predictions)\n",
        "\n",
        "# Example: Checking the transformed test dataset\n",
        "print(\"MinMax Scaled X_test:\", X_test_minmax)\n"
      ]
    },
    {
      "cell_type": "code",
      "execution_count": 48,
      "metadata": {
        "colab": {
          "base_uri": "https://localhost:8080/"
        },
        "id": "QXc_pYfr-flf",
        "outputId": "e4d9a938-aa60-475b-ad00-4d2cf8874f84"
      },
      "outputs": [
        {
          "output_type": "stream",
          "name": "stdout",
          "text": [
            "[[1.91057086e-03 7.93103448e-01 3.68421053e-01 1.23465936e-05\n",
            "  3.63636364e-01 1.66666667e-01]\n",
            " [2.88388055e-05 8.62068966e-01 1.05263158e-01 2.83971652e-04\n",
            "  9.09090909e-01 6.66666667e-01]\n",
            " [4.68630589e-04 6.89655172e-01 5.26315789e-02 1.23465936e-04\n",
            "  2.72727273e-01 1.00000000e+00]\n",
            " ...\n",
            " [1.18960073e-03 7.93103448e-01 5.92105263e-01 2.46931871e-05\n",
            "  9.09090909e-02 1.66666667e-01]\n",
            " [9.97342023e-04 8.96551724e-01 3.55263158e-01 6.17329679e-05\n",
            "  5.45454545e-01 5.00000000e-01]\n",
            " [4.68630589e-04 4.82758621e-01 3.35526316e-01 1.35812529e-04\n",
            "  2.72727273e-01 1.66666667e-01]]\n"
          ]
        }
      ],
      "source": [
        "def select_code(stockcode):\n",
        "  dataset_stockcode = main_df[main_df[\"StockCode\"]==stockcode]\n",
        "  return dataset_stockcode\n",
        "dataset_user = select_code(\"267376\")\n",
        "\n",
        "def select_date(invoicedate,df):\n",
        "  dataset_invoicedate = df[df[\"InvoiceDate\"]==invoicedate]\n",
        "  return dataset_invoicedate\n",
        "dataset_user = select_code(\"1/20/2011 11:15\")\n",
        "\n",
        "def select_quantity(df):\n",
        "  dataset_quantity = df[[\"Quantity\"]].values\n",
        "  return dataset_quantity\n",
        "# Work here - Find the 6 things we need to predict. Place the data into an array that includes all 6 features.\n",
        "def makepreds(UnitPrice, DescriptionLengthMedian, CustomerInfo, MedianQuant, Month, Weekday):\n",
        "  preds = xgb_clf.predict()\n",
        "  return preds\n",
        "print(X_test_minmax)"
      ]
    },
    {
      "cell_type": "markdown",
      "metadata": {
        "id": "L_McE-xA-Jed"
      },
      "source": [
        "From this point on, we will start working on the \"front-end\" part of the code. The code previously was \"back-end\"."
      ]
    },
    {
      "cell_type": "code",
      "execution_count": 49,
      "metadata": {
        "colab": {
          "base_uri": "https://localhost:8080/",
          "height": 106
        },
        "id": "XtmY-rpkkyQa",
        "outputId": "61f5a1d9-7e11-4b02-9786-3a4c825404d1"
      },
      "outputs": [
        {
          "output_type": "error",
          "ename": "SyntaxError",
          "evalue": "invalid syntax (<ipython-input-49-fea0b59369d3>, line 7)",
          "traceback": [
            "\u001b[0;36m  File \u001b[0;32m\"<ipython-input-49-fea0b59369d3>\"\u001b[0;36m, line \u001b[0;32m7\u001b[0m\n\u001b[0;31m    from choco install ngrok\u001b[0m\n\u001b[0m               ^\u001b[0m\n\u001b[0;31mSyntaxError\u001b[0m\u001b[0;31m:\u001b[0m invalid syntax\n"
          ]
        }
      ],
      "source": [
        "from joblib import dump, load\n",
        "!pip -q install streamlit\n",
        "!ngrok 2qdgL5nxDZCSYzFfM9dX1tXPutn_4fThXE1cHDxR3veRyLSoi\n",
        "import streamlit as st\n",
        "!pip -q install pyngrok\n",
        "# from pyngrok import ngrok\n",
        "from choco install ngrok"
      ]
    },
    {
      "cell_type": "code",
      "execution_count": null,
      "metadata": {
        "id": "jo4W0Xx190iC"
      },
      "outputs": [],
      "source": [
        "def create_header():\n",
        "  st.title(\"Sales Prediction\")\n",
        "  st.header(\"By Urvi Garg\")\n",
        "  st.subheader(\"Given the characteristics if the item, let's predict the amount of sales\")\n",
        "\n",
        "def launch_website():\n",
        "  print (\"Click this link to try your web app:\")\n",
        "  public_url = ngrok.connect()\n",
        "  print (public_url)\n",
        "  !streamlit run --server.port 80 app.py >/dev/null"
      ]
    },
    {
      "cell_type": "code",
      "execution_count": null,
      "metadata": {
        "id": "pGXThGYdAGrF"
      },
      "outputs": [],
      "source": [
        "%%writefile header.py\n",
        "import streamlit as st\n",
        "def create_header():\n",
        "  st.title(\"Sales Prediction\")\n",
        "  st.header(\"By Urvi Garg\")\n",
        "  st.subheader(\"Given the characteristics if the item, let's predict the amount of sales\")"
      ]
    },
    {
      "cell_type": "code",
      "execution_count": null,
      "metadata": {
        "id": "63s6LpK_cs1q"
      },
      "outputs": [],
      "source": [
        "%%writefile user.py\n",
        "def user_input():\n",
        "  stockcode = st.number_input(\"What is the stock code you want to search\")\n",
        "\n",
        "  invoicedate = st.number_input(\"What date do you want the data to focus on?\")\n",
        "  return stockcode,invoicedate\n",
        "\n",
        "def filtering(stockcode,invoicedate):\n",
        "  stockcodedataset = select_code(stockcode)\n",
        "  invoicedatedataset = select_date(invoicedate,stockcodedataset)\n",
        "  quantitydataset = select_quantity(invoicedatedataset)\n",
        "  st.dataframe(quantitydataset)\n",
        "  print(quantitydataset)\n"
      ]
    },
    {
      "cell_type": "code",
      "execution_count": null,
      "metadata": {
        "id": "WNwNRoMl_MZF"
      },
      "outputs": [],
      "source": [
        "%%writefile app.py\n",
        "from header import *\n",
        "from user import *\n",
        "create_header()\n",
        "stockcode,invoicedate = user_input()\n",
        "filtering(stockcode,invoicedate)"
      ]
    },
    {
      "cell_type": "code",
      "execution_count": null,
      "metadata": {
        "id": "ZwuJtmjCCQW_"
      },
      "outputs": [],
      "source": [
        "launch_website()"
      ]
    }
  ],
  "metadata": {
    "colab": {
      "provenance": [],
      "include_colab_link": true
    },
    "kernelspec": {
      "display_name": "Python 3",
      "name": "python3"
    },
    "language_info": {
      "name": "python"
    }
  },
  "nbformat": 4,
  "nbformat_minor": 0
}